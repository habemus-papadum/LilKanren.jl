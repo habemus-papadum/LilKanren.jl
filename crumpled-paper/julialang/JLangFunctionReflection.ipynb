{
 "metadata": {
  "language": "Julia",
  "name": "",
  "signature": "sha256:6b9bf32a44d9e888ea4474b8593e7fccdd87f718753d2803d84f45a9848b4398"
 },
 "nbformat": 3,
 "nbformat_minor": 0,
 "worksheets": [
  {
   "cells": [
    {
     "cell_type": "code",
     "collapsed": false,
     "input": [
      "## Determine if we can get num args and arg names for an anoymous function....\n",
      "\n",
      "## useful for quick and dirty helpers\n",
      "\n"
     ],
     "language": "python",
     "metadata": {},
     "outputs": []
    },
    {
     "cell_type": "code",
     "collapsed": false,
     "input": [
      "foo = (x,y,z) -> \"foo\""
     ],
     "language": "python",
     "metadata": {},
     "outputs": [
      {
       "metadata": {},
       "output_type": "pyout",
       "prompt_number": 1,
       "text": [
        "(anonymous function)"
       ]
      }
     ],
     "prompt_number": 1
    },
    {
     "cell_type": "code",
     "collapsed": false,
     "input": [
      "foo.code"
     ],
     "language": "python",
     "metadata": {},
     "outputs": [
      {
       "metadata": {},
       "output_type": "pyout",
       "prompt_number": 2,
       "text": [
        "AST(:($(Expr(:lambda, {:(x::Any),:(y::Any),:(z::Any)}, {{},{{:x,:Any,0},{:y,:Any,0},{:z,:Any,0}},{}}, :(begin  # In[1], line 1:\n",
        "        return \"foo\"\n",
        "    end)))))"
       ]
      }
     ],
     "prompt_number": 2
    },
    {
     "cell_type": "code",
     "collapsed": false,
     "input": [
      "typeof(foo.code)"
     ],
     "language": "python",
     "metadata": {},
     "outputs": [
      {
       "metadata": {},
       "output_type": "pyout",
       "prompt_number": 3,
       "text": [
        "LambdaStaticData"
       ]
      }
     ],
     "prompt_number": 3
    },
    {
     "cell_type": "code",
     "collapsed": false,
     "input": [
      "xdump(foo.code)"
     ],
     "language": "python",
     "metadata": {},
     "outputs": [
      {
       "output_type": "stream",
       "stream": "stdout",
       "text": [
        "LambdaStaticData "
       ]
      },
      {
       "output_type": "stream",
       "stream": "stdout",
       "text": [
        "\n",
        "  ast: Array(Uint8,(92,)) Uint8[0x16,0x07,0x03,0x1c,0x16,0x0f,0x88,0xd5,0x84,0x07  \u2026  0x5b,0x31,0x5d,0x07,0x01,0x1e,0x16,0x0b,0x01,0x00]\n",
        "  sparams: ("
       ]
      },
      {
       "output_type": "stream",
       "stream": "stdout",
       "text": [
        ") ()\n",
        "  tfunc: () ()\n",
        "  name: Symbol anonymous\n",
        "  roots: #undef\n",
        "  module: Module Main\n",
        "  def: LambdaStaticData \n",
        "    ast: Array(Uint8,(92,)) Uint8[0x16,0x07,0x03,0x1c,0x16,0x0f,0x88,0xd5,0x84,0x07  \u2026  0x5b,0x31,0x5d,0x07,0x01,0x1e,0x16,0x0b,0x01,0x00]\n",
        "    sparams: () ()\n",
        "    tfunc: () ()\n",
        "    name: Symbol anonymous\n",
        "    roots: #undef\n",
        "    module: Module Main\n",
        "    def: LambdaStaticData \n",
        "      ast: Array(Uint8,(92,)) Uint8[0x16,0x07,0x03,0x1c,0x16,0x0f,0x88,0xd5,0x84,0x07  \u2026  0x5b,0x31,0x5d,0x07,0x01,0x1e,0x16,0x0b,0x01,0x00]\n",
        "      sparams: () ()\n",
        "      tfunc: () ()\n",
        "      name: Symbol anonymous\n",
        "      roots: #undef\n",
        "      module: Module Main\n",
        "      def: LambdaStaticData \n",
        "        ast: Array(Uint8,(92,)) Uint8[0x16,0x07,0x03,0x1c,0x16,0x0f,0x88,0xd5,0x84,0x07  \u2026  0x5b,0x31,0x5d,0x07,0x01,0x1e,0x16,0x0b,0x01,0x00]\n",
        "        sparams: () ()\n",
        "        tfunc: () ()\n",
        "        name: Symbol anonymous\n",
        "        roots: #undef\n",
        "        module: Module Main\n",
        "        def: LambdaStaticData \n",
        "          ast: Array(Uint8,(92,)) Uint8[0x16,0x07,0x03,0x1c,0x16,0x0f,0x88,0xd5,0x84,0x07  \u2026  0x5b,0x31,0x5d,0x07,0x01,0x1e,0x16,0x0b,0x01,0x00]\n",
        "          sparams: () ()\n",
        "          tfunc: () ()\n",
        "          name: Symbol anonymous\n",
        "          roots: #undef\n",
        "          module: Module Main\n",
        "          def: LambdaStaticData \n",
        "          capt: #undef\n",
        "          file: Symbol In[1]\n",
        "          line: Int32 1\n",
        "          inferred: Bool false\n",
        "        capt: #undef\n",
        "        file: Symbol In[1]\n",
        "        line: Int32 1\n",
        "        inferred: Bool false\n",
        "      capt: #undef\n",
        "      file: Symbol In[1]\n",
        "      line: Int32 1\n",
        "      inferred: Bool false\n",
        "    capt: #undef\n",
        "    file: Symbol In[1]\n",
        "    line: Int32 1\n",
        "    inferred: Bool false\n",
        "  capt: #undef\n",
        "  file: Symbol In[1]\n",
        "  line: Int32 1\n",
        "  inferred: Bool false\n"
       ]
      }
     ],
     "prompt_number": 4
    },
    {
     "cell_type": "code",
     "collapsed": false,
     "input": [
      "ccall(:jl_uncompress_ast, Any, (Any, Any), foo.code, foo.code.ast)"
     ],
     "language": "python",
     "metadata": {},
     "outputs": [
      {
       "metadata": {},
       "output_type": "pyout",
       "prompt_number": 5,
       "text": [
        ":($(Expr(:lambda, {:(x::Any),:(y::Any),:(z::Any)}, {{},{{:x,:Any,0},{:y,:Any,0},{:z,:Any,0}},{}}, :(begin  # In[1], line 1:\n",
        "        return \"foo\"\n",
        "    end))))"
       ]
      }
     ],
     "prompt_number": 5
    },
    {
     "cell_type": "code",
     "collapsed": false,
     "input": [
      "function uncompressAst(f)\n",
      "    if isa(f.code.ast,Array{Uint8,1}) \n",
      "        ccall(:jl_uncompress_ast, Any, (Any, Any), f.code, f.code.ast)\n",
      "    else\n",
      "        f.code.ast\n",
      "    end\n",
      "end\n",
      "\n",
      "uncompressAst(foo)"
     ],
     "language": "python",
     "metadata": {},
     "outputs": [
      {
       "metadata": {},
       "output_type": "pyout",
       "prompt_number": 9,
       "text": [
        ":($(Expr(:lambda, {:(x::Any),:(y::Any),:(z::Any)}, {{},{{:x,:Any,0},{:y,:Any,0},{:z,:Any,0}},{}}, :(begin  # In[1], line 1:\n",
        "        return \"foo\"\n",
        "    end))))"
       ]
      }
     ],
     "prompt_number": 9
    },
    {
     "cell_type": "code",
     "collapsed": false,
     "input": [
      "ast = uncompressAst(foo)"
     ],
     "language": "python",
     "metadata": {},
     "outputs": [
      {
       "metadata": {},
       "output_type": "pyout",
       "prompt_number": 10,
       "text": [
        ":($(Expr(:lambda, {:(x::Any),:(y::Any),:(z::Any)}, {{},{{:x,:Any,0},{:y,:Any,0},{:z,:Any,0}},{}}, :(begin  # In[1], line 1:\n",
        "        return \"foo\"\n",
        "    end))))"
       ]
      }
     ],
     "prompt_number": 10
    },
    {
     "cell_type": "code",
     "collapsed": false,
     "input": [
      "ast.args[1]\n"
     ],
     "language": "python",
     "metadata": {},
     "outputs": [
      {
       "metadata": {},
       "output_type": "pyout",
       "prompt_number": 14,
       "text": [
        "3-element Array{Any,1}:\n",
        " :(x::Any)\n",
        " :(y::Any)\n",
        " :(z::Any)"
       ]
      }
     ],
     "prompt_number": 14
    },
    {
     "cell_type": "code",
     "collapsed": false,
     "input": [
      "ast.args[1][1].head"
     ],
     "language": "python",
     "metadata": {},
     "outputs": [
      {
       "metadata": {},
       "output_type": "pyout",
       "prompt_number": 19,
       "text": [
        ":(::)"
       ]
      }
     ],
     "prompt_number": 19
    },
    {
     "cell_type": "code",
     "collapsed": false,
     "input": [
      "@assert ast.args[1][1].head == :(::)"
     ],
     "language": "python",
     "metadata": {},
     "outputs": [],
     "prompt_number": 22
    },
    {
     "cell_type": "code",
     "collapsed": false,
     "input": [
      "function functionParams(f)\n",
      "    ast = uncompressAst(f)\n",
      "    @assert ast.head == :lambda\n",
      "    ae = ast.args[1]\n",
      "    p = cell(length(ae))\n",
      "    for i=1:length(ae)\n",
      "        @assert ae[i].head == :(::)\n",
      "        p[i] = string(ae[i].args[1])\n",
      "    end\n",
      "    p\n",
      "end\n",
      "\n",
      "functionParams(foo)"
     ],
     "language": "python",
     "metadata": {},
     "outputs": [
      {
       "metadata": {},
       "output_type": "pyout",
       "prompt_number": 23,
       "text": [
        "3-element Array{Any,1}:\n",
        " \"x\"\n",
        " \"y\"\n",
        " \"z\""
       ]
      }
     ],
     "prompt_number": 23
    },
    {
     "cell_type": "code",
     "collapsed": false,
     "input": [],
     "language": "python",
     "metadata": {},
     "outputs": []
    }
   ],
   "metadata": {}
  }
 ]
}