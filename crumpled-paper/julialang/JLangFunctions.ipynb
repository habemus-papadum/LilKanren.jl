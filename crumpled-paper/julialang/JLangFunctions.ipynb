{
 "metadata": {
  "language": "Julia",
  "name": "",
  "signature": "sha256:9726d66bcf48ede834041d55d739c0316c8e2152860ce4f120a28f6c339b1721"
 },
 "nbformat": 3,
 "nbformat_minor": 0,
 "worksheets": [
  {
   "cells": [
    {
     "cell_type": "code",
     "collapsed": false,
     "input": [
      "## Here we explore the ins and out of \n",
      "## generic functions,\n",
      "## methods,\n",
      "## and anonymous functions"
     ],
     "language": "python",
     "metadata": {},
     "outputs": []
    },
    {
     "cell_type": "code",
     "collapsed": false,
     "input": [
      "## First we explore serialization"
     ],
     "language": "python",
     "metadata": {},
     "outputs": []
    },
    {
     "cell_type": "code",
     "collapsed": false,
     "input": [
      "io = IOBuffer()\n",
      "x = \"abcd\"\n",
      "\n",
      "serialize(io,x)\n",
      "seek(io, 0)\n",
      "deserialize(io)\n"
     ],
     "language": "python",
     "metadata": {},
     "outputs": [
      {
       "metadata": {},
       "output_type": "pyout",
       "prompt_number": 2,
       "text": [
        "\"abcd\""
       ]
      }
     ],
     "prompt_number": 2
    },
    {
     "cell_type": "code",
     "collapsed": false,
     "input": [
      "## helpers\n",
      "\n",
      "function ser(x)\n",
      "   io = IOBuffer()\n",
      "   serialize(io,x)\n",
      "   seek(io, 0)\n",
      "   io\n",
      "end\n",
      "\n",
      "function deser(io)\n",
      "    seek(io, 0)\n",
      "    deserialize(io)\n",
      "end\n",
      "\n",
      "ser(\"abcd\")"
     ],
     "language": "python",
     "metadata": {},
     "outputs": [
      {
       "metadata": {},
       "output_type": "pyout",
       "prompt_number": 12,
       "text": [
        "IOBuffer(data=Uint8[...], readable=true, writable=true, seekable=true, append=false, size=7, maxsize=Inf, ptr=1, mark=-1)"
       ]
      }
     ],
     "prompt_number": 12
    },
    {
     "cell_type": "code",
     "collapsed": false,
     "input": [
      "ser((x,y) -> x+y)\n",
      "## size is 98 bytes"
     ],
     "language": "python",
     "metadata": {},
     "outputs": [
      {
       "metadata": {},
       "output_type": "pyout",
       "prompt_number": 4,
       "text": [
        "IOBuffer(data=Uint8[...], readable=true, writable=true, seekable=true, append=false, size=98, maxsize=Inf, ptr=1, mark=-1)"
       ]
      }
     ],
     "prompt_number": 4
    },
    {
     "cell_type": "code",
     "collapsed": false,
     "input": [
      "io = ser((x,y) -> x+y)\n",
      "f = deser(io)\n",
      "f(3,5)"
     ],
     "language": "python",
     "metadata": {},
     "outputs": [
      {
       "metadata": {},
       "output_type": "pyout",
       "prompt_number": 13,
       "text": [
        "8"
       ]
      }
     ],
     "prompt_number": 13
    },
    {
     "cell_type": "code",
     "collapsed": false,
     "input": [
      "## ok -- as usual, julia does nice things\n",
      "\n",
      "## we'll push the boundary a little more but first lets peek at the internal representation\n",
      "\n",
      "## figure out  how processes work\n",
      "open(`xxd`, \"w\", STDOUT) do pin\n",
      "   write(pin,\"asadsfdsfsd\")\n",
      "end\n",
      "\n",
      "io = ser(\"asdsafdsf\")\n",
      "open(`xxd`, \"w\", STDOUT) do pin\n",
      "   ar = readbytes(io)\n",
      "   for i=1:length(ar)\n",
      "     write(pin,ar[i])\n",
      "   end\n",
      "end"
     ],
     "language": "python",
     "metadata": {},
     "outputs": [
      {
       "output_type": "stream",
       "stream": "stdout",
       "text": [
        "0000000: 6173 6164 7366 6473 6673 64              asadsfdsfsd\n"
       ]
      },
      {
       "output_type": "stream",
       "stream": "stdout",
       "text": [
        "0000000: 2615 8761 7364 7361 6664 7366            &..asdsafdsf\n"
       ]
      }
     ],
     "prompt_number": 14
    },
    {
     "cell_type": "code",
     "collapsed": false,
     "input": [
      "function xxd(io)\n",
      "   open(`xxd`, \"w\", STDOUT) do pin\n",
      "       seek(io, 0)\n",
      "       ar = readbytes(io)\n",
      "       for i=1:length(ar)\n",
      "         write(pin,ar[i])\n",
      "       end\n",
      "   end\n",
      "end\n",
      "\n",
      "xxd(ser((x,y) -> x+y))"
     ],
     "language": "python",
     "metadata": {},
     "outputs": [
      {
       "output_type": "stream",
       "stream": "stdout",
       "text": [
        "0000000: 1301 2f22 0ae2 b305 6580 6c5f 0216 033a  ../\"....e.l_...:\n",
        "0000010: 3115 3180 1602 3e31 6232 1602 3e31 6332  1.1...>1b2..>1c2\n",
        "0000020: 1531 8115 317e 1531 8015 3181 6232 7e15  .1..1~.1..1.b2~.\n",
        "0000030: 3181 6332 7e15 317e 1602 3b31 1602 0204  1.c2~.1~..;1....\n",
        "0000040: 6c69 6e65 3189 0206 496e 5b31 355d 1601  line1...In[15]..\n",
        "0000050: 3c31 1603 3d31 0201 2b62 6315 317e 2f7b  <1..=1..+bc.1~/{\n",
        "0000060: 232f 7d                                  #/}\n"
       ]
      }
     ],
     "prompt_number": 15
    },
    {
     "cell_type": "code",
     "collapsed": false,
     "input": [
      "## cool -- we can come back to this later\n",
      "\n",
      "## lets move  on"
     ],
     "language": "python",
     "metadata": {},
     "outputs": []
    },
    {
     "cell_type": "code",
     "collapsed": false,
     "input": [
      "##Serializing \"names\"\n",
      "\n",
      "function foo(x,y)  \n",
      "    x+y\n",
      "end\n",
      "\n",
      "@show g = foo\n",
      "@show g(5,5)\n",
      "io = ser(g)\n",
      "\n",
      "##redef \n",
      "function foo(x,y)  \n",
      "    x-y\n",
      "end\n",
      "\n",
      "g = deser(io)\n",
      "@show g(5,5)\n",
      "\n",
      "xxd(io)"
     ],
     "language": "python",
     "metadata": {},
     "outputs": [
      {
       "output_type": "stream",
       "stream": "stdout",
       "text": [
        "g = foo => foo"
       ]
      },
      {
       "output_type": "stream",
       "stream": "stdout",
       "text": [
        "\n",
        "g(5,5) => 10\n",
        "g(5,5) => 0\n",
        "0000000: 1302 232f 0203 666f 6f                   ..#/..foo\n"
       ]
      }
     ],
     "prompt_number": 18
    },
    {
     "cell_type": "code",
     "collapsed": false,
     "input": [
      "## still focusing on \"names\", but now for modules\n",
      "\n",
      "module Bar\n",
      "  function foo(x,y)  \n",
      "    x+y\n",
      "  end\n",
      "end\n",
      "\n",
      "@show g = Bar\n",
      "@show g.foo(5,5)\n",
      "io = ser(g)\n",
      "\n",
      "#redef\n",
      "module Bar\n",
      "  function foo(x,y)  \n",
      "    x-y\n",
      "  end\n",
      "end\n",
      "\n",
      "g = deser(io)\n",
      "@show g.foo(5,5)\n",
      "\n",
      "xxd(io)\n"
     ],
     "language": "python",
     "metadata": {},
     "outputs": [
      {
       "output_type": "stream",
       "stream": "stdout",
       "text": [
        "g = Bar => Bar"
       ]
      },
      {
       "output_type": "stream",
       "stream": "stderr",
       "text": [
        "Warning: replacing module Bar\n"
       ]
      },
      {
       "output_type": "stream",
       "stream": "stdout",
       "text": [
        "\n",
        "g.foo(5,5) => 10\n",
        "g.foo(5,5) => 0\n",
        "0000000: 2302 0342 6172 2f                        #..Bar/\n"
       ]
      }
     ],
     "prompt_number": 19
    },
    {
     "cell_type": "code",
     "collapsed": false,
     "input": [
      "## what happens here\n",
      "\n",
      "function baz(x)\n",
      "    function g(y)\n",
      "        x+y\n",
      "    end\n",
      "    g\n",
      "end\n",
      "\n",
      "@show b=baz(2)\n",
      "@show typeof(b)\n",
      "io = ser(b)\n",
      "xxd(io)\n",
      "b = deser(io)\n",
      "b(10)\n",
      "\n",
      "##very interesting"
     ],
     "language": "python",
     "metadata": {},
     "outputs": [
      {
       "output_type": "stream",
       "stream": "stdout",
       "text": [
        "b = baz(2) => g"
       ]
      },
      {
       "output_type": "stream",
       "stream": "stdout",
       "text": [
        "\n",
        "typeof(b) => Function\n",
        "0000000: 1303 1101 020b 4d65 7468 6f64 5461 626c  ......MethodTabl\n",
        "0000010: 6523 732f 5111 0102 064d 6574 686f 6423  e#s/Q....Method#\n",
        "0000020: 732f 1401 317b 2f13 0114 0180 220a ba89  s/..1{/.....\"...\n",
        "0000030: ca02 d0e9 41d1 1603 3a31 1531 7f63 1531  ....A...:1.1.c.1\n",
        "0000040: 8115 317e 1531 7f15 3181 6331 7e15 317f  ..1~.1..1.c1~.1.\n",
        "0000050: 1531 8162 1100 0205 496e 7436 3423 732f  .1.b....Int64#s/\n",
        "0000060: 7f16 023b 3116 0202 046c 696e 6531 8302  ...;1....line1..\n",
        "0000070: 0649 6e5b 3231 5d16 013c 3116 033d 3102  .In[21]..<1..=1.\n",
        "0000080: 012b 6263 1531 7e2f 7b23 2f15 317f 1531  .+bc.1~/{#/.1..1\n",
        "0000090: 8162 1100 0205 496e 7436 3423 732f 7f2f  .b....Int64#s/./\n",
        "00000a0: 2f2f 2f2f 7f24                           ////.$\n"
       ]
      },
      {
       "metadata": {},
       "output_type": "pyout",
       "prompt_number": 21,
       "text": [
        "12"
       ]
      }
     ],
     "prompt_number": 21
    },
    {
     "cell_type": "code",
     "collapsed": false,
     "input": [
      "## try a simpler case\n",
      "function tttt01(x) \n",
      "    x+5\n",
      "end\n",
      "function tttt01(x,y) \n",
      "    x+y\n",
      "end\n",
      "io = ser(tttt01)\n",
      "xxd(io)\n",
      "function tttt01(x) \n",
      "    x-5\n",
      "end\n",
      "function tttt01(x,y) \n",
      "    x-y\n",
      "end\n",
      "\n",
      "b = deser(io)\n",
      "b(5)\n",
      "b(5,5)\n",
      "\n",
      "#nope -- treated as a name, rather than the full method table\n"
     ],
     "language": "python",
     "metadata": {},
     "outputs": [
      {
       "output_type": "stream",
       "stream": "stdout",
       "text": [
        "0000000: 1302 232f 0206 7474 7474 3031            ..#/..tttt01\n"
       ]
      },
      {
       "metadata": {},
       "output_type": "pyout",
       "prompt_number": 24,
       "text": [
        "0"
       ]
      }
     ],
     "prompt_number": 24
    },
    {
     "cell_type": "code",
     "collapsed": false,
     "input": [
      "## it's possible that the prior case involving an inner function was some sort of loophole\n",
      "\n",
      "## anyway -- let's look at it again, adding more methods\n",
      "function baz(x)\n",
      "    function g(y)\n",
      "        x+y\n",
      "    end\n",
      "    function g(y,z)\n",
      "        x+y+z\n",
      "    end\n",
      "    g\n",
      "end\n",
      "\n",
      "@show b=baz(2)\n",
      "@show typeof(b)\n",
      "@show b(3)\n",
      "@show b(3,4)\n",
      "io = ser(b)\n",
      "xxd(io)\n",
      "b = deser(io)\n",
      "@show b(3)\n",
      "@show b(3,4)\n"
     ],
     "language": "python",
     "metadata": {},
     "outputs": [
      {
       "output_type": "stream",
       "stream": "stdout",
       "text": [
        "b = baz(2) => g"
       ]
      },
      {
       "output_type": "stream",
       "stream": "stdout",
       "text": [
        "\n",
        "typeof(b) => Function\n",
        "b(3) => 5\n",
        "b(3,4) => 9\n",
        "0000000: 1303 1101 020b 4d65 7468 6f64 5461 626c  ......MethodTabl\n",
        "0000010: 6523 732f 5111 0102 064d 6574 686f 6423  e#s/Q....Method#\n",
        "0000020: 732f 1401 317b 2f13 0114 0180 220a 3d17  s/..1{/.....\".=.\n",
        "0000030: c1ed d023 bd86 1603 3a31 1531 7f63 1531  ...#....:1.1.c.1\n",
        "0000040: 8115 317e 1531 7f15 3181 6331 7e15 317f  ..1~.1..1.c1~.1.\n",
        "0000050: 1531 8162 1100 0205 496e 7436 3423 732f  .1.b....Int64#s/\n",
        "0000060: 7f16 023b 3116 0202 046c 696e 6531 8402  ...;1....line1..\n",
        "0000070: 0649 6e5b 3235 5d16 013c 3116 033d 3102  .In[25]..<1..=1.\n",
        "0000080: 012b 6263 1531 7e2f 7b23 2f15 317f 1531  .+bc.1~/{#/.1..1\n",
        "0000090: 8162 1100 0205 496e 7436 3423 732f 7f2f  .b....Int64#s/./\n",
        "00000a0: 1101 0206 4d65 7468 6f64 2373 2f14 0231  ....Method#s/..1\n",
        "00000b0: 317b 2f13 0114 0180 220a a49d 6c86 cee3  1{/.....\"...l...\n",
        "00000c0: 1293 1603 3a31 1531 8063 6415 3181 1531  ....:1.1.cd.1..1\n",
        "00000d0: 7e15 3180 1531 8163 317e 1531 8164 317e  ~.1..1.c1~.1.d1~\n",
        "00000e0: 1531 7f15 3181 6211 0002 0549 6e74 3634  .1..1.b....Int64\n",
        "00000f0: 2373 2f7f 1602 3b31 1602 0204 6c69 6e65  #s/...;1....line\n",
        "0000100: 3187 0206 496e 5b32 355d 1601 3c31 1604  1...In[25]..<1..\n",
        "0000110: 3d31 0201 2b62 6364 1531 7e2f 7b23 2f15  =1..+bcd.1~/{#/.\n",
        "0000120: 317f 1531 8162 1100 0205 496e 7436 3423  1..1.b....Int64#\n",
        "0000130: 732f 7f2f 2f2f 1531 8e24 2424 2424 2424  s/.///.1.$$$$$$$\n",
        "0000140: 2424 2424 2411 0102 064d 6574 686f 6423  $$$$$....Method#\n",
        "0000150: 732f 1401 1100 0205 496e 7436 3423 732f  s/......Int64#s/\n",
        "0000160: 7b2f 1301 1401 8022 0a70 4e71 ccad 6f15  {/.....\".pNq..o.\n",
        "0000170: 3616 033a 3115 317f 6315 3181 1531 7e15  6..:1.1.c.1..1~.\n",
        "0000180: 317f 1531 8163 1100 0205 496e 7436 3423  1..1.c....Int64#\n",
        "0000190: 732f 7e15 317f 1531 8162 1100 0205 496e  s/~.1..1.b....In\n",
        "00001a0: 7436 3423 732f 7f16 023b 1100 0205 496e  t64#s/...;....In\n",
        "00001b0: 7436 3423 732f 1602 0204 6c69 6e65 3184  t64#s/....line1.\n",
        "00001c0: 0206 496e 5b32 355d 1601 3c31 1603 3d11  ..In[25]..<1..=.\n",
        "00001d0: 0002 0549 6e74 3634 2373 2f1f 6c02 0549  ...Int64#s/.l..I\n",
        "00001e0: 6e74 3634 1603 3d31 1f65 1b62 1100 0205  nt64..=1.e.b....\n",
        "00001f0: 496e 7436 3423 732f 1b63 1100 0205 496e  Int64#s/.c....In\n",
        "0000200: 7436 3423 732f 1531 7e2f 7c23 2f7d 2f11  t64#s/.1~/|#/}/.\n",
        "0000210: 0102 064d 6574 686f 6423 732f 1402 1100  ...Method#s/....\n",
        "0000220: 0205 496e 7436 3423 732f 1100 0205 496e  ..Int64#s/....In\n",
        "0000230: 7436 3423 732f 7b2f 1301 1401 8022 0ab1  t64#s/{/.....\"..\n",
        "0000240: c94f c80f bf04 f416 033a 3115 3180 6364  .O.......:1.1.cd\n",
        "0000250: 1531 8115 317e 1531 8015 3181 6311 0002  .1..1~.1..1.c...\n",
        "0000260: 0549 6e74 3634 2373 2f7e 1531 8164 1100  .Int64#s/~.1.d..\n",
        "0000270: 0205 496e 7436 3423 732f 7e15 317f 1531  ..Int64#s/~.1..1\n",
        "0000280: 8162 1100 0205 496e 7436 3423 732f 7f16  .b....Int64#s/..\n",
        "0000290: 023b 1100 0205 496e 7436 3423 732f 1602  .;....Int64#s/..\n",
        "00002a0: 0204 6c69 6e65 3187 0206 496e 5b32 355d  ..line1...In[25]\n",
        "00002b0: 1601 3c31 1603 3d11 0002 0549 6e74 3634  ..<1..=....Int64\n",
        "00002c0: 2373 2f1f 6c02 0549 6e74 3634 1603 3d31  #s/.l..Int64..=1\n",
        "00002d0: 1f65 1603 3d11 0002 0549 6e74 3634 2373  .e..=....Int64#s\n",
        "00002e0: 2f1f 6c02 0549 6e74 3634 1603 3d31 1f65  /.l..Int64..=1.e\n",
        "00002f0: 1b62 1100 0205 496e 7436 3423 732f 1b63  .b....Int64#s/.c\n",
        "0000300: 1100 0205 496e 7436 3423 732f 1b64 1100  ....Int64#s/.d..\n",
        "0000310: 0205 496e 7436 3423 732f 1531 7e2f 7c23  ..Int64#s/.1~/|#\n",
        "0000320: 2f7d 2f2f 2424 242f 8024                 /}//$$$/.$\n",
        "b(3) => 5\n",
        "b(3,4) => "
       ]
      },
      {
       "output_type": "stream",
       "stream": "stdout",
       "text": [
        "9\n"
       ]
      },
      {
       "metadata": {},
       "output_type": "pyout",
       "prompt_number": 25,
       "text": [
        "9"
       ]
      }
     ],
     "prompt_number": 25
    },
    {
     "cell_type": "code",
     "collapsed": false,
     "input": [
      "## ok, let's look into methods a little more\n",
      "\n",
      "m = methods(tttt01)\n",
      "typeof(m) ## --> that look promising"
     ],
     "language": "python",
     "metadata": {},
     "outputs": [
      {
       "metadata": {},
       "output_type": "pyout",
       "prompt_number": 27,
       "text": [
        "MethodTable"
       ]
      }
     ],
     "prompt_number": 27
    },
    {
     "cell_type": "code",
     "collapsed": false,
     "input": [
      "## try again\n",
      "function tttt01(x) \n",
      "    x+5\n",
      "end\n",
      "function tttt01(x,y) \n",
      "    x+y\n",
      "end\n",
      "b = tttt01\n",
      "@show b(5)\n",
      "@show b(5,5)\n",
      "\n",
      "io = ser(methods(tttt01))\n",
      "\n",
      "xxd(io)\n",
      "function tttt01(x) \n",
      "    x-5\n",
      "end\n",
      "function tttt01(x,y) \n",
      "    x-y\n",
      "end\n",
      "\n",
      "b = deser(io)\n",
      "b(5)\n",
      "b(5,5)\n",
      "\n"
     ],
     "language": "python",
     "metadata": {},
     "outputs": [
      {
       "output_type": "stream",
       "stream": "stdout",
       "text": [
        "b(5) => 10"
       ]
      },
      {
       "output_type": "stream",
       "stream": "stdout",
       "text": [
        "\n",
        "b(5,5) => 10\n",
        "0000000: 1101 020b 4d65 7468 6f64 5461 626c 6523  ....MethodTable#\n",
        "0000010: 732f 0206 7474 7474 3031 1101 0206 4d65  s/..tttt01....Me\n",
        "0000020: 7468 6f64 2373 2f14 0131 7b2f 1301 2f22  thod#s/..1{/../\"\n",
        "0000030: 0ac9 4114 4359 ee66 b116 033a 3115 317f  ..A.CY.f...:1.1.\n",
        "0000040: 6215 3181 1531 7e15 317f 1531 8162 327e  b.1..1~.1..1.b2~\n",
        "0000050: 1531 7e16 023b 3116 0202 046c 696e 6531  .1~..;1....line1\n",
        "0000060: 8102 0649 6e5b 3238 5d16 013c 3116 033d  ...In[28]..<1..=\n",
        "0000070: 3102 012b 6283 1531 7e2f 7b23 2f7d 2f11  1..+b..1~/{#/}/.\n",
        "0000080: 0102 064d 6574 686f 6423 732f 1402 3131  ...Method#s/..11\n",
        "0000090: 7b2f 1301 2f22 0aad fc28 1135 4971 9816  {/../\"...(.5Iq..\n",
        "00000a0: 033a 3115 3180 6263 1531 8115 317e 1531  .:1.1.bc.1..1~.1\n",
        "00000b0: 8015 3181 6232 7e15 3181 6332 7e15 317e  ..1.b2~.1.c2~.1~\n",
        "00000c0: 1602 3b31 1602 0204 6c69 6e65 3184 0206  ..;1....line1...\n",
        "00000d0: 496e 5b32 385d 1601 3c31 1603 3d31 0201  In[28]..<1..=1..\n",
        "00000e0: 2b62 6315 317e 2f7b 232f 7d2f 2f2f 1531  +bc.1~/{#/}///.1\n",
        "00000f0: 8e24 2424 2424 2424 2424 2424 2411 0102  .$$$$$$$$$$$$...\n",
        "0000100: 064d 6574 686f 6423 732f 1401 1100 0205  .Method#s/......\n",
        "0000110: 496e 7436 3423 732f 7b2f 1301 2f22 0a73  Int64#s/{/../\".s\n",
        "0000120: b961 4d3c af8d b616 033a 3115 317f 6215  .aM<.....:1.1.b.\n",
        "0000130: 3181 1531 7e15 317f 1531 8162 1100 0205  1..1~.1..1.b....\n",
        "0000140: 496e 7436 3423 732f 7e15 317e 1602 3b11  Int64#s/~.1~..;.\n",
        "0000150: 0002 0549 6e74 3634 2373 2f16 0202 046c  ...Int64#s/....l\n",
        "0000160: 696e 6531 8102 0649 6e5b 3238 5d16 013c  ine1...In[28]..<\n",
        "0000170: 3116 033d 1100 0205 496e 7436 3423 732f  1..=....Int64#s/\n",
        "0000180: 1f6c 0205 496e 7436 3416 033d 311f 651b  .l..Int64..=1.e.\n",
        "0000190: 6211 0002 0549 6e74 3634 2373 2f83 1531  b....Int64#s/..1\n",
        "00001a0: 7e2f 7c23 2f7d 2f11 0102 064d 6574 686f  ~/|#/}/....Metho\n",
        "00001b0: 6423 732f 1402 1100 0205 496e 7436 3423  d#s/......Int64#\n",
        "00001c0: 732f 1100 0205 496e 7436 3423 732f 7b2f  s/....Int64#s/{/\n",
        "00001d0: 1301 2f22 0a87 e055 0d39 d587 1616 033a  ../\"...U.9.....:\n",
        "00001e0: 3115 3180 6263 1531 8115 317e 1531 8015  1.1.bc.1..1~.1..\n",
        "00001f0: 3181 6211 0002 0549 6e74 3634 2373 2f7e  1.b....Int64#s/~\n",
        "0000200: 1531 8163 1100 0205 496e 7436 3423 732f  .1.c....Int64#s/\n",
        "0000210: 7e15 317e 1602 3b11 0002 0549 6e74 3634  ~.1~..;....Int64\n",
        "0000220: 2373 2f16 0202 046c 696e 6531 8402 0649  #s/....line1...I\n",
        "0000230: 6e5b 3238 5d16 013c 3116 033d 1100 0205  n[28]..<1..=....\n",
        "0000240: 496e 7436 3423 732f 1f6c 0205 496e 7436  Int64#s/.l..Int6\n",
        "0000250: 3416 033d 311f 651b 6211 0002 0549 6e74  4..=1.e.b....Int\n",
        "0000260: 3634 2373 2f1b 6311 0002 0549 6e74 3634  64#s/.c....Int64\n",
        "0000270: 2373 2f15 317e 2f7c 232f 7d2f 2f24 2424  #s/.1~/|#/}//$$$\n",
        "0000280: 2f80 24                                  /.$\n"
       ]
      },
      {
       "ename": "LoadError",
       "evalue": "type: apply: expected Function, got MethodTable\nwhile loading In[28], in expression starting on line 23",
       "output_type": "pyerr",
       "traceback": [
        "type: apply: expected Function, got MethodTable\nwhile loading In[28], in expression starting on line 23",
        ""
       ]
      }
     ],
     "prompt_number": 28
    },
    {
     "cell_type": "code",
     "collapsed": false,
     "input": [
      "## need to find a way to create function from methods...\n",
      "\n",
      "## Moving on...."
     ],
     "language": "python",
     "metadata": {},
     "outputs": []
    },
    {
     "cell_type": "code",
     "collapsed": false,
     "input": [
      "## trying anonymous functions that rely on global state\n",
      "\n",
      "nnnnn = 10\n",
      "x = (y) -> y + nnnnn\n",
      "io = ser(x)\n",
      "xxd(io)\n",
      "nnnnn = 20 \n",
      "x = deser(io)\n",
      "x(6)\n",
      "\n",
      "### you can see ref to nnnn"
     ],
     "language": "python",
     "metadata": {},
     "outputs": [
      {
       "output_type": "stream",
       "stream": "stdout",
       "text": [
        "0000000: 1301 2f22 0a77 963d 67af 3d7b 4316 033a  ../\".w.=g.={C..:\n",
        "0000010: 3115 317f 1602 3e31 6332 1531 8115 317e  1.1...>1c2.1..1~\n",
        "0000020: 1531 7f15 3181 6332 7e15 317e 1602 3b31  .1..1.c2~.1~..;1\n",
        "0000030: 1602 0204 6c69 6e65 3182 0206 496e 5b33  ....line1...In[3\n",
        "0000040: 315d 1601 3c31 1603 3d31 0201 2b63 0205  1]..<1..=1..+c..\n",
        "0000050: 6e6e 6e6e 6e15 317e 2f7b 232f 7d         nnnnn.1~/{#/}\n"
       ]
      },
      {
       "metadata": {},
       "output_type": "pyout",
       "prompt_number": 31,
       "text": [
        "26"
       ]
      }
     ],
     "prompt_number": 31
    },
    {
     "cell_type": "code",
     "collapsed": false,
     "input": [
      "## now let's try a counter\n",
      "\n",
      "function counter()\n",
      "    i = 0\n",
      "    () -> begin\n",
      "        i += 1\n",
      "        i\n",
      "    end\n",
      "end\n",
      "\n",
      "cnt = counter()\n",
      "@show cnt()\n",
      "@show cnt()\n",
      "@show cnt()\n",
      "io = ser(cnt)\n",
      "xxd(io)\n",
      "@show cnt()\n",
      "@show cnt()\n",
      "@show cnt()\n",
      "cnt = deser(io)\n",
      "@show cnt()\n",
      "@show cnt()\n",
      "@show cnt()\n",
      "\n",
      "\n",
      "\n",
      "        "
     ],
     "language": "python",
     "metadata": {},
     "outputs": [
      {
       "output_type": "stream",
       "stream": "stdout",
       "text": [
        "cnt() => 1"
       ]
      },
      {
       "output_type": "stream",
       "stream": "stdout",
       "text": [
        "\n",
        "cnt() => 2\n",
        "cnt() => 3\n",
        "0000000: 1301 1401 2181 220a 349e 3294 58be f599  ....!.\".4.2.X...\n",
        "0000010: 1603 3a31 1531 7e15 3181 1531 7e15 317e  ..:1.1~.1..1~.1~\n",
        "0000020: 1531 7f15 3181 5331 8516 053b 3116 0202  .1..1.S1...;1...\n",
        "0000030: 046c 696e 6531 8302 0649 6e5b 3332 5d16  .line1...In[32].\n",
        "0000040: 0202 046c 696e 6531 8402 0649 6e5b 3332  ...line1...In[32\n",
        "0000050: 5d16 023f 3153 1603 3d31 0201 2b53 7f1a  ]..?1S..=1..+S..\n",
        "0000060: 8516 013c 3153 1531 7e2f 7b23 2f15 317f  ...<1S.1~/{#/.1.\n",
        "0000070: 1531 8153 3185                           .1.S1.\n",
        "cnt() => 4\n",
        "cnt() => 5\n",
        "cnt() => 6\n",
        "cnt() => 4\n",
        "cnt() => 5\n",
        "cnt() => 6\n"
       ]
      },
      {
       "metadata": {},
       "output_type": "pyout",
       "prompt_number": 32,
       "text": [
        "6"
       ]
      }
     ],
     "prompt_number": 32
    },
    {
     "cell_type": "code",
     "collapsed": false,
     "input": [
      "## Ok -- so basically need to figure out how to get function object and module object"
     ],
     "language": "python",
     "metadata": {},
     "outputs": []
    },
    {
     "cell_type": "code",
     "collapsed": false,
     "input": [
      "## So -- we are finished with serialization\n",
      "\n",
      "## Moving on to extracting AST's and other info\n",
      "\n",
      "dump(methods(tttt01))"
     ],
     "language": "python",
     "metadata": {},
     "outputs": [
      {
       "output_type": "stream",
       "stream": "stdout",
       "text": [
        "MethodTable "
       ]
      },
      {
       "output_type": "stream",
       "stream": "stdout",
       "text": [
        "\n",
        "  name: Symbol tttt01\n",
        "  defs: Method \n",
        "    sig: (DataType,) (Any,)\n",
        "    va: Bool"
       ]
      },
      {
       "output_type": "stream",
       "stream": "stdout",
       "text": [
        " false\n",
        "    tvars: () ()\n",
        "    func: (anonymous function)\n",
        "    invokes: () ()\n",
        "    next: Method \n",
        "      sig: (DataType,DataType) (Any,Any)\n",
        "      va: Bool false\n",
        "      tvars: () ()\n",
        "      func: (anonymous function)\n",
        "      invokes: () ()\n",
        "      next: () ()\n",
        "  cache: () ()\n",
        "  cache_arg1: Array(Any,(16,))\n",
        "    1: #undef\n",
        "    2: #undef\n",
        "    3: #undef\n",
        "    4: #undef\n",
        "    5: #undef\n",
        "    ...\n",
        "    12: #undef\n",
        "    13: () ()\n",
        "    14: #undef\n",
        "    15: #undef\n",
        "    16: #undef\n",
        "  cache_targ: () ()\n",
        "  max_args: Int64 2\n",
        "  kwsorter: #undef\n"
       ]
      }
     ],
     "prompt_number": 33
    },
    {
     "cell_type": "code",
     "collapsed": false,
     "input": [
      "xdump(methods(tttt01))\n"
     ],
     "language": "python",
     "metadata": {},
     "outputs": [
      {
       "output_type": "stream",
       "stream": "stdout",
       "text": [
        "MethodTable "
       ]
      },
      {
       "output_type": "stream",
       "stream": "stdout",
       "text": [
        "\n",
        "  name: Symbol tttt01\n",
        "  defs: Method \n",
        "    sig: (DataType,) (Any,)\n",
        "    va: Bool false\n",
        "    tvars: () ()\n",
        "    func: (anonymous function)\n",
        "    invokes: () ()\n",
        "    next: Method \n",
        "      sig: (DataType,DataType) (Any,Any)\n",
        "      va: Bool false\n",
        "      tvars: () ()\n",
        "      func: (anonymous function)\n",
        "      invokes: () ()\n",
        "      next: () ()\n",
        "  cache: () ()\n",
        "  cache_arg1: Array(Any,(16,))\n",
        "    1: #undef\n",
        "    2: #undef\n",
        "    3: #undef\n",
        "    4: #undef\n",
        "    5: #undef\n",
        "    ...\n",
        "    12: #undef\n",
        "    13: () ()\n",
        "    14: #undef\n",
        "    15: #undef\n",
        "    16: #undef\n",
        "  cache_targ: () ()\n",
        "  max_args: Int64 2\n",
        "  kwsorter: #undef\n"
       ]
      }
     ],
     "prompt_number": 34
    },
    {
     "cell_type": "code",
     "collapsed": false,
     "input": [
      "methods(tttt01).defs.func(5)"
     ],
     "language": "python",
     "metadata": {},
     "outputs": [
      {
       "metadata": {},
       "output_type": "pyout",
       "prompt_number": 36,
       "text": [
        "0"
       ]
      }
     ],
     "prompt_number": 36
    },
    {
     "cell_type": "code",
     "collapsed": false,
     "input": [
      "## not clear where the ast is -- \n",
      "## but let's go back to serialization one more time\n",
      "\n",
      "function tttt01(x) \n",
      "    x+5\n",
      "end\n",
      "function tttt01(x,y) \n",
      "    x+y\n",
      "end\n",
      "b = tttt01\n",
      "@show b(5)\n",
      "@show b(5,5)\n",
      "\n",
      "io = ser(methods(tttt01))\n",
      "\n",
      "xxd(io)\n",
      "function tttt01(x) \n",
      "    x-5\n",
      "end\n",
      "function tttt01(x,y) \n",
      "    x-y\n",
      "end\n",
      "\n",
      "b = deser(io)\n",
      "xdump(b)\n",
      "\n"
     ],
     "language": "python",
     "metadata": {},
     "outputs": [
      {
       "output_type": "stream",
       "stream": "stdout",
       "text": [
        "b(5) => 10"
       ]
      },
      {
       "output_type": "stream",
       "stream": "stdout",
       "text": [
        "\n",
        "b(5,5) => 10\n",
        "0000000: 1101 020b 4d65 7468 6f64 5461 626c 6523  ....MethodTable#\n",
        "0000010: 732f 0206 7474 7474 3031 1101 0206 4d65  s/..tttt01....Me\n",
        "0000020: 7468 6f64 2373 2f14 0131 7b2f 1301 2f22  thod#s/..1{/../\"\n",
        "0000030: 0aae 75ff dc53 715c be16 033a 3115 317f  ..u..Sq\\...:1.1.\n",
        "0000040: 6215 3181 1531 7e15 317f 1531 8162 327e  b.1..1~.1..1.b2~\n",
        "0000050: 1531 7e16 023b 3116 0202 046c 696e 6531  .1~..;1....line1\n",
        "0000060: 8302 0649 6e5b 3337 5d16 013c 3116 033d  ...In[37]..<1..=\n",
        "0000070: 3102 012b 6283 1531 7e2f 7b23 2f7d 2f11  1..+b..1~/{#/}/.\n",
        "0000080: 0102 064d 6574 686f 6423 732f 1402 3131  ...Method#s/..11\n",
        "0000090: 7b2f 1301 2f22 0a3c 609d 6a0b 642b 0516  {/../\".<`.j.d+..\n",
        "00000a0: 033a 3115 3180 6263 1531 8115 317e 1531  .:1.1.bc.1..1~.1\n",
        "00000b0: 8015 3181 6232 7e15 3181 6332 7e15 317e  ..1.b2~.1.c2~.1~\n",
        "00000c0: 1602 3b31 1602 0204 6c69 6e65 3186 0206  ..;1....line1...\n",
        "00000d0: 496e 5b33 375d 1601 3c31 1603 3d31 0201  In[37]..<1..=1..\n",
        "00000e0: 2b62 6315 317e 2f7b 232f 7d2f 2f2f 1531  +bc.1~/{#/}///.1\n",
        "00000f0: 8e24 2424 2424 2424 2424 2424 2411 0102  .$$$$$$$$$$$$...\n",
        "0000100: 064d 6574 686f 6423 732f 1401 1100 0205  .Method#s/......\n",
        "0000110: 496e 7436 3423 732f 7b2f 1301 2f22 0a22  Int64#s/{/../\".\"\n",
        "0000120: 72f2 49a1 b5d5 7416 033a 3115 317f 6215  r.I...t..:1.1.b.\n",
        "0000130: 3181 1531 7e15 317f 1531 8162 1100 0205  1..1~.1..1.b....\n",
        "0000140: 496e 7436 3423 732f 7e15 317e 1602 3b11  Int64#s/~.1~..;.\n",
        "0000150: 0002 0549 6e74 3634 2373 2f16 0202 046c  ...Int64#s/....l\n",
        "0000160: 696e 6531 8302 0649 6e5b 3337 5d16 013c  ine1...In[37]..<\n",
        "0000170: 3116 033d 1100 0205 496e 7436 3423 732f  1..=....Int64#s/\n",
        "0000180: 1f6c 0205 496e 7436 3416 033d 311f 651b  .l..Int64..=1.e.\n",
        "0000190: 6211 0002 0549 6e74 3634 2373 2f83 1531  b....Int64#s/..1\n",
        "00001a0: 7e2f 7c23 2f7d 2f11 0102 064d 6574 686f  ~/|#/}/....Metho\n",
        "00001b0: 6423 732f 1402 1100 0205 496e 7436 3423  d#s/......Int64#\n",
        "00001c0: 732f 1100 0205 496e 7436 3423 732f 7b2f  s/....Int64#s/{/\n",
        "00001d0: 1301 2f22 0aa4 eb97 e0cd 6f28 4016 033a  ../\"......o(@..:\n",
        "00001e0: 3115 3180 6263 1531 8115 317e 1531 8015  1.1.bc.1..1~.1..\n",
        "00001f0: 3181 6211 0002 0549 6e74 3634 2373 2f7e  1.b....Int64#s/~\n",
        "0000200: 1531 8163 1100 0205 496e 7436 3423 732f  .1.c....Int64#s/\n",
        "0000210: 7e15 317e 1602 3b11 0002 0549 6e74 3634  ~.1~..;....Int64\n",
        "0000220: 2373 2f16 0202 046c 696e 6531 8602 0649  #s/....line1...I\n",
        "0000230: 6e5b 3337 5d16 013c 3116 033d 1100 0205  n[37]..<1..=....\n",
        "0000240: 496e 7436 3423 732f 1f6c 0205 496e 7436  Int64#s/.l..Int6\n",
        "0000250: 3416 033d 311f 651b 6211 0002 0549 6e74  4..=1.e.b....Int\n",
        "0000260: 3634 2373 2f1b 6311 0002 0549 6e74 3634  64#s/.c....Int64\n",
        "0000270: 2373 2f15 317e 2f7c 232f 7d2f 2f24 2424  #s/.1~/|#/}//$$$\n",
        "0000280: 2f80 24                                  /.$\n",
        "MethodTable \n",
        "  name: Symbol tttt01\n",
        "  defs: Method \n",
        "    sig: (DataType,) (Any,)\n",
        "    va: Bool false\n",
        "    tvars: () ()\n",
        "    func: (anonymous function)\n",
        "    invokes: () ()\n",
        "    next: Method \n",
        "      sig: (DataType,DataType) (Any,Any)\n",
        "      va: Bool false\n",
        "      tvars: () ()\n",
        "      func: (anonymous function)\n",
        "      invokes: () ()\n",
        "      next: () ()\n",
        "  cache: () ()\n",
        "  cache_arg1: Array(Any,(16,))\n",
        "    1: #undef\n",
        "    2: #undef\n",
        "    3: #undef\n",
        "    4: #undef\n",
        "    5: #undef\n",
        "    ...\n",
        "    12: #undef\n",
        "    13: Method \n",
        "      sig: (DataType,) (Int64,)\n",
        "      va: Bool false\n",
        "      tvars: () ()\n",
        "      func: (anonymous function)\n",
        "      invokes: () ()\n",
        "      next: Method \n",
        "        sig: (DataType,DataType) (Int64,Int64)\n",
        "        va: Bool false\n",
        "        tvars: () ()\n",
        "        func: (anonymous function)\n",
        "        invokes: () ()\n",
        "        next: () ()\n",
        "    14: #undef\n",
        "    15: #undef\n",
        "    16: #undef\n",
        "  cache_targ: () ()\n",
        "  max_args: Int64 2\n",
        "  kwsorter: #undef\n"
       ]
      }
     ],
     "prompt_number": 37
    },
    {
     "cell_type": "code",
     "collapsed": false,
     "input": [
      "@show tttt01(5)\n",
      "@show tttt01(5,5)\n",
      "@show b.defs.func(5)\n",
      "@show b.defs.next.func(5,5)"
     ],
     "language": "python",
     "metadata": {},
     "outputs": [
      {
       "output_type": "stream",
       "stream": "stdout",
       "text": [
        "tttt01(5) => 0"
       ]
      },
      {
       "output_type": "stream",
       "stream": "stdout",
       "text": [
        "\n",
        "tttt01(5,5) => 0\n",
        "b.defs.func(5) => 10\n",
        "b.defs.next.func(5,5) => 10\n"
       ]
      },
      {
       "metadata": {},
       "output_type": "pyout",
       "prompt_number": 40,
       "text": [
        "10"
       ]
      }
     ],
     "prompt_number": 40
    },
    {
     "cell_type": "code",
     "collapsed": false,
     "input": [
      "## Ok -- so that shows how to use the deserialized methodtable -- though it is a bit inconvenient...."
     ],
     "language": "python",
     "metadata": {},
     "outputs": []
    },
    {
     "cell_type": "code",
     "collapsed": false,
     "input": [
      "## Ok --back to ast's\n",
      "## based on info here\n",
      "## https://www.mail-archive.com/julia-users@googlegroups.com/msg18956.html\n",
      "\n",
      "b.defs.func.code"
     ],
     "language": "python",
     "metadata": {},
     "outputs": [
      {
       "metadata": {},
       "output_type": "pyout",
       "prompt_number": 43,
       "text": [
        "AST(:($(Expr(:lambda, {:x}, {{},{{:x,:Any,0}},{}}, :(begin  # In[37], line 5:\n",
        "        return x + 5\n",
        "    end)))))"
       ]
      }
     ],
     "prompt_number": 43
    },
    {
     "cell_type": "code",
     "collapsed": false,
     "input": [
      "b.defs.next.func.code"
     ],
     "language": "python",
     "metadata": {},
     "outputs": [
      {
       "metadata": {},
       "output_type": "pyout",
       "prompt_number": 44,
       "text": [
        "AST(:($(Expr(:lambda, {:x,:y}, {{},{{:x,:Any,0},{:y,:Any,0}},{}}, :(begin  # In[37], line 8:\n",
        "        return x + y\n",
        "    end)))))"
       ]
      }
     ],
     "prompt_number": 44
    },
    {
     "cell_type": "code",
     "collapsed": false,
     "input": [
      "## base don how others seem to do this\n",
      "\n",
      "dump(methods(tttt01))"
     ],
     "language": "python",
     "metadata": {},
     "outputs": [
      {
       "output_type": "stream",
       "stream": "stdout",
       "text": [
        "MethodTable "
       ]
      },
      {
       "output_type": "stream",
       "stream": "stdout",
       "text": [
        "\n",
        "  name: Symbol tttt01\n",
        "  defs: Method \n",
        "    sig: (DataType,) (Any,)\n",
        "    va: Bool false\n",
        "    tvars: () ()\n",
        "    func: (anonymous function)\n",
        "    invokes: () ()\n",
        "    next: Method \n",
        "      sig: (DataType,DataType) (Any,Any)\n",
        "      va: Bool false\n",
        "      tvars: () ()\n",
        "      func: (anonymous function)\n",
        "      invokes: () ()\n",
        "      next: () ()\n",
        "  cache: () ()\n",
        "  cache_arg1: Array(Any,(16,))\n",
        "    1: #undef\n",
        "    2: #undef\n",
        "    3: #undef\n",
        "    4: #undef\n",
        "    5: #undef\n",
        "    ...\n",
        "    12: #undef\n",
        "    13: Method \n",
        "      sig: (DataType,) (Int64,)\n",
        "      va: Bool false\n",
        "      tvars: () ()\n",
        "      func: (anonymous function)\n",
        "      invokes: () ()\n",
        "      next: Method \n",
        "        sig: (DataType,DataType) (Int64,Int64)\n",
        "        va: Bool false\n",
        "        tvars: () ()\n",
        "        func: (anonymous function)\n",
        "        invokes: () ()\n",
        "        next: () ()\n",
        "    14: #undef\n",
        "    15: #undef\n",
        "    16: #undef\n",
        "  cache_targ: () ()\n",
        "  max_args: Int64 2\n",
        "  kwsorter: #undef\n"
       ]
      }
     ],
     "prompt_number": 45
    },
    {
     "cell_type": "code",
     "collapsed": false,
     "input": [
      "typeof(methods(tttt01))"
     ],
     "language": "python",
     "metadata": {},
     "outputs": [
      {
       "metadata": {},
       "output_type": "pyout",
       "prompt_number": 46,
       "text": [
        "MethodTable"
       ]
      }
     ],
     "prompt_number": 46
    },
    {
     "cell_type": "code",
     "collapsed": false,
     "input": [
      "typeof(methods(tttt01)[1])"
     ],
     "language": "python",
     "metadata": {},
     "outputs": [
      {
       "ename": "LoadError",
       "evalue": "`getindex` has no method matching getindex(::MethodTable, ::Int64)\nwhile loading In[47], in expression starting on line 1",
       "output_type": "pyerr",
       "traceback": [
        "`getindex` has no method matching getindex(::MethodTable, ::Int64)\nwhile loading In[47], in expression starting on line 1",
        ""
       ]
      }
     ],
     "prompt_number": 47
    },
    {
     "cell_type": "code",
     "collapsed": false,
     "input": [
      "typeof(methods(tttt01).defs)"
     ],
     "language": "python",
     "metadata": {},
     "outputs": [
      {
       "metadata": {},
       "output_type": "pyout",
       "prompt_number": 48,
       "text": [
        "Method"
       ]
      }
     ],
     "prompt_number": 48
    },
    {
     "cell_type": "code",
     "collapsed": false,
     "input": [
      "typeof(methods(tttt01).defs.func)"
     ],
     "language": "python",
     "metadata": {},
     "outputs": [
      {
       "metadata": {},
       "output_type": "pyout",
       "prompt_number": 52,
       "text": [
        "Function"
       ]
      }
     ],
     "prompt_number": 52
    },
    {
     "cell_type": "code",
     "collapsed": false,
     "input": [
      "typeof(methods(tttt01).defs.func.code)"
     ],
     "language": "python",
     "metadata": {},
     "outputs": [
      {
       "metadata": {},
       "output_type": "pyout",
       "prompt_number": 53,
       "text": [
        "LambdaStaticData"
       ]
      }
     ],
     "prompt_number": 53
    },
    {
     "cell_type": "code",
     "collapsed": false,
     "input": [
      "typeof(methods(tttt01).defs.func.code.ast)"
     ],
     "language": "python",
     "metadata": {},
     "outputs": [
      {
       "metadata": {},
       "output_type": "pyout",
       "prompt_number": 55,
       "text": [
        "Array{Uint8,1}"
       ]
      }
     ],
     "prompt_number": 55
    },
    {
     "cell_type": "code",
     "collapsed": false,
     "input": [
      "xdump(methods(tttt01).defs.func.code)"
     ],
     "language": "python",
     "metadata": {},
     "outputs": [
      {
       "output_type": "stream",
       "stream": "stdout",
       "text": [
        "LambdaStaticData "
       ]
      },
      {
       "output_type": "stream",
       "stream": "stdout",
       "text": [
        "\n",
        "  ast: Array(Uint8,(68,)) Uint8[0x16,0x07,0x03,0x1c,0x16,0x0f,0x88,0xd5,0x82,0x3b  \u2026  0x16,0x07,0x03,0x1f,0x16,0x02,0x01,0x2d,0x3b,0x86]\n",
        "  sparams: () ()\n",
        "  tfunc: Array(Any,(3,))\n",
        "    1: (DataType,) (Int64,)\n",
        "    2: Array(Uint8,(97,)) Uint8[0x0b,0x03,0x00,0x07,0x03,0x1c,0x16,0x0f,0x88,0xd5  \u2026  0x48,0x03,0x0b,0x05,0x00,0x3b,0x0b,0x03,0x00,0x86]\n",
        "    3: Bool false\n",
        "  name: Symbol tttt01\n",
        "  roots: #undef\n",
        "  module: Module Main\n",
        "  def: LambdaStaticData \n",
        "    ast: Array(Uint8,(68,)) Uint8[0x16,0x07,0x03,0x1c,0x16,0x0f,0x88,0xd5,0x82,0x3b  \u2026  0x16,0x07,0x03,0x1f,0x16,0x02,0x01,0x2d,0x3b,0x86]\n",
        "    sparams: () ()\n",
        "    tfunc: Array(Any,(3,))\n",
        "      1: (DataType,) (Int64,)\n",
        "      2: Array(Uint8,(97,)) Uint8[0x0b,0x03,0x00,0x07,0x03,0x1c,0x16,0x0f,0x88,0xd5  \u2026  0x48,0x03,0x0b,0x05,0x00,0x3b,0x0b,0x03,0x00,0x86]\n",
        "      3: Bool false\n",
        "    name: Symbol tttt01\n",
        "    roots: #undef\n",
        "    module: Module Main\n",
        "    def: LambdaStaticData \n",
        "      ast: Array(Uint8,(68,)) Uint8[0x16,0x07,0x03,0x1c,0x16,0x0f,0x88,0xd5,0x82,0x3b  \u2026  0x16,0x07,0x03,0x1f,0x16,0x02,0x01,0x2d,0x3b,0x86]\n",
        "      sparams: () ()\n",
        "      tfunc: Array(Any,(3,))\n",
        "        1: (DataType,) (Int64,)\n",
        "        2: Array(Uint8,(97,)) Uint8[0x0b,0x03,0x00,0x07,0x03,0x1c,0x16,0x0f,0x88,0xd5  \u2026  0x48,0x03,0x0b,0x05,0x00,0x3b,0x0b,0x03,0x00,0x86]\n",
        "        3: Bool false\n",
        "      name: Symbol tttt01\n",
        "      roots: #undef\n",
        "      module: Module Main\n",
        "      def: LambdaStaticData \n",
        "        ast: Array(Uint8,(68,)) Uint8[0x16,0x07,0x03,0x1c,0x16,0x0f,0x88,0xd5,0x82,0x3b  \u2026  0x16,0x07,0x03,0x1f,0x16,0x02,0x01,0x2d,0x3b,0x86]\n",
        "        sparams: () ()\n",
        "        tfunc: Array(Any,(3,))\n",
        "          1: (DataType,) (Int64,)\n",
        "          2: Array(Uint8,(97,)) Uint8[0x0b,0x03,0x00,0x07,0x03,0x1c,0x16,0x0f,0x88,0xd5  \u2026  0x48,0x03,0x0b,0x05,0x00,0x3b,0x0b,0x03,0x00,0x86]\n",
        "          3: Bool false\n",
        "        name: Symbol tttt01\n",
        "        roots: #undef\n",
        "        module: Module Main\n",
        "        def: LambdaStaticData \n",
        "          ast: Array(Uint8,(68,)) Uint8[0x16,0x07,0x03,0x1c,0x16,0x0f,0x88,0xd5,0x82,0x3b  \u2026  0x16,0x07,0x03,0x1f,0x16,0x02,0x01,0x2d,0x3b,0x86]\n",
        "          sparams: () ()\n",
        "          tfunc: Array(Any,(3,))\n",
        "          name: Symbol tttt01\n",
        "          roots: #undef\n",
        "          module: Module Main\n",
        "          def: LambdaStaticData \n",
        "          capt: #undef\n",
        "          file: Symbol In[37]\n",
        "          line: Int32"
       ]
      },
      {
       "output_type": "stream",
       "stream": "stdout",
       "text": [
        " 18\n",
        "          inferred: Bool false\n",
        "        capt: #undef\n",
        "        file: Symbol In[37]\n",
        "        line: Int32 18\n",
        "        inferred: Bool false\n",
        "      capt: #undef\n",
        "      file: Symbol In[37]\n",
        "      line: Int32 18\n",
        "      inferred: Bool false\n",
        "    capt: #undef\n",
        "    file: Symbol In[37]\n",
        "    line: Int32 18\n",
        "    inferred: Bool false\n",
        "  capt: #undef\n",
        "  file: Symbol In[37]\n",
        "  line: Int32 18\n",
        "  inferred: Bool false\n"
       ]
      }
     ],
     "prompt_number": 56
    },
    {
     "cell_type": "code",
     "collapsed": false,
     "input": [
      "simple = (x) -> x + 4\n",
      "dump(simple.code)"
     ],
     "language": "python",
     "metadata": {},
     "outputs": [
      {
       "output_type": "stream",
       "stream": "stdout",
       "text": [
        "LambdaStaticData "
       ]
      },
      {
       "output_type": "stream",
       "stream": "stdout",
       "text": [
        "\n",
        "  ast: Array(Uint8,(73,)) Uint8[0x16,0x07,0x03,0x1c,0x16,0x0f,0x88,0xd5,0x82,0x07  \u2026  0x16,0x07,0x03,0x1f,0x16,0x02,0x01,0x2b,0x3b,0x85]\n",
        "  sparams: () ()\n",
        "  tfunc: () ()\n",
        "  name: Symbol anonymous\n",
        "  roots: #undef\n",
        "  module: Module Main\n",
        "  def: LambdaStaticData \n",
        "    ast: Array(Uint8,(73,)) Uint8[0x16,0x07,0x03,0x1c,0x16,0x0f,0x88,0xd5,0x82,0x07  \u2026  0x16,0x07,0x03,0x1f,0x16,0x02,0x01,0x2b,0x3b,0x85]\n",
        "    sparams: () ()\n",
        "    tfunc: () ()\n",
        "    name: Symbol anonymous\n",
        "    roots: #undef\n",
        "    module: Module Main\n",
        "    def: LambdaStaticData \n",
        "      ast: Array(Uint8,(73,)) Uint8[0x16,0x07,0x03,0x1c,0x16,0x0f,0x88,0xd5,0x82,0x07  \u2026  0x16,0x07,0x03,0x1f,0x16,0x02,0x01,0x2b,0x3b,0x85]\n",
        "      sparams: () ()\n",
        "      tfunc: () ()\n",
        "      name: Symbol anonymous\n",
        "      roots: #undef\n",
        "      module: Module Main\n",
        "      def: LambdaStaticData \n",
        "        ast: Array(Uint8,(73,)) Uint8[0x16,0x07,0x03,0x1c,0x16,0x0f,0x88,0xd5,0x82,0x07  \u2026  0x16,0x07,0x03,0x1f,0x16,0x02,0x01,0x2b,0x3b,0x85]\n",
        "        sparams: () ()\n",
        "        tfunc: () ()\n",
        "        name: Symbol anonymous\n",
        "        roots: #undef\n",
        "        module: Module Main\n",
        "        def: LambdaStaticData \n",
        "          ast: Array(Uint8,(73,)) Uint8[0x16,0x07,0x03,0x1c,0x16,0x0f,0x88,0xd5,0x82,0x07  \u2026  0x16,0x07,0x03,0x1f,0x16,0x02,0x01,0x2b,0x3b,0x85]\n",
        "          sparams: () ()\n",
        "          tfunc: () ()\n",
        "          name: Symbol anonymous\n",
        "          roots: #undef\n",
        "          module: Module Main\n",
        "          def: LambdaStaticData \n",
        "          capt: #undef\n",
        "          file: Symbol In[58]\n",
        "          line: Int32 1\n",
        "          inferred: Bool false\n",
        "        capt: #undef\n",
        "        file: Symbol In[58]\n",
        "        line: Int32 1\n",
        "        inferred: Bool false\n",
        "      capt: #undef\n",
        "      file: Symbol In[58]\n",
        "      line: Int32 1\n",
        "      inferred: Bool false\n",
        "    capt: #undef\n",
        "    file: Symbol In[58]\n",
        "    line: Int32 1\n",
        "    inferred: Bool false\n",
        "  capt: #undef\n",
        "  file: Symbol In[58]\n",
        "  line: Int32 1\n",
        "  inferred: Bool false\n"
       ]
      }
     ],
     "prompt_number": 58
    },
    {
     "cell_type": "code",
     "collapsed": false,
     "input": [
      "ccall(:jl_uncompress_ast, Any, (Any, Any), simple.code, simple.code.ast)"
     ],
     "language": "python",
     "metadata": {},
     "outputs": [
      {
       "metadata": {},
       "output_type": "pyout",
       "prompt_number": 59,
       "text": [
        ":($(Expr(:lambda, {:(x::Any)}, {{},{{:x,:Any,0}},{}}, :(begin  # In[58], line 1:\n",
        "        return x + 4\n",
        "    end))))"
       ]
      }
     ],
     "prompt_number": 59
    },
    {
     "cell_type": "code",
     "collapsed": false,
     "input": [
      "methods(tttt01, (Any,))"
     ],
     "language": "python",
     "metadata": {},
     "outputs": [
      {
       "metadata": {},
       "output_type": "pyout",
       "prompt_number": 63,
       "text": [
        "1-element Array{Any,1}:\n",
        " tttt01(x) at In[37]:18"
       ]
      }
     ],
     "prompt_number": 63
    },
    {
     "cell_type": "code",
     "collapsed": false,
     "input": [
      "typeof(methods(tttt01, (Any,)))"
     ],
     "language": "python",
     "metadata": {},
     "outputs": [
      {
       "metadata": {},
       "output_type": "pyout",
       "prompt_number": 64,
       "text": [
        "Array{Any,1}"
       ]
      }
     ],
     "prompt_number": 64
    },
    {
     "cell_type": "code",
     "collapsed": false,
     "input": [
      "typeof(methods(tttt01, (Any,))[1])"
     ],
     "language": "python",
     "metadata": {},
     "outputs": [
      {
       "metadata": {},
       "output_type": "pyout",
       "prompt_number": 65,
       "text": [
        "Method"
       ]
      }
     ],
     "prompt_number": 65
    },
    {
     "cell_type": "code",
     "collapsed": false,
     "input": [
      "typeof(methods(tttt01, (Any,))[1][3])"
     ],
     "language": "python",
     "metadata": {},
     "outputs": [
      {
       "ename": "LoadError",
       "evalue": "`getindex` has no method matching getindex(::Method, ::Int64)\nwhile loading In[66], in expression starting on line 1",
       "output_type": "pyerr",
       "traceback": [
        "`getindex` has no method matching getindex(::Method, ::Int64)\nwhile loading In[66], in expression starting on line 1",
        ""
       ]
      }
     ],
     "prompt_number": 66
    },
    {
     "cell_type": "code",
     "collapsed": false,
     "input": [
      "## that doesn't work\n",
      "\n",
      "dump(methods(tttt01, (Any,))[1])"
     ],
     "language": "python",
     "metadata": {},
     "outputs": [
      {
       "output_type": "stream",
       "stream": "stdout",
       "text": [
        "Method "
       ]
      },
      {
       "output_type": "stream",
       "stream": "stdout",
       "text": [
        "\n",
        "  sig: (DataType,) (Any,)\n",
        "  va: Bool false\n",
        "  tvars: () ()\n",
        "  func: (anonymous function)\n",
        "  invokes: () ()\n",
        "  next: Method \n",
        "    sig: (DataType,DataType) (Any,Any)\n",
        "    va: Bool false\n",
        "    tvars: () ()\n",
        "    func: (anonymous function)\n",
        "    invokes: () ()\n",
        "    next: () ()\n"
       ]
      }
     ],
     "prompt_number": 67
    },
    {
     "cell_type": "code",
     "collapsed": false,
     "input": [
      "dump(methods(tttt01, (Any,))[1].func.code)"
     ],
     "language": "python",
     "metadata": {},
     "outputs": [
      {
       "output_type": "stream",
       "stream": "stdout",
       "text": [
        "LambdaStaticData "
       ]
      },
      {
       "output_type": "stream",
       "stream": "stdout",
       "text": [
        "\n",
        "  ast: Array(Uint8,(68,)) Uint8[0x16,0x07,0x03,0x1c,0x16,0x0f,0x88,0xd5,0x82,0x3b  \u2026  0x16,0x07,0x03,0x1f,0x16,0x02,0x01,0x2d,0x3b,0x86]\n",
        "  sparams: () ()\n",
        "  tfunc: Array(Any,(3,))\n",
        "    1: (DataType,) (Int64,)\n",
        "    2: Array(Uint8,(97,)) Uint8[0x0b,0x03,0x00,0x07,0x03,0x1c,0x16,0x0f,0x88,0xd5  \u2026  0x48,0x03,0x0b,0x05,0x00,0x3b,0x0b,0x03,0x00,0x86]\n",
        "    3: Bool false\n",
        "  name: Symbol tttt01\n",
        "  roots: #undef\n",
        "  module: Module Main\n",
        "  def: LambdaStaticData \n",
        "    ast: Array(Uint8,(68,)) Uint8[0x16,0x07,0x03,0x1c,0x16,0x0f,0x88,0xd5,0x82,0x3b  \u2026  0x16,0x07,0x03,0x1f,0x16,0x02,0x01,0x2d,0x3b,0x86]\n",
        "    sparams: () ()\n",
        "    tfunc: Array(Any,(3,))\n",
        "      1: (DataType,) (Int64,)\n",
        "      2: Array(Uint8,(97,)) Uint8[0x0b,0x03,0x00,0x07,0x03,0x1c,0x16,0x0f,0x88,0xd5  \u2026  0x48,0x03,0x0b,0x05,0x00,0x3b,0x0b,0x03,0x00,0x86]\n",
        "      3: Bool false\n",
        "    name: Symbol tttt01\n",
        "    roots: #undef\n",
        "    module: Module Main\n",
        "    def: LambdaStaticData \n",
        "      ast: Array(Uint8,(68,)) Uint8[0x16,0x07,0x03,0x1c,0x16,0x0f,0x88,0xd5,0x82,0x3b  \u2026  0x16,0x07,0x03,0x1f,0x16,0x02,0x01,0x2d,0x3b,0x86]\n",
        "      sparams: () ()\n",
        "      tfunc: Array(Any,(3,))\n",
        "        1: (DataType,) (Int64,)\n",
        "        2: Array(Uint8,(97,)) Uint8[0x0b,0x03,0x00,0x07,0x03,0x1c,0x16,0x0f,0x88,0xd5  \u2026  0x48,0x03,0x0b,0x05,0x00,0x3b,0x0b,0x03,0x00,0x86]\n",
        "        3: Bool false\n",
        "      name: Symbol tttt01\n",
        "      roots: #undef\n",
        "      module: Module Main\n",
        "      def: LambdaStaticData \n",
        "        ast: Array(Uint8,(68,)) Uint8[0x16,0x07,0x03,0x1c,0x16,0x0f,0x88,0xd5,0x82,0x3b  \u2026  0x16,0x07,0x03,0x1f,0x16,0x02,0x01,0x2d,0x3b,0x86]\n",
        "        sparams: () ()\n",
        "        tfunc: Array(Any,(3,))\n",
        "          1: (DataType,) (Int64,)\n",
        "          2: Array(Uint8,(97,)) Uint8[0x0b,0x03,0x00,0x07,0x03,0x1c,0x16,0x0f,0x88,0xd5  \u2026  0x48,0x03,0x0b,0x05,0x00,0x3b,0x0b,0x03,0x00,0x86]\n",
        "          3: Bool false\n",
        "        name: Symbol tttt01\n",
        "        roots: #undef\n",
        "        module: Module Main\n",
        "        def: LambdaStaticData \n",
        "          ast: Array(Uint8,(68,)) Uint8[0x16,0x07,0x03,0x1c,0x16,0x0f,0x88,0xd5,0x82,0x3b  \u2026  0x16,0x07,0x03,0x1f,0x16,0x02,0x01,0x2d,0x3b,0x86]\n",
        "          sparams: () ()\n",
        "          tfunc: Array(Any,(3,))\n",
        "          name: Symbol tttt01\n",
        "          roots: #undef\n",
        "          module: Module Main\n",
        "          def: LambdaStaticData \n",
        "          capt: #undef\n",
        "          file: Symbol In[37]\n",
        "          line: Int32 18\n",
        "          inferred: Bool false\n",
        "        capt: #undef\n",
        "        file: Symbol In[37]\n",
        "        line: Int32 18\n",
        "        inferred: Bool false\n",
        "      capt: #undef\n",
        "      file: Symbol In[37]\n",
        "      line: Int32 18\n",
        "      inferred: Bool false\n",
        "    capt: #undef\n",
        "    file: Symbol In[37]\n",
        "    line: Int32 18\n",
        "    inferred: Bool false\n",
        "  capt: #undef\n",
        "  file: Symbol In[37]\n",
        "  line: Int32 18\n",
        "  inferred: Bool false\n"
       ]
      }
     ],
     "prompt_number": 69
    },
    {
     "cell_type": "code",
     "collapsed": false,
     "input": [
      "## from serialize.jl -- todo force function serialization\n",
      "\n",
      "function serialize(s, f::Function)\n",
      "    writetag(s, Function)\n",
      "    name = false\n",
      "    if isgeneric(f)\n",
      "        name = f.env.name\n",
      "    elseif isa(f.env,Symbol)\n",
      "        name = f.env\n",
      "    end\n",
      "    if isa(name,Symbol)\n",
      "        if isdefined(Base,name) && is(f,eval(Base,name))\n",
      "            write(s, uint8(0))\n",
      "            serialize(s, name)\n",
      "            return\n",
      "        end\n",
      "        mod = ()\n",
      "        if isa(f.env,Symbol)\n",
      "            mod = Core\n",
      "        elseif !is(f.env.defs, ())\n",
      "            mod = f.env.defs.func.code.module\n",
      "        end\n",
      "        if mod !== ()\n",
      "            if isdefined(mod,name) && is(f,eval(mod,name))\n",
      "                # toplevel named func\n",
      "                write(s, uint8(2))\n",
      "                serialize(s, mod)\n",
      "                serialize(s, name)\n",
      "                return\n",
      "            end\n",
      "        end\n",
      "        write(s, uint8(3))\n",
      "        serialize(s, f.env)\n",
      "    else\n",
      "        linfo = f.code\n",
      "        @assert isa(linfo,LambdaStaticData)\n",
      "        write(s, uint8(1))\n",
      "        serialize(s, f.env)\n",
      "        serialize(s, linfo)\n",
      "    end\n",
      "end\n",
      "\n",
      "## two -- force naming\n",
      "\n",
      "# function reflection\n",
      "#90\tisgeneric(f::ANY) = (isa(f,Function) && isa(f.env,MethodTable))\n",
      "#91\t\n",
      "#92\tfunction_name(f::Function) = isgeneric(f) ? f.env.name : (:anonymous)"
     ],
     "language": "python",
     "metadata": {},
     "outputs": []
    },
    {
     "cell_type": "code",
     "collapsed": false,
     "input": [
      "## TODO -- better understand Function object\n",
      "## Better understand MethodTable, Method, LambdaStaticData\n",
      "## --- How to patch ast -- what happens if ast is lowered twice...\n",
      "   ## -- simplest path is just to eval code again....\n",
      " ## --- source transformation in ForwardDiff\n",
      "\n",
      "##https://github.com/JuliaDiff/ForwardDiff.jl/blob/0e9ab4e5f97196553db03383ad6e4fc632881bdc/src/source_transformation.jl\n",
      "\n",
      "## todo -- look at debugger"
     ],
     "language": "python",
     "metadata": {},
     "outputs": []
    }
   ],
   "metadata": {}
  }
 ]
}