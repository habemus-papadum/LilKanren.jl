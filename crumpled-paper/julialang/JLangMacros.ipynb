{
 "metadata": {
  "language": "Julia",
  "name": "",
  "signature": "sha256:97276821579b23c249dbf4a968120337967b74599071de541763ee997f951f88"
 },
 "nbformat": 3,
 "nbformat_minor": 0,
 "worksheets": [
  {
   "cells": [
    {
     "cell_type": "code",
     "collapsed": false,
     "input": [
      "## Parsing issues\n",
      "## Hygiene\n",
      "## Collect Line numbers -- \"preserve provenance\", debugging tools\n",
      "##  -- explore what happens if errors occur with an macro?\n",
      "## When do inner macros get expanded?\n",
      "## cute notation from Interact \n",
      "\n"
     ],
     "language": "python",
     "metadata": {},
     "outputs": []
    },
    {
     "cell_type": "code",
     "collapsed": false,
     "input": [
      "## What does ast print out look like?\n",
      "\n",
      "x = :([i for i=1:10])\n",
      "println(x)\n",
      "dump(x)"
     ],
     "language": "python",
     "metadata": {},
     "outputs": [
      {
       "output_type": "stream",
       "stream": "stdout",
       "text": [
        "$(Expr(:"
       ]
      },
      {
       "output_type": "stream",
       "stream": "stdout",
       "text": [
        "comprehension, :i, :(i = 1:10)))\n",
        "Expr \n",
        "  head: Symbol comprehension\n",
        "  args: Array(Any,(2,))\n",
        "    1: Symbol i\n",
        "    2: Expr \n",
        "      head: Symbol =\n",
        "      args: Array(Any,(2,))\n",
        "        1: Symbol i\n",
        "        2: Expr \n",
        "          head: Symbol :\n",
        "          args: Array(Any,(2,))\n",
        "          typ: Any\n",
        "      typ: Any\n",
        "  typ: Any\n"
       ]
      }
     ],
     "prompt_number": 9
    },
    {
     "cell_type": "code",
     "collapsed": false,
     "input": [
      "##  Helper macro\n",
      "\n",
      "macro helper(x...)\n",
      "    for i=1:length(x)\n",
      "        print(x)\n",
      "    end\n",
      "    2  ## do we have to return an expression?\n",
      "end\n",
      "\n",
      "@helper [i for i=1:10]"
     ],
     "language": "python",
     "metadata": {},
     "outputs": [
      {
       "output_type": "stream",
       "stream": "stdout",
       "text": [
        "(:("
       ]
      },
      {
       "output_type": "stream",
       "stream": "stdout",
       "text": [
        "$(Expr(:comprehension, :i, :(i = 1:10)))),)"
       ]
      },
      {
       "metadata": {},
       "output_type": "pyout",
       "prompt_number": 10,
       "text": [
        "2"
       ]
      }
     ],
     "prompt_number": 10
    },
    {
     "cell_type": "code",
     "collapsed": false,
     "input": [
      "## we don't have to return an expression....\n",
      "\n",
      "## lets really check that out\n",
      "\n",
      "foo = \"Sdfsd\"\n",
      "macro helper(x...)\n",
      "    for i=1:length(x)\n",
      "        println(x[i])\n",
      "        dump(x[i])\n",
      "        println()\n",
      "    end\n",
      "    foo\n",
      "end\n",
      "@show @helper 4=5 ## aside, just curious how 4=5 parses\n",
      "\n",
      "foo = (x,y) -> \"foo\"\n",
      "@show @helper 4=5\n",
      "\n",
      "foo = [:foo => 5, :bar => 30]\n",
      "@show @helper 4=5\n",
      "\n",
      "\n",
      "nothing\n"
     ],
     "language": "python",
     "metadata": {},
     "outputs": [
      {
       "output_type": "stream",
       "stream": "stdout",
       "text": [
        "4 = "
       ]
      },
      {
       "output_type": "stream",
       "stream": "stdout",
       "text": [
        "5\n",
        "Expr \n",
        "  head: Symbol =\n",
        "  args: Array(Any,(2,))\n",
        "    1: Int64 4\n",
        "    2: Int64 5\n",
        "  typ: Any\n",
        "\n",
        "@helper 4 = 5 => \"Sdfsd\"\n",
        "4 = 5\n",
        "Expr \n",
        "  head: Symbol =\n",
        "  args: Array(Any,(2,))\n",
        "    1: Int64 4\n",
        "    2: Int64 5\n",
        "  typ: Any\n",
        "\n",
        "@helper 4 = 5 => (anonymous function)\n",
        "4 = 5\n",
        "Expr \n",
        "  head: Symbol =\n",
        "  args: Array(Any,(2,))\n",
        "    1: Int64 4\n",
        "    2: Int64 5\n",
        "  typ: Any\n",
        "\n",
        "@helper 4 = 5 => [:bar=>30,:foo=>5]\n"
       ]
      }
     ],
     "prompt_number": 14
    },
    {
     "cell_type": "code",
     "collapsed": false,
     "input": [
      "foo = (x,y) -> \"foo\"\n",
      "(@helper 4=5)(1,2) "
     ],
     "language": "python",
     "metadata": {},
     "outputs": [
      {
       "output_type": "stream",
       "stream": "stdout",
       "text": [
        "4 = "
       ]
      },
      {
       "output_type": "stream",
       "stream": "stdout",
       "text": [
        "5\n",
        "Expr \n",
        "  head: Symbol =\n",
        "  args: Array(Any,(2,))\n",
        "    1: Int64 4\n",
        "    2: Int64 5\n",
        "  typ: Any\n",
        "\n"
       ]
      },
      {
       "metadata": {},
       "output_type": "pyout",
       "prompt_number": 15,
       "text": [
        "\"foo\""
       ]
      }
     ],
     "prompt_number": 15
    },
    {
     "cell_type": "code",
     "collapsed": false,
     "input": [
      "@helper begin\n",
      "    baz\n",
      "end,\n",
      "begin\n",
      "    baz\n",
      "end,\n",
      "begin\n",
      "    baz\n",
      "end\n",
      "\n",
      "\n",
      "\n"
     ],
     "language": "python",
     "metadata": {},
     "outputs": [
      {
       "output_type": "stream",
       "stream": "stdout",
       "text": [
        "(begin"
       ]
      },
      {
       "output_type": "stream",
       "stream": "stdout",
       "text": [
        "  # In[17], line 2:\n",
        "        baz\n",
        "    end,begin  # In[17], line 5:\n",
        "        baz\n",
        "    end,begin  # In[17], line 8:\n",
        "        baz\n",
        "    end)\n",
        "Expr \n",
        "  head: Symbol tuple\n",
        "  args: Array(Any,(3,))\n",
        "    1: Expr \n",
        "      head: Symbol block\n",
        "      args: Array(Any,(2,))\n",
        "        1: Expr \n",
        "          head: Symbol line\n",
        "          args: Array(Any,(2,))\n",
        "          typ: Any\n",
        "        2: Symbol baz\n",
        "      typ: Any\n",
        "    2: Expr \n",
        "      head: Symbol block\n",
        "      args: Array(Any,(2,))\n",
        "        1: Expr \n",
        "          head: Symbol line\n",
        "          args: Array(Any,(2,))\n",
        "          typ: Any\n",
        "        2: Symbol baz\n",
        "      typ: Any\n",
        "    3: Expr \n",
        "      head: Symbol block\n",
        "      args: Array(Any,(2,))\n",
        "        1: Expr \n",
        "          head: Symbol line\n",
        "          args: Array(Any,(2,))\n",
        "          typ: Any\n",
        "        2: Symbol baz\n",
        "      typ: Any\n",
        "  typ: Any\n",
        "\n"
       ]
      },
      {
       "metadata": {},
       "output_type": "pyout",
       "prompt_number": 17,
       "text": [
        "(anonymous function)"
       ]
      }
     ],
     "prompt_number": 17
    },
    {
     "cell_type": "code",
     "collapsed": false,
     "input": [
      "@helper dummy,\n",
      "begin\n",
      "    baz\n",
      "end,\n",
      "begin\n",
      "    baz\n",
      "end,\n",
      "begin\n",
      "    baz\n",
      "end"
     ],
     "language": "python",
     "metadata": {},
     "outputs": [
      {
       "output_type": "stream",
       "stream": "stdout",
       "text": [
        "(dummy"
       ]
      },
      {
       "output_type": "stream",
       "stream": "stdout",
       "text": [
        ",begin  # In[19], line 3:\n",
        "        baz\n",
        "    end,begin  # In[19], line 6:\n",
        "        baz\n",
        "    end,begin  # In[19], line 9:\n",
        "        baz\n",
        "    end)\n",
        "Expr \n",
        "  head: Symbol tuple\n",
        "  args: Array(Any,(4,))\n",
        "    1: Symbol dummy\n",
        "    2: Expr \n",
        "      head: Symbol block\n",
        "      args: Array(Any,(2,))\n",
        "        1: Expr \n",
        "          head: Symbol line\n",
        "          args: Array(Any,(2,))\n",
        "          typ: Any\n",
        "        2: Symbol baz\n",
        "      typ: Any\n",
        "    3: Expr \n",
        "      head: Symbol block\n",
        "      args: Array(Any,(2,))\n",
        "        1: Expr \n",
        "          head: Symbol line\n",
        "          args: Array(Any,(2,))\n",
        "          typ: Any\n",
        "        2: Symbol baz\n",
        "      typ: Any\n",
        "    4: Expr \n",
        "      head: Symbol block\n",
        "      args: Array(Any,(2,))\n",
        "        1: Expr \n",
        "          head: Symbol line\n",
        "          args: Array(Any,(2,))\n",
        "          typ: Any\n",
        "        2: Symbol baz\n",
        "      typ: Any\n",
        "  typ: Any\n",
        "\n"
       ]
      },
      {
       "metadata": {},
       "output_type": "pyout",
       "prompt_number": 19,
       "text": [
        "(anonymous function)"
       ]
      }
     ],
     "prompt_number": 19
    },
    {
     "cell_type": "code",
     "collapsed": false,
     "input": [
      "## still amazed that we can return values and not expressions...\n",
      "\n",
      "foo = (x,y) -> \"bar\"\n",
      "ast = :(foo(x,y))\n",
      "dump(ast)"
     ],
     "language": "python",
     "metadata": {},
     "outputs": [
      {
       "output_type": "stream",
       "stream": "stdout",
       "text": [
        "Expr "
       ]
      },
      {
       "output_type": "stream",
       "stream": "stdout",
       "text": [
        "\n",
        "  head: Symbol call\n",
        "  args: Array(Any,(3,))\n",
        "    1: Symbol foo\n",
        "    2: Symbol x\n",
        "    3: Symbol y\n",
        "  typ: Any\n"
       ]
      }
     ],
     "prompt_number": 23
    },
    {
     "cell_type": "code",
     "collapsed": false,
     "input": [
      "Expr(:call,:foo,:x,:y)"
     ],
     "language": "python",
     "metadata": {},
     "outputs": [
      {
       "metadata": {},
       "output_type": "pyout",
       "prompt_number": 24,
       "text": [
        ":(foo(x,y))"
       ]
      }
     ],
     "prompt_number": 24
    },
    {
     "cell_type": "code",
     "collapsed": false,
     "input": [
      "Expr(:call,foo,:x,:y)\n"
     ],
     "language": "python",
     "metadata": {},
     "outputs": [
      {
       "metadata": {},
       "output_type": "pyout",
       "prompt_number": 25,
       "text": [
        ":(((anonymous function))(x,y))"
       ]
      }
     ],
     "prompt_number": 25
    },
    {
     "cell_type": "code",
     "collapsed": false,
     "input": [
      "eval(Expr(:call,:foo,:x,:y))"
     ],
     "language": "python",
     "metadata": {},
     "outputs": [
      {
       "metadata": {},
       "output_type": "pyout",
       "prompt_number": 26,
       "text": [
        "\"bar\""
       ]
      }
     ],
     "prompt_number": 26
    },
    {
     "cell_type": "code",
     "collapsed": false,
     "input": [
      "eval(Expr(:call,foo,:x,:y))"
     ],
     "language": "python",
     "metadata": {},
     "outputs": [
      {
       "metadata": {},
       "output_type": "pyout",
       "prompt_number": 27,
       "text": [
        "\"bar\""
       ]
      }
     ],
     "prompt_number": 27
    },
    {
     "cell_type": "code",
     "collapsed": false,
     "input": [
      ":($foo(x,y))"
     ],
     "language": "python",
     "metadata": {},
     "outputs": [
      {
       "metadata": {},
       "output_type": "pyout",
       "prompt_number": 28,
       "text": [
        ":(((anonymous function))(x,y))"
       ]
      }
     ],
     "prompt_number": 28
    },
    {
     "cell_type": "code",
     "collapsed": false,
     "input": [
      "dump(:($foo(x,y)))"
     ],
     "language": "python",
     "metadata": {},
     "outputs": [
      {
       "output_type": "stream",
       "stream": "stdout",
       "text": [
        "Expr "
       ]
      },
      {
       "output_type": "stream",
       "stream": "stdout",
       "text": [
        "\n",
        "  head: Symbol call\n",
        "  args: Array(Any,(3,))\n",
        "    1: (anonymous function)\n",
        "    2: Symbol x\n",
        "    3: Symbol y\n",
        "  typ: Any\n"
       ]
      }
     ],
     "prompt_number": 29
    },
    {
     "cell_type": "code",
     "collapsed": false,
     "input": [
      "bar = :foo\n",
      "dump(:($bar(x,y)))"
     ],
     "language": "python",
     "metadata": {},
     "outputs": [
      {
       "output_type": "stream",
       "stream": "stdout",
       "text": [
        "Expr "
       ]
      },
      {
       "output_type": "stream",
       "stream": "stdout",
       "text": [
        "\n",
        "  head: Symbol call\n",
        "  args: Array(Any,(3,))\n",
        "    1: Symbol foo\n",
        "    2: Symbol x\n",
        "    3: Symbol y\n",
        "  typ: Any\n"
       ]
      }
     ],
     "prompt_number": 30
    },
    {
     "cell_type": "code",
     "collapsed": false,
     "input": [
      "bar = 2\n",
      "dump(:($bar(x,y)))"
     ],
     "language": "python",
     "metadata": {},
     "outputs": [
      {
       "output_type": "stream",
       "stream": "stdout",
       "text": [
        "Expr "
       ]
      },
      {
       "output_type": "stream",
       "stream": "stdout",
       "text": [
        "\n",
        "  head: Symbol call\n",
        "  args: Array(Any,(3,))\n",
        "    1: Int64 2\n",
        "    2: Symbol x\n",
        "    3: Symbol y\n",
        "  typ: Any\n"
       ]
      }
     ],
     "prompt_number": 31
    },
    {
     "cell_type": "code",
     "collapsed": false,
     "input": [
      "## pretty cool...\n",
      "\n",
      "## moving on\n"
     ],
     "language": "python",
     "metadata": {},
     "outputs": []
    },
    {
     "cell_type": "code",
     "collapsed": false,
     "input": [
      "## what do inner macros look like\n",
      "\n",
      "macro helper(x...)\n",
      "    for i=1:length(x)\n",
      "        println(x[i])\n",
      "        dump(x[i])\n",
      "        println()\n",
      "    end\n",
      "    \"nothing\"\n",
      "end\n",
      "\n",
      "@helper begin\n",
      "    foo\n",
      "    @nothere\n",
      "end    "
     ],
     "language": "python",
     "metadata": {},
     "outputs": [
      {
       "output_type": "stream",
       "stream": "stdout",
       "text": [
        "begin "
       ]
      },
      {
       "output_type": "stream",
       "stream": "stdout",
       "text": [
        " # In[32], line 11:\n",
        "    foo # line 12:\n",
        "    @nothere\n",
        "end\n",
        "Expr \n",
        "  head: Symbol block\n",
        "  args: Array(Any,(4,))\n",
        "    1: Expr \n",
        "      head: Symbol line\n",
        "      args: Array(Any,(2,))\n",
        "        1: Int64 11\n",
        "        2: Symbol In[32]\n",
        "      typ: Any\n",
        "    2: Symbol foo\n",
        "    3: Expr \n",
        "      head: Symbol line\n",
        "      args: Array(Any,(1,))\n",
        "        1: Int64 12\n",
        "      typ: Any\n",
        "    4: Expr \n",
        "      head: Symbol macrocall\n",
        "      args: Array(Any,(1,))\n",
        "        1: Symbol @nothere\n",
        "      typ: Any\n",
        "  typ: Any\n",
        "\n"
       ]
      },
      {
       "metadata": {},
       "output_type": "pyout",
       "prompt_number": 32,
       "text": [
        "\"nothing\""
       ]
      }
     ],
     "prompt_number": 32
    },
    {
     "cell_type": "code",
     "collapsed": false,
     "input": [
      "# macro without arguments?\n",
      "\n",
      "macro helper()\n",
      "    \"foo\"\n",
      "end\n",
      "\n",
      "@show @helper\n",
      "2"
     ],
     "language": "python",
     "metadata": {},
     "outputs": [
      {
       "output_type": "stream",
       "stream": "stdout",
       "text": [
        "@helper => \"foo\""
       ]
      },
      {
       "output_type": "stream",
       "stream": "stdout",
       "text": [
        "\n"
       ]
      },
      {
       "metadata": {},
       "output_type": "pyout",
       "prompt_number": 34,
       "text": [
        "2"
       ]
      }
     ],
     "prompt_number": 34
    },
    {
     "cell_type": "code",
     "collapsed": false,
     "input": [
      "## recursive macro?\n",
      "\n",
      "macro helper(x...)\n",
      "    if length(x) == 0\n",
      "        :()\n",
      "    else \n",
      "        :(foo($(x[1]), @helper($(x[2:end]))))\n",
      "    end\n",
      "end\n",
      "\n",
      "macroexpand(:(@helper(1,2,3)))"
     ],
     "language": "python",
     "metadata": {},
     "outputs": [
      {
       "metadata": {},
       "output_type": "pyout",
       "prompt_number": 39,
       "text": [
        ":($(Expr(:error, StackOverflowError())))"
       ]
      }
     ],
     "prompt_number": 39
    },
    {
     "cell_type": "code",
     "collapsed": false,
     "input": [
      "## investigating\n",
      "\n",
      "macro helper(x...)\n",
      "    if length(x) == 0\n",
      "        :()\n",
      "    else \n",
      "        :(foo($(x[1]), bar($(x[2:end]))))\n",
      "    end\n",
      "end\n",
      "\n",
      "macroexpand(:(@helper(1,2,3)))"
     ],
     "language": "python",
     "metadata": {},
     "outputs": [
      {
       "metadata": {},
       "output_type": "pyout",
       "prompt_number": 40,
       "text": [
        ":(foo(1,bar((2,3))))"
       ]
      }
     ],
     "prompt_number": 40
    },
    {
     "cell_type": "code",
     "collapsed": false,
     "input": [
      "## extra parens in bar application (need clojure style ~@)\n",
      "\n",
      "##what happens when you splice in an expression\n",
      "\n",
      "a = Expr(:call, :foo, :x, :y)\n",
      "b = :(g($a))"
     ],
     "language": "python",
     "metadata": {},
     "outputs": [
      {
       "metadata": {},
       "output_type": "pyout",
       "prompt_number": 41,
       "text": [
        ":(g(foo(x,y)))"
       ]
      }
     ],
     "prompt_number": 41
    },
    {
     "cell_type": "code",
     "collapsed": false,
     "input": [
      "# duh -- though whatever, it's hard to remember the difference between expressions and values\n",
      "\n",
      "# ok -- going back to our prior exmaple\n",
      "\n",
      "macro helper(x...)\n",
      "    if length(x) == 1\n",
      "        x[1]\n",
      "    else \n",
      "        ex = Expr(:macrocall, :@helper, 1) #x[2:end]...\n",
      "        :(foo($(x[1]), $ex))\n",
      "    end\n",
      "end\n",
      "\n",
      "macroexpand(:(@helper(1,2)))"
     ],
     "language": "python",
     "metadata": {},
     "outputs": [
      {
       "metadata": {},
       "output_type": "pyout",
       "prompt_number": 48,
       "text": [
        ":($(Expr(:error, BoundsError())))"
       ]
      }
     ],
     "prompt_number": 48
    },
    {
     "cell_type": "code",
     "collapsed": false,
     "input": [
      "## no conclusion....\n",
      "\n",
      "\n",
      "## moving on:\n",
      "## error messages\n",
      "## grab line number\n",
      "## Interact\n",
      "\n"
     ],
     "language": "python",
     "metadata": {},
     "outputs": []
    },
    {
     "cell_type": "code",
     "collapsed": false,
     "input": [
      "## Interact syntax -- I guess not so mysterious now that I think about it\n",
      "\n",
      "## just didn't realize this was valid syntax:\n",
      "r = 0\n",
      "for i=1:5, j=1:5\n",
      "    r = i+j\n",
      "end\n",
      "\n",
      "macro helper(x...)\n",
      "    for i=1:length(x)\n",
      "        println(x[i])\n",
      "        dump(x[i])\n",
      "        println()\n",
      "    end\n",
      "    \"nothing\"\n",
      "end\n",
      "\n",
      "@helper for i=1:5, j=1:5\n",
      "    r = i+j\n",
      "end"
     ],
     "language": "python",
     "metadata": {},
     "outputs": [
      {
       "output_type": "stream",
       "stream": "stdout",
       "text": [
        "for "
       ]
      },
      {
       "output_type": "stream",
       "stream": "stdout",
       "text": [
        "i = 1:5, j = 1:5 # line 19:\n",
        "    r = i + j\n",
        "end\n",
        "Expr \n",
        "  head: Symbol for\n",
        "  args: Array(Any,(2,))\n",
        "    1: Expr \n",
        "      head: Symbol block\n",
        "      args: Array(Any,(2,))\n",
        "        1: Expr \n",
        "          head: Symbol =\n",
        "          args: Array(Any,(2,))\n",
        "          typ: Any\n",
        "        2: Expr \n",
        "          head: Symbol =\n",
        "          args: Array(Any,(2,))\n",
        "          typ: Any\n",
        "      typ: Any\n",
        "    2: Expr \n",
        "      head: Symbol block\n",
        "      args: Array(Any,(2,))\n",
        "        1: Expr \n",
        "          head: Symbol line\n",
        "          args: Array(Any,(1,))\n",
        "          typ: Any\n",
        "        2: Expr \n",
        "          head: Symbol =\n",
        "          args: Array(Any,(2,))\n",
        "          typ: Any\n",
        "      typ: Any\n",
        "  typ: Any\n",
        "\n"
       ]
      },
      {
       "metadata": {},
       "output_type": "pyout",
       "prompt_number": 52,
       "text": [
        "\"nothing\""
       ]
      }
     ],
     "prompt_number": 52
    },
    {
     "cell_type": "code",
     "collapsed": false,
     "input": [
      "## let's explore pulling line numbers\n",
      "\n",
      ":(begin end)"
     ],
     "language": "python",
     "metadata": {},
     "outputs": [
      {
       "metadata": {},
       "output_type": "pyout",
       "prompt_number": 53,
       "text": [
        "quote \n",
        "end"
       ]
      }
     ],
     "prompt_number": 53
    },
    {
     "cell_type": "code",
     "collapsed": false,
     "input": [
      "quote\n",
      "    begin\n",
      "        foo\n",
      "    end\n",
      "end"
     ],
     "language": "python",
     "metadata": {},
     "outputs": [
      {
       "metadata": {},
       "output_type": "pyout",
       "prompt_number": 54,
       "text": [
        "quote  # In[54], line 2:\n",
        "    begin  # In[54], line 3:\n",
        "        foo\n",
        "    end\n",
        "end"
       ]
      }
     ],
     "prompt_number": 54
    },
    {
     "cell_type": "code",
     "collapsed": false,
     "input": [
      "quote x end"
     ],
     "language": "python",
     "metadata": {},
     "outputs": [
      {
       "metadata": {},
       "output_type": "pyout",
       "prompt_number": 55,
       "text": [
        "quote  # In[55], line 1:\n",
        "    x\n",
        "end"
       ]
      }
     ],
     "prompt_number": 55
    },
    {
     "cell_type": "code",
     "collapsed": false,
     "input": [
      ":(x)"
     ],
     "language": "python",
     "metadata": {},
     "outputs": [
      {
       "metadata": {},
       "output_type": "pyout",
       "prompt_number": 56,
       "text": [
        ":x"
       ]
      }
     ],
     "prompt_number": 56
    },
    {
     "cell_type": "code",
     "collapsed": false,
     "input": [
      "quote\n",
      "    quote\n",
      "        x\n",
      "    end\n",
      "end"
     ],
     "language": "python",
     "metadata": {},
     "outputs": [
      {
       "metadata": {},
       "output_type": "pyout",
       "prompt_number": 57,
       "text": [
        "quote  # In[57], line 2:\n",
        "    quote  # In[57], line 3:\n",
        "        x\n",
        "    end\n",
        "end"
       ]
      }
     ],
     "prompt_number": 57
    },
    {
     "cell_type": "code",
     "collapsed": false,
     "input": [
      "macro helper()\n",
      "    quote\n",
      "        quote \n",
      "            dummy\n",
      "        end\n",
      "    end\n",
      "end    \n"
     ],
     "language": "python",
     "metadata": {},
     "outputs": [],
     "prompt_number": 58
    },
    {
     "cell_type": "code",
     "collapsed": false,
     "input": [
      "@helper"
     ],
     "language": "python",
     "metadata": {},
     "outputs": [
      {
       "metadata": {},
       "output_type": "pyout",
       "prompt_number": 59,
       "text": [
        "quote  # In[58], line 4:\n",
        "    dummy\n",
        "end"
       ]
      }
     ],
     "prompt_number": 59
    },
    {
     "cell_type": "code",
     "collapsed": false,
     "input": [
      "@quote end"
     ],
     "language": "python",
     "metadata": {},
     "outputs": [
      {
       "ename": "LoadError",
       "evalue": "syntax: extra token \"end\" after end of expression\nwhile loading In[60], in expression starting on line 1",
       "output_type": "pyerr",
       "traceback": [
        "syntax: extra token \"end\" after end of expression\nwhile loading In[60], in expression starting on line 1",
        ""
       ]
      }
     ],
     "prompt_number": 60
    },
    {
     "cell_type": "code",
     "collapsed": false,
     "input": [
      "quote end"
     ],
     "language": "python",
     "metadata": {},
     "outputs": [
      {
       "metadata": {},
       "output_type": "pyout",
       "prompt_number": 61,
       "text": [
        "quote \n",
        "end"
       ]
      }
     ],
     "prompt_number": 61
    },
    {
     "cell_type": "code",
     "collapsed": false,
     "input": [
      "quote dummy end"
     ],
     "language": "python",
     "metadata": {},
     "outputs": [
      {
       "metadata": {},
       "output_type": "pyout",
       "prompt_number": 62,
       "text": [
        "quote  # In[62], line 1:\n",
        "    dummy\n",
        "end"
       ]
      }
     ],
     "prompt_number": 62
    },
    {
     "cell_type": "code",
     "collapsed": false,
     "input": [
      "dump(quote dummy end)"
     ],
     "language": "python",
     "metadata": {},
     "outputs": [
      {
       "output_type": "stream",
       "stream": "stdout",
       "text": [
        "Expr "
       ]
      },
      {
       "output_type": "stream",
       "stream": "stdout",
       "text": [
        "\n",
        "  head: Symbol block\n",
        "  args: Array(Any,(2,))\n",
        "    1: Expr \n",
        "      head: Symbol line\n",
        "      args: Array(Any,(2,))\n",
        "        1: Int64 1\n",
        "        2: Symbol In[63]\n",
        "      typ: Any\n",
        "    2: Symbol dummy\n",
        "  typ: Any\n"
       ]
      }
     ],
     "prompt_number": 63
    },
    {
     "cell_type": "code",
     "collapsed": false,
     "input": [
      "\n",
      "\n",
      "lineInfo(e) = \"$(e.args[1].args[2]): $(e.args[1].args[1])\"\n",
      "\n",
      "foo = lineInfo(quote dummy end)\n",
      "\n"
     ],
     "language": "python",
     "metadata": {},
     "outputs": [
      {
       "metadata": {},
       "output_type": "pyout",
       "prompt_number": 66,
       "text": [
        "\"In[66]: 5\""
       ]
      }
     ],
     "prompt_number": 66
    },
    {
     "cell_type": "code",
     "collapsed": false,
     "input": [
      "## so -- basically if we want to build up expressions using functions rather than splicing in quotes\n",
      "## we can still add debugging info via this hack (you have to study the above exmaple to understand how to use it)"
     ],
     "language": "python",
     "metadata": {},
     "outputs": []
    },
    {
     "cell_type": "code",
     "collapsed": false,
     "input": [
      "## moving on\n",
      "\n",
      "## Actually, a very basic question,\n",
      "## in an macro application do literals get wrapped into expressions?\n",
      "\n",
      "macro helper(x...)\n",
      "    for i=1:length(x)\n",
      "        println(x[i])\n",
      "        dump(x[i])\n",
      "        println()\n",
      "    end\n",
      "    \"nothing\"\n",
      "end\n",
      "\n",
      "@helper 2 [1,2,3] [\"a\" => 2, b => \"3\"] :foo true nothing x y \"blah\"\n"
     ],
     "language": "python",
     "metadata": {},
     "outputs": [
      {
       "output_type": "stream",
       "stream": "stdout",
       "text": [
        "2\n"
       ]
      },
      {
       "output_type": "stream",
       "stream": "stdout",
       "text": [
        "Int64 2\n",
        "\n",
        "[1,2,3]\n",
        "Expr \n",
        "  head: Symbol vcat\n",
        "  args: Array(Any,(3,))\n",
        "    1: Int64 1\n",
        "    2: Int64 2\n",
        "    3: Int64 3\n",
        "  typ: Any\n",
        "\n",
        "$(Expr(:dict, :(\"a\"=>2), :(b=>\"3\")))\n",
        "Expr \n",
        "  head: Symbol dict\n",
        "  args: Array(Any,(2,))\n",
        "    1: Expr \n",
        "      head: Symbol =>\n",
        "      args: Array(Any,(2,))\n",
        "        1: ASCIIString \"a\"\n",
        "        2: Int64 2\n",
        "      typ: Any\n",
        "    2: Expr \n",
        "      head: Symbol =>\n",
        "      args: Array(Any,(2,))\n",
        "        1: Symbol b\n",
        "        2: ASCIIString \"3\"\n",
        "      typ: Any\n",
        "  typ: Any\n",
        "\n",
        ":foo\n",
        "Expr \n",
        "  head: Symbol quote\n",
        "  args: Array(Any,(1,))\n",
        "    1: Symbol foo\n",
        "  typ: Any\n",
        "\n",
        "true\n",
        "Bool true\n",
        "\n",
        "nothing\n",
        "Symbol nothing\n",
        "\n",
        "x\n",
        "Symbol x\n",
        "\n",
        "y\n",
        "Symbol y\n",
        "\n",
        "blah\n",
        "ASCIIString \"blah\"\n",
        "\n"
       ]
      },
      {
       "metadata": {},
       "output_type": "pyout",
       "prompt_number": 68,
       "text": [
        "\"nothing\""
       ]
      }
     ],
     "prompt_number": 68
    },
    {
     "cell_type": "code",
     "collapsed": false,
     "input": [
      "## somethings go in as values, others become expressions"
     ],
     "language": "python",
     "metadata": {},
     "outputs": []
    },
    {
     "cell_type": "code",
     "collapsed": false,
     "input": [
      "## Two more things...\n",
      "## Hygiene\n",
      "## -- what would need to be done to hygenically splice without Quote+$\n",
      "## Error messages\n"
     ],
     "language": "python",
     "metadata": {},
     "outputs": []
    },
    {
     "cell_type": "code",
     "collapsed": false,
     "input": [
      "## error messages\n",
      "macro helper(x)\n",
      "    quote \n",
      "        @helper2($x)\n",
      "    end\n",
      "end\n",
      "\n",
      "\n",
      "macro helper2(x)\n",
      "    quote \n",
      "        $x\n",
      "    end\n",
      "end\n",
      "\n",
      "@helper(1(2))\n"
     ],
     "language": "python",
     "metadata": {},
     "outputs": [
      {
       "metadata": {},
       "output_type": "pyout",
       "prompt_number": 69,
       "text": [
        "2"
       ]
      }
     ],
     "prompt_number": 69
    },
    {
     "cell_type": "code",
     "collapsed": false,
     "input": [
      "1(2)"
     ],
     "language": "python",
     "metadata": {},
     "outputs": [
      {
       "metadata": {},
       "output_type": "pyout",
       "prompt_number": 70,
       "text": [
        "2"
       ]
      }
     ],
     "prompt_number": 70
    },
    {
     "cell_type": "code",
     "collapsed": false,
     "input": [
      "## oh yeah\n",
      "\n",
      "@helper(\"sdfdf\"(2))"
     ],
     "language": "python",
     "metadata": {},
     "outputs": [
      {
       "ename": "LoadError",
       "evalue": "type: apply: expected Function, got ASCIIString\nwhile loading In[71], in expression starting on line 11",
       "output_type": "pyerr",
       "traceback": [
        "type: apply: expected Function, got ASCIIString\nwhile loading In[71], in expression starting on line 11",
        ""
       ]
      }
     ],
     "prompt_number": 71
    },
    {
     "cell_type": "code",
     "collapsed": false,
     "input": [
      "## that's not a very good error message (line 11? -> is from macro cell)\n",
      "\n",
      "## let's try a more likely error\n",
      "@helper(notdefined)"
     ],
     "language": "python",
     "metadata": {},
     "outputs": [
      {
       "ename": "LoadError",
       "evalue": "notdefined not defined\nwhile loading In[72], in expression starting on line 11",
       "output_type": "pyerr",
       "traceback": [
        "notdefined not defined\nwhile loading In[72], in expression starting on line 11",
        ""
       ]
      }
     ],
     "prompt_number": 72
    },
    {
     "cell_type": "code",
     "collapsed": false,
     "input": [
      "## wrong file info....\n",
      "\n",
      "## play around a bit\n",
      "macro helper2(x)\n",
      "    quote \n",
      "        $x\n",
      "    end\n",
      "end\n",
      "\n",
      "@helper(notdefined)\n"
     ],
     "language": "python",
     "metadata": {},
     "outputs": [
      {
       "ename": "LoadError",
       "evalue": "notdefined not defined\nwhile loading In[73], in expression starting on line 6",
       "output_type": "pyerr",
       "traceback": [
        "notdefined not defined\nwhile loading In[73], in expression starting on line 6",
        ""
       ]
      }
     ],
     "prompt_number": 73
    },
    {
     "cell_type": "code",
     "collapsed": false,
     "input": [
      "## try outside of notebooks to see if it makes a difference..."
     ],
     "language": "python",
     "metadata": {},
     "outputs": []
    },
    {
     "cell_type": "code",
     "collapsed": false,
     "input": [
      "## well first would does an error while running a macro look like?\n",
      "\n",
      "macro helper3(x)\n",
      "    mistake\n",
      "    quote \n",
      "        $x\n",
      "    end\n",
      "end\n",
      "\n",
      "@helper3(undef)"
     ],
     "language": "python",
     "metadata": {},
     "outputs": [
      {
       "ename": "LoadError",
       "evalue": "undef not defined\nwhile loading In[74], in expression starting on line 6",
       "output_type": "pyerr",
       "traceback": [
        "undef not defined\nwhile loading In[74], in expression starting on line 6",
        ""
       ]
      }
     ],
     "prompt_number": 74
    },
    {
     "cell_type": "code",
     "collapsed": false,
     "input": [
      "#huh?\n",
      "\n",
      "macro helper3(x)\n",
      "    mistake = x[10]\n",
      "    quote \n",
      "        $x\n",
      "    end\n",
      "end\n",
      "\n",
      "@helper3(2)"
     ],
     "language": "python",
     "metadata": {},
     "outputs": [
      {
       "ename": "LoadError",
       "evalue": "BoundsError()\nwhile loading In[76], in expression starting on line 10",
       "output_type": "pyerr",
       "traceback": [
        "BoundsError()\nwhile loading In[76], in expression starting on line 10",
        ""
       ]
      }
     ],
     "prompt_number": 76
    },
    {
     "cell_type": "code",
     "collapsed": false,
     "input": [
      "mistake"
     ],
     "language": "python",
     "metadata": {},
     "outputs": [
      {
       "ename": "LoadError",
       "evalue": "mistake not defined\nwhile loading In[77], in expression starting on line 1",
       "output_type": "pyerr",
       "traceback": [
        "mistake not defined\nwhile loading In[77], in expression starting on line 1",
        ""
       ]
      }
     ],
     "prompt_number": 77
    },
    {
     "cell_type": "code",
     "collapsed": false,
     "input": [
      "# weird....\n",
      "\n",
      "## Also, what do error messages look like in spliced code:\n",
      "\n",
      "macro wrap(x)\n",
      "    quote \n",
      "        (a) -> $x\n",
      "    end\n",
      "end\n"
     ],
     "language": "python",
     "metadata": {},
     "outputs": [],
     "prompt_number": 78
    },
    {
     "cell_type": "code",
     "collapsed": false,
     "input": [
      "macroexpand(quote\n",
      "    @wrap begin\n",
      "        a(2)\n",
      "    end\n",
      "end)"
     ],
     "language": "python",
     "metadata": {},
     "outputs": [
      {
       "metadata": {},
       "output_type": "pyout",
       "prompt_number": 79,
       "text": [
        "quote  # In[79], line 2:\n",
        "    begin  # In[78], line 7:\n",
        "        #207#a->begin  # In[78], line 7:\n",
        "                begin  # In[79], line 3:\n",
        "                    #207#a(2)\n",
        "                end\n",
        "            end\n",
        "    end\n",
        "end"
       ]
      }
     ],
     "prompt_number": 79
    },
    {
     "cell_type": "code",
     "collapsed": false,
     "input": [
      "f2 = @wrap begin\n",
      "       a(2)\n",
      "    end"
     ],
     "language": "python",
     "metadata": {},
     "outputs": [
      {
       "metadata": {},
       "output_type": "pyout",
       "prompt_number": 81,
       "text": [
        "(anonymous function)"
       ]
      }
     ],
     "prompt_number": 81
    },
    {
     "cell_type": "code",
     "collapsed": false,
     "input": [
      "f2(2) ## error -- needs a function"
     ],
     "language": "python",
     "metadata": {},
     "outputs": [
      {
       "ename": "LoadError",
       "evalue": "type: anonymous: in apply, expected Function, got Int64\nwhile loading In[82], in expression starting on line 1",
       "output_type": "pyerr",
       "traceback": [
        "type: anonymous: in apply, expected Function, got Int64\nwhile loading In[82], in expression starting on line 1",
        "",
        " in anonymous at In[78]:2"
       ]
      }
     ],
     "prompt_number": 82
    },
    {
     "cell_type": "code",
     "collapsed": false,
     "input": [
      "## quite bad --> line number looks ok, but other stuff is wrong...\n",
      "\n",
      "## out of curiousity -- what does basic errors look like\n",
      "\n",
      "f2 = (x) -> x(2)"
     ],
     "language": "python",
     "metadata": {},
     "outputs": [
      {
       "metadata": {},
       "output_type": "pyout",
       "prompt_number": 83,
       "text": [
        "(anonymous function)"
       ]
      }
     ],
     "prompt_number": 83
    },
    {
     "cell_type": "code",
     "collapsed": false,
     "input": [
      "f2(5)"
     ],
     "language": "python",
     "metadata": {},
     "outputs": [
      {
       "ename": "LoadError",
       "evalue": "type: anonymous: in apply, expected Function, got Int64\nwhile loading In[84], in expression starting on line 1",
       "output_type": "pyerr",
       "traceback": [
        "type: anonymous: in apply, expected Function, got Int64\nwhile loading In[84], in expression starting on line 1",
        "",
        " in anonymous at In[83]:5"
       ]
      }
     ],
     "prompt_number": 84
    },
    {
     "cell_type": "code",
     "collapsed": false,
     "input": [
      "f3 = (g) -> f2(g) "
     ],
     "language": "python",
     "metadata": {},
     "outputs": [
      {
       "metadata": {},
       "output_type": "pyout",
       "prompt_number": 85,
       "text": [
        "(anonymous function)"
       ]
      }
     ],
     "prompt_number": 85
    },
    {
     "cell_type": "code",
     "collapsed": false,
     "input": [
      "f3(2)"
     ],
     "language": "python",
     "metadata": {},
     "outputs": [
      {
       "ename": "LoadError",
       "evalue": "type: anonymous: in apply, expected Function, got Int64\nwhile loading In[86], in expression starting on line 1",
       "output_type": "pyerr",
       "traceback": [
        "type: anonymous: in apply, expected Function, got Int64\nwhile loading In[86], in expression starting on line 1",
        "",
        " in anonymous at In[83]:5",
        " in anonymous at In[85]:1"
       ]
      }
     ],
     "prompt_number": 86
    },
    {
     "cell_type": "code",
     "collapsed": false,
     "input": [
      "## much better\n",
      "## todo -- trry outside of notebook"
     ],
     "language": "python",
     "metadata": {},
     "outputs": []
    },
    {
     "cell_type": "code",
     "collapsed": false,
     "input": [
      "## on to hygiene:\n",
      "\n",
      "macro helper5(x)\n",
      "    quote \n",
      "        (a) -> $x\n",
      "    end\n",
      "end\n",
      "\n",
      "macro helper6(x)\n",
      "    quote \n",
      "        (a) -> $(esc(x))\n",
      "    end\n",
      "end\n",
      "    \n",
      "\n",
      "print(macroexpand(\n",
      "quote\n",
      "    s = 2\n",
      "    @helper5 begin\n",
      "        a + s\n",
      "    end\n",
      "end\n",
      "))\n",
      "\n",
      "macroexpand(\n",
      "quote\n",
      "    s = 2\n",
      "    @helper6 begin\n",
      "        a + s\n",
      "    end\n",
      "end\n",
      ")"
     ],
     "language": "python",
     "metadata": {},
     "outputs": [
      {
       "output_type": "stream",
       "stream": "stdout",
       "text": [
        "begin "
       ]
      },
      {
       "output_type": "stream",
       "stream": "stdout",
       "text": [
        " # In[88], line 18:\n",
        "    s = 2 # line 19:\n",
        "    begin  # In[88], line 5:\n",
        "        #212#a->begin  # In[88], line 5:\n",
        "                begin  # In[88], line 20:\n",
        "                    #212#a + s\n",
        "                end\n",
        "            end\n",
        "    end\n",
        "end"
       ]
      },
      {
       "metadata": {},
       "output_type": "pyout",
       "prompt_number": 88,
       "text": [
        "quote  # In[88], line 27:\n",
        "    s = 2 # line 28:\n",
        "    begin  # In[88], line 11:\n",
        "        #213#a->begin  # In[88], line 11:\n",
        "                begin  # In[88], line 29:\n",
        "                    a + s\n",
        "                end\n",
        "            end\n",
        "    end\n",
        "end"
       ]
      }
     ],
     "prompt_number": 88
    },
    {
     "cell_type": "code",
     "collapsed": false,
     "input": [
      "## study the output carefully -- but I think it is pretty clear how things work\n",
      "\n",
      "## first example is ok, the second is broken\n",
      "\n",
      "##first \n",
      "t = begin\n",
      "   s = 2\n",
      "    @helper5 begin\n",
      "        a + s\n",
      "    end\n",
      "end"
     ],
     "language": "python",
     "metadata": {},
     "outputs": [
      {
       "metadata": {},
       "output_type": "pyout",
       "prompt_number": 89,
       "text": [
        "(anonymous function)"
       ]
      }
     ],
     "prompt_number": 89
    },
    {
     "cell_type": "code",
     "collapsed": false,
     "input": [
      "t(7)"
     ],
     "language": "python",
     "metadata": {},
     "outputs": [
      {
       "metadata": {},
       "output_type": "pyout",
       "prompt_number": 90,
       "text": [
        "9"
       ]
      }
     ],
     "prompt_number": 90
    },
    {
     "cell_type": "code",
     "collapsed": false,
     "input": [
      "## second\n",
      "t = begin\n",
      "   s = 2\n",
      "    @helper6 begin\n",
      "        a + s\n",
      "    end\n",
      "end\n"
     ],
     "language": "python",
     "metadata": {},
     "outputs": [
      {
       "metadata": {},
       "output_type": "pyout",
       "prompt_number": 91,
       "text": [
        "(anonymous function)"
       ]
      }
     ],
     "prompt_number": 91
    },
    {
     "cell_type": "code",
     "collapsed": false,
     "input": [
      "t(2) ## should break"
     ],
     "language": "python",
     "metadata": {},
     "outputs": [
      {
       "ename": "LoadError",
       "evalue": "`+` has no method matching +(::Expr, ::Int64)\nwhile loading In[92], in expression starting on line 1",
       "output_type": "pyerr",
       "traceback": [
        "`+` has no method matching +(::Expr, ::Int64)\nwhile loading In[92], in expression starting on line 1",
        "",
        " in anonymous at In[88]:5"
       ]
      }
     ],
     "prompt_number": 92
    },
    {
     "cell_type": "code",
     "collapsed": false,
     "input": [
      "## actually was expecting lookup error...\n",
      "\n",
      "ex = macroexpand(\n",
      "quote\n",
      "    s = 2\n",
      "    @helper6 begin\n",
      "        a + s\n",
      "    end\n",
      "end\n",
      ")"
     ],
     "language": "python",
     "metadata": {},
     "outputs": [
      {
       "metadata": {},
       "output_type": "pyout",
       "prompt_number": 93,
       "text": [
        "quote  # In[93], line 5:\n",
        "    s = 2 # line 6:\n",
        "    begin  # In[88], line 11:\n",
        "        #216#a->begin  # In[88], line 11:\n",
        "                begin  # In[93], line 7:\n",
        "                    a + s\n",
        "                end\n",
        "            end\n",
        "    end\n",
        "end"
       ]
      }
     ],
     "prompt_number": 93
    },
    {
     "cell_type": "code",
     "collapsed": false,
     "input": [
      "dump(ex)"
     ],
     "language": "python",
     "metadata": {},
     "outputs": [
      {
       "output_type": "stream",
       "stream": "stdout",
       "text": [
        "Expr "
       ]
      },
      {
       "output_type": "stream",
       "stream": "stdout",
       "text": [
        "\n",
        "  head: Symbol block\n",
        "  args: Array(Any,(4,))\n",
        "    1: Expr \n",
        "      head: Symbol line\n",
        "      args: Array(Any,(2,))\n",
        "        1: Int64 5\n",
        "        2: Symbol In[93]\n",
        "      typ: Any\n",
        "    2: Expr \n",
        "      head: Symbol =\n",
        "      args: Array(Any,(2,))\n",
        "        1: Symbol s\n",
        "        2: Int64 2\n",
        "      typ: Any\n",
        "    3: LineNumberNode \n",
        "      line: Int64 6\n",
        "    4: Expr \n",
        "      head: Symbol block\n",
        "      args: Array(Any,(2,))\n",
        "        1: Expr \n",
        "          head: Symbol line\n",
        "          args: Array(Any,(2,))\n",
        "          typ: Any\n",
        "        2: Expr \n",
        "          head: Symbol ->\n",
        "          args: Array(Any,(2,))\n",
        "          typ: Any\n",
        "      typ: Any\n",
        "  typ: Any\n"
       ]
      }
     ],
     "prompt_number": 94
    },
    {
     "cell_type": "code",
     "collapsed": false,
     "input": [
      "dump(ex.args[4].args[2].args[2].args[2])"
     ],
     "language": "python",
     "metadata": {},
     "outputs": [
      {
       "output_type": "stream",
       "stream": "stdout",
       "text": [
        "Expr "
       ]
      },
      {
       "output_type": "stream",
       "stream": "stdout",
       "text": [
        "\n",
        "  head: Symbol block\n",
        "  args: Array(Any,(2,))\n",
        "    1: Expr \n",
        "      head: Symbol line\n",
        "      args: Array(Any,(2,))\n",
        "        1: Int64 7\n",
        "        2: Symbol In[93]\n",
        "      typ: Any\n",
        "    2: Expr \n",
        "      head: Symbol call\n",
        "      args: Array(Any,(3,))\n",
        "        1: Symbol +\n",
        "        2: Symbol a\n",
        "        3: Symbol s\n",
        "      typ: Any\n",
        "  typ: Any\n"
       ]
      }
     ],
     "prompt_number": 96
    },
    {
     "cell_type": "code",
     "collapsed": false,
     "input": [
      "## another things I don't understand... (recap -- why does the error complaing about Expr, it should be a lookup error)"
     ],
     "language": "python",
     "metadata": {},
     "outputs": []
    },
    {
     "cell_type": "code",
     "collapsed": false,
     "input": [
      "\n",
      "## what about escaped interpolation outside of macros...\n",
      "\n",
      "ex = quote\n",
      "    begin \n",
      "        a + s\n",
      "    end\n",
      "end\n",
      "\n",
      "quote\n",
      "    (a) -> $ex\n",
      "end\n"
     ],
     "language": "python",
     "metadata": {},
     "outputs": [
      {
       "metadata": {},
       "output_type": "pyout",
       "prompt_number": 97,
       "text": [
        "quote  # In[97], line 11:\n",
        "    a->begin  # In[97], line 11:\n",
        "            begin  # In[97], line 5:\n",
        "                begin  # In[97], line 6:\n",
        "                    a + s\n",
        "                end\n",
        "            end\n",
        "        end\n",
        "end"
       ]
      }
     ],
     "prompt_number": 97
    },
    {
     "cell_type": "code",
     "collapsed": false,
     "input": [
      "quote\n",
      "    (a) -> $(esc(ex))\n",
      "end"
     ],
     "language": "python",
     "metadata": {},
     "outputs": [
      {
       "metadata": {},
       "output_type": "pyout",
       "prompt_number": 98,
       "text": [
        "quote  # In[98], line 2:\n",
        "    a->begin  # In[98], line 2:\n",
        "            $(Expr(:escape, quote  # In[97], line 5:\n",
        "    begin  # In[97], line 6:\n",
        "        a + s\n",
        "    end\n",
        "end))\n",
        "        end\n",
        "end"
       ]
      }
     ],
     "prompt_number": 98
    },
    {
     "cell_type": "code",
     "collapsed": false,
     "input": [
      "macro helper7()\n",
      "    ex = quote\n",
      "        begin \n",
      "            a + s\n",
      "        end\n",
      "    end\n",
      "    quote\n",
      "        (a) -> $ex\n",
      "    end\n",
      "end\n",
      "\n",
      "macroexpand(:(@helper7()))"
     ],
     "language": "python",
     "metadata": {},
     "outputs": [
      {
       "metadata": {},
       "output_type": "pyout",
       "prompt_number": 99,
       "text": [
        "quote  # In[99], line 8:\n",
        "    #217#a->begin  # In[99], line 8:\n",
        "            begin  # In[99], line 3:\n",
        "                begin  # In[99], line 4:\n",
        "                    #217#a + s\n",
        "                end\n",
        "            end\n",
        "        end\n",
        "end"
       ]
      }
     ],
     "prompt_number": 99
    },
    {
     "cell_type": "code",
     "collapsed": false,
     "input": [
      "macro helper7()\n",
      "    ex = quote\n",
      "        begin \n",
      "            a + s\n",
      "        end\n",
      "    end\n",
      "    quote\n",
      "        (a) -> $(esc(ex))\n",
      "    end\n",
      "end\n",
      "\n",
      "macroexpand(:(@helper7()))"
     ],
     "language": "python",
     "metadata": {},
     "outputs": [
      {
       "metadata": {},
       "output_type": "pyout",
       "prompt_number": 101,
       "text": [
        "quote  # In[101], line 8:\n",
        "    #218#a->begin  # In[101], line 8:\n",
        "            begin  # In[101], line 3:\n",
        "                begin  # In[101], line 4:\n",
        "                    a + s\n",
        "                end\n",
        "            end\n",
        "        end\n",
        "end"
       ]
      }
     ],
     "prompt_number": 101
    },
    {
     "cell_type": "code",
     "collapsed": false,
     "input": [
      "## hmm -- I think i get it...."
     ],
     "language": "python",
     "metadata": {},
     "outputs": []
    },
    {
     "cell_type": "code",
     "collapsed": false,
     "input": [
      "##  more invesitgation in what gets gensym'd\n",
      "\n",
      "macro helper8()\n",
      "    quote\n",
      "        x = 3\n",
      "        y = 4\n",
      "        (a) -> (a+2)\n",
      "        (a) -> (a+notgensymd)\n",
      "    end\n",
      "end\n",
      "\n",
      "macroexpand(:(@helper8()))"
     ],
     "language": "python",
     "metadata": {},
     "outputs": [
      {
       "metadata": {},
       "output_type": "pyout",
       "prompt_number": 102,
       "text": [
        "quote  # In[102], line 5:\n",
        "    #219#x = 3 # line 6:\n",
        "    #220#y = 4 # line 7:\n",
        "    #221#a->begin  # In[102], line 7:\n",
        "            #221#a + 2\n",
        "        end # line 8:\n",
        "    #222#a->begin  # In[102], line 8:\n",
        "            #222#a + notgensymd\n",
        "        end\n",
        "end"
       ]
      }
     ],
     "prompt_number": 102
    },
    {
     "cell_type": "code",
     "collapsed": false,
     "input": [
      "## so julia does some analysis to see which variables are not bound and gensysm's any local variables, but excludes any \n",
      "## quoted expressions or free vars "
     ],
     "language": "python",
     "metadata": {},
     "outputs": []
    }
   ],
   "metadata": {}
  }
 ]
}