{
 "metadata": {
  "language": "Julia",
  "name": "",
  "signature": "sha256:7bc8295601fd641f97ec5283703c8730d80f031bdda7fb558a7362211be6eac0"
 },
 "nbformat": 3,
 "nbformat_minor": 0,
 "worksheets": [
  {
   "cells": [
    {
     "cell_type": "code",
     "collapsed": false,
     "input": [
      "## Parsing issues\n",
      "## Hygiene\n",
      "## Collect Line numbers -- \"preserve provenance\", debugging tools\n",
      "##  -- explore what happens if errors occur with an macro?\n",
      "## When do inner macros get expanded?\n",
      "## is \"implicit do\" a reality? from Reactive, or what that a typo \n",
      "## Pure fragements ---> @st \n",
      "\n"
     ],
     "language": "python",
     "metadata": {},
     "outputs": []
    },
    {
     "cell_type": "code",
     "collapsed": false,
     "input": [
      "## First let's just understand how julia parses tuples\n",
      "\n",
      "x = 3\n",
      "@show (x)    ## normal meaning of parens\n",
      "@show (x, )  ## tuple\n",
      "@show x,     ## tuple"
     ],
     "language": "python",
     "metadata": {},
     "outputs": [
      {
       "output_type": "stream",
       "stream": "stdout",
       "text": [
        "x => 3"
       ]
      },
      {
       "output_type": "stream",
       "stream": "stdout",
       "text": [
        "\n",
        "(x,) => "
       ]
      },
      {
       "output_type": "stream",
       "stream": "stdout",
       "text": [
        "(3,)\n",
        "(x,) => (3,)\n"
       ]
      },
      {
       "metadata": {},
       "output_type": "pyout",
       "prompt_number": 1,
       "text": [
        "(3,)"
       ]
      }
     ],
     "prompt_number": 1
    },
    {
     "cell_type": "code",
     "collapsed": false,
     "input": [
      "## so for instance,\n",
      "## all of the following are ok\n",
      "\n",
      "f() = (1,2)\n",
      "g() = 1,2\n",
      "(x,y) = f()\n",
      "(x,y) = g()\n",
      "x,y = f()\n",
      "x,y = g()\n",
      "x,y, = f()\n",
      "x,y, = g()\n"
     ],
     "language": "python",
     "metadata": {},
     "outputs": [
      {
       "metadata": {},
       "output_type": "pyout",
       "prompt_number": 3,
       "text": [
        "(1,2)"
       ]
      }
     ],
     "prompt_number": 3
    },
    {
     "cell_type": "code",
     "collapsed": false,
     "input": [
      "h() = 1\n",
      "h2() = 1,\n",
      "@show h()\n",
      "@show h2()"
     ],
     "language": "python",
     "metadata": {},
     "outputs": [
      {
       "output_type": "stream",
       "stream": "stdout",
       "text": [
        "h() => 1"
       ]
      },
      {
       "output_type": "stream",
       "stream": "stdout",
       "text": [
        "\n",
        "h2() => (1,1)\n"
       ]
      },
      {
       "metadata": {},
       "output_type": "pyout",
       "prompt_number": 5,
       "text": [
        "(1,1)"
       ]
      }
     ],
     "prompt_number": 5
    },
    {
     "cell_type": "code",
     "collapsed": false,
     "input": [
      "## whoops"
     ],
     "language": "python",
     "metadata": {},
     "outputs": []
    }
   ],
   "metadata": {}
  }
 ]
}