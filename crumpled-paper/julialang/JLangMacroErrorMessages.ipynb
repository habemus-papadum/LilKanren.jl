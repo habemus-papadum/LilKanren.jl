{
 "metadata": {
  "language": "Julia",
  "name": "",
  "signature": "sha256:76c1382db536f9c7bdaf6c95a4a729a80a6c7b81d11050ccb8c26eccefa1aa94"
 },
 "nbformat": 3,
 "nbformat_minor": 0,
 "worksheets": [
  {
   "cells": [
    {
     "cell_type": "code",
     "collapsed": false,
     "input": [
      "##  A recap of some of the error messages one might encounter when try to use macros in Julia (v0.3.4)"
     ],
     "language": "python",
     "metadata": {},
     "outputs": []
    },
    {
     "cell_type": "code",
     "collapsed": false,
     "input": [
      "##  Mode #1: An error occurs while computing the macro\n",
      "\n",
      "macro helper(x)\n",
      "    quote    ## <-- this is line 4 \n",
      "        @helper2($x)\n",
      "    end\n",
      "end\n",
      "\n",
      "\n",
      "macro helper2(x)\n",
      "    y = i_am_an_error  ## <--- look here\n",
      "    quote \n",
      "        $x\n",
      "    end\n",
      "end\n",
      "\n",
      "\n"
     ],
     "language": "python",
     "metadata": {},
     "outputs": [],
     "prompt_number": 2
    },
    {
     "cell_type": "code",
     "collapsed": false,
     "input": [
      "@helper 1"
     ],
     "language": "python",
     "metadata": {},
     "outputs": [
      {
       "ename": "LoadError",
       "evalue": "i_am_an_error not defined\nwhile loading In[3], in expression starting on line 1",
       "output_type": "pyerr",
       "traceback": [
        "i_am_an_error not defined\nwhile loading In[3], in expression starting on line 1",
        ""
       ]
      }
     ],
     "prompt_number": 3
    },
    {
     "cell_type": "code",
     "collapsed": false,
     "input": [
      "function foo(x)\n",
      "    @helper x\n",
      "end\n",
      "\n",
      "println(\"hi\")\n",
      "\n",
      "foo(1)"
     ],
     "language": "python",
     "metadata": {},
     "outputs": [
      {
       "ename": "LoadError",
       "evalue": "i_am_an_error not defined\nwhile loading In[5], in expression starting on line 4",
       "output_type": "pyerr",
       "traceback": [
        "i_am_an_error not defined\nwhile loading In[5], in expression starting on line 4",
        ""
       ]
      }
     ],
     "prompt_number": 5
    },
    {
     "cell_type": "code",
     "collapsed": false,
     "input": [
      "## Summary of mode 1\n",
      "##  The error text correctly describes the error\n",
      "## However the location information is not helpful\n",
      "##  In fact the location is completely misleading\n",
      "## Basically the only way to resolve this sort of error is to \n",
      "## 1) magically find the cause the error in In[5] \n",
      "##    i.e. somoehow figure out that foo(1) is the problem\n",
      "## 2) read all the code realted to foo to figure out where the problem lies\n",
      "\n",
      "## Before moving on, we can test a hypothesis for how the line number is being created\n",
      "\n",
      "## redef helpers\n",
      "\n",
      "##  Mode #1: An error occurs while computing the macro\n",
      "\n",
      "macro helper(x)\n",
      "    quote    ## <-- this is line 17 \n",
      "        @helper2($x)\n",
      "    end\n",
      "end\n",
      "\n",
      "\n",
      "macro helper2(x)\n",
      "    y = i_am_an_error  ## <--- look here\n",
      "    quote \n",
      "        $x\n",
      "    end\n",
      "end\n"
     ],
     "language": "python",
     "metadata": {},
     "outputs": [],
     "prompt_number": 6
    },
    {
     "cell_type": "code",
     "collapsed": false,
     "input": [
      "function foo(x)\n",
      "    @helper x\n",
      "end\n",
      "\n",
      "println(\"hi\")\n",
      "\n",
      "foo(1)"
     ],
     "language": "python",
     "metadata": {},
     "outputs": [
      {
       "ename": "LoadError",
       "evalue": "i_am_an_error not defined\nwhile loading In[7], in expression starting on line 4",
       "output_type": "pyerr",
       "traceback": [
        "i_am_an_error not defined\nwhile loading In[7], in expression starting on line 4",
        ""
       ]
      }
     ],
     "prompt_number": 7
    },
    {
     "cell_type": "code",
     "collapsed": false,
     "input": [
      "## I have no idea where the line number 4 is coming from.....\n",
      "\n",
      "## well -- let's try one more thing\n",
      "\n",
      "macro helper(x)\n",
      "    quote    \n",
      "        1==1  ## inset spaces\n",
      "        2==2\n",
      "        @helper2($x)\n",
      "    end\n",
      "end\n",
      "\n",
      "\n",
      "macro helper2(x)\n",
      "    y = i_am_an_error  ## <--- look here\n",
      "    quote \n",
      "        $x\n",
      "    end\n",
      "end"
     ],
     "language": "python",
     "metadata": {},
     "outputs": [],
     "prompt_number": 8
    },
    {
     "cell_type": "code",
     "collapsed": false,
     "input": [
      "function foo(x)\n",
      "    @helper x\n",
      "end\n",
      "\n",
      "println(\"hi\")\n",
      "\n",
      "foo(1)"
     ],
     "language": "python",
     "metadata": {},
     "outputs": [
      {
       "ename": "LoadError",
       "evalue": "i_am_an_error not defined\nwhile loading In[9], in expression starting on line 4",
       "output_type": "pyerr",
       "traceback": [
        "i_am_an_error not defined\nwhile loading In[9], in expression starting on line 4",
        ""
       ]
      }
     ],
     "prompt_number": 9
    },
    {
     "cell_type": "code",
     "collapsed": false,
     "input": [
      "## Nope I really don;t get where the line error is coming from"
     ],
     "language": "python",
     "metadata": {},
     "outputs": []
    },
    {
     "cell_type": "code",
     "collapsed": false,
     "input": [],
     "language": "python",
     "metadata": {},
     "outputs": []
    },
    {
     "cell_type": "code",
     "collapsed": false,
     "input": [
      "## Moving on to Mode #2\n",
      "## Mode #2, A macro produces a gibberish expression because the input to the macro is gibberish\n",
      "\n",
      "macro helper(x)\n",
      "    quote    \n",
      "        $x   #<-- line 6\n",
      "    end\n",
      "end\n"
     ],
     "language": "python",
     "metadata": {},
     "outputs": [],
     "prompt_number": 10
    },
    {
     "cell_type": "code",
     "collapsed": false,
     "input": [
      "@helper \"dsfsdf\"(2)"
     ],
     "language": "python",
     "metadata": {},
     "outputs": [
      {
       "ename": "LoadError",
       "evalue": "type: apply: expected Function, got ASCIIString\nwhile loading In[11], in expression starting on line 6",
       "output_type": "pyerr",
       "traceback": [
        "type: apply: expected Function, got ASCIIString\nwhile loading In[11], in expression starting on line 6",
        ""
       ]
      }
     ],
     "prompt_number": 11
    },
    {
     "cell_type": "code",
     "collapsed": false,
     "input": [
      "function foo(x)\n",
      "    @helper \"dsfsdf\"(2)\n",
      "end\n",
      "\n"
     ],
     "language": "python",
     "metadata": {},
     "outputs": [
      {
       "metadata": {},
       "output_type": "pyout",
       "prompt_number": 13,
       "text": [
        "foo (generic function with 1 method)"
       ]
      }
     ],
     "prompt_number": 13
    },
    {
     "cell_type": "code",
     "collapsed": false,
     "input": [
      "foo(2)"
     ],
     "language": "python",
     "metadata": {},
     "outputs": [
      {
       "ename": "LoadError",
       "evalue": "type: foo: in apply, expected Function, got ASCIIString\nwhile loading In[14], in expression starting on line 1",
       "output_type": "pyerr",
       "traceback": [
        "type: foo: in apply, expected Function, got ASCIIString\nwhile loading In[14], in expression starting on line 1",
        "",
        " in foo at In[13]:6"
       ]
      }
     ],
     "prompt_number": 14
    },
    {
     "cell_type": "code",
     "collapsed": false,
     "input": [
      "## Summary -- line number off, error message ok-ish"
     ],
     "language": "python",
     "metadata": {},
     "outputs": []
    },
    {
     "cell_type": "code",
     "collapsed": false,
     "input": [
      "## Mode 3 -- macro produces gibbereish expression due to internal mistake\n",
      "\n",
      "macro helper(x)\n",
      "    quote    \n",
      "        $x   \n",
      "        \"dsfsdf\"(2)  #<-- line 6\n",
      "    end\n",
      "end\n",
      "\n"
     ],
     "language": "python",
     "metadata": {},
     "outputs": [],
     "prompt_number": 15
    },
    {
     "cell_type": "code",
     "collapsed": false,
     "input": [
      "@helper(2)"
     ],
     "language": "python",
     "metadata": {},
     "outputs": [
      {
       "ename": "LoadError",
       "evalue": "type: apply: expected Function, got ASCIIString\nwhile loading In[16], in expression starting on line 6",
       "output_type": "pyerr",
       "traceback": [
        "type: apply: expected Function, got ASCIIString\nwhile loading In[16], in expression starting on line 6",
        ""
       ]
      }
     ],
     "prompt_number": 16
    },
    {
     "cell_type": "code",
     "collapsed": false,
     "input": [
      "function foo(x)\n",
      "    @helper(2)\n",
      "end"
     ],
     "language": "python",
     "metadata": {},
     "outputs": [
      {
       "metadata": {},
       "output_type": "pyout",
       "prompt_number": 17,
       "text": [
        "foo (generic function with 1 method)"
       ]
      }
     ],
     "prompt_number": 17
    },
    {
     "cell_type": "code",
     "collapsed": false,
     "input": [
      "foo(2)"
     ],
     "language": "python",
     "metadata": {},
     "outputs": [
      {
       "ename": "LoadError",
       "evalue": "type: foo: in apply, expected Function, got ASCIIString\nwhile loading In[18], in expression starting on line 1",
       "output_type": "pyerr",
       "traceback": [
        "type: foo: in apply, expected Function, got ASCIIString\nwhile loading In[18], in expression starting on line 1",
        "",
        " in foo at In[17]:6"
       ]
      }
     ],
     "prompt_number": 18
    },
    {
     "cell_type": "code",
     "collapsed": false,
     "input": [
      "## file location is correct, but line number is taken from macro"
     ],
     "language": "python",
     "metadata": {},
     "outputs": []
    },
    {
     "cell_type": "code",
     "collapsed": false,
     "input": [
      "## Mode 4 -- Macro creates a valid expression, but contains a runtime error\n",
      "## two sub cases -- runtime error comes from macro input, and rte comes from macro logic\n",
      "\n",
      "## case 4a\n",
      "\n",
      "macro helper(x)\n",
      "    quote    \n",
      "        (a) -> $x    \n",
      "    end\n",
      "end"
     ],
     "language": "python",
     "metadata": {},
     "outputs": [],
     "prompt_number": 19
    },
    {
     "cell_type": "code",
     "collapsed": false,
     "input": [
      "## error free\n",
      "g = @helper begin \"hello\" end\n",
      "g(1)"
     ],
     "language": "python",
     "metadata": {},
     "outputs": [
      {
       "metadata": {},
       "output_type": "pyout",
       "prompt_number": 21,
       "text": [
        "\"hello\""
       ]
      }
     ],
     "prompt_number": 21
    },
    {
     "cell_type": "code",
     "collapsed": false,
     "input": [
      "## rte error in input\n",
      "g = @helper begin  \n",
      "   i_am_an_error\n",
      "end\n",
      "\n",
      "g(1)"
     ],
     "language": "python",
     "metadata": {},
     "outputs": [
      {
       "ename": "LoadError",
       "evalue": "i_am_an_error not defined\nwhile loading In[22], in expression starting on line 6",
       "output_type": "pyerr",
       "traceback": [
        "i_am_an_error not defined\nwhile loading In[22], in expression starting on line 6",
        "",
        " in anonymous at In[19]:3"
       ]
      }
     ],
     "prompt_number": 22
    },
    {
     "cell_type": "code",
     "collapsed": false,
     "input": [
      "## line number off and confusing\n",
      "\n"
     ],
     "language": "python",
     "metadata": {},
     "outputs": []
    },
    {
     "cell_type": "code",
     "collapsed": false,
     "input": [
      "## Case 4b\n",
      "\n",
      "macro helper(x)\n",
      "    quote    \n",
      "        (a) -> begin t = i_am_an_error; $x end   \n",
      "    end\n",
      "end"
     ],
     "language": "python",
     "metadata": {},
     "outputs": [],
     "prompt_number": 25
    },
    {
     "cell_type": "code",
     "collapsed": false,
     "input": [
      "g = @helper begin \"hello\" end\n",
      "g(1)"
     ],
     "language": "python",
     "metadata": {},
     "outputs": [
      {
       "ename": "LoadError",
       "evalue": "i_am_an_error not defined\nwhile loading In[26], in expression starting on line 2",
       "output_type": "pyerr",
       "traceback": [
        "i_am_an_error not defined\nwhile loading In[26], in expression starting on line 2",
        "",
        " in anonymous at In[25]:5"
       ]
      }
     ],
     "prompt_number": 26
    },
    {
     "cell_type": "code",
     "collapsed": false,
     "input": [
      "## error message actaully seems usuable....!!!"
     ],
     "language": "python",
     "metadata": {},
     "outputs": []
    },
    {
     "cell_type": "code",
     "collapsed": true,
     "input": [
      "#Mode 5 -- parse errors\n",
      "\n",
      "macro helper(x)\n",
      "    quote    \n",
      "        (a) -> begin $x    \n",
      "    end\n",
      "end\n"
     ],
     "language": "python",
     "metadata": {},
     "outputs": [
      {
       "ename": "LoadError",
       "evalue": "syntax: incomplete: \"macro\" at In[27]:3 requires end\nwhile loading In[27], in expression starting on line 3",
       "output_type": "pyerr",
       "traceback": [
        "syntax: incomplete: \"macro\" at In[27]:3 requires end\nwhile loading In[27], in expression starting on line 3",
        ""
       ]
      }
     ],
     "prompt_number": 27
    },
    {
     "cell_type": "code",
     "collapsed": false,
     "input": [
      "## macro does not compile -- similar simple problems when parse error on input"
     ],
     "language": "python",
     "metadata": {},
     "outputs": []
    },
    {
     "cell_type": "code",
     "collapsed": false,
     "input": [
      "#Mode 6 -- todo describe in English\n",
      "\n",
      "macro helper(x)\n",
      "    quote    \n",
      "        bar = i_am_an_error\n",
      "        (a) -> $x    \n",
      "    end\n",
      "end"
     ],
     "language": "python",
     "metadata": {},
     "outputs": [],
     "prompt_number": 29
    },
    {
     "cell_type": "code",
     "collapsed": false,
     "input": [
      "foo = @helper begin 2 end"
     ],
     "language": "python",
     "metadata": {},
     "outputs": [
      {
       "ename": "LoadError",
       "evalue": "i_am_an_error not defined\nwhile loading In[31], in expression starting on line 5",
       "output_type": "pyerr",
       "traceback": [
        "i_am_an_error not defined\nwhile loading In[31], in expression starting on line 5",
        ""
       ]
      }
     ],
     "prompt_number": 31
    },
    {
     "cell_type": "code",
     "collapsed": false,
     "input": [
      "## A sad state of affairs...."
     ],
     "language": "python",
     "metadata": {},
     "outputs": []
    }
   ],
   "metadata": {}
  }
 ]
}