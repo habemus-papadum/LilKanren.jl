{
 "metadata": {
  "language": "Julia",
  "name": "",
  "signature": "sha256:559e1afb0e045e9aedf8f4aaeb8d2b4f02b328fd6d8926df49f695158867d5cf"
 },
 "nbformat": 3,
 "nbformat_minor": 0,
 "worksheets": [
  {
   "cells": [
    {
     "cell_type": "code",
     "collapsed": false,
     "input": [
      "## Basically, this seems to cover it pretty well:\n",
      "## http://nbviewer.ipython.org/gist/StefanKarpinski/b8fe9dbb36c1427b9f22"
     ],
     "language": "python",
     "metadata": {},
     "outputs": []
    }
   ],
   "metadata": {}
  }
 ]
}