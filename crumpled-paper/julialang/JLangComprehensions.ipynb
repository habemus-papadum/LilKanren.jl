{
 "metadata": {
  "language": "Julia",
  "name": "",
  "signature": "sha256:d8cf86f9e1a4603d5c9b21b1e776c58e0ee901dcb10b1702c1390ed07cb872bb"
 },
 "nbformat": 3,
 "nbformat_minor": 0,
 "worksheets": [
  {
   "cells": [
    {
     "cell_type": "code",
     "collapsed": false,
     "input": [
      "## first\n",
      "[(x,y) for x=1:5,y=1:5]"
     ],
     "language": "python",
     "metadata": {},
     "outputs": [
      {
       "metadata": {},
       "output_type": "pyout",
       "prompt_number": 1,
       "text": [
        "5x5 Array{(Int64,Int64),2}:\n",
        " (1,1)  (1,2)  (1,3)  (1,4)  (1,5)\n",
        " (2,1)  (2,2)  (2,3)  (2,4)  (2,5)\n",
        " (3,1)  (3,2)  (3,3)  (3,4)  (3,5)\n",
        " (4,1)  (4,2)  (4,3)  (4,4)  (4,5)\n",
        " (5,1)  (5,2)  (5,3)  (5,4)  (5,5)"
       ]
      }
     ],
     "prompt_number": 1
    },
    {
     "cell_type": "code",
     "collapsed": false,
     "input": [
      "## next \n",
      "[(x,y) for x=1:5,y=1:x]"
     ],
     "language": "python",
     "metadata": {},
     "outputs": [
      {
       "ename": "LoadError",
       "evalue": "x not defined\nwhile loading In[2], in expression starting on line 2",
       "output_type": "pyerr",
       "traceback": [
        "x not defined\nwhile loading In[2], in expression starting on line 2",
        "",
        " in anonymous at no file"
       ]
      }
     ],
     "prompt_number": 2
    },
    {
     "cell_type": "code",
     "collapsed": false,
     "input": [
      "## oh how sad....\n",
      "## we can look at how a macro/lang change work around this in the future\n",
      "\n",
      "## ideally we could do\n",
      "[(x,y,z) for x=1:5,y=1:x,where x^2 + y < 6, z=x:y, where z+y+x % 2 == 0]\n",
      "## but then shape would not be square...\n",
      "\n",
      "##also \n",
      "\n",
      "#reduce\n",
      "@reduce + x+y+z for x=1:5,y=1:x,where x^2 + y < 6, z=x:y, where z+y+x % 2 == 0\n",
      "    \n",
      "##also \n",
      "\n",
      "@reduce + x+y+z for x=1:5,y=1:x,\n",
      "                where x^2 + y < 6, \n",
      "                z=[i+j for i=1:2x,where x%3=1, j=x:y], \n",
      "                where z+y+x % 2 == 0\n",
      "        \n"
     ],
     "language": "python",
     "metadata": {},
     "outputs": []
    },
    {
     "cell_type": "code",
     "collapsed": false,
     "input": [
      "## Other possibilities\n",
      "## automatically make avaliable dx's, dy's etc --< does not really work well with where\n",
      "\n",
      "## Todo: figure out generalization to support other types of monads\n",
      "## Figure out other notations of volumes (using boundaries, etc)\n",
      "\n",
      "## Related\n",
      "## Optimizing Matrix mults (DP approach to long matrix products)\n",
      "\n",
      "## devectoring expressions\n"
     ],
     "language": "python",
     "metadata": {},
     "outputs": []
    }
   ],
   "metadata": {}
  }
 ]
}