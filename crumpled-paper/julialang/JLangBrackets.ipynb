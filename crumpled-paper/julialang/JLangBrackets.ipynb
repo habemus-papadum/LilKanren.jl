{
 "metadata": {
  "language": "Julia",
  "name": "",
  "signature": "sha256:fa9a279a328bc62a51477433c5a6b5d306407512c92d28de7e717d7aadd853a6"
 },
 "nbformat": 3,
 "nbformat_minor": 0,
 "worksheets": [
  {
   "cells": [
    {
     "cell_type": "code",
     "collapsed": false,
     "input": [
      "## Julia's parser has special support for parsing [] and {}, \n",
      "## perhaps we can use that craft syntax..."
     ],
     "language": "python",
     "metadata": {},
     "outputs": []
    },
    {
     "cell_type": "code",
     "collapsed": false,
     "input": [
      "dump(:([1,2,3]))"
     ],
     "language": "python",
     "metadata": {},
     "outputs": [
      {
       "output_type": "stream",
       "stream": "stdout",
       "text": [
        "Expr "
       ]
      },
      {
       "output_type": "stream",
       "stream": "stdout",
       "text": [
        "\n",
        "  head: Symbol vcat\n",
        "  args: Array(Any,(3,))\n",
        "    1: Int64 1\n",
        "    2: Int64 2\n",
        "    3: Int64 3\n",
        "  typ: Any\n"
       ]
      }
     ],
     "prompt_number": 1
    },
    {
     "cell_type": "code",
     "collapsed": false,
     "input": [
      "dump(:([1 2 3]))"
     ],
     "language": "python",
     "metadata": {},
     "outputs": [
      {
       "output_type": "stream",
       "stream": "stdout",
       "text": [
        "Expr "
       ]
      },
      {
       "output_type": "stream",
       "stream": "stdout",
       "text": [
        "\n",
        "  head: Symbol hcat\n",
        "  args: Array(Any,(3,))\n",
        "    1: Int64 1\n",
        "    2: Int64 2\n",
        "    3: Int64 3\n",
        "  typ: Any\n"
       ]
      }
     ],
     "prompt_number": 4
    },
    {
     "cell_type": "code",
     "collapsed": false,
     "input": [
      "dump(:([1 2 3; 4 5 6]))"
     ],
     "language": "python",
     "metadata": {},
     "outputs": [
      {
       "output_type": "stream",
       "stream": "stdout",
       "text": [
        "Expr "
       ]
      },
      {
       "output_type": "stream",
       "stream": "stdout",
       "text": [
        "\n",
        "  head: Symbol vcat\n",
        "  args: Array(Any,(2,))\n",
        "    1: Expr \n",
        "      head: Symbol row\n",
        "      args: Array(Any,(3,))\n",
        "        1: Int64 1\n",
        "        2: Int64 2\n",
        "        3: Int64 3\n",
        "      typ: Any\n",
        "    2: Expr \n",
        "      head: Symbol row\n",
        "      args: Array(Any,(3,))\n",
        "        1: Int64 4\n",
        "        2: Int64 5\n",
        "        3: Int64 6\n",
        "      typ: Any\n",
        "  typ: Any\n"
       ]
      }
     ],
     "prompt_number": 9
    },
    {
     "cell_type": "code",
     "collapsed": false,
     "input": [
      "[1 2 3]"
     ],
     "language": "python",
     "metadata": {},
     "outputs": [
      {
       "metadata": {},
       "output_type": "pyout",
       "prompt_number": 6,
       "text": [
        "1x3 Array{Int64,2}:\n",
        " 1  2  3"
       ]
      }
     ],
     "prompt_number": 6
    },
    {
     "cell_type": "code",
     "collapsed": false,
     "input": [
      "[1, 2, 3]"
     ],
     "language": "python",
     "metadata": {},
     "outputs": [
      {
       "metadata": {},
       "output_type": "pyout",
       "prompt_number": 7,
       "text": [
        "3-element Array{Int64,1}:\n",
        " 1\n",
        " 2\n",
        " 3"
       ]
      }
     ],
     "prompt_number": 7
    },
    {
     "cell_type": "code",
     "collapsed": false,
     "input": [
      "[1 2 3; 4 5 6]"
     ],
     "language": "python",
     "metadata": {},
     "outputs": [
      {
       "metadata": {},
       "output_type": "pyout",
       "prompt_number": 10,
       "text": [
        "2x3 Array{Int64,2}:\n",
        " 1  2  3\n",
        " 4  5  6"
       ]
      }
     ],
     "prompt_number": 10
    },
    {
     "cell_type": "code",
     "collapsed": false,
     "input": [
      "dump(:(a[1,2,3]))"
     ],
     "language": "python",
     "metadata": {},
     "outputs": [
      {
       "output_type": "stream",
       "stream": "stdout",
       "text": [
        "Expr "
       ]
      },
      {
       "output_type": "stream",
       "stream": "stdout",
       "text": [
        "\n",
        "  head: Symbol ref\n",
        "  args: Array(Any,(4,))\n",
        "    1: Symbol a\n",
        "    2: Int64 1\n",
        "    3: Int64 2\n",
        "    4: Int64 3\n",
        "  typ: Any\n"
       ]
      }
     ],
     "prompt_number": 11
    },
    {
     "cell_type": "code",
     "collapsed": false,
     "input": [
      "dump(:(a[1 2 3]))"
     ],
     "language": "python",
     "metadata": {},
     "outputs": [
      {
       "output_type": "stream",
       "stream": "stdout",
       "text": [
        "Expr "
       ]
      },
      {
       "output_type": "stream",
       "stream": "stdout",
       "text": [
        "\n",
        "  head: Symbol typed_hcat\n",
        "  args: Array(Any,(4,))\n",
        "    1: Symbol a\n",
        "    2: Int64 1\n",
        "    3: Int64 2\n",
        "    4: Int64 3\n",
        "  typ: Any\n"
       ]
      }
     ],
     "prompt_number": 12
    },
    {
     "cell_type": "code",
     "collapsed": false,
     "input": [
      "dump(:(a[1 2 3; 4 5 6]))"
     ],
     "language": "python",
     "metadata": {},
     "outputs": [
      {
       "output_type": "stream",
       "stream": "stdout",
       "text": [
        "Expr "
       ]
      },
      {
       "output_type": "stream",
       "stream": "stdout",
       "text": [
        "\n",
        "  head: Symbol typed_vcat\n",
        "  args: Array(Any,(3,))\n",
        "    1: Symbol a\n",
        "    2: Expr \n",
        "      head: Symbol row\n",
        "      args: Array(Any,(3,))\n",
        "        1: Int64 1\n",
        "        2: Int64 2\n",
        "        3: Int64 3\n",
        "      typ: Any\n",
        "    3: Expr \n",
        "      head: Symbol row\n",
        "      args: Array(Any,(3,))\n",
        "        1: Int64 4\n",
        "        2: Int64 5\n",
        "        3: Int64 6\n",
        "      typ: Any\n",
        "  typ: Any\n"
       ]
      }
     ],
     "prompt_number": 13
    },
    {
     "cell_type": "code",
     "collapsed": false,
     "input": [
      "dump(:(foo(1,2,3)))"
     ],
     "language": "python",
     "metadata": {},
     "outputs": [
      {
       "output_type": "stream",
       "stream": "stdout",
       "text": [
        "Expr "
       ]
      },
      {
       "output_type": "stream",
       "stream": "stdout",
       "text": [
        "\n",
        "  head: Symbol call\n",
        "  args: Array(Any,(4,))\n",
        "    1: Symbol foo\n",
        "    2: Int64 1\n",
        "    3: Int64 2\n",
        "    4: Int64 3\n",
        "  typ: Any\n"
       ]
      }
     ],
     "prompt_number": 14
    },
    {
     "cell_type": "code",
     "collapsed": false,
     "input": [
      "## --> so, [] do not parse into simple calls, nead to better understand how to implement custom versions"
     ],
     "language": "python",
     "metadata": {},
     "outputs": []
    },
    {
     "cell_type": "code",
     "collapsed": false,
     "input": [
      "dump(:(a[1 2 3] = 2))"
     ],
     "language": "python",
     "metadata": {},
     "outputs": [
      {
       "output_type": "stream",
       "stream": "stdout",
       "text": [
        "Expr "
       ]
      },
      {
       "output_type": "stream",
       "stream": "stdout",
       "text": [
        "\n",
        "  head: Symbol =\n",
        "  args: Array(Any,(2,))\n",
        "    1: Expr \n",
        "      head: Symbol typed_hcat\n",
        "      args: Array(Any,(4,))\n",
        "        1: Symbol a\n",
        "        2: Int64 1\n",
        "        3: Int64 2\n",
        "        4: Int64 3\n",
        "      typ: Any\n",
        "    2: Int64 2\n",
        "  typ: Any\n"
       ]
      }
     ],
     "prompt_number": 15
    },
    {
     "cell_type": "code",
     "collapsed": false,
     "input": [
      "dump(:(a[1, 2, 3] = 2))"
     ],
     "language": "python",
     "metadata": {},
     "outputs": [
      {
       "output_type": "stream",
       "stream": "stdout",
       "text": [
        "Expr "
       ]
      },
      {
       "output_type": "stream",
       "stream": "stdout",
       "text": [
        "\n",
        "  head: Symbol =\n",
        "  args: Array(Any,(2,))\n",
        "    1: Expr \n",
        "      head: Symbol ref\n",
        "      args: Array(Any,(4,))\n",
        "        1: Symbol a\n",
        "        2: Int64 1\n",
        "        3: Int64 2\n",
        "        4: Int64 3\n",
        "      typ: Any\n",
        "    2: Int64 2\n",
        "  typ: Any\n"
       ]
      }
     ],
     "prompt_number": 16
    },
    {
     "cell_type": "code",
     "collapsed": false,
     "input": [
      "dump(:(a[1 2 3; 4 5 6] = 2))"
     ],
     "language": "python",
     "metadata": {},
     "outputs": [
      {
       "output_type": "stream",
       "stream": "stdout",
       "text": [
        "Expr "
       ]
      },
      {
       "output_type": "stream",
       "stream": "stdout",
       "text": [
        "\n",
        "  head: Symbol =\n",
        "  args: Array(Any,(2,))\n",
        "    1: Expr \n",
        "      head: Symbol typed_vcat\n",
        "      args: Array(Any,(3,))\n",
        "        1: Symbol a\n",
        "        2: Expr \n",
        "          head: Symbol row\n",
        "          args: Array(Any,(3,))\n",
        "          typ: Any\n",
        "        3: Expr \n",
        "          head: Symbol row\n",
        "          args: Array(Any,(3,))\n",
        "          typ: Any\n",
        "      typ: Any\n",
        "    2: Int64 2\n",
        "  typ: Any\n"
       ]
      }
     ],
     "prompt_number": 17
    },
    {
     "cell_type": "code",
     "collapsed": false,
     "input": [
      "methods(hcat)"
     ],
     "language": "python",
     "metadata": {},
     "outputs": [
      {
       "html": [
        "13 methods for generic function <b>hcat</b>:<ul><li> hcat() at <a href=\"https://github.com/JuliaLang/julia/tree/c03f413bbdb46c00033f4eaad402995cfe3b7be5/base/abstractarray.jl#L512\" target=\"_blank\">abstractarray.jl:512</a><li> hcat(B::<b>BitArray{1}...</b>) at <a href=\"https://github.com/JuliaLang/julia/tree/c03f413bbdb46c00033f4eaad402995cfe3b7be5/base/bitarray.jl#L1570\" target=\"_blank\">bitarray.jl:1570</a><li> hcat(A::<b>Union(BitArray{1},BitArray{2})...</b>) at <a href=\"https://github.com/JuliaLang/julia/tree/c03f413bbdb46c00033f4eaad402995cfe3b7be5/base/bitarray.jl#L1596\" target=\"_blank\">bitarray.jl:1596</a><li> hcat(X::<b>SparseMatrixCSC{Tv,Ti<:Integer}...</b>) at <a href=\"https://github.com/JuliaLang/julia/tree/c03f413bbdb46c00033f4eaad402995cfe3b7be5/base/sparse/sparsematrix.jl#L1678\" target=\"_blank\">sparse/sparsematrix.jl:1678</a><li> hcat<i>{T}</i>(V::<b>AbstractArray{T,1}...</b>) at <a href=\"https://github.com/JuliaLang/julia/tree/c03f413bbdb46c00033f4eaad402995cfe3b7be5/base/abstractarray.jl#L537\" target=\"_blank\">abstractarray.jl:537</a><li> hcat<i>{T}</i>(A::<b>Union(AbstractArray{T,1},AbstractArray{T,2})...</b>) at <a href=\"https://github.com/JuliaLang/julia/tree/c03f413bbdb46c00033f4eaad402995cfe3b7be5/base/abstractarray.jl#L562\" target=\"_blank\">abstractarray.jl:562</a><li> hcat<i>{T<:Number}</i>(X::<b>T<:Number...</b>) at <a href=\"https://github.com/JuliaLang/julia/tree/c03f413bbdb46c00033f4eaad402995cfe3b7be5/base/abstractarray.jl#L516\" target=\"_blank\">abstractarray.jl:516</a><li> hcat(X::<b>Number...</b>) at <a href=\"https://github.com/JuliaLang/julia/tree/c03f413bbdb46c00033f4eaad402995cfe3b7be5/base/abstractarray.jl#L529\" target=\"_blank\">abstractarray.jl:529</a><li> hcat(A::<b>AbstractArray{T,N}...</b>) at <a href=\"https://github.com/JuliaLang/julia/tree/c03f413bbdb46c00033f4eaad402995cfe3b7be5/base/abstractarray.jl#L737\" target=\"_blank\">abstractarray.jl:737</a><li> hcat<i>{Tv<:Union(Float64,Complex{Float64},Float32,Complex{Float32})}</i>(A::<b>CholmodSparse{Tv<:Union(Float64,Complex{Float64},Float32,Complex{Float32}),Int32}</b>,B::<b>CholmodSparse{Tv<:Union(Float64,Complex{Float64},Float32,Complex{Float32}),Int32}</b>) at <a href=\"https://github.com/JuliaLang/julia/tree/c03f413bbdb46c00033f4eaad402995cfe3b7be5/base/linalg/cholmod.jl#L776\" target=\"_blank\">linalg/cholmod.jl:776</a><li> hcat<i>{Tv<:Union(Float64,Complex{Float64},Float32,Complex{Float32})}</i>(A::<b>CholmodSparse{Tv<:Union(Float64,Complex{Float64},Float32,Complex{Float32}),Int64}</b>,B::<b>CholmodSparse{Tv<:Union(Float64,Complex{Float64},Float32,Complex{Float32}),Int64}</b>) at <a href=\"https://github.com/JuliaLang/julia/tree/c03f413bbdb46c00033f4eaad402995cfe3b7be5/base/linalg/cholmod.jl#L776\" target=\"_blank\">linalg/cholmod.jl:776</a><li> hcat<i>{T}</i>(X::<b>T...</b>) at <a href=\"https://github.com/JuliaLang/julia/tree/c03f413bbdb46c00033f4eaad402995cfe3b7be5/base/abstractarray.jl#L515\" target=\"_blank\">abstractarray.jl:515</a><li> hcat(X...) at <a href=\"https://github.com/JuliaLang/julia/tree/c03f413bbdb46c00033f4eaad402995cfe3b7be5/base/abstractarray.jl#L671\" target=\"_blank\">abstractarray.jl:671</a></ul>"
       ],
       "metadata": {},
       "output_type": "pyout",
       "prompt_number": 18,
       "text": [
        "# 13 methods for generic function \"hcat\":\n",
        "hcat() at abstractarray.jl:512\n",
        "hcat(B::BitArray{1}...) at bitarray.jl:1570\n",
        "hcat(A::Union(BitArray{1},BitArray{2})...) at bitarray.jl:1596\n",
        "hcat(X::SparseMatrixCSC{Tv,Ti<:Integer}...) at sparse/sparsematrix.jl:1678\n",
        "hcat{T}(V::AbstractArray{T,1}...) at abstractarray.jl:537\n",
        "hcat{T}(A::Union(AbstractArray{T,1},AbstractArray{T,2})...) at abstractarray.jl:562\n",
        "hcat{T<:Number}(X::T<:Number...) at abstractarray.jl:516\n",
        "hcat(X::Number...) at abstractarray.jl:529\n",
        "hcat(A::AbstractArray{T,N}...) at abstractarray.jl:737\n",
        "hcat{Tv<:Union(Float64,Complex{Float64},Float32,Complex{Float32})}(A::CholmodSparse{Tv<:Union(Float64,Complex{Float64},Float32,Complex{Float32}),Int32},B::CholmodSparse{Tv<:Union(Float64,Complex{Float64},Float32,Complex{Float32}),Int32}) at linalg/cholmod.jl:776\n",
        "hcat{Tv<:Union(Float64,Complex{Float64},Float32,Complex{Float32})}(A::CholmodSparse{Tv<:Union(Float64,Complex{Float64},Float32,Complex{Float32}),Int64},B::CholmodSparse{Tv<:Union(Float64,Complex{Float64},Float32,Complex{Float32}),Int64}) at linalg/cholmod.jl:776\n",
        "hcat{T}(X::T...) at abstractarray.jl:515\n",
        "hcat(X...) at abstractarray.jl:671"
       ]
      }
     ],
     "prompt_number": 18
    },
    {
     "cell_type": "code",
     "collapsed": false,
     "input": [],
     "language": "python",
     "metadata": {},
     "outputs": []
    }
   ],
   "metadata": {}
  }
 ]
}