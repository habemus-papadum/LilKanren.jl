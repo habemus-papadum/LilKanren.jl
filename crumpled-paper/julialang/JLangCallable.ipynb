{
 "metadata": {
  "language": "Julia",
  "name": "",
  "signature": "sha256:7397567f142e03e4d3a5cd7bc7f889fc490f14a6e678fef74e931af71f8468e7"
 },
 "nbformat": 3,
 "nbformat_minor": 0,
 "worksheets": [
  {
   "cells": [
    {
     "cell_type": "code",
     "collapsed": false,
     "input": [
      "## Dynamism in julia leads to potential runtime errors\n",
      "## No big deal. \n",
      "\n",
      "## But in modelling relations with direct computation\n",
      "## It can be difficult to understand error messages\n",
      "\n",
      "## Julia provides callables and union types, both of which\n",
      "## might help flag errors at the point of dispatch rather than\n",
      "## at the point of application/use\n",
      "\n"
     ],
     "language": "python",
     "metadata": {},
     "outputs": []
    }
   ],
   "metadata": {}
  }
 ]
}