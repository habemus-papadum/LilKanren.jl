{
 "metadata": {
  "language": "Julia",
  "name": "",
  "signature": "sha256:51e4aff372162578f54147da75504a69e9298324d7b69cdb0153251d23523bfb"
 },
 "nbformat": 3,
 "nbformat_minor": 0,
 "worksheets": [
  {
   "cells": [
    {
     "cell_type": "code",
     "collapsed": false,
     "input": [
      "## julia has a way of collecting backtraces;  \n",
      "## that might be useful for debugging aside from doing source level transformations\n"
     ],
     "language": "python",
     "metadata": {},
     "outputs": []
    },
    {
     "cell_type": "code",
     "collapsed": false,
     "input": [
      "backtrace()"
     ],
     "language": "python",
     "metadata": {},
     "outputs": [
      {
       "metadata": {},
       "output_type": "pyout",
       "prompt_number": 1,
       "text": [
        "22-element Array{Ptr{None},1}:\n",
        " Ptr{Void} @0x00000001014be9de\n",
        " Ptr{Void} @0x00000001161f98f0\n",
        " Ptr{Void} @0x00000001161f9870\n",
        " Ptr{Void} @0x000000010146ce94\n",
        " Ptr{Void} @0x00000001014b94a1\n",
        " Ptr{Void} @0x00000001014b7d80\n",
        " Ptr{Void} @0x00000001014c66cd\n",
        " Ptr{Void} @0x00000001014c6c84\n",
        " Ptr{Void} @0x000000010146f5c4\n",
        " Ptr{Void} @0x00000001161f97f7\n",
        " Ptr{Void} @0x000000010146ce94\n",
        " Ptr{Void} @0x00000001161f4da2\n",
        " Ptr{Void} @0x00000001161f4587\n",
        " Ptr{Void} @0x000000010146ce94\n",
        " Ptr{Void} @0x00000001161e8504\n",
        " Ptr{Void} @0x000000010146ce28\n",
        " Ptr{Void} @0x00000001161ebf29\n",
        " Ptr{Void} @0x00000001014bf91e\n",
        " Ptr{Void} @0x00000001014bf913\n",
        " Ptr{Void} @0x00000001014bf913\n",
        " Ptr{Void} @0x00000001014bf913\n",
        " Ptr{Void} @0x00000001014be3e9"
       ]
      }
     ],
     "prompt_number": 1
    },
    {
     "cell_type": "code",
     "collapsed": false,
     "input": [
      "##Utils\n",
      "function formatNum(x)\n",
      "    @sprintf \"%.2f\"  x\n",
      "end\n",
      "\n",
      "function niceTime(nanos) \n",
      "    if nanos < 1_000.0\n",
      "        \"$(formatNum(nanos)) \u03b7s\"\n",
      "    elseif nanos < 1_000_000.0\n",
      "        \"$(formatNum(nanos/1_000.0)) \u03bcs\"\n",
      "    else \n",
      "        \"$(formatNum(nanos/1_000_000.0)) ms\"\n",
      "    end \n",
      "end\n",
      " \n",
      "## lifted from base\n",
      "function time_p(t,n, b, g)\n",
      "    @printf(\"time per iteration: %s (%.2f bytes/iter, %.2f%% gc time)\\n\", niceTime(t/n), b/n, 100*g/t)\n",
      "end\n",
      "\n",
      "macro time_it(n, ex)\n",
      "    quote\n",
      "        local b0 = Base.gc_bytes()\n",
      "        local t0 = Base.time_ns()\n",
      "        local g0 = Base.gc_time_ns()\n",
      "        local val = $(esc(ex))\n",
      "        local g1 = Base.gc_time_ns()\n",
      "        local t1 = Base.time_ns()\n",
      "        local b1 = Base.gc_bytes()\n",
      "        time_p(t1-t0, $(n), (b1-b0), g1-g0)\n",
      "        val\n",
      "    end\n",
      "end"
     ],
     "language": "python",
     "metadata": {},
     "outputs": [],
     "prompt_number": 2
    },
    {
     "cell_type": "code",
     "collapsed": false,
     "input": [
      "x = zeros(10_000)\n",
      "loop(x) = begin\n",
      "    res = 0\n",
      "    for i=1:length(x)\n",
      "        res += length(backtrace())\n",
      "    end\n",
      "    res\n",
      "end\n",
      "\n",
      "loop(x)\n",
      "\n",
      "nothing"
     ],
     "language": "python",
     "metadata": {},
     "outputs": [],
     "prompt_number": 12
    },
    {
     "cell_type": "code",
     "collapsed": false,
     "input": [
      "@time_it length(x) loop(x)\n",
      "\n",
      "nothing"
     ],
     "language": "python",
     "metadata": {},
     "outputs": [
      {
       "output_type": "stream",
       "stream": "stdout",
       "text": [
        "time per iteration: 249.74 \u03bcs"
       ]
      },
      {
       "output_type": "stream",
       "stream": "stdout",
       "text": [
        " (640048.01 bytes/iter, 71.44% gc time)\n"
       ]
      }
     ],
     "prompt_number": 13
    },
    {
     "cell_type": "code",
     "collapsed": false,
     "input": [
      "error(\"foo\")"
     ],
     "language": "python",
     "metadata": {},
     "outputs": [
      {
       "ename": "LoadError",
       "evalue": "foo\nwhile loading In[6], in expression starting on line 1",
       "output_type": "pyerr",
       "traceback": [
        "foo\nwhile loading In[6], in expression starting on line 1",
        "",
        " in error at error.jl:21"
       ]
      }
     ],
     "prompt_number": 6
    },
    {
     "cell_type": "code",
     "collapsed": false,
     "input": [
      "methods(backtrace)"
     ],
     "language": "python",
     "metadata": {},
     "outputs": [
      {
       "html": [
        "1 method for generic function <b>backtrace</b>:<ul><li> backtrace() at <a href=\"https://github.com/JuliaLang/julia/tree/c03f413bbdb46c00033f4eaad402995cfe3b7be5/base/error.jl#L30\" target=\"_blank\">error.jl:30</a></ul>"
       ],
       "metadata": {},
       "output_type": "pyout",
       "prompt_number": 11,
       "text": [
        "# 1 method for generic function \"backtrace\":\n",
        "backtrace() at error.jl:30"
       ]
      }
     ],
     "prompt_number": 11
    },
    {
     "cell_type": "code",
     "collapsed": false,
     "input": [
      "## todo -- figure out how julia assigns line numbers to backtrace\n",
      "## I saw the code for this somewhere in the c code\n",
      "## Have to remember exactly where it was"
     ],
     "language": "python",
     "metadata": {},
     "outputs": []
    }
   ],
   "metadata": {}
  }
 ]
}