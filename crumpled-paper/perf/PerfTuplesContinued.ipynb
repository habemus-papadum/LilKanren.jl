{
 "metadata": {
  "language": "Julia",
  "name": "",
  "signature": "sha256:c92175fa0f9032d61e17b4c9249d8733af71023b11790555b3d1b3d709c5a2f6"
 },
 "nbformat": 3,
 "nbformat_minor": 0,
 "worksheets": [
  {
   "cells": [
    {
     "cell_type": "code",
     "collapsed": false,
     "input": [
      "## Clean copy of tuples perf\n",
      "\n",
      "##Utils\n",
      "function formatNum(x)\n",
      "    @sprintf \"%.2f\"  x\n",
      "end\n",
      "\n",
      "function niceTime(nanos) \n",
      "    if nanos < 1_000.0\n",
      "        \"$(formatNum(nanos)) \u03b7s\"\n",
      "    elseif nanos < 1_000_000.0\n",
      "        \"$(formatNum(nanos/1_000.0)) \u03bcs\"\n",
      "    else \n",
      "        \"$(formatNum(nanos/1_000_000.0)) ms\"\n",
      "    end \n",
      "end\n",
      " \n",
      "## lifted from base\n",
      "function time_p(t,n, b, g)\n",
      "    @printf(\"time per iteration: %s (%.2f bytes/iter, %.2f%% gc time)\\n\", niceTime(t/n), b/n, 100*g/t)\n",
      "end\n",
      "\n",
      "macro time_it(n, ex)\n",
      "    quote\n",
      "        local b0 = Base.gc_bytes()\n",
      "        local t0 = Base.time_ns()\n",
      "        local g0 = Base.gc_time_ns()\n",
      "        local val = $(esc(ex))\n",
      "        local g1 = Base.gc_time_ns()\n",
      "        local t1 = Base.time_ns()\n",
      "        local b1 = Base.gc_bytes()\n",
      "        time_p(t1-t0, $(n), (b1-b0), g1-g0)\n",
      "        val\n",
      "    end\n",
      "end\n",
      "\n",
      "\n",
      "#introduce a simple Box that the type inferencer/dipatch code does not know anything about\n",
      "\n",
      "module M \n",
      "    immutable type Box\n",
      "        left\n",
      "        right\n",
      "    end\n",
      "end \n",
      "\n",
      "## \n",
      "list() = ()\n",
      "list(x...)  = begin\n",
      "    result = ()\n",
      "    for i=length(x):-1:1\n",
      "        result = (x[i],result)\n",
      "    end\n",
      "    result\n",
      "\n",
      "end\n",
      "\n",
      "blist()  = ()\n",
      "blist(x...) = begin\n",
      "    result = ()\n",
      "    for i=length(x):-1:1\n",
      "        result = M.Box(x[i],result)\n",
      "    end\n",
      "    result\n",
      "end\n",
      "\n",
      "const \u2740 = list  # There should be more flowers in CS\n",
      "\n",
      "@show \u2740(1,2,3,4)\n",
      "\n",
      "\n",
      "eg(x,y) = x===y\n",
      "egArr(x,y) = begin\n",
      "    if (length(x) != length(y))\n",
      "        return false\n",
      "    end\n",
      "    for i=1:length(x)\n",
      "        if !eg(x[i],y[i])\n",
      "            return false\n",
      "        end\n",
      "    end\n",
      "    return true\n",
      "end\n",
      "\n",
      "egBox(x::M.Box,y::M.Box) = begin\n",
      "    lifo = M.Box[]\n",
      "    xh = x.left\n",
      "    xr = x.right\n",
      "    yh = y.left\n",
      "    yr = y.right\n",
      "    \n",
      "    ## ordering favors small stack for normal lists\n",
      "    push!(lifo, M.Box(xr,yr))\n",
      "    push!(lifo, M.Box(xh,yh))\n",
      "    while(length(lifo) != 0)\n",
      "        bx = pop!(lifo)\n",
      "        a = bx.left\n",
      "        b = bx.right\n",
      "        if isa(a,M.Box) && isa(b,M.Box) \n",
      "            ah = a.left\n",
      "            ar = a.right\n",
      "            bh = b.left\n",
      "            br = b.right\n",
      "            push!(lifo, M.Box(ar,br))\n",
      "            push!(lifo, M.Box(ah,bh))\n",
      "        else  ## dispatch to proper eg method\n",
      "            res = eg(a,b) # <- so this could still lead to stack over flow, but unlikely if tuple is chosen as final compound strcauture\n",
      "            if !res\n",
      "                return false\n",
      "            end\n",
      "        end\n",
      "    end\n",
      "    return true\n",
      "end\n",
      "\n",
      "typealias Tup2 (Any,Any)\n",
      "egList(x::Tup2,y::Tup2) = begin\n",
      "    lifo = Tup2[]\n",
      "    (xh,xr) = x\n",
      "    (yh,yr) = y\n",
      "    \n",
      "    ## ordering favors small stack for normal lists\n",
      "    push!(lifo, (xr,yr))\n",
      "    push!(lifo, (xh,yh))\n",
      "    while(length(lifo) != 0)\n",
      "        (a,b) = pop!(lifo)\n",
      "        if isa(a,Tup2) && isa(b,Tup2) \n",
      "            (ah,ar) = a\n",
      "            (bh,br) = b\n",
      "            push!(lifo, (ar,br))  ## THIS IS THE SLOW LINE\n",
      "            push!(lifo, (ah,bh))\n",
      "        else  ## dispatch to proper eg method\n",
      "            res = eg(a,b) # <- so this could still lead to stack over flow, but unlikely if tuple is chosen as final compound strcauture\n",
      "            if !res\n",
      "                return false\n",
      "            end\n",
      "        end\n",
      "    end\n",
      "    return true\n",
      "end\n"
     ],
     "language": "python",
     "metadata": {},
     "outputs": [
      {
       "output_type": "stream",
       "stream": "stdout",
       "text": [
        "\u2740(1,2,3,4) => (1,(2,(3,(4,()))))"
       ]
      },
      {
       "output_type": "stream",
       "stream": "stdout",
       "text": [
        "\n"
       ]
      },
      {
       "metadata": {},
       "output_type": "pyout",
       "prompt_number": 1,
       "text": [
        "egList (generic function with 1 method)"
       ]
      }
     ],
     "prompt_number": 1
    },
    {
     "cell_type": "code",
     "collapsed": false,
     "input": [
      "function benchLoop(n)\n",
      "    @show n\n",
      "    ar = fill(2.0, n)\n",
      "    ar2 = fill(2.0,n)\n",
      "\n",
      "    bl = blist(ar...)\n",
      "    bl2 = blist(ar2...)\n",
      "    l = list(ar...)\n",
      "    l2 = list(ar2...)\n",
      "\n",
      "    egArr(ar,ar2)\n",
      "    egBox(bl,bl2)\n",
      "    egList(l,l2)\n",
      "\n",
      "    @show @time_it n egArr(ar,ar2)\n",
      "    @show @time_it n egBox(bl,bl2)\n",
      "    @show @time_it n egList(l,l2)\n",
      "end\n",
      "\n",
      "benchLoop(10)"
     ],
     "language": "python",
     "metadata": {},
     "outputs": [
      {
       "output_type": "stream",
       "stream": "stdout",
       "text": [
        "n => 10"
       ]
      },
      {
       "output_type": "stream",
       "stream": "stdout",
       "text": [
        "\n",
        "time per iteration: 31.70 \u03b7s (0.00 bytes/iter, 0.00% gc time)\n",
        "@time_it n egArr(ar,ar2) => true\n",
        "time per iteration: 203.10 \u03b7s (56.80 bytes/iter, 0.00% gc time)\n",
        "@time_it n egBox(bl,bl2) => true\n",
        "time per iteration: 692.60 \u03b7s (172.00 bytes/iter, 0.00% gc time)\n",
        "@time_it n egList(l,l2) => true\n"
       ]
      },
      {
       "metadata": {},
       "output_type": "pyout",
       "prompt_number": 7,
       "text": [
        "true"
       ]
      }
     ],
     "prompt_number": 7
    },
    {
     "cell_type": "code",
     "collapsed": false,
     "input": [
      "n = 100\n",
      "ar = fill(2.0, n)\n",
      "ar2 = fill(2.0,n)\n",
      "\n",
      "l = list(ar...)\n",
      "l2 = list(ar2...)\n",
      "\n",
      "\n",
      "@profile @time egList(l,l2)\n",
      "\n",
      "Profile.print()"
     ],
     "language": "python",
     "metadata": {},
     "outputs": [
      {
       "output_type": "stream",
       "stream": "stdout",
       "text": [
        "elapsed time: 2"
       ]
      },
      {
       "output_type": "stream",
       "stream": "stdout",
       "text": [
        ".20188893 seconds (36023328 bytes allocated)\n",
        "1    array.jl; getindex; line: 262"
       ]
      },
      {
       "output_type": "stream",
       "stream": "stdout",
       "text": [
        "\n",
        "1663 task.jl; anonymous; line: 340\n",
        " 1663 .../IJulia/src/IJulia.jl; eventloop; line: 123\n",
        "  1663 ...rc/execute_request.jl; execute_request_0x535c5df2; line: 140\n",
        "   1663 loading.jl; include_string; line: 97\n",
        "    1638 profile.jl; anonymous; line: 56\n",
        "     16   In[1]; egList; line: 123\n",
        "      16 array.jl; push!; line: 457\n",
        "       16 inference.jl; typeinf_ext; line: 1216\n",
        "        3  inference.jl; typeinf; line: 1472\n",
        "         3 inference.jl; abstract_eval_arg; line: 866\n",
        "          3 inference.jl; abstract_eval; line: 935\n",
        "           3 inference.jl; abstract_eval_call; line: 878\n",
        "            3 inference.jl; abstract_eval_arg; line: 866\n",
        "             3 inference.jl; abstract_eval; line: 935\n",
        "              3 inference.jl; abstract_eval_call; line: 878\n",
        "               3 inference.jl; abstract_eval_arg; line: 866\n",
        "                3 inference.jl; abstract_eval; line: 935\n",
        "                 3 inference.jl; abstract_eval_call; line: 900\n",
        "                  3 inference.jl; abstract_call; line: 819\n",
        "                   3 inference.jl; abstract_call_gf; line: 726\n",
        "                    1 inference.jl; typeinf; line: 1472\n",
        "                     1 inference.jl; abstract_eval_arg; line: 866\n",
        "                      1 inference.jl; abstract_eval; line: 935\n",
        "                       1 inference.jl; abstract_eval_call; line: 900\n",
        "                        1 inference.jl; abstract_call; line: 819\n",
        "                         1 inference.jl; abstract_call; line: 819\n",
        "                          1 inference.jl; abstract_call_gf; line: 726\n",
        "                           1 inference.jl; typeinf; line: 1242\n",
        "                    1 inference.jl; typeinf; line: 1550\n",
        "                    1 inference.jl; typeinf; line: 1561\n",
        "        12 inference.jl; typeinf; line: 1544\n",
        "         12 inference.jl; inlining_pass; line: 2544\n",
        "          12 inference.jl; inlining_pass; line: 2581\n",
        "           12 inference.jl; inlining_pass; line: 2581\n",
        "            5 inference.jl; inlining_pass; line: 2581\n",
        "             4 inference.jl; inlining_pass; line: 2581\n",
        "              4 inference.jl; inlining_pass; line: 2645\n",
        "               4 inference.jl; inlineable; line: 2124\n",
        "                2 inference.jl; typeinf; line: 1242\n",
        "                1 inference.jl; typeinf; line: 1550\n",
        "                1 inference.jl; typeinf; line: 1560\n",
        "             1 inference.jl; inlining_pass; line: 2645\n",
        "              1 inference.jl; inlineable; line: 2124\n",
        "               1 inference.jl; typeinf; line: 1242\n",
        "            7 inference.jl; inlining_pass; line: 2645\n",
        "             7 inference.jl; inlineable; line: 2124\n",
        "              1 inference.jl; typeinf; line: 1276\n",
        "              2 inference.jl; typeinf; line: 1472\n",
        "               2 inference.jl; abstract_eval_arg; line: 866\n",
        "                2 inference.jl; abstract_eval; line: 935\n",
        "                 2 inference.jl; abstract_eval_call; line: 878\n",
        "                  2 inference.jl; abstract_eval_arg; line: 866\n",
        "                   2 inference.jl; abstract_eval; line: 935\n",
        "                    2 inference.jl; abstract_eval_call; line: 878\n",
        "                     2 inference.jl; abstract_eval_arg; line: 866\n",
        "                      2 inference.jl; abstract_eval; line: 935\n",
        "                       2 inference.jl; abstract_eval_call; line: 900\n",
        "                        2 inference.jl; abstract_call; line: 819\n",
        "                         2 inference.jl; abstract_call_gf; line: 726\n",
        "                          1 inference.jl; typeinf; line: 1242\n",
        "                          1 inference.jl; typeinf; line: 1472\n",
        "                           1 inference.jl; abstract_eval_arg; line: 866\n",
        "                            1 inference.jl; abstract_eval; line: 935\n",
        "                             1 inference.jl; abstract_eval_call; line: 900\n",
        "                              1 inference.jl; abstract_call; line: 819\n",
        "                               1 inference.jl; abstract_call; line: 819\n",
        "                                1 inference.jl; abstract_call_gf; line: 726\n",
        "                                 1 inference.jl; typeinf; line: 1560\n",
        "              4 inference.jl; typeinf; line: 1544\n",
        "               4 inference.jl; inlining_pass; line: 2544\n",
        "                4 inference.jl; inlining_pass; line: 2581\n",
        "                 4 inference.jl; inlining_pass; line: 2581\n",
        "                  4 inference.jl; inlining_pass; line: 2581\n",
        "                   2 inference.jl; inlining_pass; line: 2581\n",
        "                    2 inference.jl; inlining_pass; line: 2645\n",
        "                     2 inference.jl; inlineable; line: 2124\n",
        "                      1 inference.jl; typeinf; line: 1242\n",
        "                      1 inference.jl; typeinf; line: 1560\n",
        "                   2 inference.jl; inlining_pass; line: 2645\n",
        "                    1 inference.jl; inlineable; line: 2064\n",
        "                     1 reflection.jl; _methods; line: 116\n",
        "                      1 reflection.jl; _methods; line: 116\n",
        "                       1 reflection.jl; _methods; line: 99\n",
        "                    1 inference.jl; inlineable; line: 2441\n",
        "                     1 inference.jl; unique_name; line: 2738\n",
        "        1  inference.jl; typeinf; line: 1560\n",
        "     2    In[1]; egList; line: 128\n",
        "     1620 In[1]; egList; line: 130\n",
        "      1616 array.jl; push!; line: 457\n",
        "       1464 inference.jl; typeinf_ext; line: 1216\n",
        "        63  inference.jl; typeinf; line: 1242\n",
        "        1   inference.jl; typeinf; line: 1339\n",
        "         1 dict.jl; setindex!; line: 269\n",
        "        347 inference.jl; typeinf; line: 1472\n",
        "         347 inference.jl; abstract_eval_arg; line: 866\n",
        "          347 inference.jl; abstract_eval; line: 935\n",
        "           347 inference.jl; abstract_eval_call; line: 878\n",
        "            347 inference.jl; abstract_eval_arg; line: 866\n",
        "             1   inference.jl; abstract_eval; line: 919\n",
        "              1 inference.jl; abstract_eval_symbol; line: 1037\n",
        "             346 inference.jl; abstract_eval; line: 935\n",
        "              340 inference.jl; abstract_eval_call; line: 878\n",
        "               340 inference.jl; abstract_eval_arg; line: 866\n",
        "                340 inference.jl; abstract_eval; line: 935\n",
        "                 1   inference.jl; abstract_eval_call; line: 878\n",
        "                  1 inference.jl; abstract_eval_arg; line: 866\n",
        "                   1 inference.jl; abstract_eval; line: 935\n",
        "                    1 inference.jl; abstract_eval_call; line: 878\n",
        "                     1 inference.jl; abstract_eval_arg; line: 868\n",
        "                 339 inference.jl; abstract_eval_call; line: 900\n",
        "                  339 inference.jl; abstract_call; line: 819\n",
        "                   1   inference.jl; abstract_call_gf; line: 677\n",
        "                    1 inference.jl; anonymous; line: 615\n",
        "                     1 no file; anonymous; line: 0\n",
        "                   28  inference.jl; abstract_call_gf; line: 678\n",
        "                    28 reflection.jl; _methods; line: 116\n",
        "                     28 reflection.jl; _methods; line: 116\n",
        "                      28 reflection.jl; _methods; line: 99\n",
        "                   309 inference.jl; abstract_call_gf; line: 726\n",
        "                    84 inference.jl; typeinf; line: 1242\n",
        "                    1  inference.jl; typeinf; line: 1307\n",
        "                     1 array.jl; vcat; line: 993\n",
        "                    90 inference.jl; typeinf; line: 1472\n",
        "                     90 inference.jl; abstract_eval_arg; line: 866\n",
        "                      90 inference.jl; abstract_eval; line: 935\n",
        "                       90 inference.jl; abstract_eval_call; line: 900\n",
        "                        90 inference.jl; abstract_call; line: 819\n",
        "                         90 inference.jl; abstract_call; line: 819\n",
        "                          90 inference.jl; abstract_call_gf; line: 726\n",
        "                           42 inference.jl; typeinf; line: 1242\n",
        "                           1  inference.jl; typeinf; line: 1350\n",
        "                            1 inference.jl; anonymous; line: 598\n",
        "                             1 no file; anonymous; line: 612\n",
        "                              1 tuple.jl; map; line: 46\n",
        "                               1 inference.jl; anonymous; line: 612\n",
        "                                1 no file; anonymous; line: 612\n",
        "                                 1 tuple.jl; map; line: 47\n",
        "                                  1 inference.jl; anonymous; line: 612\n",
        "                                   1 no file; anonymous; line: 612\n",
        "                                    1 tuple.jl; map; line: 47\n",
        "                                     1 ...rence.jl; anonymous; line: 612\n",
        "                                      1 no file; anonymous; line: 606\n",
        "                           1  inference.jl; typeinf; line: 1550\n",
        "                           46 inference.jl; typeinf; line: 1560\n",
        "                    1  inference.jl; typeinf; line: 1540\n",
        "                     1 inference.jl; type_annotate; line: 1686\n",
        "                      1 inference.jl; eval_annotate; line: 1658\n",
        "                       1 inference.jl; eval_annotate; line: 1658\n",
        "                        1 inference.jl; eval_annotate; line: 1604\n",
        "                    48 inference.jl; typeinf; line: 1544\n",
        "                     1  inference.jl; inlining_pass; line: 2529\n",
        "                     47 inference.jl; inlining_pass; line: 2544\n",
        "                      47 inference.jl; inlining_pass; line: 2581\n",
        "                       46 inference.jl; inlining_pass; line: 2645\n",
        "                        1  inference.jl; inlineable; line: 2064\n",
        "                        39 inference.jl; inlineable; line: 2124\n",
        "                         39 inference.jl; typeinf; line: 1242\n",
        "                        4  inference.jl; inlineable; line: 2130\n",
        "                        1  inference.jl; inlineable; line: 2134\n",
        "                         1 array.jl; getindex; line: 246\n",
        "                       1  inference.jl; inlining_pass; line: 2650\n",
        "                    1  inference.jl; typeinf; line: 1546\n",
        "                    2  inference.jl; typeinf; line: 1547\n",
        "                     2 inference.jl; tuple_elim_pass; line: 2956\n",
        "                      1 inference.jl; find_sa_vars; line: 2851\n",
        "                      1 inference.jl; find_sa_vars; line: 2852\n",
        "                    11 inference.jl; typeinf; line: 1550\n",
        "                    70 inference.jl; typeinf; line: 1560\n",
        "                    1  inference.jl; typeinf; line: 1561\n",
        "              6   inference.jl; abstract_eval_call; line: 900\n",
        "               6 inference.jl; abstract_call; line: 819\n",
        "                2 inference.jl; abstract_call_gf; line: 678\n",
        "                 2 reflection.jl; _methods; line: 116\n",
        "                  2 reflection.jl; _methods; line: 116\n",
        "                   2 reflection.jl; _methods; line: 99\n",
        "                4 inference.jl; abstract_call_gf; line: 726\n",
        "                 3 inference.jl; typeinf; line: 1242\n",
        "                 1 inference.jl; typeinf; line: 1250\n",
        "        1   inference.jl; typeinf; line: 1540\n",
        "         1 inference.jl; type_annotate; line: 1680\n",
        "        977 inference.jl; typeinf; line: 1544\n",
        "         977 inference.jl; inlining_pass; line: 2544\n",
        "          977 inference.jl; inlining_pass; line: 2581\n",
        "           977 inference.jl; inlining_pass; line: 2581\n",
        "            414 inference.jl; inlining_pass; line: 2581\n",
        "             280 inference.jl; inlining_pass; line: 2581\n",
        "              1   inference.jl; inlining_pass; line: 2624\n",
        "              279 inference.jl; inlining_pass; line: 2645\n",
        "               3   inference.jl; inlineable; line: 2064\n",
        "                3 reflection.jl; _methods; line: 116\n",
        "                 3 reflection.jl; _methods; line: 116\n",
        "                  3 reflection.jl; _methods; line: 99\n",
        "               269 inference.jl; inlineable; line: 2124\n",
        "                138 inference.jl; typeinf; line: 1242\n",
        "                2   inference.jl; typeinf; line: 1298\n",
        "                2   inference.jl; typeinf; line: 1540\n",
        "                 1 inference.jl; type_annotate; line: 1689\n",
        "                 1 inference.jl; type_annotate; line: 1694\n",
        "                7   inference.jl; typeinf; line: 1550\n",
        "                119 inference.jl; typeinf; line: 1560\n",
        "               5   inference.jl; inlineable; line: 2130\n",
        "               1   inference.jl; inlineable; line: 2411\n",
        "                1 inference.jl; sym_replace; line: 1755\n",
        "                 1 inference.jl; sym_replace; line: 1755\n",
        "                  1 inference.jl; sym_replace; line: 1755\n",
        "               1   inference.jl; inlineable; line: 2452\n",
        "             2   inference.jl; inlining_pass; line: 2617\n",
        "              2 inference.jl; exprtype; line: 1879\n",
        "               2 inference.jl; abstract_eval; line: 919\n",
        "                2 inference.jl; abstract_eval_symbol; line: 1066\n",
        "                 2 inference.jl; abstract_eval_global; line: 1027\n",
        "                  1 inference.jl; abstract_eval_constant; line: 1004\n",
        "             131 inference.jl; inlining_pass; line: 2645\n",
        "              37 inference.jl; inlineable; line: 2064\n",
        "               37 reflection.jl; _methods; line: 116\n",
        "                37 reflection.jl; _methods; line: 116\n",
        "                 37 reflection.jl; _methods; line: 99\n",
        "              1  inference.jl; inlineable; line: 2102\n",
        "              88 inference.jl; inlineable; line: 2124\n",
        "               88 inference.jl; typeinf; line: 1242\n",
        "              4  inference.jl; inlineable; line: 2130\n",
        "              1  inference.jl; inlineable; line: 2421\n",
        "             1   inference.jl; inlining_pass; line: 2656\n",
        "              1 inference.jl; is_known_call; line: 2776\n",
        "               1 inference.jl; isconstantfunc; line: 591\n",
        "                1 inference.jl; _iisconst; line: 63\n",
        "            563 inference.jl; inlining_pass; line: 2645\n",
        "             2   inference.jl; inlineable; line: 2064\n",
        "              2 reflection.jl; _methods; line: 116\n",
        "               2 reflection.jl; _methods; line: 116\n",
        "                2 reflection.jl; _methods; line: 99\n",
        "             1   inference.jl; inlineable; line: 2115\n",
        "             558 inference.jl; inlineable; line: 2124\n",
        "              23  inference.jl; typeinf; line: 1242\n",
        "              237 inference.jl; typeinf; line: 1472\n",
        "               237 inference.jl; abstract_eval_arg; line: 866\n",
        "                236 inference.jl; abstract_eval; line: 935\n",
        "                 235 inference.jl; abstract_eval_call; line: 878\n",
        "                  235 inference.jl; abstract_eval_arg; line: 866\n",
        "                   234 inference.jl; abstract_eval; line: 935\n",
        "                    234 inference.jl; abstract_eval_call; line: 878\n",
        "                     234 inference.jl; abstract_eval_arg; line: 866\n",
        "                      233 inference.jl; abstract_eval; line: 935\n",
        "                       1   inference.jl; abstract_eval_call; line: 878\n",
        "                        1 inference.jl; abstract_eval_arg; line: 866\n",
        "                         1 inference.jl; abstract_eval; line: 935\n",
        "                          1 inference.jl; abstract_eval_call; line: 900\n",
        "                           1 inference.jl; abstract_call; line: 819\n",
        "                            1 inference.jl; abstract_call_gf; line: 637\n",
        "                             1 inference.jl; anonymous; line: 228\n",
        "                       232 inference.jl; abstract_eval_call; line: 900\n",
        "                        232 inference.jl; abstract_call; line: 819\n",
        "                         29  inference.jl; abstract_call_gf; line: 678\n",
        "                          29 reflection.jl; _methods; line: 116\n",
        "                           29 reflection.jl; _methods; line: 116\n",
        "                            29 reflection.jl; _methods; line: 99\n",
        "                         1   inference.jl; abstract_call_gf; line: 708\n",
        "                         202 inference.jl; abstract_call_gf; line: 726\n",
        "                          65 inference.jl; typeinf; line: 1242\n",
        "                          1  inference.jl; typeinf; line: 1298\n",
        "                          65 inference.jl; typeinf; line: 1472\n",
        "                           65 inference.jl; abstract_eval_arg; line: 866\n",
        "                            65 inference.jl; abstract_eval; line: 935\n",
        "                             1  inference.jl; abstract_eval_call; line: 878\n",
        "                              1 inference.jl; abstract_eval_arg; line: 868\n",
        "                             1  inference.jl; abstract_eval_call; line: 883\n",
        "                              1 inference.jl; isconstantfunc; line: 556\n",
        "                             63 inference.jl; abstract_eval_call; line: 900\n",
        "                              63 inference.jl; abstract_call; line: 819\n",
        "                               63 inference.jl; abstract_call; line: 819\n",
        "                                1  inference.jl; abstract_call_gf; line: 677\n",
        "                                 1 inference.jl; anonymous; line: 615\n",
        "                                  1 no file; anonymous; line: 0\n",
        "                                62 inference.jl; abstract_call_gf; line: 726\n",
        "                                 34 inference.jl; typeinf; line: 1242\n",
        "                                 2  inference.jl; typeinf; line: 1540\n",
        "                                  2 inference.jl; type_annotate; line: 1686\n",
        "                                   2 ...rence.jl; eval_annotate; line: 1658\n",
        "                                    2 ...rence.jl; eval_annotate; line: 1604\n",
        "                                 1  inference.jl; typeinf; line: 1550\n",
        "                                 25 inference.jl; typeinf; line: 1560\n",
        "                          1  inference.jl; typeinf; line: 1514\n",
        "                           1 inference.jl; stupdate; line: 1160\n",
        "                            1 dict.jl; ObjectIdDict; line: 259\n",
        "                          45 inference.jl; typeinf; line: 1544\n",
        "                           45 inference.jl; inlining_pass; line: 2544\n",
        "                            45 inference.jl; inlining_pass; line: 2581\n",
        "                             1  inference.jl; inlining_pass; line: 2617\n",
        "                              1 inference.jl; exprtype; line: 1873\n",
        "                             43 inference.jl; inlining_pass; line: 2645\n",
        "                              40 inference.jl; inlineable; line: 2124\n",
        "                               40 inference.jl; typeinf; line: 1242\n",
        "                              1  inference.jl; inlineable; line: 2130\n",
        "                              1  inference.jl; inlineable; line: 2142\n",
        "                              1  inference.jl; inlineable; line: 2385\n",
        "                               1 inference.jl; effect_free; line: 1949\n",
        "                                1 inference.jl; is_known_call_p; line: 2785\n",
        "                             1  inference.jl; inlining_pass; line: 2656\n",
        "                              1 inference.jl; is_known_call; line: 2777\n",
        "                          25 inference.jl; typeinf; line: 1560\n",
        "                      1   inference.jl; abstract_eval; line: 997\n",
        "                   1   inference.jl; abstract_eval; line: 997\n",
        "                 1   inference.jl; abstract_eval_call; line: 900\n",
        "                  1 inference.jl; abstract_call; line: 778\n",
        "                   1 tuple.jl; map; line: 47\n",
        "              1   inference.jl; typeinf; line: 1540\n",
        "               1 inference.jl; type_annotate; line: 1675\n",
        "              265 inference.jl; typeinf; line: 1544\n",
        "               265 inference.jl; inlining_pass; line: 2544\n",
        "                265 inference.jl; inlining_pass; line: 2581\n",
        "                 263 inference.jl; inlining_pass; line: 2581\n",
        "                  261 inference.jl; inlining_pass; line: 2581\n",
        "                   157 inference.jl; inlining_pass; line: 2581\n",
        "                    157 inference.jl; inlining_pass; line: 2645\n",
        "                     154 inference.jl; inlineable; line: 2124\n",
        "                      75 inference.jl; typeinf; line: 1242\n",
        "                      1  inference.jl; typeinf; line: 1298\n",
        "                      1  inference.jl; typeinf; line: 1472\n",
        "                       1 inference.jl; abstract_eval_arg; line: 866\n",
        "                        1 inference.jl; abstract_eval; line: 935\n",
        "                         1 inference.jl; abstract_eval_call; line: 909\n",
        "                      1  inference.jl; typeinf; line: 1491\n",
        "                      1  inference.jl; typeinf; line: 1512\n",
        "                      3  inference.jl; typeinf; line: 1550\n",
        "                      72 inference.jl; typeinf; line: 1560\n",
        "                     1   inference.jl; inlineable; line: 2130\n",
        "                     2   inference.jl; inlineable; line: 2330\n",
        "                   1   inference.jl; inlining_pass; line: 2617\n",
        "                    1 inference.jl; exprtype; line: 1876\n",
        "                     1 inference.jl; is_local; line: 56\n",
        "                      1 inference.jl; contains_is; line: 49\n",
        "                   102 inference.jl; inlining_pass; line: 2645\n",
        "                    31 inference.jl; inlineable; line: 2064\n",
        "                     31 reflection.jl; _methods; line: 116\n",
        "                      1  reflection.jl; _methods; line: 103\n",
        "                       1 array.jl; append!; line: 474\n",
        "                      30 reflection.jl; _methods; line: 116\n",
        "                       30 reflection.jl; _methods; line: 99\n",
        "                    1  inference.jl; inlineable; line: 2115\n",
        "                    65 inference.jl; inlineable; line: 2124\n",
        "                     65 inference.jl; typeinf; line: 1242\n",
        "                    1  inference.jl; inlineable; line: 2136\n",
        "                    1  inference.jl; inlineable; line: 2190\n",
        "                    1  inference.jl; inlineable; line: 2376\n",
        "                    1  inference.jl; inlineable; line: 2434\n",
        "                    1  inference.jl; inlineable; line: 2481\n",
        "                   1   inference.jl; inlining_pass; line: 2648\n",
        "                    1 array.jl; append!; line: 475\n",
        "                     1 array.jl; copy!; line: 54\n",
        "                      1 array.jl; unsafe_copy!; line: 40\n",
        "                  2   inference.jl; inlining_pass; line: 2645\n",
        "                   2 inference.jl; inlineable; line: 2130\n",
        "                 2   inference.jl; inlining_pass; line: 2641\n",
        "                  1 inference.jl; exprtype; line: 1871\n",
        "                  1 inference.jl; exprtype; line: 1876\n",
        "                   1 inference.jl; is_local; line: 56\n",
        "                    1 inference.jl; contains_is; line: 48\n",
        "              1   inference.jl; typeinf; line: 1548\n",
        "               1 inference.jl; tupleref_elim_pass; line: 2919\n",
        "                1 inference.jl; is_known_call; line: 2777\n",
        "              6   inference.jl; typeinf; line: 1550\n",
        "              25  inference.jl; typeinf; line: 1560\n",
        "             1   inference.jl; inlineable; line: 2143\n",
        "              1 inference.jl; without_linenums; line: 1898\n",
        "             1   inference.jl; inlineable; line: 2259\n",
        "              1 inference.jl; resolve_globals; line: 1838\n",
        "        13  inference.jl; typeinf; line: 1550\n",
        "        62  inference.jl; typeinf; line: 1560\n",
        "      4    array.jl; push!; line: 459\n",
        "    25   profile.jl; anonymous; line: 60\n",
        "     25 util.jl; time_print; line: 47\n",
        "      5 inference.jl; typeinf_ext; line: 1216\n",
        "       4 inference.jl; typeinf; line: 1472\n",
        "        4 inference.jl; abstract_eval_arg; line: 866\n",
        "         4 inference.jl; abstract_eval; line: 935\n",
        "          4 inference.jl; abstract_eval_call; line: 900\n",
        "           4 inference.jl; abstract_call; line: 819\n",
        "            4 inference.jl; abstract_call_gf; line: 726\n",
        "             4 inference.jl; typeinf; line: 1472\n",
        "              4 inference.jl; abstract_eval_arg; line: 866\n",
        "               4 inference.jl; abstract_eval; line: 935\n",
        "                4 inference.jl; abstract_eval_call; line: 900\n",
        "                 4 inference.jl; abstract_call; line: 819\n",
        "                  4 inference.jl; abstract_call_gf; line: 726\n",
        "                   4 inference.jl; typeinf; line: 1472\n",
        "                    4 inference.jl; abstract_eval_arg; line: 866\n",
        "                     4 inference.jl; abstract_eval; line: 935\n",
        "                      4 inference.jl; abstract_eval_call; line: 900\n",
        "                       4 inference.jl; abstract_call; line: 819\n",
        "                        4 inference.jl; abstract_call_gf; line: 726\n",
        "                         1 inference.jl; typeinf; line: 1409\n",
        "                          1 inference.jl; abstract_interpret; line: 1098\n",
        "                           1 inference.jl; abstract_eval; line: 935\n",
        "                            1 inference.jl; abstract_eval_call; line: 878\n",
        "                             1 inference.jl; abstract_eval_arg; line: 866\n",
        "                              1 inference.jl; abstract_eval; line: 935\n",
        "                               1 inference.jl; abstract_eval_call; line: 900\n",
        "                                1 inference.jl; abstract_call; line: 819\n",
        "                                 1 inference.jl; abstract_call_gf; line: 678\n",
        "                                  1 ...ection.jl; _methods; line: 116\n",
        "                                   1 ...ection.jl; _methods; line: 116\n",
        "                                    1 ...ection.jl; _methods; line: 99\n",
        "                         1 inference.jl; typeinf; line: 1429\n",
        "                         2 inference.jl; typeinf; line: 1544\n",
        "                          2 inference.jl; inlining_pass; line: 2544\n",
        "                           2 inference.jl; inlining_pass; line: 2581\n",
        "                            2 inference.jl; inlining_pass; line: 2645\n",
        "                             1 inference.jl; inlineable; line: 2152\n",
        "                              1 inference.jl; inline_worthy; line: 2500\n",
        "                               1 inference.jl; occurs_more; line: 1852\n",
        "                             1 inference.jl; inlineable; line: 2376\n",
        "                              1 inference.jl; effect_free; line: 1998\n",
        "                               1 inference.jl; effect_free; line: 1998\n",
        "                                1 inference.jl; effect_free; line: 1939\n",
        "                                 1 inference.jl; isconstantfunc; line: 563\n",
        "       1 inference.jl; typeinf; line: 1550\n"
       ]
      }
     ],
     "prompt_number": 3
    },
    {
     "cell_type": "code",
     "collapsed": false,
     "input": [
      "## Profiling shows push!(lifo, (ar,br))  ## THIS IS THE SLOW LINE\n",
      "\n",
      "## retry using a box?\n",
      "typealias Tup2 (Any,Any)\n",
      "egList(x::Tup2,y::Tup2) = begin\n",
      "    lifo = M.Box[]  ## <-- This is the major change\n",
      "    (xh,xr) = x\n",
      "    (yh,yr) = y\n",
      "    \n",
      "    ## ordering favors small stack for normal lists\n",
      "    push!(lifo, M.Box(xr,yr))\n",
      "    push!(lifo, M.Box(xh,yh))\n",
      "    while(length(lifo) != 0)\n",
      "        bx = pop!(lifo)\n",
      "        a = bx.left\n",
      "        b = bx.right\n",
      "        if isa(a,Tup2) && isa(b,Tup2) \n",
      "            (ah,ar) = a\n",
      "            (bh,br) = b\n",
      "            ######   push!(lifo, (ar,br))  ## THIS IS THE SLOW LINE\n",
      "            push!(lifo, M.Box(ar,br))  \n",
      "            push!(lifo, M.Box(ah,bh))\n",
      "        else  ## dispatch to proper eg method\n",
      "            res = eg(a,b) # <- so this could still lead to stack over flow, but unlikely if tuple is chosen as final compound strcauture\n",
      "            if !res\n",
      "                return false\n",
      "            end\n",
      "        end\n",
      "    end\n",
      "    return true\n",
      "end\n"
     ],
     "language": "python",
     "metadata": {},
     "outputs": [
      {
       "metadata": {},
       "output_type": "pyout",
       "prompt_number": 8,
       "text": [
        "egList (generic function with 1 method)"
       ]
      }
     ],
     "prompt_number": 8
    },
    {
     "cell_type": "code",
     "collapsed": false,
     "input": [
      "\n",
      "benchLoop(10)\n",
      "benchLoop(20)\n",
      "benchLoop(160)"
     ],
     "language": "python",
     "metadata": {},
     "outputs": [
      {
       "output_type": "stream",
       "stream": "stdout",
       "text": [
        "n => 10"
       ]
      },
      {
       "output_type": "stream",
       "stream": "stdout",
       "text": [
        "\n",
        "time per iteration: 90.00 \u03b7s (0.00 bytes/iter, 0.00% gc time)\n",
        "@time_it n egArr(ar,ar2) => true\n",
        "time per iteration: 291.10 \u03b7s (56.80 bytes/iter, 0.00% gc time)\n",
        "@time_it n egBox(bl,bl2) => true\n",
        "time per iteration: 585.70 \u03b7s (172.00 bytes/iter, 0.00% gc time)\n",
        "@time_it n egList(l,l2) => true\n",
        "n => 20\n",
        "time per iteration: 16.25 \u03b7s (0.00 bytes/iter, 0.00% gc time)\n",
        "@time_it n egArr(ar,ar2) => true\n",
        "time per iteration: 141.35 \u03b7s (52.40 bytes/iter, 0.00% gc time)\n",
        "@time_it n egBox(bl,bl2) => true\n",
        "time per iteration: 490.30 \u03b7s (174.00 bytes/iter, 0.00% gc time)\n",
        "@time_it n egList(l,l2) => true\n",
        "n => 160\n",
        "time per iteration: 3.23 \u03b7s (0.00 bytes/iter, 0.00% gc time)\n",
        "@time_it n egArr(ar,ar2) => true\n",
        "time per iteration: 102.44 \u03b7s (48.55 bytes/iter, 0.00% gc time)\n",
        "@time_it n egBox(bl,bl2) => true\n",
        "time per iteration: 452.03 \u03b7s (175.75 bytes/iter, 0.00% gc time)\n",
        "@time_it n egList(l,l2) => true\n"
       ]
      },
      {
       "metadata": {},
       "output_type": "pyout",
       "prompt_number": 9,
       "text": [
        "true"
       ]
      }
     ],
     "prompt_number": 9
    },
    {
     "cell_type": "code",
     "collapsed": false,
     "input": [
      "benchLoop(10_000)\n",
      "benchLoop(100_000)\n"
     ],
     "language": "python",
     "metadata": {},
     "outputs": [
      {
       "output_type": "stream",
       "stream": "stdout",
       "text": [
        "n => 10000"
       ]
      },
      {
       "output_type": "stream",
       "stream": "stdout",
       "text": [
        "\n",
        "time per iteration: 1.37 \u03b7s (0.00 bytes/iter, 0.00% gc time)\n",
        "@time_it n egArr(ar,ar2) => true\n",
        "time per iteration: 106.58 \u03b7s (48.01 bytes/iter, 0.00% gc time)\n",
        "@time_it n egBox(bl,bl2) => true\n",
        "time per iteration: 481.54 \u03b7s (176.00 bytes/iter, 0.00% gc time)\n",
        "@time_it n egList(l,l2) => true\n",
        "n => 100000\n",
        "time per iteration: 1.68 \u03b7s (0.00 bytes/iter, 0.00% gc time)\n",
        "@time_it n egArr(ar,ar2) => true\n",
        "time per iteration: "
       ]
      },
      {
       "output_type": "stream",
       "stream": "stdout",
       "text": [
        "100.68 \u03b7s (48.00 bytes/iter, 0.00% gc time)\n",
        "@time_it n egBox(bl,bl2) => true\n",
        "time per iteration: 972.68 \u03b7s (176.00 bytes/iter, 58.23% gc time)\n",
        "@time_it n egList(l,l2) => true\n"
       ]
      },
      {
       "metadata": {},
       "output_type": "pyout",
       "prompt_number": 10,
       "text": [
        "true"
       ]
      }
     ],
     "prompt_number": 10
    },
    {
     "cell_type": "code",
     "collapsed": false,
     "input": [
      "benchLoop(200_000)"
     ],
     "language": "python",
     "metadata": {},
     "outputs": [
      {
       "output_type": "stream",
       "stream": "stdout",
       "text": [
        "n => 200000"
       ]
      },
      {
       "output_type": "stream",
       "stream": "stdout",
       "text": [
        "\n",
        "time per iteration: "
       ]
      },
      {
       "output_type": "stream",
       "stream": "stdout",
       "text": [
        "1.65 \u03b7s (0.00 bytes/iter, 0.00% gc time)\n",
        "@time_it n egArr(ar,ar2) => true\n",
        "time per iteration: 106.21 \u03b7s (48.00 bytes/iter, 0.00% gc time)\n",
        "@time_it n egBox(bl,bl2) => true\n",
        "time per iteration: "
       ]
      },
      {
       "output_type": "stream",
       "stream": "stdout",
       "text": [
        "462.04 \u03b7s (176.00 bytes/iter, 0.00% gc time)\n",
        "@time_it n egList(l,l2) => true\n"
       ]
      },
      {
       "metadata": {},
       "output_type": "pyout",
       "prompt_number": 11,
       "text": [
        "true"
       ]
      }
     ],
     "prompt_number": 11
    },
    {
     "cell_type": "code",
     "collapsed": false,
     "input": [
      "## Things have stablized  \n",
      "\n",
      "## Ok, so that get's us closer\n",
      "## Boxes are still the way to go....\n",
      "\n",
      "\n",
      "## There are still some things left --\n",
      "## When using parametric eg for arrays -- things blow up, why?\n",
      "## Write a version that is optimized for list\n",
      "## test on binary trees"
     ],
     "language": "python",
     "metadata": {},
     "outputs": []
    },
    {
     "cell_type": "code",
     "collapsed": false,
     "input": [
      "## parametric array\n",
      "eg{T}(x::Array{T,1},y::Array{T,1}) = begin\n",
      "    if (length(x) != length(y))\n",
      "        return false\n",
      "    end\n",
      "    for i=1:length(x)\n",
      "        if !eg(x[i],y[i])\n",
      "            return false\n",
      "        end\n",
      "    end\n",
      "    return true\n",
      "end"
     ],
     "language": "python",
     "metadata": {},
     "outputs": [
      {
       "metadata": {},
       "output_type": "pyout",
       "prompt_number": 12,
       "text": [
        "eg (generic function with 2 methods)"
       ]
      }
     ],
     "prompt_number": 12
    },
    {
     "cell_type": "code",
     "collapsed": false,
     "input": [
      "benchLoop(10)\n",
      "benchLoop(20)\n",
      "benchLoop(160)"
     ],
     "language": "python",
     "metadata": {},
     "outputs": [
      {
       "output_type": "stream",
       "stream": "stdout",
       "text": [
        "n => 10"
       ]
      },
      {
       "output_type": "stream",
       "stream": "stdout",
       "text": [
        "\n",
        "time per iteration: 32.00 \u03b7s (0.00 bytes/iter, 0.00% gc time)\n",
        "@time_it n egArr(ar,ar2) => true\n",
        "time per iteration: 180.70 \u03b7s (56.80 bytes/iter, 0.00% gc time)\n",
        "@time_it n egBox(bl,bl2) => true\n",
        "time per iteration: 590.40 \u03b7s (172.00 bytes/iter, 0.00% gc time)\n",
        "@time_it n egList(l,l2) => true\n",
        "n => 20\n",
        "time per iteration: 15.00 \u03b7s (0.00 bytes/iter, 0.00% gc time)\n",
        "@time_it n egArr(ar,ar2) => true\n",
        "time per iteration: 210.80 \u03b7s (52.40 bytes/iter, 0.00% gc time)\n",
        "@time_it n egBox(bl,bl2) => true\n",
        "time per iteration: 469.10 \u03b7s (174.00 bytes/iter, 0.00% gc time)\n",
        "@time_it n egList(l,l2) => true\n",
        "n => 160\n",
        "time per iteration: 2.94 \u03b7s (0.00 bytes/iter, 0.00% gc time)\n",
        "@time_it n egArr(ar,ar2) => true\n",
        "time per iteration: 92.04 \u03b7s (48.55 bytes/iter, 0.00% gc time)\n",
        "@time_it n egBox(bl,bl2) => true\n",
        "time per iteration: 413.54 \u03b7s (175.75 bytes/iter, 0.00% gc time)\n",
        "@time_it n egList(l,l2) => true\n"
       ]
      },
      {
       "metadata": {},
       "output_type": "pyout",
       "prompt_number": 13,
       "text": [
        "true"
       ]
      }
     ],
     "prompt_number": 13
    },
    {
     "cell_type": "code",
     "collapsed": false,
     "input": [
      "benchLoop(10_000)"
     ],
     "language": "python",
     "metadata": {},
     "outputs": [
      {
       "output_type": "stream",
       "stream": "stdout",
       "text": [
        "n => 10000"
       ]
      },
      {
       "output_type": "stream",
       "stream": "stdout",
       "text": [
        "\n",
        "time per iteration: 1.25 \u03b7s (0.00 bytes/iter, 0.00% gc time)\n",
        "@time_it n egArr(ar,ar2) => true\n",
        "time per iteration: 104.55 \u03b7s (48.01 bytes/iter, 0.00% gc time)\n",
        "@time_it n egBox(bl,bl2) => true\n",
        "time per iteration: 456.01 \u03b7s (176.00 bytes/iter, 0.00% gc time)\n",
        "@time_it n egList(l,l2) => true\n"
       ]
      },
      {
       "metadata": {},
       "output_type": "pyout",
       "prompt_number": 14,
       "text": [
        "true"
       ]
      }
     ],
     "prompt_number": 14
    },
    {
     "cell_type": "code",
     "collapsed": false,
     "input": [
      "function benchLoop2(n)\n",
      "    @show n\n",
      "    ar = fill(2.0, n)\n",
      "    ar2 = fill(2.0,n)\n",
      "\n",
      "    bl = blist(ar...)\n",
      "    bl2 = blist(ar2...)\n",
      "    l = list(ar...)\n",
      "    l2 = list(ar2...)\n",
      "\n",
      "    eg(ar,ar2)  ## <-- this changes\n",
      "    egBox(bl,bl2)\n",
      "    egList(l,l2)\n",
      "\n",
      "    @show @time_it n eg(ar,ar2) ## <-- this changes\n",
      "    @show @time_it n egBox(bl,bl2)\n",
      "    @show @time_it n egList(l,l2)\n",
      "end"
     ],
     "language": "python",
     "metadata": {},
     "outputs": [
      {
       "metadata": {},
       "output_type": "pyout",
       "prompt_number": 15,
       "text": [
        "benchLoop2 (generic function with 1 method)"
       ]
      }
     ],
     "prompt_number": 15
    },
    {
     "cell_type": "code",
     "collapsed": false,
     "input": [
      "benchLoop2(10)\n",
      "benchLoop2(20)\n",
      "benchLoop2(160)"
     ],
     "language": "python",
     "metadata": {},
     "outputs": [
      {
       "output_type": "stream",
       "stream": "stdout",
       "text": [
        "n => 10"
       ]
      },
      {
       "output_type": "stream",
       "stream": "stdout",
       "text": [
        "\n",
        "time per iteration: 28.30 \u03b7s (0.00 bytes/iter, 0.00% gc time)\n",
        "@time_it n eg(ar,ar2) => true\n",
        "time per iteration: 212.40 \u03b7s (56.80 bytes/iter, 0.00% gc time)\n",
        "@time_it n egBox(bl,bl2) => true\n",
        "time per iteration: 607.10 \u03b7s (172.00 bytes/iter, 0.00% gc time)\n",
        "@time_it n egList(l,l2) => true\n",
        "n => 20\n",
        "time per iteration: 15.10 \u03b7s (0.00 bytes/iter, 0.00% gc time)\n",
        "@time_it n eg(ar,ar2) => true\n",
        "time per iteration: 132.95 \u03b7s (52.40 bytes/iter, 0.00% gc time)\n",
        "@time_it n egBox(bl,bl2) => true\n",
        "time per iteration: 507.45 \u03b7s (174.00 bytes/iter, 0.00% gc time)\n",
        "@time_it n egList(l,l2) => true\n",
        "n => 160\n",
        "time per iteration: 3.01 \u03b7s (0.00 bytes/iter, 0.00% gc time)\n",
        "@time_it n eg(ar,ar2) => true\n",
        "time per iteration: 104.89 \u03b7s (48.55 bytes/iter, 0.00% gc time)\n",
        "@time_it n egBox(bl,bl2) => true\n",
        "time per iteration: 430.82 \u03b7s (175.75 bytes/iter, 0.00% gc time)\n",
        "@time_it n egList(l,l2) => true\n"
       ]
      },
      {
       "metadata": {},
       "output_type": "pyout",
       "prompt_number": 16,
       "text": [
        "true"
       ]
      }
     ],
     "prompt_number": 16
    },
    {
     "cell_type": "code",
     "collapsed": false,
     "input": [
      "benchLoop2(10_000)"
     ],
     "language": "python",
     "metadata": {},
     "outputs": [
      {
       "output_type": "stream",
       "stream": "stdout",
       "text": [
        "n => 10000"
       ]
      },
      {
       "output_type": "stream",
       "stream": "stdout",
       "text": [
        "\n",
        "time per iteration: 1.42 \u03b7s (0.00 bytes/iter, 0.00% gc time)\n",
        "@time_it n eg(ar,ar2) => true\n",
        "time per iteration: 103.02 \u03b7s (48.01 bytes/iter, 0.00% gc time)\n",
        "@time_it n egBox(bl,bl2) => true\n",
        "time per iteration: 491.39 \u03b7s (176.00 bytes/iter, 0.00% gc time)\n",
        "@time_it n egList(l,l2) => true\n"
       ]
      },
      {
       "metadata": {},
       "output_type": "pyout",
       "prompt_number": 17,
       "text": [
        "true"
       ]
      }
     ],
     "prompt_number": 17
    },
    {
     "cell_type": "code",
     "collapsed": false,
     "input": [
      "## ----> Can't recreate this issue with parametric eq for Arrays\n",
      "## Who knows -- maybe I hit a Julia bug somewhere, or maybe I'm clueless"
     ],
     "language": "python",
     "metadata": {},
     "outputs": []
    },
    {
     "cell_type": "code",
     "collapsed": false,
     "input": [
      "## Create a Box version that works well for lists\n",
      "\n",
      "egBox(x::M.Box,y::M.Box) = begin\n",
      "    local xh, xr, yh, yr    \n",
      "    ok = true\n",
      "    while(ok)\n",
      "        xh = x.left\n",
      "        xr = x.right\n",
      "        yh = y.left\n",
      "        yr = y.right\n",
      "        if !isa(xh,M.Box) && !isa(yh,M.Box)\n",
      "            res = eg(xh,yh) \n",
      "            if !res\n",
      "                return false\n",
      "            elseif isa(xr,M.Box) && isa(yr,M.Box)\n",
      "                x = xr\n",
      "                y = yr\n",
      "            else \n",
      "                return eg(xr,yr)\n",
      "            end \n",
      "        else\n",
      "            ok = false\n",
      "        end    \n",
      "    end\n",
      " \n",
      "    ##println(\"Made it here 1\")       \n",
      "    lifo = M.Box[]   \n",
      "    ## ordering favors small stack for normal lists\n",
      "    push!(lifo, M.Box(xr,yr))\n",
      "    push!(lifo, M.Box(xh,yh))\n",
      "\n",
      "    \n",
      "    ## TODO -- use same optimzation down below\n",
      "    while(length(lifo) != 0)\n",
      "        ##println(\"Made it here 2\")       \n",
      "\n",
      "        bx = pop!(lifo)\n",
      "        x = bx.left\n",
      "        y = bx.right\n",
      "        if isa(x,M.Box) && isa(y,M.Box)\n",
      "            ## repeat of code above --\n",
      "            ok = true\n",
      "            while(ok)\n",
      "                xh = x.left\n",
      "                xr = x.right\n",
      "                yh = y.left\n",
      "                yr = y.right\n",
      "                if !isa(xh,M.Box) && !isa(yh,M.Box)\n",
      "                    res = eg(xh,yh) \n",
      "                    if !res\n",
      "                        return false\n",
      "                    elseif isa(xr,M.Box) && isa(yr,M.Box)\n",
      "                        x = xr\n",
      "                        y = yr\n",
      "                    else \n",
      "                        ##  check this carefully\n",
      "                        if !eg(xr,yr)\n",
      "                            return false \n",
      "                        else\n",
      "                            ok = false\n",
      "                        end\n",
      "                    end \n",
      "                else\n",
      "                    ok = false\n",
      "                    push!(lifo, M.Box(xr,yr))\n",
      "                    push!(lifo, M.Box(xh,yh))\n",
      "                end    \n",
      "            end\n",
      "         else ## dispatch to proper eg method\n",
      "            res = eg(a,b) # <- so this could still lead to stack over flow, but unlikely if tuple is chosen as final compound strcauture\n",
      "            if !res\n",
      "                return false\n",
      "            end\n",
      "        end\n",
      "    end\n",
      "    return true\n",
      "end"
     ],
     "language": "python",
     "metadata": {},
     "outputs": [
      {
       "metadata": {},
       "output_type": "pyout",
       "prompt_number": 36,
       "text": [
        "egBox (generic function with 1 method)"
       ]
      }
     ],
     "prompt_number": 36
    },
    {
     "cell_type": "code",
     "collapsed": false,
     "input": [
      "bl = blist(1:4...)\n",
      "b2 = blist(1:4...)\n",
      "egBox(bl,b2)\n",
      "\n"
     ],
     "language": "python",
     "metadata": {},
     "outputs": [
      {
       "metadata": {},
       "output_type": "pyout",
       "prompt_number": 29,
       "text": [
        "true"
       ]
      }
     ],
     "prompt_number": 29
    },
    {
     "cell_type": "code",
     "collapsed": false,
     "input": [
      "bl = blist(1:4...)\n",
      "b2 = blist(1:5...)\n",
      "egBox(bl,b2)"
     ],
     "language": "python",
     "metadata": {},
     "outputs": [
      {
       "metadata": {},
       "output_type": "pyout",
       "prompt_number": 30,
       "text": [
        "false"
       ]
      }
     ],
     "prompt_number": 30
    },
    {
     "cell_type": "code",
     "collapsed": false,
     "input": [
      "bl = blist(1:4...)\n",
      "b2 = blist(1:4...)\n",
      "egBox(M.Box(bl,b2),M.Box(bl,b2)) \n"
     ],
     "language": "python",
     "metadata": {},
     "outputs": [
      {
       "output_type": "stream",
       "stream": "stdout",
       "text": [
        "Made it here 1\n"
       ]
      },
      {
       "output_type": "stream",
       "stream": "stdout",
       "text": [
        "Made it here 2\n",
        "Made it here 2\n"
       ]
      },
      {
       "metadata": {},
       "output_type": "pyout",
       "prompt_number": 31,
       "text": [
        "true"
       ]
      }
     ],
     "prompt_number": 31
    },
    {
     "cell_type": "code",
     "collapsed": false,
     "input": [
      "egBoxOrig(x::M.Box,y::M.Box) = begin\n",
      "    lifo = M.Box[]\n",
      "    xh = x.left\n",
      "    xr = x.right\n",
      "    yh = y.left\n",
      "    yr = y.right\n",
      "    \n",
      "    ## ordering favors small stack for normal lists\n",
      "    push!(lifo, M.Box(xr,yr))\n",
      "    push!(lifo, M.Box(xh,yh))\n",
      "    while(length(lifo) != 0)\n",
      "        bx = pop!(lifo)\n",
      "        a = bx.left\n",
      "        b = bx.right\n",
      "        if isa(a,M.Box) && isa(b,M.Box) \n",
      "            ah = a.left\n",
      "            ar = a.right\n",
      "            bh = b.left\n",
      "            br = b.right\n",
      "            push!(lifo, M.Box(ar,br))\n",
      "            push!(lifo, M.Box(ah,bh))\n",
      "        else  ## dispatch to proper eg method\n",
      "            res = eg(a,b) # <- so this could still lead to stack over flow, but unlikely if tuple is chosen as final compound strcauture\n",
      "            if !res\n",
      "                return false\n",
      "            end\n",
      "        end\n",
      "    end\n",
      "    return true\n",
      "end"
     ],
     "language": "python",
     "metadata": {},
     "outputs": [
      {
       "metadata": {},
       "output_type": "pyout",
       "prompt_number": 34,
       "text": [
        "egBoxOrig (generic function with 1 method)"
       ]
      }
     ],
     "prompt_number": 34
    },
    {
     "cell_type": "code",
     "collapsed": false,
     "input": [
      "## timings\n",
      "\n",
      "function benchLoop3(n)\n",
      "    @show n\n",
      "    ar = fill(2.0, n)\n",
      "    ar2 = fill(2.0,n)\n",
      "\n",
      "    bl = blist(ar...)\n",
      "    bl2 = blist(ar2...)\n",
      "    b1 = M.Box(bl,bl2)\n",
      "    b2 = M.Box(bl,bl2)\n",
      "\n",
      "    egBox(b1,b2)\n",
      "    egBoxOrig(b1,b2)\n",
      "\n",
      "\n",
      "    @show @time_it 2*n egBox(b1,b2)\n",
      "    @show @time_it 2*n egBoxOrig(b1,b2)\n",
      "end\n",
      "\n",
      "benchLoop3(10)"
     ],
     "language": "python",
     "metadata": {},
     "outputs": [
      {
       "output_type": "stream",
       "stream": "stdout",
       "text": [
        "n => 10"
       ]
      },
      {
       "output_type": "stream",
       "stream": "stdout",
       "text": [
        "\n",
        "time per iteration: 81.50 \u03b7s (6.80 bytes/iter, 0.00% gc time)\n",
        "@time_it 2n egBox(b1,b2) => true\n",
        "time per iteration: 188.80 \u03b7s (54.80 bytes/iter, 0.00% gc time)\n",
        "@time_it 2n egBoxOrig(b1,b2) => true\n"
       ]
      },
      {
       "metadata": {},
       "output_type": "pyout",
       "prompt_number": 41,
       "text": [
        "true"
       ]
      }
     ],
     "prompt_number": 41
    },
    {
     "cell_type": "code",
     "collapsed": false,
     "input": [
      "benchLoop3(100_000)"
     ],
     "language": "python",
     "metadata": {},
     "outputs": [
      {
       "output_type": "stream",
       "stream": "stdout",
       "text": [
        "n => 100000"
       ]
      },
      {
       "output_type": "stream",
       "stream": "stdout",
       "text": [
        "\n",
        "time per iteration: 49.20 \u03b7s (0.00 bytes/iter, 0.00% gc time)\n",
        "@time_it 2n egBox(b1,b2) => true\n",
        "time per iteration: "
       ]
      },
      {
       "output_type": "stream",
       "stream": "stdout",
       "text": [
        "109.90 \u03b7s (48.00 bytes/iter, 0.00% gc time)\n",
        "@time_it 2n egBoxOrig(b1,b2) => true\n"
       ]
      },
      {
       "metadata": {},
       "output_type": "pyout",
       "prompt_number": 42,
       "text": [
        "true"
       ]
      }
     ],
     "prompt_number": 42
    },
    {
     "cell_type": "code",
     "collapsed": false,
     "input": [
      "## Ok -- so this gets us as tight as we can for now\n",
      "## TODO:  Make robust unit tests for all these cases\n",
      "## Better profiling and regression utils"
     ],
     "language": "python",
     "metadata": {},
     "outputs": []
    }
   ],
   "metadata": {}
  }
 ]
}