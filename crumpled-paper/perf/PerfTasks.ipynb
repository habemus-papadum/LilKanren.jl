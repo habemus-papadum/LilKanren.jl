{
 "metadata": {
  "language": "Julia",
  "name": "",
  "signature": "sha256:52210152fb404af85935bc8ed1b479be3dbca89a34d439de43d9e51f4d3669ff"
 },
 "nbformat": 3,
 "nbformat_minor": 0,
 "worksheets": [
  {
   "cells": [
    {
     "cell_type": "code",
     "collapsed": false,
     "input": [
      "##Utils\n",
      "function formatNum(x)\n",
      "    @sprintf \"%.2f\"  x\n",
      "end\n",
      "\n",
      "function niceTime(nanos) \n",
      "    if nanos < 1_000.0\n",
      "        \"$(formatNum(nanos)) \u03b7s\"\n",
      "    elseif nanos < 1_000_000.0\n",
      "        \"$(formatNum(nanos/1_000.0)) \u03bcs\"\n",
      "    else \n",
      "        \"$(formatNum(nanos/1_000_000.0)) ms\"\n",
      "    end \n",
      "end\n",
      " \n",
      "## lifted from base\n",
      "function time_p(t,n, b, g)\n",
      "    @printf(\"time per iteration: %s (%.2f bytes/iter, %.2f%% gc time)\\n\", niceTime(t/n), b/n, 100*g/t)\n",
      "end\n",
      "\n",
      "macro time_it(n, ex)\n",
      "    quote\n",
      "        local b0 = Base.gc_bytes()\n",
      "        local t0 = Base.time_ns()\n",
      "        local g0 = Base.gc_time_ns()\n",
      "        local val = $(esc(ex))\n",
      "        local g1 = Base.gc_time_ns()\n",
      "        local t1 = Base.time_ns()\n",
      "        local b1 = Base.gc_bytes()\n",
      "        time_p(t1-t0, $(n), (b1-b0), g1-g0)\n",
      "        val\n",
      "    end\n",
      "end"
     ],
     "language": "python",
     "metadata": {},
     "outputs": [],
     "prompt_number": 5
    },
    {
     "cell_type": "code",
     "collapsed": false,
     "input": [
      "## Perf various issues related to tasks\n",
      "\n"
     ],
     "language": "python",
     "metadata": {},
     "outputs": []
    },
    {
     "cell_type": "code",
     "collapsed": false,
     "input": [
      "## What' the overhead of yield when there is no one waiting\n",
      "\n",
      "function loop(n)\n",
      "    res = 0\n",
      "    for i=1:n\n",
      "        res += 1\n",
      "    end\n",
      "    res\n",
      "end\n",
      "\n",
      "function loopYld(n)\n",
      "    res = 0\n",
      "    for i=1:n\n",
      "        res += i\n",
      "        yield()\n",
      "    end\n",
      "    res\n",
      "end\n"
     ],
     "language": "python",
     "metadata": {},
     "outputs": [
      {
       "metadata": {},
       "output_type": "pyout",
       "prompt_number": 6,
       "text": [
        "loopYld (generic function with 1 method)"
       ]
      }
     ],
     "prompt_number": 6
    },
    {
     "cell_type": "code",
     "collapsed": false,
     "input": [
      "loop(10)\n",
      "loopYld(10)\n",
      "\n",
      "@show n = 1_000_000 \n",
      "@show @time_it  n loop(n)\n",
      "@show @time_it  n loopYld(n)\n",
      "\n",
      "nothing\n"
     ],
     "language": "python",
     "metadata": {},
     "outputs": [
      {
       "output_type": "stream",
       "stream": "stdout",
       "text": [
        "n = 1000000 => 1000000"
       ]
      },
      {
       "output_type": "stream",
       "stream": "stdout",
       "text": [
        "\n",
        "time per iteration: 0.00 \u03b7s (0.00 bytes/iter, 0.00% gc time)\n",
        "@time_it n loop(n) => 1000000\n"
       ]
      },
      {
       "output_type": "stream",
       "stream": "stdout",
       "text": [
        "time per iteration: 921.05 \u03b7s"
       ]
      },
      {
       "output_type": "stream",
       "stream": "stdout",
       "text": [
        " (0.01 bytes/iter, 0.00% gc time)\n",
        "@time_it n loopYld(n) => 500000500000\n"
       ]
      }
     ],
     "prompt_number": 8
    },
    {
     "cell_type": "code",
     "collapsed": true,
     "input": [
      "@code_native loop(n)"
     ],
     "language": "python",
     "metadata": {},
     "outputs": [
      {
       "output_type": "stream",
       "stream": "stdout",
       "text": [
        "\t.section\t__TEXT,__text,regular,pure_instructions\n",
        "Filename: In[6]\n",
        "Source line: 8\n",
        "\tpush\tRBP\n",
        "\tmov\tRBP, RSP\n",
        "\ttest\tRDI, RDI\n",
        "\tjg\t2\n",
        "\txor\tEDI, EDI\n",
        "Source line: 8\n",
        "\tmov\tRAX, RDI\n",
        "\tpop\tRBP\n",
        "\tret\n"
       ]
      }
     ],
     "prompt_number": 9
    },
    {
     "cell_type": "code",
     "collapsed": false,
     "input": [
      "@code_native loop(1_000_000)"
     ],
     "language": "python",
     "metadata": {},
     "outputs": [
      {
       "output_type": "stream",
       "stream": "stdout",
       "text": [
        "\t.section\t__TEXT,__text,regular,pure_instructions\n",
        "Filename: In[6]\n",
        "Source line: 8\n",
        "\tpush\tRBP\n",
        "\tmov\tRBP, RSP\n",
        "\ttest\tRDI, RDI\n",
        "\tjg\t2\n",
        "\txor\tEDI, EDI\n",
        "Source line: 8\n",
        "\tmov\tRAX, RDI\n",
        "\tpop\tRBP\n",
        "\tret\n"
       ]
      }
     ],
     "prompt_number": 10
    },
    {
     "cell_type": "code",
     "collapsed": false,
     "input": [
      "## llvm is smarter than the avg bear...\n",
      "\n",
      "function loop(n)\n",
      "    res = 0\n",
      "    for i=1:n\n",
      "        res += i*res\n",
      "    end\n",
      "    res\n",
      "end\n"
     ],
     "language": "python",
     "metadata": {},
     "outputs": [
      {
       "metadata": {},
       "output_type": "pyout",
       "prompt_number": 11,
       "text": [
        "loop (generic function with 1 method)"
       ]
      }
     ],
     "prompt_number": 11
    },
    {
     "cell_type": "code",
     "collapsed": false,
     "input": [
      "loop(10)\n",
      "loopYld(10)\n",
      "\n",
      "@show n = 1_000_000 \n",
      "@show @time_it  n loop(n)\n",
      "@show @time_it  n loopYld(n)\n"
     ],
     "language": "python",
     "metadata": {},
     "outputs": [
      {
       "output_type": "stream",
       "stream": "stdout",
       "text": [
        "n = 1000000 => 1000000"
       ]
      },
      {
       "output_type": "stream",
       "stream": "stdout",
       "text": [
        "\n",
        "time per iteration: 1.34 \u03b7s (0.00 bytes/iter, 0.00% gc time)\n",
        "@time_it n loop(n) => 0\n"
       ]
      },
      {
       "output_type": "stream",
       "stream": "stdout",
       "text": [
        "time per iteration: 923.85 \u03b7s"
       ]
      },
      {
       "output_type": "stream",
       "stream": "stdout",
       "text": [
        " (0.01 bytes/iter, 0.00% gc time)\n",
        "@time_it n loopYld(n) => 500000500000\n"
       ]
      },
      {
       "metadata": {},
       "output_type": "pyout",
       "prompt_number": 12,
       "text": [
        "500000500000"
       ]
      }
     ],
     "prompt_number": 12
    },
    {
     "cell_type": "code",
     "collapsed": false,
     "input": [
      "## anyway  -- moving on \n",
      "## (Summary -- waste 1micro yielding unecessarily)\n",
      "\n"
     ],
     "language": "python",
     "metadata": {},
     "outputs": []
    },
    {
     "cell_type": "code",
     "collapsed": false,
     "input": [
      "## two tasks contending\n",
      "\n",
      "function loopContention(n)\n",
      "    t = Task(() -> loopYld(int(n/2)))\n",
      "    schedule(t)\n",
      "    loopYld(int(n/2))\n",
      "    wait(t)\n",
      "end\n",
      "\n"
     ],
     "language": "python",
     "metadata": {},
     "outputs": [
      {
       "metadata": {},
       "output_type": "pyout",
       "prompt_number": 13,
       "text": [
        "loopContention (generic function with 1 method)"
       ]
      }
     ],
     "prompt_number": 13
    },
    {
     "cell_type": "code",
     "collapsed": false,
     "input": [
      "loopContention(10)"
     ],
     "language": "python",
     "metadata": {},
     "outputs": [
      {
       "metadata": {},
       "output_type": "pyout",
       "prompt_number": 14,
       "text": [
        "15"
       ]
      }
     ],
     "prompt_number": 14
    },
    {
     "cell_type": "code",
     "collapsed": false,
     "input": [
      "@show n = 1_000_000\n",
      "@show @time_it  n loopContention(n)"
     ],
     "language": "python",
     "metadata": {},
     "outputs": [
      {
       "output_type": "stream",
       "stream": "stdout",
       "text": [
        "n = 1000000 => 1000000"
       ]
      },
      {
       "output_type": "stream",
       "stream": "stdout",
       "text": [
        "\n"
       ]
      },
      {
       "output_type": "stream",
       "stream": "stdout",
       "text": [
        "time per iteration: 1.19 \u03bcs"
       ]
      },
      {
       "output_type": "stream",
       "stream": "stdout",
       "text": [
        " (0.01 bytes/iter, 0.00% gc time)\n",
        "@time_it n loopContention(n) => 125000250000\n"
       ]
      },
      {
       "metadata": {},
       "output_type": "pyout",
       "prompt_number": 16,
       "text": [
        "125000250000"
       ]
      }
     ],
     "prompt_number": 16
    },
    {
     "cell_type": "code",
     "collapsed": false,
     "input": [
      "n/2*(n/2+1)/2"
     ],
     "language": "python",
     "metadata": {},
     "outputs": [
      {
       "metadata": {},
       "output_type": "pyout",
       "prompt_number": 19,
       "text": [
        "1.2500025e11"
       ]
      }
     ],
     "prompt_number": 19
    },
    {
     "cell_type": "code",
     "collapsed": false,
     "input": [
      "## So 1micro of pain, but that's it\n",
      "\n",
      "## what about many tasks?  -- later"
     ],
     "language": "python",
     "metadata": {},
     "outputs": []
    },
    {
     "cell_type": "code",
     "collapsed": false,
     "input": [
      "c = Condition()\n",
      "t = Task(() -> begin\n",
      "    for i=1:3\n",
      "        wait(c)\n",
      "        println(i)\n",
      "    end\n",
      "    println(\"done\")\n",
      "end)"
     ],
     "language": "python",
     "metadata": {},
     "outputs": [
      {
       "metadata": {},
       "output_type": "pyout",
       "prompt_number": 20,
       "text": [
        "Task (runnable) @0x00007f99346f70c0"
       ]
      }
     ],
     "prompt_number": 20
    },
    {
     "cell_type": "code",
     "collapsed": false,
     "input": [
      "schedule(t)"
     ],
     "language": "python",
     "metadata": {},
     "outputs": [
      {
       "metadata": {},
       "output_type": "pyout",
       "prompt_number": 21,
       "text": [
        "Task (waiting) @0x00007f99346f70c0"
       ]
      }
     ],
     "prompt_number": 21
    },
    {
     "cell_type": "code",
     "collapsed": false,
     "input": [
      "notify(c)"
     ],
     "language": "python",
     "metadata": {},
     "outputs": [
      {
       "output_type": "stream",
       "stream": "stdout",
       "text": [
        "1"
       ]
      },
      {
       "output_type": "stream",
       "stream": "stdout",
       "text": [
        "\n"
       ]
      }
     ],
     "prompt_number": 22
    },
    {
     "cell_type": "code",
     "collapsed": false,
     "input": [
      "notify(c);notify(c) "
     ],
     "language": "python",
     "metadata": {},
     "outputs": [
      {
       "output_type": "stream",
       "stream": "stdout",
       "text": [
        "2"
       ]
      },
      {
       "output_type": "stream",
       "stream": "stdout",
       "text": [
        "\n"
       ]
      }
     ],
     "prompt_number": 23
    },
    {
     "cell_type": "code",
     "collapsed": false,
     "input": [
      "notify(c) "
     ],
     "language": "python",
     "metadata": {},
     "outputs": [
      {
       "output_type": "stream",
       "stream": "stdout",
       "text": [
        "3"
       ]
      },
      {
       "output_type": "stream",
       "stream": "stdout",
       "text": [
        "\n"
       ]
      },
      {
       "output_type": "stream",
       "stream": "stdout",
       "text": [
        "done\n"
       ]
      }
     ],
     "prompt_number": 24
    },
    {
     "cell_type": "code",
     "collapsed": false,
     "input": [
      "## notifying too quickly causes a glitch...."
     ],
     "language": "python",
     "metadata": {},
     "outputs": []
    },
    {
     "cell_type": "code",
     "collapsed": false,
     "input": [
      "## futher test -- Condition latency\n",
      "n = 10_000\n",
      "ts = zeros(n,3)\n",
      "\n",
      "c = Condition()\n",
      "\n",
      "t = Task(() -> begin\n",
      "    println(\"Starting t1\")\n",
      "    for i=1:n\n",
      "        ts[i,1] = Base.time_ns()\n",
      "        notify(c)\n",
      "        ts[i,2] = Base.time_ns()\n",
      "        yield() \n",
      "    end\n",
      "    println(\"done t1\")\n",
      "end)\n",
      "\n",
      "t2 = Task(() -> begin\n",
      "    println(\"Starting t2\")\n",
      "    for i=1:n\n",
      "        wait(c)\n",
      "        ts[i,3] = Base.time_ns()\n",
      "    end\n",
      "    println(\"done t2\")\n",
      "end\n",
      ")\n"
     ],
     "language": "python",
     "metadata": {},
     "outputs": [
      {
       "metadata": {},
       "output_type": "pyout",
       "prompt_number": 45,
       "text": [
        "Task (runnable) @0x00007f99621cc8c0"
       ]
      }
     ],
     "prompt_number": 45
    },
    {
     "cell_type": "code",
     "collapsed": false,
     "input": [
      "schedule(t2)\n",
      "\n",
      "schedule(t)"
     ],
     "language": "python",
     "metadata": {},
     "outputs": [
      {
       "output_type": "stream",
       "stream": "stdout",
       "text": [
        "Starting t2Starting t1"
       ]
      },
      {
       "metadata": {},
       "output_type": "pyout",
       "prompt_number": 46,
       "text": [
        "Task (queued) @0x00007f99621cc700"
       ]
      },
      {
       "output_type": "stream",
       "stream": "stdout",
       "text": [
        "\n",
        "\n"
       ]
      },
      {
       "output_type": "stream",
       "stream": "stdout",
       "text": [
        "done t2done t1\n",
        "\n"
       ]
      }
     ],
     "prompt_number": 46
    },
    {
     "cell_type": "code",
     "collapsed": false,
     "input": [
      "notify_nanos = ts[:,2] - ts[:,1];\n",
      "@show mean(notify_nanos)\n",
      "@show median(notify_nanos)\n",
      "@show std(notify_nanos)"
     ],
     "language": "python",
     "metadata": {},
     "outputs": [
      {
       "output_type": "stream",
       "stream": "stdout",
       "text": [
        "mean(notify_nanos) => 619.616"
       ]
      },
      {
       "output_type": "stream",
       "stream": "stdout",
       "text": [
        "\n",
        "median(notify_nanos) => 571.0\n",
        "std(notify_nanos) => 353.9966781042032\n"
       ]
      },
      {
       "metadata": {},
       "output_type": "pyout",
       "prompt_number": 47,
       "text": [
        "353.9966781042032"
       ]
      }
     ],
     "prompt_number": 47
    },
    {
     "cell_type": "code",
     "collapsed": false,
     "input": [
      "latency_nanos = ts[:,3] - ts[:,1];\n",
      "@show mean(latency_nanos)\n",
      "@show median(latency_nanos)\n",
      "@show std(latency_nanos)\n",
      "@show minimum(latency_nanos)\n",
      "@show maximum(latency_nanos)"
     ],
     "language": "python",
     "metadata": {},
     "outputs": [
      {
       "output_type": "stream",
       "stream": "stdout",
       "text": [
        "mean(latency_nanos) => 2081.3141"
       ]
      },
      {
       "output_type": "stream",
       "stream": "stdout",
       "text": [
        "\n",
        "median(latency_nanos) => 1964.0\n",
        "std(latency_nanos) => 709.6143138977953\n",
        "minimum(latency_nanos) => 1852.0\n",
        "maximum(latency_nanos) => 31049.0\n"
       ]
      },
      {
       "metadata": {},
       "output_type": "pyout",
       "prompt_number": 50,
       "text": [
        "31049.0"
       ]
      }
     ],
     "prompt_number": 50
    },
    {
     "cell_type": "code",
     "collapsed": false,
     "input": [
      "ns = ts[:,3] - ts[:,2];\n",
      "@show mean(ns)\n",
      "@show median(ns)\n",
      "@show std(ns)\n",
      "@show minimum(ns)\n",
      "@show maximum(ns)\n",
      "\n"
     ],
     "language": "python",
     "metadata": {},
     "outputs": [
      {
       "output_type": "stream",
       "stream": "stdout",
       "text": [
        "mean(ns) => 1461.6981"
       ]
      },
      {
       "output_type": "stream",
       "stream": "stdout",
       "text": [
        "\n",
        "median(ns) => 1389.0\n",
        "std(ns) => 511.18440401275996\n",
        "minimum(ns) => 1307.0\n",
        "maximum(ns) => 17800.0\n"
       ]
      },
      {
       "metadata": {},
       "output_type": "pyout",
       "prompt_number": 49,
       "text": [
        "17800.0"
       ]
      }
     ],
     "prompt_number": 49
    },
    {
     "cell_type": "code",
     "collapsed": false,
     "input": [
      "## So -- looks like on the order of 1-2 micro latency in using conditions, with some fat tails"
     ],
     "language": "python",
     "metadata": {},
     "outputs": []
    }
   ],
   "metadata": {}
  }
 ]
}