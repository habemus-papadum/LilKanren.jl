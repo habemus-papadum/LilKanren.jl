{
 "metadata": {
  "language": "Julia",
  "name": "",
  "signature": "sha256:f2ea208780ea953ad093e7590825c7ae2a7d7683e663072e473230aca8437ed6"
 },
 "nbformat": 3,
 "nbformat_minor": 0,
 "worksheets": [
  {
   "cells": [
    {
     "cell_type": "code",
     "collapsed": false,
     "input": [
      "## Scanning github issues and julia mailing lists\n",
      "## I see all sorts of references to the complicated nature\n",
      "## of dispatching basied on tuple type\n",
      "\n",
      "## here we investigate some possible issues\n",
      "##  -- First dispatch performance\n",
      "##  -- Second replacing recursion with a stack\n"
     ],
     "language": "python",
     "metadata": {},
     "outputs": []
    },
    {
     "cell_type": "code",
     "collapsed": false,
     "input": [
      "##Utils\n",
      "function formatNum(x)\n",
      "    @sprintf \"%.2f\"  x\n",
      "end\n",
      "\n",
      "function niceTime(nanos) \n",
      "    if nanos < 1_000.0\n",
      "        \"$(formatNum(nanos)) \u03b7s\"\n",
      "    elseif nanos < 1_000_000.0\n",
      "        \"$(formatNum(nanos/1_000.0)) \u03bcs\"\n",
      "    else \n",
      "        \"$(formatNum(nanos/1_000_000.0)) ms\"\n",
      "    end \n",
      "end\n",
      " \n",
      "## lifted from base\n",
      "function time_p(t,n, b, g)\n",
      "    @printf(\"time per iteration: %s (%.2f bytes/iter, %.2f%% gc time)\\n\", niceTime(t/n), b/n, 100*g/t)\n",
      "end\n",
      "\n",
      "macro time_it(n, ex)\n",
      "    quote\n",
      "        local b0 = Base.gc_bytes()\n",
      "        local t0 = Base.time_ns()\n",
      "        local g0 = Base.gc_time_ns()\n",
      "        local val = $(esc(ex))\n",
      "        local g1 = Base.gc_time_ns()\n",
      "        local t1 = Base.time_ns()\n",
      "        local b1 = Base.gc_bytes()\n",
      "        time_p(t1-t0, $(n), (b1-b0), g1-g0)\n",
      "        val\n",
      "    end\n",
      "end"
     ],
     "language": "python",
     "metadata": {},
     "outputs": [],
     "prompt_number": 2
    },
    {
     "cell_type": "code",
     "collapsed": false,
     "input": [
      "list() = ()\n",
      "list(x...) = (x[1], list(x[2:end]...))\n",
      "const \u2740 = list  # There should be more flowers in CS\n",
      "\n",
      "@show \u2740(1,2,3,4)"
     ],
     "language": "python",
     "metadata": {},
     "outputs": [
      {
       "output_type": "stream",
       "stream": "stdout",
       "text": [
        "\u2740(1,2,3,4) => (1,(2,(3,(4,()))))"
       ]
      },
      {
       "output_type": "stream",
       "stream": "stdout",
       "text": [
        "\n"
       ]
      },
      {
       "metadata": {},
       "output_type": "pyout",
       "prompt_number": 3,
       "text": [
        "(1,(2,(3,(4,()))))"
       ]
      }
     ],
     "prompt_number": 3
    },
    {
     "cell_type": "code",
     "collapsed": false,
     "input": [
      "n = 10_000\n",
      "ar = ones(n)\n",
      "tuplist = list(ar...)\n",
      "\n",
      "nothing"
     ],
     "language": "python",
     "metadata": {},
     "outputs": [],
     "prompt_number": 3
    },
    {
     "cell_type": "code",
     "collapsed": false,
     "input": [
      "#introduce a simple Box that the type inferencer/dipatch code does not know anything about\n",
      "\n",
      "module M \n",
      "    immutable type Box\n",
      "        left\n",
      "        right\n",
      "    end\n",
      "end \n",
      "\n",
      "blist()  = ()\n",
      "blist(x...) = M.Box(x[1], blist(x[2:end]...))"
     ],
     "language": "python",
     "metadata": {},
     "outputs": [
      {
       "metadata": {},
       "output_type": "pyout",
       "prompt_number": 3,
       "text": [
        "blist (generic function with 2 methods)"
       ]
      }
     ],
     "prompt_number": 3
    },
    {
     "cell_type": "code",
     "collapsed": false,
     "input": [
      "blist(1,2,3,4)"
     ],
     "language": "python",
     "metadata": {},
     "outputs": [
      {
       "metadata": {},
       "output_type": "pyout",
       "prompt_number": 6,
       "text": [
        "Box(1,Box(2,Box(3,Box(4,()))))"
       ]
      }
     ],
     "prompt_number": 6
    },
    {
     "cell_type": "code",
     "collapsed": false,
     "input": [
      "## test creation time\n",
      "\n",
      "@show  n = 500\n",
      "#warmup\n",
      "ar = ones(n)\n",
      "tuplist = list(ar...)\n",
      "bxlist =  blist(ar...)\n",
      "\n",
      "\n",
      "@time_it n ones(n)\n",
      "@time_it n list(ar...)\n",
      "@time_it n blist(ar...)\n",
      "\n",
      "@show n = 1_000\n",
      "ar = ones(n)\n",
      "@time_it n ones(n)\n",
      "@time_it n list(ar...)\n",
      "@time_it n blist(ar...)\n",
      "\n",
      "@show n = 2_000\n",
      "ar = ones(n)\n",
      "@time_it n ones(n)\n",
      "@time_it n list(ar...)\n",
      "@time_it n blist(ar...)\n",
      "\n",
      "nothing"
     ],
     "language": "python",
     "metadata": {},
     "outputs": [
      {
       "output_type": "stream",
       "stream": "stdout",
       "text": [
        "n = 500 => 500"
       ]
      },
      {
       "output_type": "stream",
       "stream": "stdout",
       "text": [
        "\n",
        "time per iteration: 10.45 \u03b7s (8.29 bytes/iter, 0.00% gc time)\n",
        "time per iteration: 54.01 \u03bcs (10406.66 bytes/iter, 0.00% gc time)\n",
        "time per iteration: "
       ]
      },
      {
       "output_type": "stream",
       "stream": "stdout",
       "text": [
        "54.56 \u03bcs (10414.66 bytes/iter, 0.00% gc time)\n",
        "n = 1000 => 1000\n",
        "time per iteration: 3.61 \u03b7s (8.14 bytes/iter, 0.00% gc time)\n",
        "time per iteration: "
       ]
      },
      {
       "output_type": "stream",
       "stream": "stdout",
       "text": [
        "111.24 \u03bcs (22228.42 bytes/iter, 0.00% gc time)\n",
        "time per iteration: "
       ]
      },
      {
       "output_type": "stream",
       "stream": "stdout",
       "text": [
        "109.17 \u03bcs (22236.42 bytes/iter, 0.00% gc time)\n",
        "n = 2000 => 2000\n",
        "time per iteration: 2.57 \u03b7s (8.07 bytes/iter, 0.00% gc time)\n",
        "time per iteration: "
       ]
      },
      {
       "output_type": "stream",
       "stream": "stdout",
       "text": [
        "216.12 \u03bcs (49138.42 bytes/iter, 0.00% gc time)\n",
        "time per iteration: "
       ]
      },
      {
       "output_type": "stream",
       "stream": "stdout",
       "text": [
        "216.51 \u03bcs (49146.42 bytes/iter, 0.00% gc time)\n"
       ]
      }
     ],
     "prompt_number": 12
    },
    {
     "cell_type": "code",
     "collapsed": false,
     "input": [
      "## No big difference between Tuple and Box\n",
      "## But creation time for both grows as N^2 (time per iteration grows as N, rather than const)\n",
      "\n",
      "## two explanations\n",
      "## Immutablility means that julia makes a copy on each fucntion call\n",
      "## Or splatting is causing problesm\n",
      "\n",
      "# test impact immutability\n",
      "module M2 \n",
      "    type MBox\n",
      "        left\n",
      "        right\n",
      "    end\n",
      "end \n",
      "\n",
      "mblist() = ()\n",
      "mblist(x...) = M2.MBox(x[1], blist(x[2:end]...))\n",
      "mblist(1,2,3,4)"
     ],
     "language": "python",
     "metadata": {},
     "outputs": [
      {
       "metadata": {},
       "output_type": "pyout",
       "prompt_number": 4,
       "text": [
        "MBox(1,Box(2,Box(3,Box(4,()))))"
       ]
      }
     ],
     "prompt_number": 4
    },
    {
     "cell_type": "code",
     "collapsed": false,
     "input": [
      "@show  n = 500\n",
      "#warmup\n",
      "ar = ones(n)\n",
      "tuplist = list(ar...)\n",
      "bxlist =  blist(ar...)\n",
      "mbxlist = mblist(ar...)\n",
      "\n",
      "@time_it n ones(n)\n",
      "@time_it n list(ar...)\n",
      "@time_it n blist(ar...)\n",
      "@time_it n mblist(ar...)\n",
      "\n",
      "@show n = 1_000\n",
      "ar = ones(n)\n",
      "@time_it n ones(n)\n",
      "@time_it n list(ar...)\n",
      "@time_it n blist(ar...)\n",
      "@time_it n mblist(ar...)\n",
      "\n",
      "@show n = 2_000\n",
      "ar = ones(n)\n",
      "@time_it n ones(n)\n",
      "@time_it n list(ar...)\n",
      "@time_it n blist(ar...)\n",
      "@time_it n mblist(ar...)\n",
      "\n",
      "nothing"
     ],
     "language": "python",
     "metadata": {},
     "outputs": [
      {
       "output_type": "stream",
       "stream": "stdout",
       "text": [
        "n = 500 => 500"
       ]
      },
      {
       "output_type": "stream",
       "stream": "stdout",
       "text": [
        "\n",
        "time per iteration: 8.31 \u03b7s (8.29 bytes/iter, 0.00% gc time)\n",
        "time per iteration: "
       ]
      },
      {
       "output_type": "stream",
       "stream": "stdout",
       "text": [
        "52.70 \u03bcs (10406.66 bytes/iter, 0.00% gc time)\n",
        "time per iteration: 55.78 \u03bcs (10414.66 bytes/iter, 0.00% gc time)\n",
        "time per iteration: 54.07 \u03bcs (10414.66 bytes/iter, 0.00% gc time)\n",
        "n = 1000 => 1000\n",
        "time per iteration: 3.68 \u03b7s (8.14 bytes/iter, 0.00% gc time)\n",
        "time per iteration: "
       ]
      },
      {
       "output_type": "stream",
       "stream": "stdout",
       "text": [
        "107.62 \u03bcs (22228.42 bytes/iter, 0.00% gc time)\n",
        "time per iteration: "
       ]
      },
      {
       "output_type": "stream",
       "stream": "stdout",
       "text": [
        "107.59 \u03bcs (22236.42 bytes/iter, 0.00% gc time)\n",
        "time per iteration: "
       ]
      },
      {
       "output_type": "stream",
       "stream": "stdout",
       "text": [
        "109.36 \u03bcs (22236.42 bytes/iter, 0.00% gc time)\n",
        "n = 2000 => 2000\n",
        "time per iteration: 2.83 \u03b7s (8.07 bytes/iter, 0.00% gc time)\n",
        "time per iteration: "
       ]
      },
      {
       "output_type": "stream",
       "stream": "stdout",
       "text": [
        "216.17 \u03bcs (49138.42 bytes/iter, 0.00% gc time)\n",
        "time per iteration: "
       ]
      },
      {
       "output_type": "stream",
       "stream": "stdout",
       "text": [
        "219.70 \u03bcs (49146.42 bytes/iter, 0.00% gc time)\n",
        "time per iteration: "
       ]
      },
      {
       "output_type": "stream",
       "stream": "stdout",
       "text": [
        "220.50 \u03bcs (49146.42 bytes/iter, 0.00% gc time)\n"
       ]
      }
     ],
     "prompt_number": 15
    },
    {
     "cell_type": "code",
     "collapsed": false,
     "input": [
      "## mutability makes no difference (duh -- there are no tuples/box/mboxes ever being passed as args in any of these tests)\n",
      "\n",
      "## the issue is the x[2:end]\n",
      "\n",
      "## test interative versions\n",
      "list(x...)  = begin\n",
      "    result = ()\n",
      "    for i=length(x):-1:1\n",
      "        result = (x[i],result)\n",
      "    end\n",
      "    result\n",
      "\n",
      "end\n",
      "\n",
      "blist(x...) = begin\n",
      "    result = ()\n",
      "    for i=length(x):-1:1\n",
      "        result = M.Box(x[i],result)\n",
      "    end\n",
      "    result\n",
      "end\n",
      "\n",
      "mblist(x...) = begin\n",
      "    result = ()\n",
      "    for i=length(x):-1:1\n",
      "        result = M2.MBox(x[i],result)\n",
      "    end\n",
      "    result\n",
      "end\n",
      "\n",
      "@show \u2740(1,2,3,4)\n",
      "@show blist(1,2,3,4)\n",
      "@show mblist(1,2,3,4)\n",
      "\n",
      "nothing"
     ],
     "language": "python",
     "metadata": {},
     "outputs": [
      {
       "output_type": "stream",
       "stream": "stdout",
       "text": [
        "\u2740(1,2,3,4) => (1,(2,(3,(4,()))))"
       ]
      },
      {
       "output_type": "stream",
       "stream": "stdout",
       "text": [
        "\n",
        "blist(1,2,3,4) => Box(1,Box(2,Box(3,Box(4,()))))\n",
        "mblist(1,2,3,4) => MBox(1,MBox(2,MBox(3,MBox(4,()))))\n"
       ]
      }
     ],
     "prompt_number": 5
    },
    {
     "cell_type": "code",
     "collapsed": false,
     "input": [
      "## redo creation timings\n",
      "\n",
      "@show  n = 500\n",
      "#warmup\n",
      "ar = ones(n)\n",
      "tuplist = list(ar...)\n",
      "bxlist =  blist(ar...)\n",
      "mbxlist = mblist(ar...)\n",
      "\n",
      "@time_it n ones(n)\n",
      "@time_it n list(ar...)\n",
      "@time_it n blist(ar...)\n",
      "@time_it n mblist(ar...)\n",
      "\n",
      "@show n = 1_000\n",
      "ar = ones(n)\n",
      "@time_it n ones(n)\n",
      "@time_it n list(ar...)\n",
      "@time_it n blist(ar...)\n",
      "@time_it n mblist(ar...)\n",
      "\n",
      "@show n = 2_000\n",
      "ar = ones(n)\n",
      "@time_it n ones(n)\n",
      "@time_it n list(ar...)\n",
      "@time_it n blist(ar...)\n",
      "@time_it n mblist(ar...)\n",
      "\n",
      "nothing"
     ],
     "language": "python",
     "metadata": {},
     "outputs": [
      {
       "output_type": "stream",
       "stream": "stdout",
       "text": [
        "n = 500 => 500"
       ]
      },
      {
       "output_type": "stream",
       "stream": "stdout",
       "text": [
        "\n",
        "time per iteration: 6.70 \u03b7s (8.29 bytes/iter, 0.00% gc time)\n",
        "time per iteration: 36.58 \u03b7s (65.66 bytes/iter, 0.00% gc time)\n",
        "time per iteration: 68.41 \u03b7s (73.66 bytes/iter, 0.00% gc time)\n",
        "time per iteration: 86.21 \u03b7s (73.66 bytes/iter, 0.00% gc time)\n",
        "n = 1000 => 1000\n",
        "time per iteration: 4.35 \u03b7s (8.14 bytes/iter, 0.00% gc time)\n",
        "time per iteration: 38.56 \u03b7s (65.06 bytes/iter, 0.00% gc time)\n",
        "time per iteration: 63.71 \u03b7s (73.06 bytes/iter, 0.00% gc time)\n",
        "time per iteration: 76.11 \u03b7s (73.06 bytes/iter, 0.00% gc time)\n",
        "n = 2000 => 2000\n",
        "time per iteration: 2.47 \u03b7s (8.07 bytes/iter, 0.00% gc time)\n",
        "time per iteration: 39.60 \u03b7s (64.74 bytes/iter, 0.00% gc time)\n",
        "time per iteration: 68.17 \u03b7s (72.74 bytes/iter, 0.00% gc time)\n",
        "time per iteration: 76.78 \u03b7s (72.74 bytes/iter, 0.00% gc time)\n"
       ]
      }
     ],
     "prompt_number": 20
    },
    {
     "cell_type": "code",
     "collapsed": false,
     "input": [
      "## fine now we have constant perf\n",
      "## and we see that julia's tuples win\n",
      "## and the mutablility has a cost\n",
      "##\n",
      "## So we are ready to move on to the real investigation\n",
      "## Investigating the cost of equality checking\n",
      "\n",
      "## first lets check differnce between == and ===\n",
      "egal(x,y) = x===y\n",
      "eq(x,y) = x==y\n",
      "\n",
      "n = 10_000\n",
      "ar = fill((2.0, \u03c0), n)\n",
      "ar2 = fill((2.0, \u03c0), n)\n",
      "\n",
      "loopeq(x,y) = begin\n",
      "    res = true\n",
      "    for i = 1:length(x)\n",
      "        res &= eq(x[i],y[i])\n",
      "    end\n",
      "    res\n",
      "end\n",
      "\n",
      "loopegal(x,y) = begin\n",
      "    res = true\n",
      "    for i = 1:length(x)\n",
      "        res &= egal(x[i],y[i])\n",
      "    end\n",
      "    res\n",
      "end\n",
      "\n",
      "loopeq(ar,ar2)\n",
      "loopegal(ar,ar2)\n"
     ],
     "language": "python",
     "metadata": {},
     "outputs": [
      {
       "metadata": {},
       "output_type": "pyout",
       "prompt_number": 8,
       "text": [
        "true"
       ]
      }
     ],
     "prompt_number": 8
    },
    {
     "cell_type": "code",
     "collapsed": false,
     "input": [
      "@show n = 100_000\n",
      "ar = fill((2.0, \u03c0), n)\n",
      "ar2 = fill((2.0, \u03c0), n)\n",
      "\n",
      "@time_it n loopeq(ar,ar2)\n",
      "@time_it n loopegal(ar,ar2)\n",
      "\n",
      "ar = fill(2.0, n)\n",
      "ar2 = fill(2.0, n)\n",
      "@time_it n loopeq(ar,ar2)\n",
      "@time_it n loopegal(ar,ar2)\n"
     ],
     "language": "python",
     "metadata": {},
     "outputs": [
      {
       "output_type": "stream",
       "stream": "stdout",
       "text": [
        "n = 100000 => 100000"
       ]
      },
      {
       "output_type": "stream",
       "stream": "stdout",
       "text": [
        "\n",
        "time per iteration: "
       ]
      },
      {
       "output_type": "stream",
       "stream": "stdout",
       "text": [
        "109.33 \u03b7s (0.00 bytes/iter, 0.00% gc time)\n",
        "time per iteration: 15.16 \u03b7s (0.00 bytes/iter, 0.00% gc time)\n",
        "time per iteration: 1.96 \u03b7s (0.00 bytes/iter, 0.00% gc time)\n",
        "time per iteration: 1.31 \u03b7s (0.00 bytes/iter, 0.00% gc time)\n"
       ]
      },
      {
       "metadata": {},
       "output_type": "pyout",
       "prompt_number": 27,
       "text": [
        "true"
       ]
      }
     ],
     "prompt_number": 27
    },
    {
     "cell_type": "code",
     "collapsed": false,
     "input": [
      "## Unexpected --> egal is faster than eq\n",
      "\n",
      "## One more example\n",
      "\n",
      "@show n = 100_000\n",
      "ar = fill(list((1:10)...), n)\n",
      "ar2 = fill(list((1:10)...), n)\n",
      "\n",
      "@time_it n loopeq(ar,ar2)\n",
      "@time_it n loopegal(ar,ar2)"
     ],
     "language": "python",
     "metadata": {},
     "outputs": [
      {
       "output_type": "stream",
       "stream": "stdout",
       "text": [
        "n = 100000 => 100000"
       ]
      },
      {
       "output_type": "stream",
       "stream": "stdout",
       "text": [
        "\n",
        "time per iteration: "
       ]
      },
      {
       "output_type": "stream",
       "stream": "stdout",
       "text": [
        "48.71 \u03bcs (2.18 bytes/iter, 0.00% gc time)\n",
        "time per iteration: 157.63 \u03b7s (0.96 bytes/iter, 0.00% gc time)\n"
       ]
      },
      {
       "metadata": {},
       "output_type": "pyout",
       "prompt_number": 28,
       "text": [
        "true"
       ]
      }
     ],
     "prompt_number": 28
    },
    {
     "cell_type": "code",
     "collapsed": false,
     "input": [
      "## results stand -- egal is faster....\n"
     ],
     "language": "python",
     "metadata": {},
     "outputs": []
    },
    {
     "cell_type": "code",
     "collapsed": false,
     "input": [
      "## ok now onto equlivalence testing\n",
      "eg(x,y) = x===y\n",
      "eg{T}(x::Array{T,1},y::Array{T,1}) = begin\n",
      "    if (length(x) != length(y))\n",
      "        return false\n",
      "    end\n",
      "    for i=1:length(x)\n",
      "        if !eg(x[i],y[i])\n",
      "            return false\n",
      "        end\n",
      "    end\n",
      "    return true\n",
      "end\n",
      "\n",
      "eg(fill(2.0, 3),fill(2.0, 3))"
     ],
     "language": "python",
     "metadata": {},
     "outputs": [
      {
       "metadata": {},
       "output_type": "pyout",
       "prompt_number": 7,
       "text": [
        "true"
       ]
      }
     ],
     "prompt_number": 7
    },
    {
     "cell_type": "code",
     "collapsed": false,
     "input": [
      "## recursive version\n",
      "\n",
      "eg(x::(Any,Any),y::(Any,Any)) = begin\n",
      "    (xh,xr) = x\n",
      "    (yh,yr) = y\n",
      "    if eg(xh,yh)\n",
      "        return eg(xr,yr)\n",
      "    else\n",
      "        return false\n",
      "    end\n",
      "end\n",
      "\n",
      "eg(\u2740(1,2,3,4),\u2740(1,2,3,4))"
     ],
     "language": "python",
     "metadata": {},
     "outputs": [
      {
       "metadata": {},
       "output_type": "pyout",
       "prompt_number": 8,
       "text": [
        "true"
       ]
      }
     ],
     "prompt_number": 8
    },
    {
     "cell_type": "code",
     "collapsed": false,
     "input": [
      "## timings\n",
      "\n",
      "@show n = 10_000\n",
      "ar = fill(2.0, n)\n",
      "ar2 = fill(2.0,n)\n",
      "\n",
      "l = \u2740(ar...)\n",
      "l2 = \u2740(ar2...)\n",
      "\n",
      "@show @time_it n eg(ar,ar2)\n",
      "@show @time_it n eg(l,l2)\n",
      "\n",
      "@show n = 100_000\n",
      "ar = fill(2.0, n)\n",
      "ar2 = fill(2.0,n)\n",
      "\n",
      "l = \u2740(ar...)\n",
      "l2 = \u2740(ar2...)\n",
      "\n",
      "@show @time_it n eg(ar,ar2)\n",
      "@show @time_it n eg(l,l2)\n"
     ],
     "language": "python",
     "metadata": {},
     "outputs": [
      {
       "output_type": "stream",
       "stream": "stdout",
       "text": [
        "n = 10000 => 10000"
       ]
      },
      {
       "output_type": "stream",
       "stream": "stdout",
       "text": [
        "\n",
        "time per iteration: 57.30 \u03b7s (1"
       ]
      },
      {
       "output_type": "stream",
       "stream": "stdout",
       "text": [
        ".34 bytes/iter, 0.00% gc time)\n",
        "@time_it n eg(ar,ar2) => true\n",
        "time per iteration: 286.28 \u03b7s (0.18 bytes/iter, 0.00% gc time)\n",
        "@time_it n eg(l,l2) => true\n",
        "n = 100000 => 100000\n",
        "time per iteration: 1.53 \u03b7s (0.00 bytes/iter, 0.00% gc time)\n",
        "@time_it n eg(ar,ar2) => true\n"
       ]
      },
      {
       "ename": "LoadError",
       "evalue": "stack overflow\nwhile loading In[9], in expression starting on line 26",
       "output_type": "pyerr",
       "traceback": [
        "stack overflow\nwhile loading In[9], in expression starting on line 26",
        "",
        " in eg at In[8]:7 (repeats 26666 times)"
       ]
      }
     ],
     "prompt_number": 9
    },
    {
     "cell_type": "code",
     "collapsed": false,
     "input": [
      "## ok -- lest's try an interative egal...\n",
      "typealias Tup2 (Any,Any)\n",
      "eg(x::Tup2,y::Tup2) = begin\n",
      "    lifo = Tup2[]\n",
      "    (xh,xr) = x\n",
      "    (yh,yr) = y\n",
      "    push!(lifo, (xr,yr))\n",
      "    push!(lifo, (xh,yh))\n",
      "    count = 0\n",
      "    while(length(lifo) != 0)\n",
      "        @show count\n",
      "        @show lifo\n",
      "        (a,b) = pop!(lifo)\n",
      "        ## handle tuple case\n",
      "        if typeof(a) <: Tup2 && typeof(b) <: Tup2\n",
      "            (ah,ar) = a\n",
      "            (bh,br) = b\n",
      "            push!(lifo, (ar,br))\n",
      "            push!(lifo, (ah,bh))\n",
      "        else  ## dispatch to proper eg method\n",
      "            res = eg(a,b) # <- so this could still lead to stack over flow, but unlikely if tuple is chosen as final compound strcauture\n",
      "            if !res\n",
      "                return false\n",
      "            end\n",
      "        end\n",
      "        count += 1\n",
      "    end\n",
      "    return true\n",
      "end\n",
      "\n",
      "\n",
      "## For some reason this has horrible timings\n",
      "## Either there is some obvious bug, or for some reason things are being copied"
     ],
     "language": "python",
     "metadata": {},
     "outputs": [
      {
       "metadata": {},
       "output_type": "pyout",
       "prompt_number": 16,
       "text": [
        "eg (generic function with 3 methods)"
       ]
      }
     ],
     "prompt_number": 16
    },
    {
     "cell_type": "code",
     "collapsed": false,
     "input": [
      "eg(\u2740(1,2,3,4),\u2740(1,2,3,4))"
     ],
     "language": "python",
     "metadata": {},
     "outputs": [
      {
       "output_type": "stream",
       "stream": "stdout",
       "text": [
        "count => 0"
       ]
      },
      {
       "output_type": "stream",
       "stream": "stdout",
       "text": [
        "\n",
        "lifo => (Any,Any)[((2,(3,(4,()))),(2,(3,(4,())))),(1,1)]\n",
        "count => 1\n",
        "lifo => (Any,Any)[((2,(3,(4,()))),(2,(3,(4,()))))]\n",
        "count => 2\n",
        "lifo => (Any,Any)[((3,(4,())),(3,(4,()))),(2,2)]\n",
        "count => 3\n",
        "lifo => (Any,Any)[((3,(4,())),(3,(4,())))]\n",
        "count => 4\n",
        "lifo => (Any,Any)[((4,()),(4,())),(3,3)]\n",
        "count => 5\n",
        "lifo => (Any,Any)[((4,()),(4,()))]\n",
        "count => 6\n",
        "lifo => (Any,Any)[((),()),(4,4)]\n",
        "count => 7\n",
        "lifo => (Any,Any)[((),())]\n"
       ]
      },
      {
       "metadata": {},
       "output_type": "pyout",
       "prompt_number": 17,
       "text": [
        "true"
       ]
      }
     ],
     "prompt_number": 17
    },
    {
     "cell_type": "code",
     "collapsed": false,
     "input": [
      "typealias Tup2 (Any,Any)\n",
      "eg(x::Tup2,y::Tup2) = begin\n",
      "    lifo = M2.MBox[]\n",
      "    (xh,xr) = x\n",
      "    (yh,yr) = y\n",
      "    push!(lifo, M2.MBox(xr,yr))\n",
      "    push!(lifo, M2.MBox(xh,yh))\n",
      "    count = 0\n",
      "    while(length(lifo) != 0)\n",
      "#        @show count\n",
      "#        @show lifo\n",
      "        bx = pop!(lifo)\n",
      "        a = bx.left\n",
      "        b = bx.right\n",
      "        \n",
      "        ## handle tuple case\n",
      "        if typeof(a) <: Tup2 && typeof(b) <: Tup2\n",
      "            (ah,ar) = a\n",
      "            (bh,br) = b\n",
      "            push!(lifo, M2.MBox(ar,br))\n",
      "            push!(lifo, M2.MBox(ah,bh))\n",
      "        else  ## dispatch to proper eg method\n",
      "            res = eg(a,b) # <- so this could still lead to stack over flow, but unlikely if tuple is chosen as final compound strcauture\n",
      "            if !res\n",
      "                return false\n",
      "            end\n",
      "        end\n",
      "        count += 1\n",
      "    end\n",
      "    return true\n",
      "end\n"
     ],
     "language": "python",
     "metadata": {},
     "outputs": [
      {
       "metadata": {},
       "output_type": "pyout",
       "prompt_number": 33,
       "text": [
        "eg (generic function with 3 methods)"
       ]
      }
     ],
     "prompt_number": 33
    },
    {
     "cell_type": "code",
     "collapsed": false,
     "input": [
      "eg(\u2740(1,2,3,4),\u2740(1,2,3,4))"
     ],
     "language": "python",
     "metadata": {},
     "outputs": [
      {
       "metadata": {},
       "output_type": "pyout",
       "prompt_number": 22,
       "text": [
        "true"
       ]
      }
     ],
     "prompt_number": 22
    },
    {
     "cell_type": "code",
     "collapsed": false,
     "input": [
      "## redo timings\n",
      "## timings\n",
      "\n",
      "@show n = 100\n",
      "ar = fill(2.0, n)\n",
      "ar2 = fill(2.0,n)\n",
      "\n",
      "l = \u2740(ar...)\n",
      "l2 = \u2740(ar2...)\n",
      "\n",
      "@show @time_it n eg(ar,ar2)\n",
      "@show @time_it n eg(l,l2)\n",
      "\n",
      "@show n = 1_000\n",
      "ar = fill(2.0, n)\n",
      "ar2 = fill(2.0,n)\n",
      "\n",
      "l = \u2740(ar...)\n",
      "l2 = \u2740(ar2...)\n",
      "\n",
      "@show @time_it n eg(ar,ar2)\n",
      "@show @time_it n eg(l,l2)\n",
      "\n",
      "#@show n = 100_000\n",
      "#ar = fill(2.0, n)\n",
      "#ar2 = fill(2.0,n)\n",
      "\n",
      "#l = \u2740(ar...)\n",
      "#l2 = \u2740(ar2...)\n",
      "\n",
      "#@show @time_it n eg(ar,ar2)\n",
      "#@show @time_it n eg(l,l2)\n"
     ],
     "language": "python",
     "metadata": {},
     "outputs": [
      {
       "output_type": "stream",
       "stream": "stdout",
       "text": [
        "n = 100 => 100"
       ]
      },
      {
       "output_type": "stream",
       "stream": "stdout",
       "text": [
        "\n",
        "time per iteration: 34.60 \u03b7s (0.80 bytes/iter, 0.00% gc time)\n",
        "@time_it n eg(ar,ar2) => true\n",
        "time per iteration: 4.82 \u03bcs (3344.40 bytes/iter, 0.00% gc time)\n",
        "@time_it n eg(l,l2) => true\n",
        "n = 1000 => 1000\n",
        "time per iteration: 2.87 \u03b7s (0.08 bytes/iter, 0.00% gc time)\n",
        "@time_it n eg(ar,ar2) => true\n",
        "time per iteration: 64.56 \u03bcs (32144.04 bytes/iter, 40.04% gc time)\n",
        "@time_it n eg(l,l2) => true\n"
       ]
      },
      {
       "metadata": {},
       "output_type": "pyout",
       "prompt_number": 35,
       "text": [
        "true"
       ]
      }
     ],
     "prompt_number": 35
    },
    {
     "cell_type": "code",
     "collapsed": false,
     "input": [
      "typealias Tup2 (Any,Any)\n",
      "eg(x::Tup2,y::Tup2) = begin\n",
      "    lifo = M.Box[]\n",
      "    (xh,xr) = x\n",
      "    (yh,yr) = y\n",
      "    push!(lifo, M.Box(xr,yr))\n",
      "    push!(lifo, M.Box(xh,yh))\n",
      "    count = 0\n",
      "    while(length(lifo) != 0)\n",
      "#        @show count\n",
      "#        @show lifo\n",
      "        bx = pop!(lifo)\n",
      "        a = bx.left\n",
      "        b = bx.right\n",
      "        \n",
      "        ## handle tuple case\n",
      "        if typeof(a) <: Tup2 && typeof(b) <: Tup2\n",
      "            (ah,ar) = a\n",
      "            (bh,br) = b\n",
      "            push!(lifo, M.Box(ar,br))\n",
      "            push!(lifo, M.Box(ah,bh))\n",
      "        else  ## dispatch to proper eg method\n",
      "            res = eg(a,b) # <- so this could still lead to stack over flow, but unlikely if tuple is chosen as final compound strcauture\n",
      "            if !res\n",
      "                return false\n",
      "            end\n",
      "        end\n",
      "        count += 1\n",
      "    end\n",
      "    return true\n",
      "end"
     ],
     "language": "python",
     "metadata": {},
     "outputs": [
      {
       "metadata": {},
       "output_type": "pyout",
       "prompt_number": 29,
       "text": [
        "eg (generic function with 3 methods)"
       ]
      }
     ],
     "prompt_number": 29
    },
    {
     "cell_type": "code",
     "collapsed": false,
     "input": [
      "eg(\u2740(1,2,3,4),\u2740(1,2,3,4))"
     ],
     "language": "python",
     "metadata": {},
     "outputs": [
      {
       "metadata": {},
       "output_type": "pyout",
       "prompt_number": 30,
       "text": [
        "true"
       ]
      }
     ],
     "prompt_number": 30
    },
    {
     "cell_type": "code",
     "collapsed": false,
     "input": [
      "## redo timings\n",
      "## timings\n",
      "\n",
      "@show n = 100\n",
      "ar = fill(2.0, n)\n",
      "ar2 = fill(2.0,n)\n",
      "\n",
      "l = \u2740(ar...)\n",
      "l2 = \u2740(ar2...)\n",
      "\n",
      "@show @time_it n eg(ar,ar2)\n",
      "@show @time_it n eg(l,l2)\n",
      "\n",
      "@show n = 1_000\n",
      "ar = fill(2.0, n)\n",
      "ar2 = fill(2.0,n)\n",
      "\n",
      "l = \u2740(ar...)\n",
      "l2 = \u2740(ar2...)\n",
      "\n",
      "@show @time_it n eg(ar,ar2)\n",
      "@show @time_it n eg(l,l2)\n",
      "\n",
      "\n",
      "#@show n = 100_000\n",
      "#ar = fill(2.0, n)\n",
      "#ar2 = fill(2.0,n)\n",
      "\n",
      "#l = \u2740(ar...)\n",
      "#l2 = \u2740(ar2...)\n",
      "\n",
      "#@show @time_it n eg(ar,ar2)\n",
      "#@show @time_it n eg(l,l2)\n"
     ],
     "language": "python",
     "metadata": {},
     "outputs": [
      {
       "output_type": "stream",
       "stream": "stdout",
       "text": [
        "n = 100 => 100"
       ]
      },
      {
       "output_type": "stream",
       "stream": "stdout",
       "text": [
        "\n",
        "time per iteration: 31.53 \u03b7s (0.80 bytes/iter, 0.00% gc time)\n",
        "@time_it n eg(ar,ar2) => true\n",
        "time per iteration: 4.05 \u03bcs (3344.40 bytes/iter, 0.00% gc time)\n",
        "@time_it n eg(l,l2) => true\n",
        "n = 1000 => 1000\n",
        "time per iteration: 3.45 \u03b7s (0.08 bytes/iter, 0.00% gc time)\n",
        "@time_it n eg(ar,ar2) => true\n",
        "time per iteration: 40.70 \u03bcs (32144.04 bytes/iter, 0.00% gc time)\n",
        "@time_it n eg(l,l2) => true\n"
       ]
      },
      {
       "metadata": {},
       "output_type": "pyout",
       "prompt_number": 32,
       "text": [
        "true"
       ]
      }
     ],
     "prompt_number": 32
    },
    {
     "cell_type": "code",
     "collapsed": false,
     "input": [
      "## Show in summary -- creating a lifo of boxes or mboxes is bad, but using tuples in the lifo is the worst\n",
      "## TODO:  investigate pop and push -- very likely the culprits\n",
      "## TODO: sanity check calling functions with large tuples\n",
      "## TODO: investigate what happens when creating array of large tuples\n"
     ],
     "language": "python",
     "metadata": {},
     "outputs": []
    },
    {
     "cell_type": "code",
     "collapsed": false,
     "input": [
      "methods(push!)"
     ],
     "language": "python",
     "metadata": {},
     "outputs": [
      {
       "html": [
        "10 methods for generic function <b>push!</b>:<ul><li> push!(a::<b>Array{Any,1}</b>,item) at <a href=\"https://github.com/JuliaLang/julia/tree/c03f413bbdb46c00033f4eaad402995cfe3b7be5/base/array.jl#L464\" target=\"_blank\">array.jl:464</a><li> push!<i>{T}</i>(a::<b>Array{T,1}</b>,item) at <a href=\"https://github.com/JuliaLang/julia/tree/c03f413bbdb46c00033f4eaad402995cfe3b7be5/base/array.jl#L453\" target=\"_blank\">array.jl:453</a><li> push!(B::<b>BitArray{1}</b>,item) at <a href=\"https://github.com/JuliaLang/julia/tree/c03f413bbdb46c00033f4eaad402995cfe3b7be5/base/bitarray.jl#L454\" target=\"_blank\">bitarray.jl:454</a><li> push!(s::<b>IntSet</b>,n::<b>Integer</b>) at <a href=\"https://github.com/JuliaLang/julia/tree/c03f413bbdb46c00033f4eaad402995cfe3b7be5/base/intset.jl#L32\" target=\"_blank\">intset.jl:32</a><li> push!(::<b>EnvHash</b>,k::<b>String</b>,v) at <a href=\"https://github.com/JuliaLang/julia/tree/c03f413bbdb46c00033f4eaad402995cfe3b7be5/base/env.jl#L114\" target=\"_blank\">env.jl:114</a><li> push!(t::<b>Associative{K,V}</b>,key,v) at <a href=\"https://github.com/JuliaLang/julia/tree/c03f413bbdb46c00033f4eaad402995cfe3b7be5/base/dict.jl#L241\" target=\"_blank\">dict.jl:241</a><li> push!(s::<b>Set{T}</b>,x) at <a href=\"https://github.com/JuliaLang/julia/tree/c03f413bbdb46c00033f4eaad402995cfe3b7be5/base/set.jl#L18\" target=\"_blank\">set.jl:18</a><li> push!(A) at <a href=\"https://github.com/JuliaLang/julia/tree/c03f413bbdb46c00033f4eaad402995cfe3b7be5/base/abstractarray.jl#L1394\" target=\"_blank\">abstractarray.jl:1394</a><li> push!(A,a,b) at <a href=\"https://github.com/JuliaLang/julia/tree/c03f413bbdb46c00033f4eaad402995cfe3b7be5/base/abstractarray.jl#L1395\" target=\"_blank\">abstractarray.jl:1395</a><li> push!(A,a,b,c...) at <a href=\"https://github.com/JuliaLang/julia/tree/c03f413bbdb46c00033f4eaad402995cfe3b7be5/base/abstractarray.jl#L1396\" target=\"_blank\">abstractarray.jl:1396</a></ul>"
       ],
       "metadata": {},
       "output_type": "pyout",
       "prompt_number": 1,
       "text": [
        "# 10 methods for generic function \"push!\":\n",
        "push!(a::Array{Any,1},item) at array.jl:464\n",
        "push!{T}(a::Array{T,1},item) at array.jl:453\n",
        "push!(B::BitArray{1},item) at bitarray.jl:454\n",
        "push!(s::IntSet,n::Integer) at intset.jl:32\n",
        "push!(::EnvHash,k::String,v) at env.jl:114\n",
        "push!(t::Associative{K,V},key,v) at dict.jl:241\n",
        "push!(s::Set{T},x) at set.jl:18\n",
        "push!(A) at abstractarray.jl:1394\n",
        "push!(A,a,b) at abstractarray.jl:1395\n",
        "push!(A,a,b,c...) at abstractarray.jl:1396"
       ]
      }
     ],
     "prompt_number": 1
    },
    {
     "cell_type": "code",
     "collapsed": false,
     "input": [
      "## sanity check function calling\n",
      "\n",
      "foo(x) = 1\n",
      "typealias Tup2 (Any,Any)\n",
      "foo(x::Tup2) = 2\n",
      "\n",
      "\n",
      "function loop(n,tup,f) \n",
      "    res = 0\n",
      "    for i=1:n\n",
      "        res += f(tup)\n",
      "    end\n",
      "    res\n",
      "end\n",
      "\n",
      "loop(10, list((1:40)...), foo)"
     ],
     "language": "python",
     "metadata": {},
     "outputs": [
      {
       "metadata": {},
       "output_type": "pyout",
       "prompt_number": 5,
       "text": [
        "20"
       ]
      }
     ],
     "prompt_number": 5
    },
    {
     "cell_type": "code",
     "collapsed": false,
     "input": [
      "n = 10_000\n",
      "l = list((1:5)...)\n",
      "@time_it n loop(n, l, foo)\n",
      "l = list((1:10)...)\n",
      "@time_it n loop(n, l, foo)\n",
      "l = list((1:100)...)\n",
      "@time_it n loop(n, l, foo)\n",
      "l = list((1:1000)...)\n",
      "@time_it n loop(n, l, foo)\n"
     ],
     "language": "python",
     "metadata": {},
     "outputs": [
      {
       "output_type": "stream",
       "stream": "stdout",
       "text": [
        "time per iteration: 132.11 \u03b7s"
       ]
      },
      {
       "output_type": "stream",
       "stream": "stdout",
       "text": [
        " (15.60 bytes/iter, 0.00% gc time)\n",
        "time per iteration: 73.87 \u03b7s (15.60 bytes/iter, 0.00% gc time)\n",
        "time per iteration: 80.52 \u03b7s (15.60 bytes/iter, 0.00% gc time)\n",
        "time per iteration: 75.41 \u03b7s (15.60 bytes/iter, 0.00% gc time)\n"
       ]
      },
      {
       "metadata": {},
       "output_type": "pyout",
       "prompt_number": 9,
       "text": [
        "20000"
       ]
      }
     ],
     "prompt_number": 9
    },
    {
     "cell_type": "code",
     "collapsed": false,
     "input": [
      "## Ok -- so no problems passing large tuples\n",
      "\n"
     ],
     "language": "python",
     "metadata": {},
     "outputs": []
    }
   ],
   "metadata": {}
  }
 ]
}