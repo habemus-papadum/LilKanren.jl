{
 "metadata": {
  "language": "Julia",
  "name": "",
  "signature": "sha256:c65d444703469359797800f9b2121a09af27db39539bb94ab0b3461ec3b55a4b"
 },
 "nbformat": 3,
 "nbformat_minor": 0,
 "worksheets": [
  {
   "cells": [
    {
     "cell_type": "code",
     "collapsed": false,
     "input": [
      "## Scanning github issues and julia mailing lists\n",
      "## I see all sorts of references to the complicated nature\n",
      "## of dispatching basied on tuple type\n",
      "\n",
      "## here we investigate some possible issues\n",
      "##  -- First dispatch performance\n",
      "##  -- Second replacing recursion with a stack\n"
     ],
     "language": "python",
     "metadata": {},
     "outputs": []
    },
    {
     "cell_type": "code",
     "collapsed": false,
     "input": [
      "### CONCLUSIONS\n",
      "### What lies below is wild and meandering investigation\n",
      "## The bottom line is that although in firststeps, tuples were used in many places\n",
      "## (the constraint store and  as basic compound element)\n",
      "## due to dispatch issues, it is best to use a custom Box type\n",
      "##\n",
      "## Also below is code that shows how to write a non-recursive unifyLeft (below it is named eq)\n",
      "##\n",
      "## TODO the non-recursive UnifyLeft needs to the following optimizations\n",
      "##  1) first benchamrk cost of isa vs dispatch checking\n",
      "##  2) clean impl that doesn;t use stack if list"
     ],
     "language": "python",
     "metadata": {},
     "outputs": []
    },
    {
     "cell_type": "code",
     "collapsed": false,
     "input": [
      "##Utils\n",
      "function formatNum(x)\n",
      "    @sprintf \"%.2f\"  x\n",
      "end\n",
      "\n",
      "function niceTime(nanos) \n",
      "    if nanos < 1_000.0\n",
      "        \"$(formatNum(nanos)) \u03b7s\"\n",
      "    elseif nanos < 1_000_000.0\n",
      "        \"$(formatNum(nanos/1_000.0)) \u03bcs\"\n",
      "    else \n",
      "        \"$(formatNum(nanos/1_000_000.0)) ms\"\n",
      "    end \n",
      "end\n",
      " \n",
      "## lifted from base\n",
      "function time_p(t,n, b, g)\n",
      "    @printf(\"time per iteration: %s (%.2f bytes/iter, %.2f%% gc time)\\n\", niceTime(t/n), b/n, 100*g/t)\n",
      "end\n",
      "\n",
      "macro time_it(n, ex)\n",
      "    quote\n",
      "        local b0 = Base.gc_bytes()\n",
      "        local t0 = Base.time_ns()\n",
      "        local g0 = Base.gc_time_ns()\n",
      "        local val = $(esc(ex))\n",
      "        local g1 = Base.gc_time_ns()\n",
      "        local t1 = Base.time_ns()\n",
      "        local b1 = Base.gc_bytes()\n",
      "        time_p(t1-t0, $(n), (b1-b0), g1-g0)\n",
      "        val\n",
      "    end\n",
      "end"
     ],
     "language": "python",
     "metadata": {},
     "outputs": [],
     "prompt_number": 11
    },
    {
     "cell_type": "code",
     "collapsed": false,
     "input": [
      "list() = ()\n",
      "list(x...) = (x[1], list(x[2:end]...))\n",
      "const \u2740 = list  # There should be more flowers in CS\n",
      "\n",
      "@show \u2740(1,2,3,4)"
     ],
     "language": "python",
     "metadata": {},
     "outputs": [
      {
       "output_type": "stream",
       "stream": "stdout",
       "text": [
        "\u2740(1,2,3,4) => (1,(2,(3,(4,()))))"
       ]
      },
      {
       "output_type": "stream",
       "stream": "stdout",
       "text": [
        "\n"
       ]
      },
      {
       "metadata": {},
       "output_type": "pyout",
       "prompt_number": 3,
       "text": [
        "(1,(2,(3,(4,()))))"
       ]
      }
     ],
     "prompt_number": 3
    },
    {
     "cell_type": "code",
     "collapsed": false,
     "input": [
      "n = 10_000\n",
      "ar = ones(n)\n",
      "tuplist = list(ar...)\n",
      "\n",
      "nothing"
     ],
     "language": "python",
     "metadata": {},
     "outputs": [],
     "prompt_number": 3
    },
    {
     "cell_type": "code",
     "collapsed": false,
     "input": [
      "#introduce a simple Box that the type inferencer/dipatch code does not know anything about\n",
      "\n",
      "module M \n",
      "    immutable type Box\n",
      "        left\n",
      "        right\n",
      "    end\n",
      "end \n",
      "\n",
      "blist()  = ()\n",
      "blist(x...) = M.Box(x[1], blist(x[2:end]...))"
     ],
     "language": "python",
     "metadata": {},
     "outputs": [
      {
       "metadata": {},
       "output_type": "pyout",
       "prompt_number": 12,
       "text": [
        "blist (generic function with 2 methods)"
       ]
      }
     ],
     "prompt_number": 12
    },
    {
     "cell_type": "code",
     "collapsed": false,
     "input": [
      "blist(1,2,3,4)"
     ],
     "language": "python",
     "metadata": {},
     "outputs": [
      {
       "metadata": {},
       "output_type": "pyout",
       "prompt_number": 6,
       "text": [
        "Box(1,Box(2,Box(3,Box(4,()))))"
       ]
      }
     ],
     "prompt_number": 6
    },
    {
     "cell_type": "code",
     "collapsed": false,
     "input": [
      "## test creation time\n",
      "\n",
      "@show  n = 500\n",
      "#warmup\n",
      "ar = ones(n)\n",
      "tuplist = list(ar...)\n",
      "bxlist =  blist(ar...)\n",
      "\n",
      "\n",
      "@time_it n ones(n)\n",
      "@time_it n list(ar...)\n",
      "@time_it n blist(ar...)\n",
      "\n",
      "@show n = 1_000\n",
      "ar = ones(n)\n",
      "@time_it n ones(n)\n",
      "@time_it n list(ar...)\n",
      "@time_it n blist(ar...)\n",
      "\n",
      "@show n = 2_000\n",
      "ar = ones(n)\n",
      "@time_it n ones(n)\n",
      "@time_it n list(ar...)\n",
      "@time_it n blist(ar...)\n",
      "\n",
      "nothing"
     ],
     "language": "python",
     "metadata": {},
     "outputs": [
      {
       "output_type": "stream",
       "stream": "stdout",
       "text": [
        "n = 500 => 500"
       ]
      },
      {
       "output_type": "stream",
       "stream": "stdout",
       "text": [
        "\n",
        "time per iteration: 10.45 \u03b7s (8.29 bytes/iter, 0.00% gc time)\n",
        "time per iteration: 54.01 \u03bcs (10406.66 bytes/iter, 0.00% gc time)\n",
        "time per iteration: "
       ]
      },
      {
       "output_type": "stream",
       "stream": "stdout",
       "text": [
        "54.56 \u03bcs (10414.66 bytes/iter, 0.00% gc time)\n",
        "n = 1000 => 1000\n",
        "time per iteration: 3.61 \u03b7s (8.14 bytes/iter, 0.00% gc time)\n",
        "time per iteration: "
       ]
      },
      {
       "output_type": "stream",
       "stream": "stdout",
       "text": [
        "111.24 \u03bcs (22228.42 bytes/iter, 0.00% gc time)\n",
        "time per iteration: "
       ]
      },
      {
       "output_type": "stream",
       "stream": "stdout",
       "text": [
        "109.17 \u03bcs (22236.42 bytes/iter, 0.00% gc time)\n",
        "n = 2000 => 2000\n",
        "time per iteration: 2.57 \u03b7s (8.07 bytes/iter, 0.00% gc time)\n",
        "time per iteration: "
       ]
      },
      {
       "output_type": "stream",
       "stream": "stdout",
       "text": [
        "216.12 \u03bcs (49138.42 bytes/iter, 0.00% gc time)\n",
        "time per iteration: "
       ]
      },
      {
       "output_type": "stream",
       "stream": "stdout",
       "text": [
        "216.51 \u03bcs (49146.42 bytes/iter, 0.00% gc time)\n"
       ]
      }
     ],
     "prompt_number": 12
    },
    {
     "cell_type": "code",
     "collapsed": false,
     "input": [
      "## No big difference between Tuple and Box\n",
      "## But creation time for both grows as N^2 (time per iteration grows as N, rather than const)\n",
      "\n",
      "## two explanations\n",
      "## Immutablility means that julia makes a copy on each fucntion call\n",
      "## Or splatting is causing problesm\n",
      "\n",
      "# test impact immutability\n",
      "module M2 \n",
      "    type MBox\n",
      "        left\n",
      "        right\n",
      "    end\n",
      "end \n",
      "\n",
      "mblist() = ()\n",
      "mblist(x...) = M2.MBox(x[1], blist(x[2:end]...))\n",
      "mblist(1,2,3,4)"
     ],
     "language": "python",
     "metadata": {},
     "outputs": [
      {
       "metadata": {},
       "output_type": "pyout",
       "prompt_number": 13,
       "text": [
        "MBox(1,Box(2,Box(3,Box(4,()))))"
       ]
      }
     ],
     "prompt_number": 13
    },
    {
     "cell_type": "code",
     "collapsed": false,
     "input": [
      "@show  n = 500\n",
      "#warmup\n",
      "ar = ones(n)\n",
      "tuplist = list(ar...)\n",
      "bxlist =  blist(ar...)\n",
      "mbxlist = mblist(ar...)\n",
      "\n",
      "@time_it n ones(n)\n",
      "@time_it n list(ar...)\n",
      "@time_it n blist(ar...)\n",
      "@time_it n mblist(ar...)\n",
      "\n",
      "@show n = 1_000\n",
      "ar = ones(n)\n",
      "@time_it n ones(n)\n",
      "@time_it n list(ar...)\n",
      "@time_it n blist(ar...)\n",
      "@time_it n mblist(ar...)\n",
      "\n",
      "@show n = 2_000\n",
      "ar = ones(n)\n",
      "@time_it n ones(n)\n",
      "@time_it n list(ar...)\n",
      "@time_it n blist(ar...)\n",
      "@time_it n mblist(ar...)\n",
      "\n",
      "nothing"
     ],
     "language": "python",
     "metadata": {},
     "outputs": [
      {
       "output_type": "stream",
       "stream": "stdout",
       "text": [
        "n = 500 => 500"
       ]
      },
      {
       "output_type": "stream",
       "stream": "stdout",
       "text": [
        "\n",
        "time per iteration: 8.31 \u03b7s (8.29 bytes/iter, 0.00% gc time)\n",
        "time per iteration: "
       ]
      },
      {
       "output_type": "stream",
       "stream": "stdout",
       "text": [
        "52.70 \u03bcs (10406.66 bytes/iter, 0.00% gc time)\n",
        "time per iteration: 55.78 \u03bcs (10414.66 bytes/iter, 0.00% gc time)\n",
        "time per iteration: 54.07 \u03bcs (10414.66 bytes/iter, 0.00% gc time)\n",
        "n = 1000 => 1000\n",
        "time per iteration: 3.68 \u03b7s (8.14 bytes/iter, 0.00% gc time)\n",
        "time per iteration: "
       ]
      },
      {
       "output_type": "stream",
       "stream": "stdout",
       "text": [
        "107.62 \u03bcs (22228.42 bytes/iter, 0.00% gc time)\n",
        "time per iteration: "
       ]
      },
      {
       "output_type": "stream",
       "stream": "stdout",
       "text": [
        "107.59 \u03bcs (22236.42 bytes/iter, 0.00% gc time)\n",
        "time per iteration: "
       ]
      },
      {
       "output_type": "stream",
       "stream": "stdout",
       "text": [
        "109.36 \u03bcs (22236.42 bytes/iter, 0.00% gc time)\n",
        "n = 2000 => 2000\n",
        "time per iteration: 2.83 \u03b7s (8.07 bytes/iter, 0.00% gc time)\n",
        "time per iteration: "
       ]
      },
      {
       "output_type": "stream",
       "stream": "stdout",
       "text": [
        "216.17 \u03bcs (49138.42 bytes/iter, 0.00% gc time)\n",
        "time per iteration: "
       ]
      },
      {
       "output_type": "stream",
       "stream": "stdout",
       "text": [
        "219.70 \u03bcs (49146.42 bytes/iter, 0.00% gc time)\n",
        "time per iteration: "
       ]
      },
      {
       "output_type": "stream",
       "stream": "stdout",
       "text": [
        "220.50 \u03bcs (49146.42 bytes/iter, 0.00% gc time)\n"
       ]
      }
     ],
     "prompt_number": 15
    },
    {
     "cell_type": "code",
     "collapsed": false,
     "input": [
      "## mutability makes no difference (duh -- there are no tuples/box/mboxes ever being passed as args in any of these tests)\n",
      "\n",
      "## the issue is the x[2:end]\n",
      "\n",
      "## test interative versions\n",
      "list(x...)  = begin\n",
      "    result = ()\n",
      "    for i=length(x):-1:1\n",
      "        result = (x[i],result)\n",
      "    end\n",
      "    result\n",
      "\n",
      "end\n",
      "\n",
      "blist(x...) = begin\n",
      "    result = ()\n",
      "    for i=length(x):-1:1\n",
      "        result = M.Box(x[i],result)\n",
      "    end\n",
      "    result\n",
      "end\n",
      "\n",
      "mblist(x...) = begin\n",
      "    result = ()\n",
      "    for i=length(x):-1:1\n",
      "        result = M2.MBox(x[i],result)\n",
      "    end\n",
      "    result\n",
      "end\n",
      "\n",
      "@show \u2740(1,2,3,4)\n",
      "@show blist(1,2,3,4)\n",
      "@show mblist(1,2,3,4)\n",
      "\n",
      "nothing"
     ],
     "language": "python",
     "metadata": {},
     "outputs": [
      {
       "output_type": "stream",
       "stream": "stdout",
       "text": [
        "\u2740(1,2,3,4) => (1,(2,(3,(4,()))))"
       ]
      },
      {
       "output_type": "stream",
       "stream": "stdout",
       "text": [
        "\n",
        "blist(1,2,3,4) => Box(1,Box(2,Box(3,Box(4,()))))\n",
        "mblist(1,2,3,4) => MBox(1,MBox(2,MBox(3,MBox(4,()))))\n"
       ]
      }
     ],
     "prompt_number": 14
    },
    {
     "cell_type": "code",
     "collapsed": false,
     "input": [
      "## redo creation timings\n",
      "\n",
      "@show  n = 500\n",
      "#warmup\n",
      "ar = ones(n)\n",
      "tuplist = list(ar...)\n",
      "bxlist =  blist(ar...)\n",
      "mbxlist = mblist(ar...)\n",
      "\n",
      "@time_it n ones(n)\n",
      "@time_it n list(ar...)\n",
      "@time_it n blist(ar...)\n",
      "@time_it n mblist(ar...)\n",
      "\n",
      "@show n = 1_000\n",
      "ar = ones(n)\n",
      "@time_it n ones(n)\n",
      "@time_it n list(ar...)\n",
      "@time_it n blist(ar...)\n",
      "@time_it n mblist(ar...)\n",
      "\n",
      "@show n = 2_000\n",
      "ar = ones(n)\n",
      "@time_it n ones(n)\n",
      "@time_it n list(ar...)\n",
      "@time_it n blist(ar...)\n",
      "@time_it n mblist(ar...)\n",
      "\n",
      "nothing"
     ],
     "language": "python",
     "metadata": {},
     "outputs": [
      {
       "output_type": "stream",
       "stream": "stdout",
       "text": [
        "n = 500 => 500"
       ]
      },
      {
       "output_type": "stream",
       "stream": "stdout",
       "text": [
        "\n",
        "time per iteration: 6.70 \u03b7s (8.29 bytes/iter, 0.00% gc time)\n",
        "time per iteration: 36.58 \u03b7s (65.66 bytes/iter, 0.00% gc time)\n",
        "time per iteration: 68.41 \u03b7s (73.66 bytes/iter, 0.00% gc time)\n",
        "time per iteration: 86.21 \u03b7s (73.66 bytes/iter, 0.00% gc time)\n",
        "n = 1000 => 1000\n",
        "time per iteration: 4.35 \u03b7s (8.14 bytes/iter, 0.00% gc time)\n",
        "time per iteration: 38.56 \u03b7s (65.06 bytes/iter, 0.00% gc time)\n",
        "time per iteration: 63.71 \u03b7s (73.06 bytes/iter, 0.00% gc time)\n",
        "time per iteration: 76.11 \u03b7s (73.06 bytes/iter, 0.00% gc time)\n",
        "n = 2000 => 2000\n",
        "time per iteration: 2.47 \u03b7s (8.07 bytes/iter, 0.00% gc time)\n",
        "time per iteration: 39.60 \u03b7s (64.74 bytes/iter, 0.00% gc time)\n",
        "time per iteration: 68.17 \u03b7s (72.74 bytes/iter, 0.00% gc time)\n",
        "time per iteration: 76.78 \u03b7s (72.74 bytes/iter, 0.00% gc time)\n"
       ]
      }
     ],
     "prompt_number": 20
    },
    {
     "cell_type": "code",
     "collapsed": false,
     "input": [
      "## fine now we have constant perf\n",
      "## and we see that julia's tuples win\n",
      "## and the mutablility has a cost\n",
      "##\n",
      "## So we are ready to move on to the real investigation\n",
      "## Investigating the cost of equality checking\n",
      "\n",
      "## first lets check differnce between == and ===\n",
      "egal(x,y) = x===y\n",
      "eq(x,y) = x==y\n",
      "\n",
      "n = 10_000\n",
      "ar = fill((2.0, \u03c0), n)\n",
      "ar2 = fill((2.0, \u03c0), n)\n",
      "\n",
      "loopeq(x,y) = begin\n",
      "    res = true\n",
      "    for i = 1:length(x)\n",
      "        res &= eq(x[i],y[i])\n",
      "    end\n",
      "    res\n",
      "end\n",
      "\n",
      "loopegal(x,y) = begin\n",
      "    res = true\n",
      "    for i = 1:length(x)\n",
      "        res &= egal(x[i],y[i])\n",
      "    end\n",
      "    res\n",
      "end\n",
      "\n",
      "loopeq(ar,ar2)\n",
      "loopegal(ar,ar2)\n"
     ],
     "language": "python",
     "metadata": {},
     "outputs": [
      {
       "metadata": {},
       "output_type": "pyout",
       "prompt_number": 8,
       "text": [
        "true"
       ]
      }
     ],
     "prompt_number": 8
    },
    {
     "cell_type": "code",
     "collapsed": false,
     "input": [
      "@show n = 100_000\n",
      "ar = fill((2.0, \u03c0), n)\n",
      "ar2 = fill((2.0, \u03c0), n)\n",
      "\n",
      "@time_it n loopeq(ar,ar2)\n",
      "@time_it n loopegal(ar,ar2)\n",
      "\n",
      "ar = fill(2.0, n)\n",
      "ar2 = fill(2.0, n)\n",
      "@time_it n loopeq(ar,ar2)\n",
      "@time_it n loopegal(ar,ar2)\n"
     ],
     "language": "python",
     "metadata": {},
     "outputs": [
      {
       "output_type": "stream",
       "stream": "stdout",
       "text": [
        "n = 100000 => 100000"
       ]
      },
      {
       "output_type": "stream",
       "stream": "stdout",
       "text": [
        "\n",
        "time per iteration: "
       ]
      },
      {
       "output_type": "stream",
       "stream": "stdout",
       "text": [
        "109.33 \u03b7s (0.00 bytes/iter, 0.00% gc time)\n",
        "time per iteration: 15.16 \u03b7s (0.00 bytes/iter, 0.00% gc time)\n",
        "time per iteration: 1.96 \u03b7s (0.00 bytes/iter, 0.00% gc time)\n",
        "time per iteration: 1.31 \u03b7s (0.00 bytes/iter, 0.00% gc time)\n"
       ]
      },
      {
       "metadata": {},
       "output_type": "pyout",
       "prompt_number": 27,
       "text": [
        "true"
       ]
      }
     ],
     "prompt_number": 27
    },
    {
     "cell_type": "code",
     "collapsed": false,
     "input": [
      "## Unexpected --> egal is faster than eq\n",
      "\n",
      "## One more example\n",
      "\n",
      "@show n = 100_000\n",
      "ar = fill(list((1:10)...), n)\n",
      "ar2 = fill(list((1:10)...), n)\n",
      "\n",
      "@time_it n loopeq(ar,ar2)\n",
      "@time_it n loopegal(ar,ar2)"
     ],
     "language": "python",
     "metadata": {},
     "outputs": [
      {
       "output_type": "stream",
       "stream": "stdout",
       "text": [
        "n = 100000 => 100000"
       ]
      },
      {
       "output_type": "stream",
       "stream": "stdout",
       "text": [
        "\n",
        "time per iteration: "
       ]
      },
      {
       "output_type": "stream",
       "stream": "stdout",
       "text": [
        "48.71 \u03bcs (2.18 bytes/iter, 0.00% gc time)\n",
        "time per iteration: 157.63 \u03b7s (0.96 bytes/iter, 0.00% gc time)\n"
       ]
      },
      {
       "metadata": {},
       "output_type": "pyout",
       "prompt_number": 28,
       "text": [
        "true"
       ]
      }
     ],
     "prompt_number": 28
    },
    {
     "cell_type": "code",
     "collapsed": false,
     "input": [
      "## results stand -- egal is faster....\n"
     ],
     "language": "python",
     "metadata": {},
     "outputs": []
    },
    {
     "cell_type": "code",
     "collapsed": false,
     "input": [
      "## ok now onto equlivalence testing\n",
      "eg(x,y) = x===y\n",
      "eg{T}(x::Array{T,1},y::Array{T,1}) = begin\n",
      "    if (length(x) != length(y))\n",
      "        return false\n",
      "    end\n",
      "    for i=1:length(x)\n",
      "        if !eg(x[i],y[i])\n",
      "            return false\n",
      "        end\n",
      "    end\n",
      "    return true\n",
      "end\n",
      "\n",
      "eg(fill(2.0, 3),fill(2.0, 3))"
     ],
     "language": "python",
     "metadata": {},
     "outputs": [
      {
       "metadata": {},
       "output_type": "pyout",
       "prompt_number": 15,
       "text": [
        "true"
       ]
      }
     ],
     "prompt_number": 15
    },
    {
     "cell_type": "code",
     "collapsed": false,
     "input": [
      "## recursive version\n",
      "\n",
      "eg(x::(Any,Any),y::(Any,Any)) = begin\n",
      "    (xh,xr) = x\n",
      "    (yh,yr) = y\n",
      "    if eg(xh,yh)\n",
      "        return eg(xr,yr)\n",
      "    else\n",
      "        return false\n",
      "    end\n",
      "end\n",
      "\n",
      "eg(\u2740(1,2,3,4),\u2740(1,2,3,4))"
     ],
     "language": "python",
     "metadata": {},
     "outputs": [
      {
       "metadata": {},
       "output_type": "pyout",
       "prompt_number": 8,
       "text": [
        "true"
       ]
      }
     ],
     "prompt_number": 8
    },
    {
     "cell_type": "code",
     "collapsed": false,
     "input": [
      "## timings\n",
      "\n",
      "@show n = 10_000\n",
      "ar = fill(2.0, n)\n",
      "ar2 = fill(2.0,n)\n",
      "\n",
      "l = \u2740(ar...)\n",
      "l2 = \u2740(ar2...)\n",
      "\n",
      "@show @time_it n eg(ar,ar2)\n",
      "@show @time_it n eg(l,l2)\n",
      "\n",
      "@show n = 100_000\n",
      "ar = fill(2.0, n)\n",
      "ar2 = fill(2.0,n)\n",
      "\n",
      "l = \u2740(ar...)\n",
      "l2 = \u2740(ar2...)\n",
      "\n",
      "@show @time_it n eg(ar,ar2)\n",
      "@show @time_it n eg(l,l2)\n"
     ],
     "language": "python",
     "metadata": {},
     "outputs": [
      {
       "output_type": "stream",
       "stream": "stdout",
       "text": [
        "n = 10000 => 10000"
       ]
      },
      {
       "output_type": "stream",
       "stream": "stdout",
       "text": [
        "\n",
        "time per iteration: 57.30 \u03b7s (1"
       ]
      },
      {
       "output_type": "stream",
       "stream": "stdout",
       "text": [
        ".34 bytes/iter, 0.00% gc time)\n",
        "@time_it n eg(ar,ar2) => true\n",
        "time per iteration: 286.28 \u03b7s (0.18 bytes/iter, 0.00% gc time)\n",
        "@time_it n eg(l,l2) => true\n",
        "n = 100000 => 100000\n",
        "time per iteration: 1.53 \u03b7s (0.00 bytes/iter, 0.00% gc time)\n",
        "@time_it n eg(ar,ar2) => true\n"
       ]
      },
      {
       "ename": "LoadError",
       "evalue": "stack overflow\nwhile loading In[9], in expression starting on line 26",
       "output_type": "pyerr",
       "traceback": [
        "stack overflow\nwhile loading In[9], in expression starting on line 26",
        "",
        " in eg at In[8]:7 (repeats 26666 times)"
       ]
      }
     ],
     "prompt_number": 9
    },
    {
     "cell_type": "code",
     "collapsed": false,
     "input": [
      "## ok -- lest's try an interative egal...\n",
      "typealias Tup2 (Any,Any)\n",
      "eg(x::Tup2,y::Tup2) = begin\n",
      "    lifo = Tup2[]\n",
      "    (xh,xr) = x\n",
      "    (yh,yr) = y\n",
      "    push!(lifo, (xr,yr))\n",
      "    push!(lifo, (xh,yh))\n",
      "    count = 0\n",
      "    while(length(lifo) != 0)\n",
      "        @show count\n",
      "        @show lifo\n",
      "        (a,b) = pop!(lifo)\n",
      "        ## handle tuple case\n",
      "        if typeof(a) <: Tup2 && typeof(b) <: Tup2\n",
      "            (ah,ar) = a\n",
      "            (bh,br) = b\n",
      "            push!(lifo, (ar,br))\n",
      "            push!(lifo, (ah,bh))\n",
      "        else  ## dispatch to proper eg method\n",
      "            res = eg(a,b) # <- so this could still lead to stack over flow, but unlikely if tuple is chosen as final compound strcauture\n",
      "            if !res\n",
      "                return false\n",
      "            end\n",
      "        end\n",
      "        count += 1\n",
      "    end\n",
      "    return true\n",
      "end\n",
      "\n",
      "\n",
      "## For some reason this has horrible timings\n",
      "## Either there is some obvious bug, or for some reason things are being copied"
     ],
     "language": "python",
     "metadata": {},
     "outputs": [
      {
       "metadata": {},
       "output_type": "pyout",
       "prompt_number": 16,
       "text": [
        "eg (generic function with 3 methods)"
       ]
      }
     ],
     "prompt_number": 16
    },
    {
     "cell_type": "code",
     "collapsed": false,
     "input": [
      "eg(\u2740(1,2,3,4),\u2740(1,2,3,4))"
     ],
     "language": "python",
     "metadata": {},
     "outputs": [
      {
       "output_type": "stream",
       "stream": "stdout",
       "text": [
        "count => 0"
       ]
      },
      {
       "output_type": "stream",
       "stream": "stdout",
       "text": [
        "\n",
        "lifo => (Any,Any)[((2,(3,(4,()))),(2,(3,(4,())))),(1,1)]\n",
        "count => 1\n",
        "lifo => (Any,Any)[((2,(3,(4,()))),(2,(3,(4,()))))]\n",
        "count => 2\n",
        "lifo => (Any,Any)[((3,(4,())),(3,(4,()))),(2,2)]\n",
        "count => 3\n",
        "lifo => (Any,Any)[((3,(4,())),(3,(4,())))]\n",
        "count => 4\n",
        "lifo => (Any,Any)[((4,()),(4,())),(3,3)]\n",
        "count => 5\n",
        "lifo => (Any,Any)[((4,()),(4,()))]\n",
        "count => 6\n",
        "lifo => (Any,Any)[((),()),(4,4)]\n",
        "count => 7\n",
        "lifo => (Any,Any)[((),())]\n"
       ]
      },
      {
       "metadata": {},
       "output_type": "pyout",
       "prompt_number": 17,
       "text": [
        "true"
       ]
      }
     ],
     "prompt_number": 17
    },
    {
     "cell_type": "code",
     "collapsed": false,
     "input": [
      "typealias Tup2 (Any,Any)\n",
      "eg(x::Tup2,y::Tup2) = begin\n",
      "    lifo = M2.MBox[]\n",
      "    (xh,xr) = x\n",
      "    (yh,yr) = y\n",
      "    push!(lifo, M2.MBox(xr,yr))\n",
      "    push!(lifo, M2.MBox(xh,yh))\n",
      "    count = 0\n",
      "    while(length(lifo) != 0)\n",
      "#        @show count\n",
      "#        @show lifo\n",
      "        bx = pop!(lifo)\n",
      "        a = bx.left\n",
      "        b = bx.right\n",
      "        \n",
      "        ## handle tuple case\n",
      "        if typeof(a) <: Tup2 && typeof(b) <: Tup2\n",
      "            (ah,ar) = a\n",
      "            (bh,br) = b\n",
      "            push!(lifo, M2.MBox(ar,br))\n",
      "            push!(lifo, M2.MBox(ah,bh))\n",
      "        else  ## dispatch to proper eg method\n",
      "            res = eg(a,b) # <- so this could still lead to stack over flow, but unlikely if tuple is chosen as final compound strcauture\n",
      "            if !res\n",
      "                return false\n",
      "            end\n",
      "        end\n",
      "        count += 1\n",
      "    end\n",
      "    return true\n",
      "end\n"
     ],
     "language": "python",
     "metadata": {},
     "outputs": [
      {
       "metadata": {},
       "output_type": "pyout",
       "prompt_number": 33,
       "text": [
        "eg (generic function with 3 methods)"
       ]
      }
     ],
     "prompt_number": 33
    },
    {
     "cell_type": "code",
     "collapsed": false,
     "input": [
      "eg(\u2740(1,2,3,4),\u2740(1,2,3,4))"
     ],
     "language": "python",
     "metadata": {},
     "outputs": [
      {
       "metadata": {},
       "output_type": "pyout",
       "prompt_number": 22,
       "text": [
        "true"
       ]
      }
     ],
     "prompt_number": 22
    },
    {
     "cell_type": "code",
     "collapsed": false,
     "input": [
      "## redo timings\n",
      "## timings\n",
      "\n",
      "@show n = 100\n",
      "ar = fill(2.0, n)\n",
      "ar2 = fill(2.0,n)\n",
      "\n",
      "l = \u2740(ar...)\n",
      "l2 = \u2740(ar2...)\n",
      "\n",
      "@show @time_it n eg(ar,ar2)\n",
      "@show @time_it n eg(l,l2)\n",
      "\n",
      "@show n = 1_000\n",
      "ar = fill(2.0, n)\n",
      "ar2 = fill(2.0,n)\n",
      "\n",
      "l = \u2740(ar...)\n",
      "l2 = \u2740(ar2...)\n",
      "\n",
      "@show @time_it n eg(ar,ar2)\n",
      "@show @time_it n eg(l,l2)\n",
      "\n",
      "#@show n = 100_000\n",
      "#ar = fill(2.0, n)\n",
      "#ar2 = fill(2.0,n)\n",
      "\n",
      "#l = \u2740(ar...)\n",
      "#l2 = \u2740(ar2...)\n",
      "\n",
      "#@show @time_it n eg(ar,ar2)\n",
      "#@show @time_it n eg(l,l2)\n"
     ],
     "language": "python",
     "metadata": {},
     "outputs": [
      {
       "output_type": "stream",
       "stream": "stdout",
       "text": [
        "n = 100 => 100"
       ]
      },
      {
       "output_type": "stream",
       "stream": "stdout",
       "text": [
        "\n",
        "time per iteration: 34.60 \u03b7s (0.80 bytes/iter, 0.00% gc time)\n",
        "@time_it n eg(ar,ar2) => true\n",
        "time per iteration: 4.82 \u03bcs (3344.40 bytes/iter, 0.00% gc time)\n",
        "@time_it n eg(l,l2) => true\n",
        "n = 1000 => 1000\n",
        "time per iteration: 2.87 \u03b7s (0.08 bytes/iter, 0.00% gc time)\n",
        "@time_it n eg(ar,ar2) => true\n",
        "time per iteration: 64.56 \u03bcs (32144.04 bytes/iter, 40.04% gc time)\n",
        "@time_it n eg(l,l2) => true\n"
       ]
      },
      {
       "metadata": {},
       "output_type": "pyout",
       "prompt_number": 35,
       "text": [
        "true"
       ]
      }
     ],
     "prompt_number": 35
    },
    {
     "cell_type": "code",
     "collapsed": false,
     "input": [
      "typealias Tup2 (Any,Any)\n",
      "eg(x::Tup2,y::Tup2) = begin\n",
      "    lifo = M.Box[]\n",
      "    (xh,xr) = x\n",
      "    (yh,yr) = y\n",
      "    push!(lifo, M.Box(xr,yr))\n",
      "    push!(lifo, M.Box(xh,yh))\n",
      "    count = 0\n",
      "    while(length(lifo) != 0)\n",
      "#        @show count\n",
      "#        @show lifo\n",
      "        bx = pop!(lifo)\n",
      "        a = bx.left\n",
      "        b = bx.right\n",
      "        \n",
      "        ## handle tuple case\n",
      "        if typeof(a) <: Tup2 && typeof(b) <: Tup2\n",
      "            (ah,ar) = a\n",
      "            (bh,br) = b\n",
      "            push!(lifo, M.Box(ar,br))\n",
      "            push!(lifo, M.Box(ah,bh))\n",
      "        else  ## dispatch to proper eg method\n",
      "            res = eg(a,b) # <- so this could still lead to stack over flow, but unlikely if tuple is chosen as final compound strcauture\n",
      "            if !res\n",
      "                return false\n",
      "            end\n",
      "        end\n",
      "        count += 1\n",
      "    end\n",
      "    return true\n",
      "end"
     ],
     "language": "python",
     "metadata": {},
     "outputs": [
      {
       "metadata": {},
       "output_type": "pyout",
       "prompt_number": 29,
       "text": [
        "eg (generic function with 3 methods)"
       ]
      }
     ],
     "prompt_number": 29
    },
    {
     "cell_type": "code",
     "collapsed": false,
     "input": [
      "eg(\u2740(1,2,3,4),\u2740(1,2,3,4))"
     ],
     "language": "python",
     "metadata": {},
     "outputs": [
      {
       "metadata": {},
       "output_type": "pyout",
       "prompt_number": 30,
       "text": [
        "true"
       ]
      }
     ],
     "prompt_number": 30
    },
    {
     "cell_type": "code",
     "collapsed": false,
     "input": [
      "## redo timings\n",
      "## timings\n",
      "\n",
      "@show n = 100\n",
      "ar = fill(2.0, n)\n",
      "ar2 = fill(2.0,n)\n",
      "\n",
      "l = \u2740(ar...)\n",
      "l2 = \u2740(ar2...)\n",
      "\n",
      "@show @time_it n eg(ar,ar2)\n",
      "@show @time_it n eg(l,l2)\n",
      "\n",
      "@show n = 1_000\n",
      "ar = fill(2.0, n)\n",
      "ar2 = fill(2.0,n)\n",
      "\n",
      "l = \u2740(ar...)\n",
      "l2 = \u2740(ar2...)\n",
      "\n",
      "@show @time_it n eg(ar,ar2)\n",
      "@show @time_it n eg(l,l2)\n",
      "\n",
      "\n",
      "#@show n = 100_000\n",
      "#ar = fill(2.0, n)\n",
      "#ar2 = fill(2.0,n)\n",
      "\n",
      "#l = \u2740(ar...)\n",
      "#l2 = \u2740(ar2...)\n",
      "\n",
      "#@show @time_it n eg(ar,ar2)\n",
      "#@show @time_it n eg(l,l2)\n"
     ],
     "language": "python",
     "metadata": {},
     "outputs": [
      {
       "output_type": "stream",
       "stream": "stdout",
       "text": [
        "n = 100 => 100"
       ]
      },
      {
       "output_type": "stream",
       "stream": "stdout",
       "text": [
        "\n",
        "time per iteration: 31.53 \u03b7s (0.80 bytes/iter, 0.00% gc time)\n",
        "@time_it n eg(ar,ar2) => true\n",
        "time per iteration: 4.05 \u03bcs (3344.40 bytes/iter, 0.00% gc time)\n",
        "@time_it n eg(l,l2) => true\n",
        "n = 1000 => 1000\n",
        "time per iteration: 3.45 \u03b7s (0.08 bytes/iter, 0.00% gc time)\n",
        "@time_it n eg(ar,ar2) => true\n",
        "time per iteration: 40.70 \u03bcs (32144.04 bytes/iter, 0.00% gc time)\n",
        "@time_it n eg(l,l2) => true\n"
       ]
      },
      {
       "metadata": {},
       "output_type": "pyout",
       "prompt_number": 32,
       "text": [
        "true"
       ]
      }
     ],
     "prompt_number": 32
    },
    {
     "cell_type": "code",
     "collapsed": false,
     "input": [
      "# try using cell arrays\n",
      "typealias Tup2 (Any,Any)\n",
      "eg(x::Tup2,y::Tup2) = begin\n",
      "    lifo = {}\n",
      "    (xh,xr) = x\n",
      "    (yh,yr) = y\n",
      "    push!(lifo, M.Box(xr,yr))\n",
      "    push!(lifo, M.Box(xh,yh))\n",
      "    count = 0\n",
      "    while(length(lifo) != 0)\n",
      "#        @show count\n",
      "#        @show lifo\n",
      "        bx = pop!(lifo)\n",
      "        a = bx.left\n",
      "        b = bx.right\n",
      "        \n",
      "        ## handle tuple case\n",
      "        if typeof(a) <: Tup2 && typeof(b) <: Tup2\n",
      "            (ah,ar) = a\n",
      "            (bh,br) = b\n",
      "            push!(lifo, M.Box(ar,br))\n",
      "            push!(lifo, M.Box(ah,bh))\n",
      "        else  ## dispatch to proper eg method\n",
      "            res = eg(a,b) # <- so this could still lead to stack over flow, but unlikely if tuple is chosen as final compound strcauture\n",
      "            if !res\n",
      "                return false\n",
      "            end\n",
      "        end\n",
      "        count += 1\n",
      "    end\n",
      "    return true\n",
      "end"
     ],
     "language": "python",
     "metadata": {},
     "outputs": [
      {
       "metadata": {},
       "output_type": "pyout",
       "prompt_number": 10,
       "text": [
        "eg (generic function with 1 method)"
       ]
      }
     ],
     "prompt_number": 10
    },
    {
     "cell_type": "code",
     "collapsed": false,
     "input": [
      "@show n = 100\n",
      "ar = fill(2.0, n)\n",
      "ar2 = fill(2.0,n)\n",
      "\n",
      "l = \u2740(ar...)\n",
      "l2 = \u2740(ar2...)\n",
      "\n",
      "@show @time_it n eg(ar,ar2)\n",
      "@show @time_it n eg(l,l2)\n",
      "\n",
      "@show n = 1_000\n",
      "ar = fill(2.0, n)\n",
      "ar2 = fill(2.0,n)\n",
      "\n",
      "l = \u2740(ar...)\n",
      "l2 = \u2740(ar2...)\n",
      "\n",
      "@show @time_it n eg(ar,ar2)\n",
      "@show @time_it n eg(l,l2)"
     ],
     "language": "python",
     "metadata": {},
     "outputs": [
      {
       "output_type": "stream",
       "stream": "stdout",
       "text": [
        "n = 100 => 100"
       ]
      },
      {
       "output_type": "stream",
       "stream": "stdout",
       "text": [
        "\n",
        "time per iteration: 28.67 \u03b7s (0.80 bytes/iter, 0.00% gc time)\n",
        "@time_it n eg(ar,ar2) => true\n",
        "time per iteration: 4.65 \u03bcs (3344.40 bytes/iter, 0.00% gc time)\n",
        "@time_it n eg(l,l2) => true\n",
        "n = 1000 => 1000\n",
        "time per iteration: 3.35 \u03b7s (0.08 bytes/iter, 0.00% gc time)\n",
        "@time_it n eg(ar,ar2) => true\n",
        "time per iteration: 65.26 \u03bcs (32144.10 bytes/iter, 40.66% gc time)\n",
        "@time_it n eg(l,l2) => true\n"
       ]
      },
      {
       "metadata": {},
       "output_type": "pyout",
       "prompt_number": 17,
       "text": [
        "true"
       ]
      }
     ],
     "prompt_number": 17
    },
    {
     "cell_type": "code",
     "collapsed": false,
     "input": [
      "# using untyped lifo doesn't matter... "
     ],
     "language": "python",
     "metadata": {},
     "outputs": []
    },
    {
     "cell_type": "code",
     "collapsed": false,
     "input": [
      "a = {}\n",
      "dump(a)"
     ],
     "language": "python",
     "metadata": {},
     "outputs": [
      {
       "output_type": "stream",
       "stream": "stdout",
       "text": [
        "Array(Any,(0,))\n"
       ]
      }
     ],
     "prompt_number": 18
    },
    {
     "cell_type": "code",
     "collapsed": false,
     "input": [
      "## Show in summary -- creating a lifo of boxes or mboxes is bad, but using tuples in the lifo is the worst\n",
      "## TODO:  investigate pop and push -- very likely the culprits\n",
      "## ---------- ## TODO: sanity check calling functions with large tuples  --- RESOLVED -- NO PROBLEM\n",
      "## TODO: investigate what happens when creating array of large tuples\n"
     ],
     "language": "python",
     "metadata": {},
     "outputs": []
    },
    {
     "cell_type": "code",
     "collapsed": false,
     "input": [
      "methods(pointer)"
     ],
     "language": "python",
     "metadata": {},
     "outputs": [
      {
       "html": [
        "13 methods for generic function <b>pointer</b>:<ul><li> pointer(s::<b>SubArray{T,N,A<:AbstractArray{T,N},I<:(Union(Int64,Range{Int64})...,)}</b>,i::<b>Int64</b>) at <a href=\"https://github.com/JuliaLang/julia/tree/c03f413bbdb46c00033f4eaad402995cfe3b7be5/base/subarray.jl#L406\" target=\"_blank\">subarray.jl:406</a><li> pointer(s::<b>SubArray{T,N,A<:AbstractArray{T,N},I<:(Union(Int64,Range{Int64})...,)}</b>,is::<b>(Int64...,)</b>) at <a href=\"https://github.com/JuliaLang/julia/tree/c03f413bbdb46c00033f4eaad402995cfe3b7be5/base/subarray.jl#L409\" target=\"_blank\">subarray.jl:409</a><li> pointer<i>{T}</i>(x::<b>AbstractArray{T,N}</b>) at <a href=\"https://github.com/JuliaLang/julia/tree/c03f413bbdb46c00033f4eaad402995cfe3b7be5/base/pointer.jl#L28\" target=\"_blank\">pointer.jl:28</a><li> pointer<i>{T}</i>(x::<b>AbstractArray{T,N}</b>,i::<b>Integer</b>) at <a href=\"https://github.com/JuliaLang/julia/tree/c03f413bbdb46c00033f4eaad402995cfe3b7be5/base/pointer.jl#L29\" target=\"_blank\">pointer.jl:29</a><li> pointer(x::<b>Union(UTF8String,ASCIIString)</b>,i::<b>Integer</b>) at <a href=\"https://github.com/JuliaLang/julia/tree/c03f413bbdb46c00033f4eaad402995cfe3b7be5/base/string.jl#L1705\" target=\"_blank\">string.jl:1705</a><li> pointer(x::<b>Union(UTF16String,UTF32String)</b>,i::<b>Integer</b>) at <a href=\"https://github.com/JuliaLang/julia/tree/c03f413bbdb46c00033f4eaad402995cfe3b7be5/base/string.jl#L1707\" target=\"_blank\">string.jl:1707</a><li> pointer(x::<b>Union(ASCIIString,UTF16String,UTF32String,UTF8String)</b>) at <a href=\"https://github.com/JuliaLang/julia/tree/c03f413bbdb46c00033f4eaad402995cfe3b7be5/base/string.jl#L1703\" target=\"_blank\">string.jl:1703</a><li> pointer<i>{T<:Union(UTF8String,ASCIIString)}</i>(x::<b>SubString{T<:Union(UTF8String,ASCIIString)}</b>) at <a href=\"https://github.com/JuliaLang/julia/tree/c03f413bbdb46c00033f4eaad402995cfe3b7be5/base/string.jl#L1704\" target=\"_blank\">string.jl:1704</a><li> pointer<i>{T<:Union(UTF8String,ASCIIString)}</i>(x::<b>SubString{T<:Union(UTF8String,ASCIIString)}</b>,i::<b>Integer</b>) at <a href=\"https://github.com/JuliaLang/julia/tree/c03f413bbdb46c00033f4eaad402995cfe3b7be5/base/string.jl#L1706\" target=\"_blank\">string.jl:1706</a><li> pointer<i>{T<:Union(UTF16String,UTF32String)}</i>(x::<b>SubString{T<:Union(UTF16String,UTF32String)}</b>) at <a href=\"https://github.com/JuliaLang/julia/tree/c03f413bbdb46c00033f4eaad402995cfe3b7be5/base/string.jl#L1708\" target=\"_blank\">string.jl:1708</a><li> pointer<i>{T<:Union(UTF16String,UTF32String)}</i>(x::<b>SubString{T<:Union(UTF16String,UTF32String)}</b>,i::<b>Integer</b>) at <a href=\"https://github.com/JuliaLang/julia/tree/c03f413bbdb46c00033f4eaad402995cfe3b7be5/base/string.jl#L1709\" target=\"_blank\">string.jl:1709</a><li> pointer<i>{T}</i>(::<b>Type{T}</b>,x::<b>Uint64</b>) at <a href=\"https://github.com/JuliaLang/julia/tree/c03f413bbdb46c00033f4eaad402995cfe3b7be5/base/deprecated.jl#L26\" target=\"_blank\">deprecated.jl:26</a><li> pointer<i>{T}</i>(::<b>Type{T}</b>,x::<b>Ptr{T}</b>) at <a href=\"https://github.com/JuliaLang/julia/tree/c03f413bbdb46c00033f4eaad402995cfe3b7be5/base/deprecated.jl#L26\" target=\"_blank\">deprecated.jl:26</a></ul>"
       ],
       "metadata": {},
       "output_type": "pyout",
       "prompt_number": 19,
       "text": [
        "# 13 methods for generic function \"pointer\":\n",
        "pointer(s::SubArray{T,N,A<:AbstractArray{T,N},I<:(Union(Int64,Range{Int64})...,)},i::Int64) at subarray.jl:406\n",
        "pointer(s::SubArray{T,N,A<:AbstractArray{T,N},I<:(Union(Int64,Range{Int64})...,)},is::(Int64...,)) at subarray.jl:409\n",
        "pointer{T}(x::AbstractArray{T,N}) at pointer.jl:28\n",
        "pointer{T}(x::AbstractArray{T,N},i::Integer) at pointer.jl:29\n",
        "pointer(x::Union(UTF8String,ASCIIString),i::Integer) at string.jl:1705\n",
        "pointer(x::Union(UTF16String,UTF32String),i::Integer) at string.jl:1707\n",
        "pointer(x::Union(ASCIIString,UTF16String,UTF32String,UTF8String)) at string.jl:1703\n",
        "pointer{T<:Union(UTF8String,ASCIIString)}(x::SubString{T<:Union(UTF8String,ASCIIString)}) at string.jl:1704\n",
        "pointer{T<:Union(UTF8String,ASCIIString)}(x::SubString{T<:Union(UTF8String,ASCIIString)},i::Integer) at string.jl:1706\n",
        "pointer{T<:Union(UTF16String,UTF32String)}(x::SubString{T<:Union(UTF16String,UTF32String)}) at string.jl:1708\n",
        "pointer{T<:Union(UTF16String,UTF32String)}(x::SubString{T<:Union(UTF16String,UTF32String)},i::Integer) at string.jl:1709\n",
        "pointer{T}(::Type{T},x::Uint64) at deprecated.jl:26\n",
        "pointer{T}(::Type{T},x::Ptr{T}) at deprecated.jl:26"
       ]
      }
     ],
     "prompt_number": 19
    },
    {
     "cell_type": "code",
     "collapsed": false,
     "input": [
      "a = Any[]\n",
      "@show pointer(a)\n",
      "push!(a,1)\n",
      "@show pointer(a)\n",
      "push!(a,2)\n",
      "@show pointer(a)\n",
      "pop!(a)\n",
      "@show pointer(a)\n",
      "pop!(a)\n",
      "@show pointer(a)\n",
      "push!(a,1)\n",
      "@show pointer(a)\n",
      "push!(a,2)\n",
      "@show pointer(a)\n",
      "pop!(a)\n",
      "@show pointer(a)\n",
      "pop!(a)\n",
      "@show pointer(a)"
     ],
     "language": "python",
     "metadata": {},
     "outputs": [
      {
       "output_type": "stream",
       "stream": "stdout",
       "text": [
        "pointer(a) => Ptr{Any} @0x00007f944ec85b40"
       ]
      },
      {
       "output_type": "stream",
       "stream": "stdout",
       "text": [
        "\n",
        "pointer(a) => Ptr{Any} @0x00007f9445f805c0\n",
        "pointer(a) => Ptr{Any} @0x00007f9445f805c0\n",
        "pointer(a) => Ptr{Any} @0x00007f9445f805c0\n",
        "pointer(a) => Ptr{Any} @0x00007f9445f805c0\n",
        "pointer(a) => Ptr{Any} @0x00007f9445f805c0\n",
        "pointer(a) => Ptr{Any} @0x00007f9445f805c0\n",
        "pointer(a) => Ptr{Any} @0x00007f9445f805c0\n",
        "pointer(a) => Ptr{Any} @0x00007f9445f805c0\n"
       ]
      },
      {
       "metadata": {},
       "output_type": "pyout",
       "prompt_number": 21,
       "text": [
        "Ptr{Any} @0x00007f9445f805c0"
       ]
      }
     ],
     "prompt_number": 21
    },
    {
     "cell_type": "code",
     "collapsed": false,
     "input": [
      "## ok, profile\n",
      "\n",
      "\n",
      "\n",
      "typealias Tup2 (Any,Any)\n",
      "eg(x::Tup2,y::Tup2) = begin\n",
      "    lifo = {}\n",
      "    (xh,xr) = x\n",
      "    (yh,yr) = y\n",
      "    push!(lifo, M.Box(xr,yr))\n",
      "    push!(lifo, M.Box(xh,yh))\n",
      "    count = 0\n",
      "    while(length(lifo) != 0)\n",
      "#        @show count\n",
      "#        @show lifo\n",
      "        bx = pop!(lifo)\n",
      "        a = bx.left\n",
      "        b = bx.right\n",
      "\n",
      "        ## handle tuple case\n",
      "        if typeof(a) <: Tup2 && typeof(b) <: Tup2\n",
      "            (ah,ar) = a\n",
      "            (bh,br) = b\n",
      "            push!(lifo, M.Box(ar,br))\n",
      "            push!(lifo, M.Box(ah,bh))\n",
      "        else  ## dispatch to proper eg method\n",
      "            res = eg(a,b) # <- so this could still lead to stack over flow, but unlikely if tuple is chosen as final compound strcauture\n",
      "            if !res\n",
      "                return false\n",
      "            end\n",
      "        end\n",
      "        count += 1\n",
      "    end\n",
      "    return true\n",
      "end\n",
      "\n"
     ],
     "language": "python",
     "metadata": {},
     "outputs": [
      {
       "metadata": {},
       "output_type": "pyout",
       "prompt_number": 26,
       "text": [
        "eg (generic function with 3 methods)"
       ]
      }
     ],
     "prompt_number": 26
    },
    {
     "cell_type": "code",
     "collapsed": false,
     "input": [
      "eg(l,l2)\n",
      "Profile.clear()\n",
      "\n",
      "@profile eg(l,l2)\n",
      "\n",
      "Profile.print()\n"
     ],
     "language": "python",
     "metadata": {},
     "outputs": [
      {
       "output_type": "stream",
       "stream": "stdout",
       "text": [
        "50 task.jl; anonymous; line: 340\n"
       ]
      },
      {
       "output_type": "stream",
       "stream": "stdout",
       "text": [
        " 50 ...3/IJulia/src/IJulia.jl; eventloop; line: 123\n",
        "  50 ...rc/execute_request.jl; execute_request_0x535c5df2; line: 140\n",
        "   50 loading.jl; include_string; line: 97\n",
        "    50 profile.jl; anonymous; line: 14\n",
        "     50 In[26]; eg; line: 21\n"
       ]
      }
     ],
     "prompt_number": 27
    },
    {
     "cell_type": "code",
     "collapsed": false,
     "input": [
      "## Ok -- looks like typeof is causing problems\n",
      "\n",
      "## try another way:\n",
      "isTup(x,y) = false\n",
      "isTup(x::(Any,Any),y::(Any,Any)) = true\n",
      "\n",
      "typealias Tup2 (Any,Any)\n",
      "eg(x::Tup2,y::Tup2) = begin\n",
      "    lifo = {}\n",
      "    (xh,xr) = x\n",
      "    (yh,yr) = y\n",
      "    push!(lifo, M.Box(xr,yr))\n",
      "    push!(lifo, M.Box(xh,yh))\n",
      "    count = 0\n",
      "    while(length(lifo) != 0)\n",
      "#        @show count\n",
      "#        @show lifo\n",
      "        bx = pop!(lifo)\n",
      "        a = bx.left\n",
      "        b = bx.right\n",
      "\n",
      "        ## handle tuple case\n",
      "        if isTup(a,b)\n",
      "            (ah,ar) = a\n",
      "            (bh,br) = b\n",
      "            push!(lifo, M.Box(ar,br))\n",
      "            push!(lifo, M.Box(ah,bh))\n",
      "        else  ## dispatch to proper eg method\n",
      "            res = eg(a,b) # <- so this could still lead to stack over flow, but unlikely if tuple is chosen as final compound strcauture\n",
      "            if !res\n",
      "                return false\n",
      "            end\n",
      "        end\n",
      "        count += 1\n",
      "    end\n",
      "    return true\n",
      "end\n"
     ],
     "language": "python",
     "metadata": {},
     "outputs": [
      {
       "metadata": {},
       "output_type": "pyout",
       "prompt_number": 36,
       "text": [
        "eg (generic function with 3 methods)"
       ]
      }
     ],
     "prompt_number": 36
    },
    {
     "cell_type": "code",
     "collapsed": false,
     "input": [
      "@show n = 1000\n",
      "ar = fill(2.0, n)\n",
      "ar2 = fill(2.0,n)\n",
      "\n",
      "l = \u2740(ar...)\n",
      "l2 = \u2740(ar2...)\n",
      "\n",
      "@show @time_it n eg(ar,ar2)\n",
      "@show @time_it n eg(l,l2)\n",
      "\n",
      "@show n = 100_000\n",
      "ar = fill(2.0, n)\n",
      "ar2 = fill(2.0,n)\n",
      "\n",
      "l = \u2740(ar...)\n",
      "l2 = \u2740(ar2...)\n",
      "\n",
      "@show @time_it n eg(ar,ar2)\n",
      "@show @time_it n eg(l,l2)"
     ],
     "language": "python",
     "metadata": {},
     "outputs": [
      {
       "output_type": "stream",
       "stream": "stdout",
       "text": [
        "n = 1000 => 1000"
       ]
      },
      {
       "output_type": "stream",
       "stream": "stdout",
       "text": [
        "\n",
        "time per iteration: 4.39 \u03b7s (0.08 bytes/iter, 0.00% gc time)\n",
        "@time_it n eg(ar,ar2) => true\n",
        "time per iteration: 489.66 \u03b7s (176.04 bytes/iter, 0.00% gc time)\n",
        "@time_it n eg(l,l2) => true\n",
        "n = 100000 => 100000\n",
        "time per iteration: 1.84 \u03b7s (0.00 bytes/iter, 0.00% gc time)\n",
        "@time_it n eg(ar,ar2) => true\n",
        "time per iteration: "
       ]
      },
      {
       "output_type": "stream",
       "stream": "stdout",
       "text": [
        "737.98 \u03b7s (176.00 bytes/iter, 35.47% gc time)\n",
        "@time_it n eg(l,l2) => true\n"
       ]
      },
      {
       "metadata": {},
       "output_type": "pyout",
       "prompt_number": 40,
       "text": [
        "true"
       ]
      }
     ],
     "prompt_number": 40
    },
    {
     "cell_type": "code",
     "collapsed": false,
     "input": [
      "eg(l,l2)\n",
      "Profile.clear()\n",
      "\n",
      "@profile eg(l,l2)\n",
      "\n",
      "Profile.print()"
     ],
     "language": "python",
     "metadata": {},
     "outputs": [
      {
       "output_type": "stream",
       "stream": "stdout",
       "text": [
        "43 task.jl; anonymous; line: 340\n"
       ]
      },
      {
       "output_type": "stream",
       "stream": "stdout",
       "text": [
        " 43 ...3/IJulia/src/IJulia.jl; eventloop; line: 123\n",
        "  43 ...rc/execute_request.jl; execute_request_0x535c5df2; line: 140\n",
        "   43 loading.jl; include_string; line: 97\n",
        "    43 profile.jl; anonymous; line: 14\n",
        "     1  In[36]; eg; line: 15\n",
        "     2  In[36]; eg; line: 18\n",
        "      1 array.jl; pop!; line: 516\n",
        "     3  In[36]; eg; line: 19\n",
        "     1  In[36]; eg; line: 20\n",
        "     12 In[36]; eg; line: 23\n",
        "     8  In[36]; eg; line: 24\n",
        "     11 In[36]; eg; line: 25\n",
        "      5 tuple.jl; indexed_next; line: 19\n",
        "     1  In[36]; eg; line: 26\n",
        "     1  In[36]; eg; line: 27\n",
        "     3  In[36]; eg; line: 29\n"
       ]
      }
     ],
     "prompt_number": 41
    },
    {
     "cell_type": "code",
     "collapsed": false,
     "input": [
      "## Great -- removing typeof fixes non constant behaviour\n",
      "## It still looks like most of the time is spent dealing with tuples \n",
      "\n",
      "## TODO -- create version that uses Box\n",
      "\n",
      "## But for now, let's investigate data structure used for life"
     ],
     "language": "python",
     "metadata": {},
     "outputs": []
    },
    {
     "cell_type": "code",
     "collapsed": false,
     "input": [
      "\n",
      "## Ok -- now let's try to remove MBox\n",
      "\n",
      "typealias Tup2 (Any,Any)\n",
      "eg(x::Tup2,y::Tup2) = begin\n",
      "    lifo = {}\n",
      "    (xh,xr) = x\n",
      "    (yh,yr) = y\n",
      "    push!(lifo, (xr,yr))\n",
      "    push!(lifo, (xh,yh))\n",
      "    count = 0\n",
      "    while(length(lifo) != 0)\n",
      "#        @show count\n",
      "#        @show lifo\n",
      "        #bx = pop!(lifo)\n",
      "        #a = bx.left\n",
      "        #b = bx.right\n",
      "        (a,b) = pop!(lifo)\n",
      "        ## handle tuple case\n",
      "        if isTup(a,b)\n",
      "            (ah,ar) = a\n",
      "            (bh,br) = b\n",
      "            push!(lifo, (ar,br))\n",
      "            push!(lifo, (ah,bh))\n",
      "        else  ## dispatch to proper eg method\n",
      "            res = eg(a,b) # <- so this could still lead to stack over flow, but unlikely if tuple is chosen as final compound strcauture\n",
      "            if !res\n",
      "                return false\n",
      "            end\n",
      "        end\n",
      "        count += 1\n",
      "    end\n",
      "    return true\n",
      "end\n"
     ],
     "language": "python",
     "metadata": {},
     "outputs": [
      {
       "metadata": {},
       "output_type": "pyout",
       "prompt_number": 42,
       "text": [
        "eg (generic function with 3 methods)"
       ]
      }
     ],
     "prompt_number": 42
    },
    {
     "cell_type": "code",
     "collapsed": false,
     "input": [
      "\n",
      "\n",
      "@show n = 1000\n",
      "ar = fill(2.0, n)\n",
      "ar2 = fill(2.0,n)\n",
      "\n",
      "l = \u2740(ar...)\n",
      "l2 = \u2740(ar2...)\n",
      "\n",
      "eg(l,l2)\n",
      "\n",
      "@show @time_it n eg(ar,ar2)\n",
      "@show @time_it n eg(l,l2)\n",
      "\n",
      "@show n = 2000\n",
      "ar = fill(2.0, n)\n",
      "ar2 = fill(2.0,n)\n",
      "\n",
      "l = \u2740(ar...)\n",
      "l2 = \u2740(ar2...)\n",
      "\n",
      "@show @time_it n eg(ar,ar2)\n",
      "@show @time_it n eg(l,l2)"
     ],
     "language": "python",
     "metadata": {},
     "outputs": [
      {
       "output_type": "stream",
       "stream": "stdout",
       "text": [
        "n = 1000 => 1000"
       ]
      },
      {
       "output_type": "stream",
       "stream": "stdout",
       "text": [
        "\n",
        "time per iteration: 3.86 \u03b7s (0.08 bytes/iter, 0.00% gc time)\n",
        "@time_it n eg(ar,ar2) => true\n",
        "time per iteration: 787.61 \u03b7s (320.04 bytes/iter, 0.00% gc time)\n",
        "@time_it n eg(l,l2) => true\n",
        "n = 2000 => 2000\n",
        "time per iteration: 2.26 \u03b7s (0.04 bytes/iter, 0.00% gc time)\n",
        "@time_it n eg(ar,ar2) => true\n",
        "time per iteration: 969.18 \u03b7s (320.02 bytes/iter, 0.00% gc time)\n",
        "@time_it n eg(l,l2) => true\n"
       ]
      },
      {
       "metadata": {},
       "output_type": "pyout",
       "prompt_number": 45,
       "text": [
        "true"
       ]
      }
     ],
     "prompt_number": 45
    },
    {
     "cell_type": "code",
     "collapsed": false,
     "input": [
      "## Doesn't seem to be any issue any longer\n",
      "\n",
      "## One last thing -- rm cell array\n",
      "typealias Tup2 (Any,Any)\n",
      "eg(x::Tup2,y::Tup2) = begin\n",
      "    lifo = Tup2[]\n",
      "    (xh,xr) = x\n",
      "    (yh,yr) = y\n",
      "    push!(lifo, (xr,yr))\n",
      "    push!(lifo, (xh,yh))\n",
      "    count = 0\n",
      "    while(length(lifo) != 0)\n",
      "#        @show count\n",
      "#        @show lifo\n",
      "        #bx = pop!(lifo)\n",
      "        #a = bx.left\n",
      "        #b = bx.right\n",
      "        (a,b) = pop!(lifo)\n",
      "        ## handle tuple case\n",
      "        if isTup(a,b)\n",
      "            (ah,ar) = a\n",
      "            (bh,br) = b\n",
      "            push!(lifo, (ar,br))\n",
      "            push!(lifo, (ah,bh))\n",
      "        else  ## dispatch to proper eg method\n",
      "            res = eg(a,b) # <- so this could still lead to stack over flow, but unlikely if tuple is chosen as final compound strcauture\n",
      "            if !res\n",
      "                return false\n",
      "            end\n",
      "        end\n",
      "        count += 1\n",
      "    end\n",
      "    return true\n",
      "end"
     ],
     "language": "python",
     "metadata": {},
     "outputs": [
      {
       "metadata": {},
       "output_type": "pyout",
       "prompt_number": 51,
       "text": [
        "eg (generic function with 3 methods)"
       ]
      }
     ],
     "prompt_number": 51
    },
    {
     "cell_type": "code",
     "collapsed": false,
     "input": [
      "@show n = 10\n",
      "ar = fill(2.0, n)\n",
      "ar2 = fill(2.0,n)\n",
      "\n",
      "l = \u2740(ar...)\n",
      "l2 = \u2740(ar2...)\n",
      "\n",
      "eg(l,l2)\n",
      "\n",
      "@show @time_it n eg(ar,ar2)\n",
      "@show @time_it n eg(l,l2)\n",
      "\n",
      "@show n = 40\n",
      "ar = fill(2.0, n)\n",
      "ar2 = fill(2.0,n)\n",
      "\n",
      "l = \u2740(ar...)\n",
      "l2 = \u2740(ar2...)\n",
      "\n",
      "@show @time_it n eg(ar,ar2)\n",
      "@show @time_it n eg(l,l2)"
     ],
     "language": "python",
     "metadata": {},
     "outputs": [
      {
       "output_type": "stream",
       "stream": "stdout",
       "text": [
        "n = 10 => 10"
       ]
      },
      {
       "output_type": "stream",
       "stream": "stdout",
       "text": [
        "\n",
        "time per iteration: 272.70 \u03b7s (8.00 bytes/iter, 0.00% gc time)\n",
        "@time_it n eg(ar,ar2) => true\n",
        "time per iteration: 7.59 \u03bcs (388.00 bytes/iter, 0.00% gc time)\n",
        "@time_it n eg(l,l2) => true\n",
        "n = 40 => 40\n",
        "time per iteration: 47.90 \u03b7s (2.00 bytes/iter, 0.00% gc time)\n",
        "@time_it n eg(ar,ar2) => true\n",
        "time per iteration: "
       ]
      },
      {
       "output_type": "stream",
       "stream": "stdout",
       "text": [
        "4.70 ms (119292.50 bytes/iter, 0.00% gc time)\n",
        "@time_it n eg(l,l2) => true\n"
       ]
      },
      {
       "metadata": {},
       "output_type": "pyout",
       "prompt_number": 54,
       "text": [
        "true"
       ]
      }
     ],
     "prompt_number": 54
    },
    {
     "cell_type": "code",
     "collapsed": false,
     "input": [
      "## Weird behavior -->\n",
      "## Slow in any case, but also causes huges jumps for larger lists\n",
      "## after which is settlse down\n"
     ],
     "language": "python",
     "metadata": {},
     "outputs": [],
     "prompt_number": 55
    },
    {
     "cell_type": "code",
     "collapsed": false,
     "input": [
      "## ok -- so we try to create a final version for Boxes\n",
      "## to see what the best case might be..\n",
      "\n",
      "isTup(x::M.Box,y::M.Box) = true\n",
      "\n",
      "eg(x::M.Box,y::M.Box) = begin\n",
      "    lifo = M.Box[]\n",
      "    xh = x.left\n",
      "    xr = x.right\n",
      "    yh = y.left\n",
      "    yr = y.right\n",
      "    \n",
      "    ## ordering favors small stack for normal lists\n",
      "    push!(lifo, M.Box(xr,yr))\n",
      "    push!(lifo, M.Box(xh,yh))\n",
      "    while(length(lifo) != 0)\n",
      "        bx = pop!(lifo)\n",
      "        a = bx.left\n",
      "        b = bx.right\n",
      "        if isTup(a,b)\n",
      "            ah = a.left\n",
      "            ar = a.right\n",
      "            bh = b.left\n",
      "            br = b.right\n",
      "            push!(lifo, M.Box(ar,br))\n",
      "            push!(lifo, M.Box(ah,bh))\n",
      "        else  ## dispatch to proper eg method\n",
      "            res = eg(a,b) # <- so this could still lead to stack over flow, but unlikely if tuple is chosen as final compound strcauture\n",
      "            if !res\n",
      "                return false\n",
      "            end\n",
      "        end\n",
      "    end\n",
      "    return true\n",
      "end"
     ],
     "language": "python",
     "metadata": {},
     "outputs": [
      {
       "metadata": {},
       "output_type": "pyout",
       "prompt_number": 62,
       "text": [
        "eg (generic function with 4 methods)"
       ]
      }
     ],
     "prompt_number": 62
    },
    {
     "cell_type": "code",
     "collapsed": false,
     "input": [
      "b1 = blist(1,2,3,4)\n",
      "b2 = blist(1,2,3,4)\n",
      "\n",
      "eg(b1,b2)"
     ],
     "language": "python",
     "metadata": {},
     "outputs": [
      {
       "metadata": {},
       "output_type": "pyout",
       "prompt_number": 64,
       "text": [
        "true"
       ]
      }
     ],
     "prompt_number": 64
    },
    {
     "cell_type": "code",
     "collapsed": false,
     "input": [
      "@show n = 1000\n",
      "ar = fill(2.0, n)\n",
      "ar2 = fill(2.0,n)\n",
      "\n",
      "bl = blist(ar...)\n",
      "bl2 = blist(ar2...)\n",
      "\n",
      "eg(bl,bl2)\n",
      "\n",
      "@show @time_it n eg(ar,ar2)\n",
      "@show @time_it n eg(bl,bl2)\n",
      "\n",
      "@show n = 2_000\n",
      "ar = fill(2.0, n)\n",
      "ar2 = fill(2.0,n)\n",
      "\n",
      "bl = blist(ar...)\n",
      "bl2 = blist(ar2...)\n",
      "\n",
      "@show @time_it n eg(ar,ar2)\n",
      "@show @time_it n eg(bl,bl2)"
     ],
     "language": "python",
     "metadata": {},
     "outputs": [
      {
       "output_type": "stream",
       "stream": "stdout",
       "text": [
        "n = 1000 => 1000"
       ]
      },
      {
       "output_type": "stream",
       "stream": "stdout",
       "text": [
        "\n",
        "time per iteration: 4.04 \u03b7s (0.08 bytes/iter, 0.00% gc time)\n",
        "@time_it n eg(ar,ar2) => true\n",
        "time per iteration: 183.76 \u03b7s (48.17 bytes/iter, 0.00% gc time)\n",
        "@time_it n eg(bl,bl2) => true\n",
        "n = 2000 => 2000\n",
        "time per iteration: 2.36 \u03b7s (0.04 bytes/iter, 0.00% gc time)\n",
        "@time_it n eg(ar,ar2) => true\n",
        "time per iteration: 182.18 \u03b7s (48.08 bytes/iter, 0.00% gc time)\n",
        "@time_it n eg(bl,bl2) => true\n"
       ]
      },
      {
       "metadata": {},
       "output_type": "pyout",
       "prompt_number": 67,
       "text": [
        "true"
       ]
      }
     ],
     "prompt_number": 67
    },
    {
     "cell_type": "code",
     "collapsed": false,
     "input": [
      "## Now we are finally getting somewhere\n",
      "\n",
      "## One last tweak:\n",
      "## Optimizae for the case when the tuple structure is a list\n",
      "\n",
      "## TBD\n",
      "eg(x::M.Box,y::M.Box) = begin\n",
      "    lifo = M.Box[]\n",
      "    xh = x.left\n",
      "    xr = x.right\n",
      "    yh = y.left\n",
      "    yr = y.right\n",
      "    \n",
      "    ## ordering favors small stack for normal lists\n",
      "    push!(lifo, M.Box(xr,yr))\n",
      "    push!(lifo, M.Box(xh,yh))\n",
      "    while(length(lifo) != 0)\n",
      "        bx = pop!(lifo)\n",
      "        a = bx.left\n",
      "        b = bx.right\n",
      "        if isTup(a,b)\n",
      "            ah = a.left\n",
      "            ar = a.right\n",
      "            bh = b.left\n",
      "            br = b.right\n",
      "            push!(lifo, M.Box(ar,br))\n",
      "            push!(lifo, M.Box(ah,bh))\n",
      "        else  ## dispatch to proper eg method\n",
      "            res = eg(a,b) # <- so this could still lead to stack over flow, but unlikely if tuple is chosen as final compound strcauture\n",
      "            if !res\n",
      "                return false\n",
      "            end\n",
      "        end\n",
      "    end\n",
      "    return true\n",
      "end"
     ],
     "language": "python",
     "metadata": {},
     "outputs": []
    },
    {
     "cell_type": "code",
     "collapsed": false,
     "input": [
      "\n",
      "\n",
      "\n",
      "\n",
      "## Moving on \n",
      "\n",
      "\n",
      "\n",
      "\n",
      "\n",
      "## sanity check function calling\n",
      "## when args are large tuples\n",
      "\n",
      "foo(x) = 1\n",
      "typealias Tup2 (Any,Any)\n",
      "foo(x::Tup2) = 2\n",
      "\n",
      "\n",
      "function loop(n,tup,f) \n",
      "    res = 0\n",
      "    for i=1:n\n",
      "        res += f(tup)\n",
      "    end\n",
      "    res\n",
      "end\n",
      "\n",
      "loop(10, list((1:40)...), foo)"
     ],
     "language": "python",
     "metadata": {},
     "outputs": [
      {
       "metadata": {},
       "output_type": "pyout",
       "prompt_number": 56,
       "text": [
        "20"
       ]
      }
     ],
     "prompt_number": 56
    },
    {
     "cell_type": "code",
     "collapsed": false,
     "input": [
      "n = 10_000\n",
      "l = list((1:5)...)\n",
      "@time_it n loop(n, l, foo)\n",
      "l = list((1:10)...)\n",
      "@time_it n loop(n, l, foo)\n",
      "l = list((1:100)...)\n",
      "@time_it n loop(n, l, foo)\n",
      "l = list((1:1000)...)\n",
      "@time_it n loop(n, l, foo)\n"
     ],
     "language": "python",
     "metadata": {},
     "outputs": [
      {
       "output_type": "stream",
       "stream": "stdout",
       "text": [
        "time per iteration: 78.29 \u03b7s"
       ]
      },
      {
       "output_type": "stream",
       "stream": "stdout",
       "text": [
        " (15.60 bytes/iter, 0.00% gc time)\n",
        "time per iteration: 68.93 \u03b7s (15.60 bytes/iter, 0.00% gc time)\n",
        "time per iteration: 89.56 \u03b7s (15.60 bytes/iter, 0.00% gc time)\n",
        "time per iteration: 82.38 \u03b7s (15.60 bytes/iter, 0.00% gc time)\n"
       ]
      },
      {
       "metadata": {},
       "output_type": "pyout",
       "prompt_number": 60,
       "text": [
        "20000"
       ]
      }
     ],
     "prompt_number": 60
    },
    {
     "cell_type": "code",
     "collapsed": false,
     "input": [
      "## Ok -- so no problems passing large tuples\n",
      "\n"
     ],
     "language": "python",
     "metadata": {},
     "outputs": [],
     "prompt_number": 61
    }
   ],
   "metadata": {}
  }
 ]
}