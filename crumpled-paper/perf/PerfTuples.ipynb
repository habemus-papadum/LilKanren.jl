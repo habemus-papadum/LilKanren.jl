{
 "metadata": {
  "language": "Julia",
  "name": "",
  "signature": "sha256:1f795ec1e8c8dfb839a393975f0ac6f34128ee2aef099bb50aaa1c84a70ed711"
 },
 "nbformat": 3,
 "nbformat_minor": 0,
 "worksheets": [
  {
   "cells": [
    {
     "cell_type": "code",
     "collapsed": false,
     "input": [
      "## Scanning github issues and julia mailing lists\n",
      "## I see all sorts of references to the complicated nature\n",
      "## of dispatching basied on tuple type\n",
      "\n",
      "## here we investigate some possible issues\n",
      "##  -- First dispatch performance\n",
      "##  -- Second replacing recursion with a stack\n"
     ],
     "language": "python",
     "metadata": {},
     "outputs": []
    }
   ],
   "metadata": {}
  }
 ]
}