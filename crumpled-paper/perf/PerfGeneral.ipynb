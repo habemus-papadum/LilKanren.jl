{
 "metadata": {
  "language": "Julia",
  "name": "",
  "signature": "sha256:b8d6a71808118f2515051dac98be536f4207435635ca7ca5f6102b8e7733aa3d"
 },
 "nbformat": 3,
 "nbformat_minor": 0,
 "worksheets": [
  {
   "cells": [
    {
     "cell_type": "code",
     "collapsed": false,
     "input": [
      "## Some Julia performance testing, internals investigations\n",
      "## A bit scattered --> needs to be better documented and reorganized\n",
      "\n",
      "##Utils\n",
      "function formatNum(x)\n",
      "    @sprintf \"%.2f\"  x\n",
      "end\n",
      "\n",
      "function niceTime(nanos) \n",
      "    if nanos < 1_000.0\n",
      "        \"$(formatNum(nanos)) \u03b7s\"\n",
      "    elseif nanos < 1_000_000.0\n",
      "        \"$(formatNum(nanos/1_000.0)) \u03bcs\"\n",
      "    else \n",
      "        \"$(formatNum(nanos/1_000_000.0)) ms\"\n",
      "    end \n",
      "end\n",
      " \n",
      "## lifted from base\n",
      "function time_p(t,n, b, g)\n",
      "    @printf(\"time per iteration: %s (%.2f bytes/iter, %.2f%% gc time)\\n\", niceTime(t/n), b/n, 100*g/t)\n",
      "end\n",
      "\n",
      "macro time_it(n, ex)\n",
      "    quote\n",
      "        local b0 = Base.gc_bytes()\n",
      "        local t0 = Base.time_ns()\n",
      "        local g0 = Base.gc_time_ns()\n",
      "        local val = $(esc(ex))\n",
      "        local g1 = Base.gc_time_ns()\n",
      "        local t1 = Base.time_ns()\n",
      "        local b1 = Base.gc_bytes()\n",
      "        time_p(t1-t0, $(n), (b1-b0), g1-g0)\n",
      "        val\n",
      "    end\n",
      "end"
     ],
     "language": "python",
     "metadata": {},
     "outputs": [],
     "prompt_number": 1
    },
    {
     "cell_type": "markdown",
     "metadata": {},
     "source": [
      "\n",
      "The original set of tests\n",
      "==============================\n",
      "\n",
      "Tests the overhead of various operations.\n",
      "\n",
      "the operations to be performed range from being statically determinate to indeterminate in vaious ways (e.g. relying on closures or global variables)\n"
     ]
    },
    {
     "cell_type": "code",
     "collapsed": false,
     "input": [
      "## The original set of tests\n",
      "## tests overhead of various operations \n",
      "\n",
      "##simple loop\n",
      "function loop(x)\n",
      "    res = 0.0\n",
      "    for i=1:length(x)\n",
      "        res += x[i]\n",
      "    end\n",
      "    res\n",
      "end\n",
      "\n",
      "function sum2(a,b)\n",
      "    a + b\n",
      "end\n",
      "\n",
      "## statically determinate function call within loop\n",
      "function loop2(x)\n",
      "    res = 0.0\n",
      "    for i=1:length(x)\n",
      "        res = sum2(res, x[i])\n",
      "    end\n",
      "    res\n",
      "end\n",
      "\n",
      "## statically indeterminate function call within loop\n",
      "function loop3(x, f)\n",
      "    res = 0.0\n",
      "    for i=1:length(x)\n",
      "        res = f(res, x[i])\n",
      "    end\n",
      "    res\n",
      "end\n",
      "\n",
      "## generate a closure with simple structure\n",
      "function genf(n)\n",
      "    (x,y) -> x + y + n\n",
      "end\n",
      "\n",
      "\n",
      "## generate a closure which relies on statically indeterminate function\n",
      "function genf2(n,f)\n",
      "    (x,y) -> f(x,y) + n\n",
      "end\n",
      "\n",
      "#####\n",
      "##investigate global variables\n",
      "foo = 0\n",
      "\n",
      "## closure which relies on global variable\n",
      "function genf3()\n",
      "    (x,y) -> x + y + foo\n",
      "end\n",
      "\n",
      "####\n",
      "##two versions one without, and one with global variables\n",
      "function fc(x,y)\n",
      "    sum2(x,y)\n",
      "end\n",
      "\n",
      "fc2 = sum2\n",
      "function genf4()\n",
      "    (x,y) -> fc2(x,y)\n",
      "end\n"
     ],
     "language": "python",
     "metadata": {},
     "outputs": [
      {
       "metadata": {},
       "output_type": "pyout",
       "prompt_number": 2,
       "text": [
        "genf4 (generic function with 1 method)"
       ]
      }
     ],
     "prompt_number": 2
    },
    {
     "cell_type": "code",
     "collapsed": false,
     "input": [
      "## sanity check dynamism of global vars\n",
      "\n",
      "@show foo\n",
      "c = genf3()\n",
      "@show c(3,2)\n",
      "foo=4\n",
      "@show c(3,2)\n",
      "\n",
      "##return foo to original state\n",
      "foo = 0\n",
      "\n",
      "c = genf4()\n",
      "@show c(3,4)\n",
      "fc2=(-)\n",
      "@show c(3,4)\n",
      "\n",
      "##return to original\n",
      "fc2=sum2\n",
      "nothing"
     ],
     "language": "python",
     "metadata": {},
     "outputs": [
      {
       "output_type": "stream",
       "stream": "stdout",
       "text": [
        "foo => 0"
       ]
      },
      {
       "output_type": "stream",
       "stream": "stdout",
       "text": [
        "\n",
        "c(3,2) => "
       ]
      },
      {
       "output_type": "stream",
       "stream": "stdout",
       "text": [
        "5\n",
        "c(3,2) => 9\n",
        "c(3,4) => 7\n",
        "c(3,4) => -1\n"
       ]
      }
     ],
     "prompt_number": 3
    },
    {
     "cell_type": "code",
     "collapsed": false,
     "input": [
      "function runIt(n)\n",
      "    x = ones(1, n);\n",
      "    # warmup\n",
      "    loop(x);\n",
      "    loop2(x);\n",
      "    loop3(x, sum2);\n",
      "\n",
      "    println(\"pure for loop, no inner function; loop\");\n",
      "    @time_it n loop(x);\n",
      "    println(\"\");\n",
      "\n",
      "    println(\"pure loop, inner function; loop2\");\n",
      "    @time_it n loop2(x);\\\n",
      "    println(\"\");\n",
      "\n",
      "    println(\"higher order loop, user defined global function; loop3, sum2\");\n",
      "    @time_it n loop3(x, sum2);\n",
      "    println(\"\");\n",
      "\n",
      "    println(\"higher order loop, internal function; loop3, (+)\");\n",
      "    @time_it n loop3(x, +);\n",
      "    println(\"\");\n",
      "\n",
      "\n",
      "    println(\"HO loop, closure over int,  loop3, genf\");\n",
      "    fn = genf(2)\n",
      "    @time_it n loop3(x, fn);\n",
      "    println(\"\");\n",
      "\n",
      "    println(\"HO loop, closure over user def fn, loop3, genf2\");\n",
      "    fn = genf2(2, sum2)\n",
      "    @time_it n loop3(x, fn);\n",
      "    println(\"\");\n",
      "\n",
      "    # no so much about closure as global access\n",
      "    println(\"HO loop,closure accesses global const;  loop3, genf3\");\n",
      "    fn = genf3()\n",
      "    @time_it n loop3(x, fn);\n",
      "    println(\"\");\n",
      "\n",
      "    println(\"HO loop, closure accesses global fn, loop3, genf4\");\n",
      "    fn = genf4()\n",
      "    @time_it n loop3(x, fn);\n",
      "    println(\"\");\n",
      "\n",
      "    return length(x)\n",
      "\n",
      "end\n",
      "\n",
      "runIt(1_000_000)"
     ],
     "language": "python",
     "metadata": {},
     "outputs": [
      {
       "output_type": "stream",
       "stream": "stdout",
       "text": [
        "pure for loop, no inner function; loop\n"
       ]
      },
      {
       "output_type": "stream",
       "stream": "stdout",
       "text": [
        "time per iteration: 1.15 \u03b7s (0.00 bytes/iter, 0.00% gc time)\n",
        "\n",
        "pure loop, inner function; loop2\n",
        "time per iteration: 1.13 \u03b7s (0.00 bytes/iter, 0.00% gc time)\n",
        "\n",
        "higher order loop, user defined global function; loop3, sum2\n",
        "time per iteration: 60.11 \u03b7s (32.00 bytes/iter, 46.50% gc time)\n",
        "\n",
        "higher order loop, internal function; loop3, (+)\n",
        "time per iteration: "
       ]
      },
      {
       "output_type": "stream",
       "stream": "stdout",
       "text": [
        "32.64 \u03b7s (32.00 bytes/iter, 0.00% gc time)\n",
        "\n",
        "HO loop, closure over int,  loop3, genf\n",
        "time per iteration: 78.00 \u03b7s (32.02 bytes/iter, 36.73% gc time)\n",
        "\n",
        "HO loop, closure over user def fn, loop3, genf2\n",
        "time per iteration: "
       ]
      },
      {
       "output_type": "stream",
       "stream": "stdout",
       "text": [
        "106.78 \u03b7s (48.00 bytes/iter, 25.80% gc time)\n",
        "\n",
        "HO loop,closure accesses global const;  loop3, genf3\n",
        "time per iteration: 81.15 \u03b7s (32.07 bytes/iter, 40.65% gc time)\n",
        "\n",
        "HO loop, closure accesses global fn, loop3, genf4\n",
        "time per iteration: "
       ]
      },
      {
       "output_type": "stream",
       "stream": "stdout",
       "text": [
        "39.02 \u03b7s (32.00 bytes/iter, 0.00% gc time)\n",
        "\n"
       ]
      },
      {
       "metadata": {},
       "output_type": "pyout",
       "prompt_number": 4,
       "text": [
        "1000000"
       ]
      }
     ],
     "prompt_number": 4
    },
    {
     "cell_type": "markdown",
     "metadata": {},
     "source": [
      "Benchmark Counters\n",
      "======================"
     ]
    },
    {
     "cell_type": "code",
     "collapsed": false,
     "input": [
      "## bench counters\n",
      "function counter()\n",
      "    n = 0\n",
      "    g() = n += 1\n",
      "    g\n",
      "end\n",
      "\n",
      "function counterProf(n, c)\n",
      "    s = 0\n",
      "    for i=1:n\n",
      "        s = c()\n",
      "    end\n",
      "    s\n",
      "end\n",
      "\n",
      "##warmup \n",
      "counterProf(1_000,counter())\n",
      "n=1_000_000\n",
      "c = counter()\n",
      "@time_it n counterProf(n,c)"
     ],
     "language": "python",
     "metadata": {},
     "outputs": [
      {
       "output_type": "stream",
       "stream": "stdout",
       "text": [
        "time per iteration: 70.00 \u03b7s"
       ]
      },
      {
       "output_type": "stream",
       "stream": "stdout",
       "text": [
        " (15.99 bytes/iter, 42.22% gc time)\n"
       ]
      },
      {
       "metadata": {},
       "output_type": "pyout",
       "prompt_number": 5,
       "text": [
        "1000000"
       ]
      }
     ],
     "prompt_number": 5
    },
    {
     "cell_type": "code",
     "collapsed": false,
     "input": [
      "help(code_native)\n"
     ],
     "language": "python",
     "metadata": {},
     "outputs": [
      {
       "output_type": "stream",
       "stream": "stderr",
       "text": [
        "INFO: Loading help data...\n"
       ]
      },
      {
       "output_type": "stream",
       "stream": "stdout",
       "text": [
        "Base.code_native(f, types)\n",
        "\n",
        "   Prints the native assembly instructions generated for running the\n",
        "   method matching the given generic function and type signature to\n",
        "   STDOUT.\n"
       ]
      }
     ],
     "prompt_number": 6
    },
    {
     "cell_type": "code",
     "collapsed": false,
     "input": [
      "methods(counter)"
     ],
     "language": "python",
     "metadata": {},
     "outputs": [
      {
       "html": [
        "1 method for generic function <b>counter</b>:<ul><li> counter() at In[5]:3</ul>"
       ],
       "metadata": {},
       "output_type": "pyout",
       "prompt_number": 7,
       "text": [
        "# 1 method for generic function \"counter\":\n",
        "counter() at In[5]:3"
       ]
      }
     ],
     "prompt_number": 7
    },
    {
     "cell_type": "code",
     "collapsed": false,
     "input": [
      "@code_native counter()"
     ],
     "language": "python",
     "metadata": {},
     "outputs": [
      {
       "output_type": "stream",
       "stream": "stdout",
       "text": [
        "\t.section\t__TEXT,__text,regular,pure_instructions\n",
        "Filename: In[5]\n",
        "Source line: 3\n",
        "\tpush\tRBP\n",
        "\tmov\tRBP, RSP\n",
        "\tpush\tR15\n",
        "\tpush\tR14\n",
        "\tpush\tRBX\n",
        "\tsub\tRSP, 56\n",
        "\tmov\tQWORD PTR [RBP - 72], 8\n",
        "Source line: 3\n",
        "\tmovabs\tR14, 4465494448\n",
        "\tmov\tRAX, QWORD PTR [R14]\n",
        "\tmov\tQWORD PTR [RBP - 64], RAX\n",
        "\tlea\tRAX, QWORD PTR [RBP - 72]\n",
        "\tmov\tQWORD PTR [R14], RAX\n",
        "\txorps\tXMM0, XMM0\n",
        "\tmovups\tXMMWORD PTR [RBP - 56], XMM0\n",
        "\tmovups\tXMMWORD PTR [RBP - 40], XMM0\n",
        "Source line: 3\n",
        "\tmovabs\tRAX, 4452094256\n",
        "\txor\tEDI, EDI\n",
        "\tcall\tRAX\n",
        "Source line: 4\n",
        "\tmovabs\tRCX, 4452416208\n",
        "\tmovabs\tR15, 140404100277760\n",
        "\tmovabs\tRDX, 140404100333120\n",
        "Source line: 3\n",
        "\tmov\tQWORD PTR [RBP - 56], RAX\n",
        "\tmov\tQWORD PTR [RAX + 8], RDX\n",
        "Source line: 4\n",
        "\tmov\tQWORD PTR [RBP - 40], R15\n",
        "\tmov\tEDI, 32\n",
        "\tcall\tRCX\n",
        "\tmov\tRBX, RAX\n",
        "\tmovabs\tRCX, 4452339600\n",
        "\tmovabs\tRAX, 140404100264960\n",
        "\tmov\tQWORD PTR [RBX + 16], R15\n",
        "\tmov\tQWORD PTR [RBX], RAX\n",
        "\tmov\tQWORD PTR [RBX + 8], 2\n",
        "\tmov\tQWORD PTR [RBX + 24], R15\n",
        "\tmov\tQWORD PTR [RBP - 40], RBX\n",
        "\tmov\tRSI, QWORD PTR [RBP - 56]\n",
        "\tmov\tEDI, 1\n",
        "\txor\tAL, AL\n",
        "\tcall\tRCX\n",
        "\tmovabs\tRCX, 4452340544\n",
        "\tmov\tQWORD PTR [RBP - 32], RAX\n",
        "\txor\tEDI, EDI\n",
        "\tmov\tRSI, RAX\n",
        "\tmovabs\tRDX, 140404332761424\n",
        "\tcall\tRCX\n",
        "Source line: 3\n",
        "\tlea\tRSI, QWORD PTR [RBP - 48]\n",
        "Source line: 4\n",
        "\tmovabs\tR9, 4452392960\n",
        "\tmov\tQWORD PTR [RBP - 32], RAX\n",
        "\tmovabs\tRDI, 4473579456\n",
        "\txor\tEDX, EDX\n",
        "\tmov\tRCX, RBX\n",
        "\tmov\tR8, RAX\n",
        "\tcall\tR9\n",
        "Source line: 5\n",
        "\tmov\tRCX, QWORD PTR [RBP - 64]\n",
        "\tmov\tRAX, QWORD PTR [RBP - 48]\n",
        "\tmov\tQWORD PTR [R14], RCX\n",
        "\tadd\tRSP, 56\n",
        "\tpop\tRBX\n",
        "\tpop\tR14\n",
        "\tpop\tR15\n",
        "\tpop\tRBP\n",
        "\tret\n"
       ]
      }
     ],
     "prompt_number": 8
    },
    {
     "cell_type": "code",
     "collapsed": false,
     "input": [
      "@code_llvm counter()"
     ],
     "language": "python",
     "metadata": {},
     "outputs": [
      {
       "output_type": "stream",
       "stream": "stdout",
       "text": [
        "\n",
        "define %jl_value_t* @\"julia_counter;1736\"() {\n",
        "top:\n",
        "  %0 = alloca [6 x %jl_value_t*], align 8\n",
        "  %.sub = getelementptr inbounds [6 x %jl_value_t*]* %0, i64 0, i64 0\n",
        "  %1 = getelementptr [6 x %jl_value_t*]* %0, i64 0, i64 2, !dbg !5271\n",
        "  store %jl_value_t* inttoptr (i64 8 to %jl_value_t*), %jl_value_t** %.sub, align 8\n",
        "  %2 = load %jl_value_t*** @jl_pgcstack, align 8, !dbg !5271\n",
        "  %3 = getelementptr [6 x %jl_value_t*]* %0, i64 0, i64 1, !dbg !5271\n",
        "  %.c = bitcast %jl_value_t** %2 to %jl_value_t*, !dbg !5271\n",
        "  store %jl_value_t* %.c, %jl_value_t** %3, align 8, !dbg !5271\n",
        "  store %jl_value_t** %.sub, %jl_value_t*** @jl_pgcstack, align 8, !dbg !5271\n",
        "  store %jl_value_t* null, %jl_value_t** %1, align 8, !dbg !5271\n",
        "  %4 = getelementptr [6 x %jl_value_t*]* %0, i64 0, i64 3, !dbg !5271\n",
        "  store %jl_value_t* null, %jl_value_t** %4, align 8, !dbg !5271\n",
        "  %5 = getelementptr [6 x %jl_value_t*]* %0, i64 0, i64 4\n",
        "  store %jl_value_t* null, %jl_value_t** %5, align 8\n",
        "  %6 = getelementptr [6 x %jl_value_t*]* %0, i64 0, i64 5\n",
        "  store %jl_value_t* null, %jl_value_t** %6, align 8\n",
        "  %7 = call %jl_value_t* @jl_new_box(%jl_value_t* null), !dbg !5272\n",
        "  store %jl_value_t* %7, %jl_value_t** %1, align 8, !dbg !5272\n",
        "  %8 = getelementptr inbounds %jl_value_t* %7, i64 1, i32 0, !dbg !5272\n",
        "  store %jl_value_t* inttoptr (i64 140404100333120 to %jl_value_t*), %jl_value_t** %8, align 8, !dbg !5272\n",
        "  store %jl_value_t* inttoptr (i64 140404100277760 to %jl_value_t*), %jl_value_t** %5, align 8, !dbg !5273\n",
        "  %9 = call %jl_value_t* @allocobj(i64 32), !dbg !5273\n",
        "  %10 = getelementptr inbounds %jl_value_t* %9, i64 2, i32 0, !dbg !5273\n",
        "  store %jl_value_t* inttoptr (i64 140404100277760 to %jl_value_t*), %jl_value_t** %10, align 8, !dbg !5273\n",
        "  %11 = getelementptr inbounds %jl_value_t* %9, i64 0, i32 0, !dbg !5273\n",
        "  store %jl_value_t* inttoptr (i64 140404100264960 to %jl_value_t*), %jl_value_t** %11, align 8, !dbg !5273\n",
        "  %12 = getelementptr inbounds %jl_value_t* %9, i64 1, i32 0, !dbg !5273\n",
        "  store %jl_value_t* inttoptr (i64 2 to %jl_value_t*), %jl_value_t** %12, align 8, !dbg !5273\n",
        "  %13 = getelementptr inbounds %jl_value_t* %9, i64 3, i32 0, !dbg !5273\n",
        "  store %jl_value_t* inttoptr (i64 140404100277760 to %jl_value_t*), %jl_value_t** %13, align 8, !dbg !5273\n",
        "  store %jl_value_t* %9, %jl_value_t** %5, align 8, !dbg !5273\n",
        "  %14 = load %jl_value_t** %1, align 8, !dbg !5273\n",
        "  %15 = call %jl_value_t* (i64, ...)* @jl_tuple(i64 1, %jl_value_t* %14), !dbg !5273\n",
        "  store %jl_value_t* %15, %jl_value_t** %6, align 8, !dbg !5273\n",
        "  %16 = call %jl_value_t* @jl_new_closure(i8* null, %jl_value_t* %15, %jl_value_t* inttoptr (i64 140404332761424 to %jl_value_t*)), !dbg !5273\n",
        "  store %jl_value_t* %16, %jl_value_t** %6, align 8, !dbg !5273\n",
        "  %17 = call %jl_value_t* @jl_method_def(%jl_value_t* inttoptr (i64 4473579456 to %jl_value_t*), %jl_value_t** %4, %jl_value_t* null, %jl_value_t* %9, %jl_value_t* %16), !dbg !5273\n",
        "  %18 = load %jl_value_t** %4, align 8, !dbg !5274\n",
        "  %19 = load %jl_value_t** %3, align 8, !dbg !5274\n",
        "  %20 = getelementptr inbounds %jl_value_t* %19, i64 0, i32 0, !dbg !5274\n",
        "  store %jl_value_t** %20, %jl_value_t*** @jl_pgcstack, align 8, !dbg !5274\n",
        "  ret %jl_value_t* %18, !dbg !5274\n",
        "}\n"
       ]
      }
     ],
     "prompt_number": 9
    },
    {
     "cell_type": "code",
     "collapsed": false,
     "input": [
      "@code_lowered counter()"
     ],
     "language": "python",
     "metadata": {},
     "outputs": [
      {
       "metadata": {},
       "output_type": "pyout",
       "prompt_number": 10,
       "text": [
        "1-element Array{Any,1}:\n",
        " :($(Expr(:lambda, {}, {{:n,:g},{{:n,:Any,7},{:g,:Any,2}},{}}, :(begin  # In[5], line 3:\n",
        "        NewvarNode(:n)\n",
        "        n = 0 # line 4:\n",
        "        $(Expr(:method, :g, :((top(tuple))((top(tuple))(),(top(tuple))())), AST(:($(Expr(:lambda, {}, {{symbol(\"#s175\")},{{symbol(\"#s175\"),:Any,18}},{{:n,:Any,7}}}, :(begin  # In[5], line 4:\n",
        "        #s175 = n + 1\n",
        "        n = #s175\n",
        "        return #s175\n",
        "    end))))))) # line 5:\n",
        "        return g\n",
        "    end))))"
       ]
      }
     ],
     "prompt_number": 10
    },
    {
     "cell_type": "markdown",
     "metadata": {},
     "source": [
      "Profile closure creation\n",
      "==========================="
     ]
    },
    {
     "cell_type": "code",
     "collapsed": false,
     "input": [
      "n=1_000_000\n",
      "\n",
      "#first profile difference between arrays and cell arrays\n",
      "x = zeros(n)\n",
      "\n",
      "function fillNum(x)\n",
      "    for i=1:length(x)\n",
      "        x[i]=i\n",
      "    end\n",
      "    nothing\n",
      "end\n",
      "\n",
      "##warmup \n",
      "fillNum(x)\n",
      "@time_it n fillNum(x)\n"
     ],
     "language": "python",
     "metadata": {},
     "outputs": [
      {
       "output_type": "stream",
       "stream": "stdout",
       "text": [
        "time per iteration: 1.00 \u03b7s"
       ]
      },
      {
       "output_type": "stream",
       "stream": "stdout",
       "text": [
        " (0.00 bytes/iter, 0.00% gc time)\n"
       ]
      }
     ],
     "prompt_number": 11
    },
    {
     "cell_type": "code",
     "collapsed": false,
     "input": [
      "## now cell arrays\n",
      "x = cell(n)\n",
      "##warmup \n",
      "fillNum(x)\n",
      "@time_it n fillNum(x)\n"
     ],
     "language": "python",
     "metadata": {},
     "outputs": [
      {
       "output_type": "stream",
       "stream": "stdout",
       "text": [
        "time per iteration: 14.57 \u03b7s"
       ]
      },
      {
       "output_type": "stream",
       "stream": "stdout",
       "text": [
        " (15.99 bytes/iter, 0.00% gc time)\n"
       ]
      }
     ],
     "prompt_number": 14
    },
    {
     "cell_type": "code",
     "collapsed": false,
     "input": [
      "## now create closure\n",
      "function genf(n)\n",
      "    (x,y) -> x + y + n\n",
      "end\n",
      "x = cell(n)\n",
      "function fillClos(x)\n",
      "    for i=1:length(x)\n",
      "        x[i]=genf(i)\n",
      "    end\n",
      "    nothing\n",
      "end\n",
      "\n",
      "##warmup \n",
      "fillClos(x)\n",
      "@time_it n fillClos(x)\n",
      "\n"
     ],
     "language": "python",
     "metadata": {},
     "outputs": [
      {
       "output_type": "stream",
       "stream": "stdout",
       "text": [
        "time per iteration: 43.00 \u03b7s"
       ]
      },
      {
       "output_type": "stream",
       "stream": "stdout",
       "text": [
        " (71.99 bytes/iter, 0.00% gc time)\n"
       ]
      }
     ],
     "prompt_number": 16
    },
    {
     "cell_type": "markdown",
     "metadata": {},
     "source": [
      "Profile Evaluation\n",
      "=========================\n",
      "\n"
     ]
    },
    {
     "cell_type": "code",
     "collapsed": false,
     "input": [
      "##simple evaluation\n",
      "\n",
      "n = 10_000\n",
      "x = cell(n)\n",
      "function fillEval(x)\n",
      "    for i=1:length(x)\n",
      "        x[i]= eval(:(2+2)) \n",
      "    end\n",
      "    nothing\n",
      "end\n",
      "\n",
      "##warmup \n",
      "fillEval(x)\n",
      "@time_it n fillEval(x)"
     ],
     "language": "python",
     "metadata": {},
     "outputs": [
      {
       "output_type": "stream",
       "stream": "stdout",
       "text": [
        "time per iteration: 125.13 \u03bcs"
       ]
      },
      {
       "output_type": "stream",
       "stream": "stdout",
       "text": [
        " (239.19 bytes/iter, 0.00% gc time)\n"
       ]
      }
     ],
     "prompt_number": 17
    },
    {
     "cell_type": "code",
     "collapsed": false,
     "input": [
      "#Create a closure\n",
      "n = 1_000\n",
      "x = cell(n)\n",
      "function fillEval(x)\n",
      "    \n",
      "    for i=1:length(x)\n",
      "        y = eval(:(y -> y + $i))\n",
      "        x[i]= y(i) \n",
      "    end\n",
      "    nothing\n",
      "end\n",
      "\n",
      "##warmup \n",
      "fillEval(x)\n",
      "@time_it n fillEval(x)"
     ],
     "language": "python",
     "metadata": {},
     "outputs": [
      {
       "output_type": "stream",
       "stream": "stdout",
       "text": [
        "time per iteration: 1.24 ms"
       ]
      },
      {
       "output_type": "stream",
       "stream": "stdout",
       "text": [
        " (2846.34 bytes/iter, 0.00% gc time)\n"
       ]
      }
     ],
     "prompt_number": 18
    },
    {
     "cell_type": "code",
     "collapsed": false,
     "input": [
      "#redef a global function (potentially triggering a re-jit?)\n",
      "n = 1_000\n",
      "\n",
      "function sumTemp(x) \n",
      "    x + 1\n",
      "end\n",
      "\n",
      "eval(quote\n",
      "    function sumTemp(x) \n",
      "        x + 2\n",
      "    end\n",
      "    \n",
      "end)\n",
      "\n",
      "##test it out\n",
      "@show sumTemp(3)\n",
      "## So -- from the output, this works\n",
      "\n",
      "\n",
      "## In this case, the intended dynamism is anot achieved....\n",
      "function fillEval(x)\n",
      "    for i=1:length(x)\n",
      "        eval(quote\n",
      "                function sumTemp(y) \n",
      "                y + $i  \n",
      "                end\n",
      "             end)\n",
      "        x[i]= sumTemp(i) # <== hope it will be i+i\n",
      "    end\n",
      "    nothing\n",
      "end\n",
      "\n",
      "##warmup \n",
      "x = zeros(n)\n",
      "fillEval(x)\n",
      "\n",
      "x = zeros(n)\n",
      "@time_it n fillEval(x)\n"
     ],
     "language": "python",
     "metadata": {},
     "outputs": [
      {
       "output_type": "stream",
       "stream": "stdout",
       "text": [
        "sumTemp(3) => 5"
       ]
      },
      {
       "output_type": "stream",
       "stream": "stdout",
       "text": [
        "\n",
        "time per iteration: "
       ]
      },
      {
       "output_type": "stream",
       "stream": "stdout",
       "text": [
        "491.75 \u03bcs (2535.73 bytes/iter, 0.00% gc time)\n"
       ]
      }
     ],
     "prompt_number": 22
    },
    {
     "cell_type": "code",
     "collapsed": false,
     "input": [
      "x[10] ## should be 20 (i.e. i+i)\n"
     ],
     "language": "python",
     "metadata": {},
     "outputs": [
      {
       "metadata": {},
       "output_type": "pyout",
       "prompt_number": 23,
       "text": [
        "12.0"
       ]
      }
     ],
     "prompt_number": 23
    },
    {
     "cell_type": "code",
     "collapsed": false,
     "input": [
      "x[1:6]"
     ],
     "language": "python",
     "metadata": {},
     "outputs": [
      {
       "metadata": {},
       "output_type": "pyout",
       "prompt_number": 24,
       "text": [
        "6-element Array{Float64,1}:\n",
        " 3.0\n",
        " 4.0\n",
        " 5.0\n",
        " 6.0\n",
        " 7.0\n",
        " 8.0"
       ]
      }
     ],
     "prompt_number": 24
    },
    {
     "cell_type": "code",
     "collapsed": false,
     "input": [
      "## ==> the above dynamism does not work...."
     ],
     "language": "python",
     "metadata": {},
     "outputs": []
    },
    {
     "cell_type": "code",
     "collapsed": false,
     "input": [
      "@show sumTemp(3)\n",
      "@show sumTemp(5)"
     ],
     "language": "python",
     "metadata": {},
     "outputs": [
      {
       "output_type": "stream",
       "stream": "stdout",
       "text": [
        "sumTemp(3) => 1003"
       ]
      },
      {
       "output_type": "stream",
       "stream": "stdout",
       "text": [
        "\n",
        "sumTemp(5) => 1005\n"
       ]
      },
      {
       "metadata": {},
       "output_type": "pyout",
       "prompt_number": 25,
       "text": [
        "1005"
       ]
      }
     ],
     "prompt_number": 25
    },
    {
     "cell_type": "code",
     "collapsed": false,
     "input": [
      "# => sumTemp was being redefined on each iteration, but the for loop was using the old copy"
     ],
     "language": "python",
     "metadata": {},
     "outputs": []
    }
   ],
   "metadata": {}
  }
 ]
}