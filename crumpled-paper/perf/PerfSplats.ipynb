{
 "metadata": {
  "language": "Julia",
  "name": "",
  "signature": "sha256:473eb159299e47503159c992e0d2c77fcb6f45d31bff9c464b255493e590074b"
 },
 "nbformat": 3,
 "nbformat_minor": 0,
 "worksheets": [
  {
   "cells": [
    {
     "cell_type": "code",
     "collapsed": false,
     "input": [
      "## investigate various issues involving splats"
     ],
     "language": "python",
     "metadata": {},
     "outputs": []
    },
    {
     "cell_type": "code",
     "collapsed": false,
     "input": [
      "## can anonymous functions have splats\n",
      "\n",
      "f = (x...) -> length(x)"
     ],
     "language": "python",
     "metadata": {},
     "outputs": [
      {
       "metadata": {},
       "output_type": "pyout",
       "prompt_number": 1,
       "text": [
        "(anonymous function)"
       ]
      }
     ],
     "prompt_number": 1
    },
    {
     "cell_type": "code",
     "collapsed": false,
     "input": [
      "f(1,2,3,4)"
     ],
     "language": "python",
     "metadata": {},
     "outputs": [
      {
       "metadata": {},
       "output_type": "pyout",
       "prompt_number": 2,
       "text": [
        "4"
       ]
      }
     ],
     "prompt_number": 2
    },
    {
     "cell_type": "code",
     "collapsed": false,
     "input": [
      "f(ones(1000)...)"
     ],
     "language": "python",
     "metadata": {},
     "outputs": [
      {
       "metadata": {},
       "output_type": "pyout",
       "prompt_number": 3,
       "text": [
        "1000"
       ]
      }
     ],
     "prompt_number": 3
    },
    {
     "cell_type": "code",
     "collapsed": false,
     "input": [
      "## --> Yes anonymous functions can have splats"
     ],
     "language": "python",
     "metadata": {},
     "outputs": []
    },
    {
     "cell_type": "code",
     "collapsed": false,
     "input": [
      "## Side point \n",
      "## What is the consequence of using\n",
      "## f = (x...) -> length(x)\n",
      "## instead of:\n",
      "## function f(x...) ....\n",
      "\n",
      "methods(f)"
     ],
     "language": "python",
     "metadata": {},
     "outputs": [
      {
       "ename": "LoadError",
       "evalue": "not a generic function\nwhile loading In[4], in expression starting on line 7",
       "output_type": "pyerr",
       "traceback": [
        "not a generic function\nwhile loading In[4], in expression starting on line 7",
        "",
        " in methods at reflection.jl:124"
       ]
      }
     ],
     "prompt_number": 4
    },
    {
     "cell_type": "code",
     "collapsed": false,
     "input": [
      "## there is a consequence...\n",
      "\n",
      "## So to recap\n",
      "## there is option 1\n",
      "function g(x) \n",
      "    nothing\n",
      "end\n",
      "##option 2\n",
      "g(x,y)  = x+y\n",
      "\n",
      "##option 3\n",
      "h = (x,y) -> x+y\n",
      "\n",
      "methods(g)\n",
      "\n",
      "    "
     ],
     "language": "python",
     "metadata": {},
     "outputs": [
      {
       "html": [
        "2 methods for generic function <b>g</b>:<ul><li> g(x) at In[7]:6<li> g(x,y) at In[7]:9</ul>"
       ],
       "metadata": {},
       "output_type": "pyout",
       "prompt_number": 7,
       "text": [
        "# 2 methods for generic function \"g\":\n",
        "g(x) at In[7]:6\n",
        "g(x,y) at In[7]:9"
       ]
      }
     ],
     "prompt_number": 7
    },
    {
     "cell_type": "code",
     "collapsed": false,
     "input": [
      "methods(h)"
     ],
     "language": "python",
     "metadata": {},
     "outputs": [
      {
       "ename": "LoadError",
       "evalue": "not a generic function\nwhile loading In[8], in expression starting on line 1",
       "output_type": "pyerr",
       "traceback": [
        "not a generic function\nwhile loading In[8], in expression starting on line 1",
        "",
        " in methods at reflection.jl:124"
       ]
      }
     ],
     "prompt_number": 8
    },
    {
     "cell_type": "code",
     "collapsed": false,
     "input": [
      "## Anyway -- that was a digression.....\n",
      "\n",
      "## let's move onto to performance\n"
     ],
     "language": "python",
     "metadata": {},
     "outputs": []
    },
    {
     "cell_type": "code",
     "collapsed": false,
     "input": [
      "##Utils\n",
      "function formatNum(x)\n",
      "    @sprintf \"%.2f\"  x\n",
      "end\n",
      "\n",
      "function niceTime(nanos) \n",
      "    if nanos < 1_000.0\n",
      "        \"$(formatNum(nanos)) \u03b7s\"\n",
      "    elseif nanos < 1_000_000.0\n",
      "        \"$(formatNum(nanos/1_000.0)) \u03bcs\"\n",
      "    else \n",
      "        \"$(formatNum(nanos/1_000_000.0)) ms\"\n",
      "    end \n",
      "end\n",
      " \n",
      "## lifted from base\n",
      "function time_p(t,n, b, g)\n",
      "    @printf(\"time per iteration: %s (%.2f bytes/iter, %.2f%% gc time)\\n\", niceTime(t/n), b/n, 100*g/t)\n",
      "end\n",
      "\n",
      "macro time_it(n, ex)\n",
      "    quote\n",
      "        local b0 = Base.gc_bytes()\n",
      "        local t0 = Base.time_ns()\n",
      "        local g0 = Base.gc_time_ns()\n",
      "        local val = $(esc(ex))\n",
      "        local g1 = Base.gc_time_ns()\n",
      "        local t1 = Base.time_ns()\n",
      "        local b1 = Base.gc_bytes()\n",
      "        time_p(t1-t0, $(n), (b1-b0), g1-g0)\n",
      "        val\n",
      "    end\n",
      "end"
     ],
     "language": "python",
     "metadata": {},
     "outputs": [],
     "prompt_number": 9
    },
    {
     "cell_type": "code",
     "collapsed": false,
     "input": [
      "function foo(x) \n",
      "    length(x)\n",
      "end\n",
      "\n",
      "function bar(x...) \n",
      "    length(x)\n",
      "end\n",
      "\n",
      "baz1 = (x) -> length(x)\n",
      "baz2 = (x...) -> length(x)\n",
      "\n",
      "nothing\n",
      "\n",
      "function loop(ar,n,f)\n",
      "    res = 0\n",
      "    for i=1:n\n",
      "        res += f(ar)\n",
      "    end\n",
      "    res\n",
      "end\n",
      "\n",
      "function loopSplat(ar,n,f)\n",
      "    res = 0\n",
      "    for i=1:n\n",
      "        res += f(ar...)\n",
      "    end\n",
      "    res\n",
      "end\n",
      "\n",
      "nothing"
     ],
     "language": "python",
     "metadata": {},
     "outputs": [],
     "prompt_number": 14
    },
    {
     "cell_type": "code",
     "collapsed": false,
     "input": [
      "@show k = 10_000\n",
      "ar = ones(k)\n",
      "n = 1_000\n",
      "\n",
      "## warmup\n",
      "loop(ar,n,foo)\n",
      "loopSplat(ar,n,bar)\n",
      "loop(ar,n,baz1)\n",
      "loopSplat(ar,n,baz2)\n",
      "\n",
      "\n",
      "@time_it n loop(ar,n,foo)\n",
      "@time_it n loopSplat(ar,n,bar)\n",
      "@time_it n loop(ar,n,baz1)\n",
      "@time_it n loopSplat(ar,n,baz2)\n",
      "\n",
      "\n",
      "@show k = 1_000\n",
      "ar = ones(k)\n",
      "nothing\n",
      "\n",
      "n = 1_000\n",
      "@time_it n loop(ar,n,foo)\n",
      "@time_it n loopSplat(ar,n,bar)\n",
      "@time_it n loop(ar,n,baz1)\n",
      "@time_it n loopSplat(ar,n,baz2)\n",
      "\n",
      "nothing"
     ],
     "language": "python",
     "metadata": {},
     "outputs": [
      {
       "output_type": "stream",
       "stream": "stdout",
       "text": [
        "k = 10000 => 10000"
       ]
      },
      {
       "output_type": "stream",
       "stream": "stdout",
       "text": [
        "\n",
        "time per iteration: "
       ]
      },
      {
       "output_type": "stream",
       "stream": "stdout",
       "text": [
        "49.87 \u03b7s (32.08 bytes/iter, 0.00% gc time)\n",
        "time per iteration: "
       ]
      },
      {
       "output_type": "stream",
       "stream": "stdout",
       "text": [
        "528.71 \u03bcs (422896.08 bytes/iter, 50.62% gc time)\n",
        "time per iteration: 52.10 \u03b7s (32.08 bytes/iter, 0.00% gc time)\n",
        "time per iteration: "
       ]
      },
      {
       "output_type": "stream",
       "stream": "stdout",
       "text": [
        "531.34 \u03bcs (502928.08 bytes/iter, 62.31% gc time)\n",
        "k = 1000 => 1000\n",
        "time per iteration: 53.82 \u03b7s (32.08 bytes/iter, 0.00% gc time)\n",
        "time per iteration: 55.23 \u03bcs (33008.08 bytes/iter, 59.86% gc time)\n",
        "time per iteration: 53.55 \u03b7s (32.08 bytes/iter, 0.00% gc time)\n",
        "time per iteration: "
       ]
      },
      {
       "output_type": "stream",
       "stream": "stdout",
       "text": [
        "54.12 \u03bcs (41040.08 bytes/iter, 66.73% gc time)\n"
       ]
      }
     ],
     "prompt_number": 17
    },
    {
     "cell_type": "code",
     "collapsed": false,
     "input": [
      "## --> splats results in copying...\n",
      "\n",
      "## One last thing -- let's investigate what happens if the spat call was to a statically\n",
      "## determinate function  --> maybe julia won't copy then\n",
      "\n",
      "function loopSplatStatic(ar,n)\n",
      "    res = 0\n",
      "    for i=1:n\n",
      "        res += bar(ar...)\n",
      "    end\n",
      "    res\n",
      "end\n",
      "\n",
      "    "
     ],
     "language": "python",
     "metadata": {},
     "outputs": [
      {
       "metadata": {},
       "output_type": "pyout",
       "prompt_number": 18,
       "text": [
        "loopSplatStatic (generic function with 1 method)"
       ]
      }
     ],
     "prompt_number": 18
    },
    {
     "cell_type": "code",
     "collapsed": false,
     "input": [
      "@show k = 10_000\n",
      "ar = ones(k)\n",
      "n = 1_000\n",
      "\n",
      "## warmup\n",
      "loop(ar,n,foo)\n",
      "loopSplat(ar,n,bar)\n",
      "loop(ar,n,baz1)\n",
      "loopSplat(ar,n,baz2)\n",
      "loopSplatStatic(ar,n)\n",
      "\n",
      "\n",
      "@time_it n loop(ar,n,foo)\n",
      "@time_it n loopSplat(ar,n,bar)\n",
      "@time_it n loopSplatStatic(ar,n)\n",
      "\n",
      "@time_it n loop(ar,n,baz1)\n",
      "@time_it n loopSplat(ar,n,baz2)\n",
      "\n",
      "\n",
      "\n",
      "nothing"
     ],
     "language": "python",
     "metadata": {},
     "outputs": [
      {
       "output_type": "stream",
       "stream": "stdout",
       "text": [
        "k = 10000 => 10000"
       ]
      },
      {
       "output_type": "stream",
       "stream": "stdout",
       "text": [
        "\n",
        "time per iteration: "
       ]
      },
      {
       "output_type": "stream",
       "stream": "stdout",
       "text": [
        "64.24 \u03b7s (32.08 bytes/iter, 0.00% gc time)\n",
        "time per iteration: "
       ]
      },
      {
       "output_type": "stream",
       "stream": "stdout",
       "text": [
        "527.13 \u03bcs (422896.08 bytes/iter, 50.49% gc time)\n",
        "time per iteration: "
       ]
      },
      {
       "output_type": "stream",
       "stream": "stdout",
       "text": [
        "528.76 \u03bcs (422880.10 bytes/iter, 50.73% gc time)\n",
        "time per iteration: 51.35 \u03b7s (32.08 bytes/iter, 0.00% gc time)\n",
        "time per iteration: "
       ]
      },
      {
       "output_type": "stream",
       "stream": "stdout",
       "text": [
        "522.59 \u03bcs (502928.10 bytes/iter, 61.86% gc time)\n"
       ]
      }
     ],
     "prompt_number": 22
    },
    {
     "cell_type": "code",
     "collapsed": false,
     "input": [
      "## No consequence --> TODO: post a question to julia mailing list"
     ],
     "language": "python",
     "metadata": {},
     "outputs": [],
     "prompt_number": 20
    },
    {
     "cell_type": "code",
     "collapsed": false,
     "input": [],
     "language": "python",
     "metadata": {},
     "outputs": []
    }
   ],
   "metadata": {}
  }
 ]
}