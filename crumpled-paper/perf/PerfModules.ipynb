{
 "metadata": {
  "language": "Julia",
  "name": "",
  "signature": "sha256:b4d708970ca38a3462f44dc796943df90222c82d4e5d0432b75caa6d8ce22a8b"
 },
 "nbformat": 3,
 "nbformat_minor": 0,
 "worksheets": [
  {
   "cells": [
    {
     "cell_type": "code",
     "collapsed": false,
     "input": [
      "## One goal I have in mind is too be able to switch out various implementations \n",
      "## of mplus, bind, etc with altenratives that capture debugging info, use\n",
      "## coroutines, etc\n",
      "##\n",
      "## One potential mechanism for achieving this dynamism is perhaps though julia modules,\n",
      "## and here I investigate the feasibility of that approach\n",
      "##\n",
      "## As usual, there will be a few tests to determine if the required dynamism is achievable\n",
      "## and then test to measure performance implications"
     ],
     "language": "python",
     "metadata": {},
     "outputs": []
    },
    {
     "cell_type": "code",
     "collapsed": false,
     "input": [
      "\n",
      "module M1\n",
      "  f(x) = x + 10\n",
      "end\n",
      "\n",
      "module M2\n",
      "  f(x) = x + 100\n",
      "end\n",
      "\n",
      "\n",
      "\n",
      "g(x) = M.f(x)\n",
      "\n",
      "@show M = M1\n",
      "@show g(0)\n",
      "@show M = M2\n",
      "@show g(0)\n",
      "\n",
      "\n"
     ],
     "language": "python",
     "metadata": {},
     "outputs": [
      {
       "output_type": "stream",
       "stream": "stdout",
       "text": [
        "M = M1 => M1"
       ]
      },
      {
       "output_type": "stream",
       "stream": "stdout",
       "text": [
        "\n",
        "g(0) => 10\n",
        "M = M2 => M2\n",
        "g(0) => 100\n"
       ]
      },
      {
       "metadata": {},
       "output_type": "pyout",
       "prompt_number": 1,
       "text": [
        "100"
       ]
      }
     ],
     "prompt_number": 1
    },
    {
     "cell_type": "code",
     "collapsed": false,
     "input": [
      "## Yeah -- that was easy -- this is the ideal form of dynamism that I was looking for."
     ],
     "language": "python",
     "metadata": {},
     "outputs": []
    },
    {
     "cell_type": "code",
     "collapsed": false,
     "input": [
      "## On to perf measurements\n",
      "\n",
      "\n",
      "##Utils\n",
      "function formatNum(x)\n",
      "    @sprintf \"%.2f\"  x\n",
      "end\n",
      "\n",
      "function niceTime(nanos) \n",
      "    if nanos < 1_000.0\n",
      "        \"$(formatNum(nanos)) \u03b7s\"\n",
      "    elseif nanos < 1_000_000.0\n",
      "        \"$(formatNum(nanos/1_000.0)) \u03bcs\"\n",
      "    else \n",
      "        \"$(formatNum(nanos/1_000_000.0)) ms\"\n",
      "    end \n",
      "end\n",
      " \n",
      "## lifted from base\n",
      "function time_p(t,n, b, g)\n",
      "    @printf(\"time per iteration: %s (%.2f bytes/iter, %.2f%% gc time)\\n\", niceTime(t/n), b/n, 100*g/t)\n",
      "end\n",
      "\n",
      "macro time_it(n, ex)\n",
      "    quote\n",
      "        local b0 = Base.gc_bytes()\n",
      "        local t0 = Base.time_ns()\n",
      "        local g0 = Base.gc_time_ns()\n",
      "        local val = $(esc(ex))\n",
      "        local g1 = Base.gc_time_ns()\n",
      "        local t1 = Base.time_ns()\n",
      "        local b1 = Base.gc_bytes()\n",
      "        time_p(t1-t0, $(n), (b1-b0), g1-g0)\n",
      "        val\n",
      "    end\n",
      "end"
     ],
     "language": "python",
     "metadata": {},
     "outputs": [],
     "prompt_number": 2
    },
    {
     "cell_type": "code",
     "collapsed": false,
     "input": [
      "##controls\n",
      "\n",
      "##simple loop\n",
      "function loop(x)\n",
      "    res = 0.0\n",
      "    for i=1:length(x)\n",
      "        res += x[i] + 2\n",
      "    end\n",
      "    res\n",
      "end\n",
      "\n",
      "function add2(a)\n",
      "    a + 2\n",
      "end\n",
      "\n",
      "## statically determinate function call within loop\n",
      "function loop2(x)\n",
      "    res = 0.0\n",
      "    for i=1:length(x)\n",
      "        res += add2(x[i])\n",
      "    end\n",
      "    res\n",
      "end\n",
      "\n",
      "\n",
      "function loopM(x)\n",
      "    res = 0.0\n",
      "    for i=1:length(x)\n",
      "        res += M.f(x[i])\n",
      "    end\n",
      "    res\n",
      "end\n",
      "\n",
      "x = zeros(1_000_000)\n",
      "\n",
      "nothing"
     ],
     "language": "python",
     "metadata": {},
     "outputs": [],
     "prompt_number": 6
    },
    {
     "cell_type": "code",
     "collapsed": false,
     "input": [
      "## warmups and sinty checks one more time\n",
      "\n",
      "@show loop(x)\n",
      "@show loop2(x)\n",
      "@show M = M1\n",
      "@show loopM(x)\n",
      "@show M = M2\n",
      "@show loopM(x) \n",
      "\n",
      "M = M1\n",
      "loopM(x)\n",
      "\n",
      "nothing"
     ],
     "language": "python",
     "metadata": {},
     "outputs": [
      {
       "output_type": "stream",
       "stream": "stdout",
       "text": [
        "loop(x) => 2.0e6"
       ]
      },
      {
       "output_type": "stream",
       "stream": "stdout",
       "text": [
        "\n",
        "loop2(x) => 2.0e6\n",
        "M = M1 => M1\n",
        "loopM(x) => "
       ]
      },
      {
       "output_type": "stream",
       "stream": "stdout",
       "text": [
        "1.0e7\n",
        "M = M2 => M2\n",
        "loopM(x) => "
       ]
      },
      {
       "output_type": "stream",
       "stream": "stdout",
       "text": [
        "1.0e8\n"
       ]
      }
     ],
     "prompt_number": 8
    },
    {
     "cell_type": "code",
     "collapsed": false,
     "input": [
      "loop(x)\n",
      "\n",
      "@show loop(x)\n",
      "@time_it 1_000_000 loop(x)\n",
      "println(\"\")\n",
      "@show loop2(x)\n",
      "@time_it 1_000_000 loop2(x)\n",
      "println(\"\")\n",
      "@show M = M1\n",
      "@show loopM(x)\n",
      "@time_it 1_000_000 loopM(x)\n",
      "println(\"\")\n",
      "@show M = M2\n",
      "@show loopM(x)\n",
      "@time_it 1_000_000 loopM(x)\n"
     ],
     "language": "python",
     "metadata": {},
     "outputs": [
      {
       "output_type": "stream",
       "stream": "stdout",
       "text": [
        "loop(x) => 2.0e6"
       ]
      },
      {
       "output_type": "stream",
       "stream": "stdout",
       "text": [
        "\n",
        "time per iteration: 0.91 \u03b7s (0.00 bytes/iter, 0.00% gc time)\n",
        "\n",
        "loop2(x) => 2.0e6\n",
        "time per iteration: 1.10 \u03b7s (0.00 bytes/iter, 0.00% gc time)\n",
        "\n",
        "M = M1 => M1\n",
        "loopM(x) => "
       ]
      },
      {
       "output_type": "stream",
       "stream": "stdout",
       "text": [
        "1.0e7\n",
        "time per iteration: "
       ]
      },
      {
       "output_type": "stream",
       "stream": "stdout",
       "text": [
        "104.04 \u03b7s (48.00 bytes/iter, 27.79% gc time)\n",
        "\n",
        "M = M2 => M2\n",
        "loopM(x) => "
       ]
      },
      {
       "output_type": "stream",
       "stream": "stdout",
       "text": [
        "1.0e8\n",
        "time per iteration: "
       ]
      },
      {
       "output_type": "stream",
       "stream": "stdout",
       "text": [
        "104.33 \u03b7s (48.00 bytes/iter, 27.59% gc time)\n"
       ]
      },
      {
       "metadata": {},
       "output_type": "pyout",
       "prompt_number": 13,
       "text": [
        "1.0e8"
       ]
      }
     ],
     "prompt_number": 13
    },
    {
     "cell_type": "code",
     "collapsed": false,
     "input": [
      "## ok -- so it is what it is for now.\n"
     ],
     "language": "python",
     "metadata": {},
     "outputs": []
    },
    {
     "cell_type": "code",
     "collapsed": false,
     "input": [
      "## Now, let's test another scenario. \n",
      "\n",
      "const MD = M2\n",
      "\n",
      "function loopMD(x)\n",
      "    res = 0.0\n",
      "    for i=1:length(x)\n",
      "        res += MD.f(x[i])\n",
      "    end\n",
      "    res\n",
      "end\n",
      "\n",
      "@show loopMD(x)\n",
      "@time_it 1_000_000 loopMD(x)"
     ],
     "language": "python",
     "metadata": {},
     "outputs": [
      {
       "output_type": "stream",
       "stream": "stdout",
       "text": [
        "loopMD(x) => 1.0e8"
       ]
      },
      {
       "output_type": "stream",
       "stream": "stdout",
       "text": [
        "\n",
        "time per iteration: 1.04 \u03b7s (0.00 bytes/iter, 0.00% gc time)\n"
       ]
      },
      {
       "metadata": {},
       "output_type": "pyout",
       "prompt_number": 14,
       "text": [
        "1.0e8"
       ]
      }
     ],
     "prompt_number": 14
    },
    {
     "cell_type": "code",
     "collapsed": false,
     "input": [
      "## So that works perfectly\n",
      "\n",
      "## So I suppose a reasonable approach for now is to \n",
      "## separate into two objectives:\n",
      "## 1) Allow alternate strand implementations --> achieve this via mulitple dispatch\n",
      "## 2) Implement debugging by placing macros which call a const Module\n",
      "##   -- a global var determines whether the macro collects debugging info\n",
      "##   -- const Module simplifies development of alternate debugging infrastructure\n",
      "##\n",
      "## However, it would still be nice to better understand how to do things by hooking into\n",
      "## Julias compiler/partial evaluator\n"
     ],
     "language": "python",
     "metadata": {},
     "outputs": []
    }
   ],
   "metadata": {}
  }
 ]
}