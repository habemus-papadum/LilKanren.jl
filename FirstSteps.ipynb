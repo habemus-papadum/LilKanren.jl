{
 "metadata": {
  "language": "Julia",
  "name": "",
  "signature": "sha256:a9adfd70d61d64c1371f9461e357e5b56303d7ce288fd2e916e4ae44318d52d4"
 },
 "nbformat": 3,
 "nbformat_minor": 0,
 "worksheets": [
  {
   "cells": [
    {
     "cell_type": "code",
     "collapsed": false,
     "input": [
      "## Desiderata\n",
      "## ================\n",
      "## It is the solemn wish of this kanren implementation to:\n",
      "## * Organize itself around a minimalitistic, functional core (like \u00b5Kanren)\n",
      "## * Perform a \"newbie's\" exploration of alternate search strategies (via lists, streams, tasks, ferns)\n",
      "## * Find out why occurs\u2713 is necessary\n",
      "## * Add a persistent data structure implementation of the constraint store (though this is a mere trifle)\n",
      "## * Explore a \"notion\" about threading macros and nice syntax; Other notions about syntax abound\n",
      "\n",
      "## Methodology\n",
      "## =================\n",
      "## The beginning will be rough and sloppy; any elegance will have to be accumulated later.  \n",
      "## This is a notebook, not a library --> Prior definitions will be redefined as we go along, so keep your eyes peeled! \n"
     ],
     "language": "python",
     "metadata": {},
     "outputs": [],
     "prompt_number": 1
    },
    {
     "cell_type": "code",
     "collapsed": false,
     "input": [
      "## First step: a translation to \u00b5Kanren\n",
      "\n",
      "## For now we would like to stick to core Julia datatypes, but, aesthetically, var? = vector? is a bitter pill.\n",
      "## So instead we'll use our own type just this once.  \n",
      "\n",
      "## it's best to wrap Julia types in a module, otherwise it is very difficult to change your mind\n",
      "module LilKanren \n",
      "    immutable type Var\n",
      "        id::Int\n",
      "    end\n",
      "end \n",
      "LK = LilKanren\n",
      "    "
     ],
     "language": "python",
     "metadata": {},
     "outputs": [
      {
       "metadata": {},
       "output_type": "pyout",
       "prompt_number": 2,
       "text": [
        "LilKanren"
       ]
      }
     ],
     "prompt_number": 2
    },
    {
     "cell_type": "code",
     "collapsed": false,
     "input": [
      "## Also, in case you are new to Julia, the following snippets may be helpful\n",
      "x = LK.Var(0)\n",
      "y = LK.Var(0)\n",
      "\n",
      "@show x==y\n",
      "@show x===y  #egal\n",
      "\n",
      "## multiple dispatch\n",
      "foo(x,y) = \"nope\" ## base case\n",
      "foo(x::LK.Var,y::LK.Var) = \"yes\"\n",
      "foo(x::LK.Var,y) = \"kinda\"\n",
      "foo(x,y::LK.Var) = foo(y,x)\n",
      "\n",
      "@show foo(x,y)\n",
      "@show foo(1,y)\n",
      "@show foo(1,2)\n",
      "\n",
      "## julia allows for convenient destructuring of tuples\n",
      "z = (1,(2,3))\n",
      "(\u03b1,(\u03b2,\u03b3)) = z\n",
      "## n.b. dear schemer's,  (a,b) means (a . b), and there is\n",
      "## no primacy of lists in Julia\n",
      "\n",
      "nothing  ## to suppress notebook output"
     ],
     "language": "python",
     "metadata": {},
     "outputs": [
      {
       "output_type": "stream",
       "stream": "stdout",
       "text": [
        "x == y => true"
       ]
      },
      {
       "output_type": "stream",
       "stream": "stdout",
       "text": [
        "\n",
        "x === y => true\n",
        "foo(x,y) => \"yes\"\n",
        "foo(1,y) => \"kinda\"\n",
        "foo(1,2) => \"nope\"\n"
       ]
      }
     ],
     "prompt_number": 3
    },
    {
     "cell_type": "code",
     "collapsed": false,
     "input": [
      "## On with the show, being relatively faithful from now on... \n",
      "\n",
      "## Heaven\n",
      "## ======\n",
      "unify(u, v, s) =  begin\n",
      "    u = walk(u,s)\n",
      "    v = walk(v,s)\n",
      "    unifyTerms(u,v,s)\n",
      "end\n",
      "\n",
      "\n",
      "## Earth\n",
      "## =====\n",
      "## The Church\n",
      "## ----------\n",
      "unifyTerms(u,v,s)  = begin\n",
      "    sn = unifyLeft(u,v,s)\n",
      "    sn == nothing ? unifyLeft(v,u,s) : sn ## symmetrize\n",
      "end\n",
      "## s -- the substitution store\n",
      "const empty_store = ()\n",
      "ext_s(x,v,s) = ((x,v),s)\n",
      "\n",
      "## st -- a (bindings,count) based state \n",
      "const empty_state = (empty_store,1) ## when in Rome (Julia is one's based...) \n",
      "const \u2205 = empty_state\n",
      "const \u221e = empty_state      ## it's a \"glass half full\" sort of thing...\n",
      "                           ## \u2205 constraints \u2261 \u221e possibilities\n",
      "\n",
      "## The State\n",
      "## --------------\n",
      "unifyLeft(u,v,s) = u===v ? s : nothing # base case\n",
      "unifyLeft(u::LK.Var,v,s) =  u==v ? s : ext_s(u,v,s)\n",
      "unifyLeft(u::(Any,Any),v::(Any,Any),s) = begin\n",
      "    (uhead,utail) = u\n",
      "    (vhead,vtail) = v\n",
      "    s = unify(uhead,vhead,s)\n",
      "    s == nothing ? s : unify(utail,vtail,s)\n",
      "end\n",
      "\n",
      "\n",
      "## The Bourgeoisie\n",
      "## ----------------\n",
      "walk(u,s) = u ## base case\n",
      "walk(u::LK.Var,s) = begin\n",
      "    (found,value) = lookup(u,s)\n",
      "    found == :\u2714\ufe0e ? walk(value,s) : u \n",
      "end\n",
      "\n",
      "\n",
      "## And finally, Joe The Plumber\n",
      "## ----------------------------\n",
      "## a pedantic man's assp <-- n.b. non-schemer's, this does not mean something dirty\n",
      "lookup(x,s::()) = (:\u2718,nothing) ## base case\n",
      "lookup(x,s) = begin\n",
      "    (head,rest) = s\n",
      "    (key,value) = head\n",
      "    x == key ? (:\u2714\ufe0e, value) : lookup(x,rest)\n",
      "end\n",
      "\n",
      "second(x) = x[2]\n",
      "\n",
      "\n",
      "## Purgatory -- aka Algebra \n",
      "## ========================\n",
      "equivalent(u,v) = begin\n",
      "    (st) -> begin\n",
      "        (s,count) = st\n",
      "        s = unify(u,v,s)\n",
      "        s == nothing ? mzero : unit((s,count))\n",
      "    end\n",
      "end\n",
      "const \u2261 = equivalent \n",
      "\n",
      "fresh(f::Function) = begin\n",
      "    (st) -> begin\n",
      "        (bindings,count) = st\n",
      "        var = LK.Var(count)\n",
      "        goal = f(var)\n",
      "        st = (bindings,count+1)\n",
      "        goal(st)   \n",
      "    end\n",
      "end\n",
      "\n",
      "disj(g1,g2) = (st) -> mplus(g1(st), g2(st))\n",
      "conj(g1,g2) = (st) -> bind(g1(st), g2)\n",
      "const \u2228 = disj\n",
      "const \u2af7 = disj #this is the picture in my head -- a weave \n",
      "const \u2227 = conj\n",
      "const \u2af8 = conj #this is the picture in my head -- a braid\n",
      "\n",
      "## The Bowels of Hell... \n",
      "## (or Heaven -- the whole thing is just a big snake eating its tail)\n",
      "## ==================================================================\n",
      "const mzero = ()\n",
      "unit(st) = (st,mzero)\n",
      "\n",
      "mplus(strand1::(),strand2) = strand2\n",
      "mplus(strand1::Function,strand2) = () -> mplus(strand2,strand1()) ## braid\n",
      "mplus(strand1::(Any,Any),strand2) = (first(strand1),mplus(second(strand1),strand2))\n",
      "\n",
      "bind(strand::(),g) = mzero\n",
      "bind(strand::Function,g) = () -> bind(strand(),g) \n",
      "bind(strand::(Any,Any),g) = mplus(g(first(strand)), bind(second(strand),g)) ##weave\n",
      "\n",
      "nothing"
     ],
     "language": "python",
     "metadata": {},
     "outputs": [],
     "prompt_number": 4
    },
    {
     "cell_type": "code",
     "collapsed": false,
     "input": [
      "\n",
      "## Ok -- Let's take this puppy out for a spin...\n",
      "\n",
      "## a temporary juliabox wart\n",
      "if Pkg.installed(\"Lazy\") == nothing\n",
      "  Pkg.add(\"Lazy\")\n",
      "end  \n",
      "using Lazy: @>>, @> \n",
      "\n",
      "vars = [LK.Var(i) for i=1:10] ## order up some vars\n",
      "\n",
      "## create a scratch store for testing\n",
      "s = @>> empty_store begin\n",
      "    ext_s(vars[1], 2)\n",
      "    ext_s(vars[2], vars[1])\n",
      "    ext_s(vars[1], 3) #shadows prior binding\n",
      "    ext_s(vars[3], (:\u2746,vars[2]))\n",
      "end\n",
      "@show s\n",
      "\n",
      "println()\n",
      "@show lookup(\"not even close\", s)\n",
      "@show lookup(vars[1], s)\n",
      "@show lookup(vars[2], s)\n",
      "@show lookup(vars[3], s)\n",
      "@show lookup(vars[4], s)\n",
      "\n",
      "nothing"
     ],
     "language": "python",
     "metadata": {},
     "outputs": [
      {
       "output_type": "stream",
       "stream": "stdout",
       "text": [
        "s => ((Var(3),(:\u2746,Var(2))),((Var(1),3),((Var(2),Var(1)),((Var(1),2),()))))"
       ]
      },
      {
       "output_type": "stream",
       "stream": "stdout",
       "text": [
        "\n",
        "\n",
        "lookup(\"not even close\",s) => (:\u2718,nothing)\n",
        "lookup(vars[1],s) => (:\u2714\ufe0e,3)\n",
        "lookup(vars[2],s) => (:\u2714\ufe0e,Var(1))\n",
        "lookup(vars[3],s) => (:\u2714\ufe0e,(:\u2746,Var(2)))\n",
        "lookup(vars[4],s) => (:\u2718,nothing)\n"
       ]
      }
     ],
     "prompt_number": 5
    },
    {
     "cell_type": "code",
     "collapsed": false,
     "input": [
      "@show walk(vars[1],s)\n",
      "@show walk(vars[2],s)\n",
      "@show walk(vars[3],s)\n",
      "@show walk(vars[4],s)\n",
      "@show walk(\"not even close\",s)\n",
      "@show walk((:\u272f,vars[4]),s)\n",
      "\n",
      "\n",
      "nothing"
     ],
     "language": "python",
     "metadata": {},
     "outputs": [
      {
       "output_type": "stream",
       "stream": "stdout",
       "text": [
        "walk(vars[1],s) => 3\n",
        "walk(vars[2],s) => 3\n",
        "walk(vars[3],s) => (:\u2746,Var(2))\n",
        "walk(vars[4],s) => Var(4)\n",
        "walk(\"not even close\",s) => \"not even close\"\n",
        "walk((:\u272f,vars[4]),s) => (:\u272f,Var(4))\n"
       ]
      }
     ],
     "prompt_number": 6
    },
    {
     "cell_type": "code",
     "collapsed": false,
     "input": [
      "## Look, Ma! I can fly!\n",
      "@show unify((:\u2746,vars[4]), vars[3],s)\n",
      "# for clarity\n",
      "println()\n",
      "@show first(unify((:\u2746,vars[4]), vars[3],s))\n",
      "\n",
      "## That's nice, sweetie.  \n",
      "\n",
      "nothing"
     ],
     "language": "python",
     "metadata": {},
     "outputs": [
      {
       "output_type": "stream",
       "stream": "stdout",
       "text": [
        "unify((:\u2746,vars[4]),vars[3],s) => "
       ]
      },
      {
       "output_type": "stream",
       "stream": "stdout",
       "text": [
        "((Var(4),3),((Var(3),(:\u2746,Var(2))),((Var(1),3),((Var(2),Var(1)),((Var(1),2),())))))\n",
        "\n",
        "first(unify((:\u2746,vars[4]),vars[3],s)) => (Var(4),3)\n"
       ]
      }
     ],
     "prompt_number": 7
    },
    {
     "cell_type": "code",
     "collapsed": false,
     "input": [
      "## Reassured by Mother's kind encouragement, we try climbing higher...\n",
      "\n",
      "fresh() do q\n",
      "   q \u2261 :\u2663\n",
      "end (\u221e)\n",
      "    "
     ],
     "language": "python",
     "metadata": {},
     "outputs": [
      {
       "metadata": {},
       "output_type": "pyout",
       "prompt_number": 8,
       "text": [
        "((((Var(1),:\u2663),()),2),())"
       ]
      }
     ],
     "prompt_number": 8
    },
    {
     "cell_type": "code",
     "collapsed": false,
     "input": [
      "## and little higher...\n",
      "\n",
      "\u2af8(\n",
      "fresh() do a\n",
      "   a \u2261 :\u2663\n",
      "end,\n",
      "\n",
      "fresh() do b\n",
      "   \u2af7(\n",
      "     b \u2261 :\u2660,\n",
      "     :\u2661 \u2261 b \n",
      "    ) \n",
      "end\n",
      ")(\u221e)\n",
      "\n"
     ],
     "language": "python",
     "metadata": {},
     "outputs": [
      {
       "metadata": {},
       "output_type": "pyout",
       "prompt_number": 9,
       "text": [
        "((((Var(2),:\u2660),((Var(1),:\u2663),())),3),((((Var(2),:\u2661),((Var(1),:\u2663),())),3),()))"
       ]
      }
     ],
     "prompt_number": 9
    },
    {
     "cell_type": "code",
     "collapsed": false,
     "input": [
      "## (I think) I like the above notation, but you may prefer:\n",
      "\n",
      "\u221e |> fresh(a-> a \u2261 :\u2663) \u2227 fresh(b-> (b \u2261 :\u2660) \u2228 (:\u2661 \u2261 b) )"
     ],
     "language": "python",
     "metadata": {},
     "outputs": [
      {
       "metadata": {},
       "output_type": "pyout",
       "prompt_number": 10,
       "text": [
        "((((Var(2),:\u2660),((Var(1),:\u2663),())),3),((((Var(2),:\u2661),((Var(1),:\u2663),())),3),()))"
       ]
      }
     ],
     "prompt_number": 10
    },
    {
     "cell_type": "code",
     "collapsed": false,
     "input": [
      "## \u266a Pump up the jam \u266a\n",
      "## let's make a few new toys\n",
      "\n",
      "fresh(f::Function,n) = begin\n",
      "    (sc) -> begin\n",
      "        (bindings,count) = sc\n",
      "        vars = [LK.Var(i) for i=count:count+(n-1)]\n",
      "        goal = f(vars...)\n",
      "        sc = (bindings,count+n)\n",
      "        goal(sc)   \n",
      "    end\n",
      "end\n",
      "\n",
      "fresh(3) do a,b,c\n",
      "   \u2af8(\n",
      "   (c,:\u2660) \u2261 (((a,b),:\u2663),:\u2660),\n",
      "   \u2af8(\n",
      "   (:\u2661,a) \u2261 b,\n",
      "   a \u2261 :\u2663\n",
      "   ))\n",
      "end (\u221e)\n"
     ],
     "language": "python",
     "metadata": {},
     "outputs": [
      {
       "metadata": {},
       "output_type": "pyout",
       "prompt_number": 11,
       "text": [
        "((((Var(1),:\u2663),((Var(2),(:\u2661,Var(1))),((Var(3),((Var(1),Var(2)),:\u2663)),()))),4),())"
       ]
      }
     ],
     "prompt_number": 11
    },
    {
     "cell_type": "code",
     "collapsed": false,
     "input": [
      "fresh(3) do a,b,c\n",
      "   \u2af8(\n",
      "    (c,:\u2660) \u2261 (((a,b), :\u2663), :\u2663), # <-- look here\n",
      "   \u2af8(\n",
      "   (:\u2661,a) \u2261 b,\n",
      "   a \u2261 :\u2663\n",
      "   ))\n",
      "end (\u221e)"
     ],
     "language": "python",
     "metadata": {},
     "outputs": [
      {
       "metadata": {},
       "output_type": "pyout",
       "prompt_number": 12,
       "text": [
        "()"
       ]
      }
     ],
     "prompt_number": 12
    },
    {
     "cell_type": "code",
     "collapsed": false,
     "input": [
      "fresh(3) do a,b,c\n",
      "   \u2af8(\n",
      "    (c, a) \u2261 (((a,b),:\u2663),:\u2663), # <-- still look here\n",
      "   \u2af8(\n",
      "   (:\u2661,a) \u2261 b,\n",
      "   a \u2261 :\u2663\n",
      "   ))\n",
      "end (\u221e)"
     ],
     "language": "python",
     "metadata": {},
     "outputs": [
      {
       "metadata": {},
       "output_type": "pyout",
       "prompt_number": 13,
       "text": [
        "((((Var(2),(:\u2661,Var(1))),((Var(1),:\u2663),((Var(3),((Var(1),Var(2)),:\u2663)),()))),4),())"
       ]
      }
     ],
     "prompt_number": 13
    },
    {
     "cell_type": "code",
     "collapsed": false,
     "input": [
      "## variadic paradise is one of our many goals\n",
      "## but for now this will suffice\n",
      "## n.b. This is not a nanny-state. You shall do your own \u03b7\u207b\u00b9.  \n",
      "## but see below for some gov't approved options\n",
      "conj(goals...) = begin \n",
      "    conj(goals[1], conj(goals[2:end]...)) # relies on Julia's dispatch being smart re: splats\n",
      "end\n",
      "\n",
      "disj(goals...) = begin \n",
      "    disj(goals[1], disj(goals[2:end]...)) \n",
      "end\n",
      "\n",
      "\n",
      "\n",
      "fresh(3) do a,b,c\n",
      "   \u2af8(\n",
      "   (c,:\u2663) \u2261 (((a,b),:\u2663), a),\n",
      "   (:\u2661,a) \u2261 b,\n",
      "   a \u2261 :\u2663\n",
      "   )\n",
      "end (\u221e)\n",
      "\n"
     ],
     "language": "python",
     "metadata": {},
     "outputs": [
      {
       "metadata": {},
       "output_type": "pyout",
       "prompt_number": 14,
       "text": [
        "((((Var(2),(:\u2661,Var(1))),((Var(1),:\u2663),((Var(3),((Var(1),Var(2)),:\u2663)),()))),4),())"
       ]
      }
     ],
     "prompt_number": 14
    },
    {
     "cell_type": "code",
     "collapsed": false,
     "input": [
      "## Our first relation!\n",
      "## And one of our first serious transgressions: \n",
      "## the output will come first --> my cult is organized around prophecies of variadic paradise\n",
      "## But the cute \u1d52 at the end isn't going anywhere!  \n",
      "flip\u1d52(o,tuple) = begin\n",
      "    fresh(2) do a, b\n",
      "        \u2af8(\n",
      "            (a,b) \u2261 tuple,\n",
      "            o \u2261 (b,a)\n",
      "        )\n",
      "    end\n",
      "end\n",
      "\n",
      "fresh(2) do q,r\n",
      "   flip\u1d52((q,r), (:\u2661, :\u2663)) \n",
      "end (\u221e)"
     ],
     "language": "python",
     "metadata": {},
     "outputs": [
      {
       "metadata": {},
       "output_type": "pyout",
       "prompt_number": 15,
       "text": [
        "((((Var(2),:\u2661),((Var(1),:\u2663),((Var(4),:\u2663),((Var(3),:\u2661),())))),5),())"
       ]
      }
     ],
     "prompt_number": 15
    },
    {
     "cell_type": "code",
     "collapsed": false,
     "input": [
      "## On to divergence\n",
      "\n",
      "## But first, in Julia, we require the following helper\n",
      "list() = ()\n",
      "list(x...) = (x[1], list(x[2:end]...))\n",
      "const \u2740 = list  # There should be more flowers in CS\n",
      "\n",
      "@show \u2740(1,2,3,4) \n",
      "\n",
      "nothing"
     ],
     "language": "python",
     "metadata": {},
     "outputs": [
      {
       "output_type": "stream",
       "stream": "stdout",
       "text": [
        "\u2740(1,2,3,4) => (1,(2,(3,(4,()))))"
       ]
      },
      {
       "output_type": "stream",
       "stream": "stdout",
       "text": [
        "\n"
       ]
      }
     ],
     "prompt_number": 16
    },
    {
     "cell_type": "code",
     "collapsed": false,
     "input": [
      "## grant ourselves a magic power\n",
      "\n",
      "# DRAGON, SLEEP!\n",
      "\u03b7\u207b\u00b9(goal) = :((sc) -> () -> $goal(sc))\n",
      "\n",
      "macro \u263d(goal)  ## It's a half moon\n",
      "    \u03b7\u207b\u00b9(goal)\n",
      "end\n",
      "\n",
      "macro zzz(op, goals...)    \n",
      "    Expr(:call, op, [\u03b7\u207b\u00b9(goal) for goal in goals]...)\n",
      "end\n",
      "\n",
      "\n",
      "\n",
      "nothing\n",
      "\n",
      "\n",
      "## What's all this about a 'nanny-state'?\n",
      "##\n",
      "## (now is probably a good time for a reminder that you are very likely \n",
      "##  reading the blustery rantings of a lunatic....)\n",
      "#\n",
      "## First a little perspective is in order:\n",
      "## The first part of the \u03bcKanren paper introduces a functional kernel for search, \n",
      "## the second part demonstrates how to reintroduce features available\n",
      "## in miniKanren, a relational system designed to be syntactically similar to Scheme \n",
      "## (presumably for didactic and aesthetic reasons)\n",
      "## \n",
      "## conj+ and disj+ are implemented to partially recover miniKanren's semantics, wrapping\n",
      "## zzz's around the kit and kaboodle.\n",
      "##\n",
      "## We set out on a different path.  Neither shall we prophylactically 'zzz', \n",
      "## only to find that our fear of dragons makes us prisoners of our own design,\n",
      "## but neither shall we become misers, hoarding our power for a journey that \n",
      "## we never take.\n",
      "##\n",
      "## Rather, we shall look to travel the Silk Roads, where a clever knack for \n",
      "## apropos sprinkling of pixie dust may lead us to marvels beyond belief. \n",
      "## \n",
      "## So now we have two quests:  Variadic Paradise and the Pixie Dust Legerdemain  "
     ],
     "language": "python",
     "metadata": {},
     "outputs": [],
     "prompt_number": 17
    },
    {
     "cell_type": "code",
     "collapsed": false,
     "input": [
      "@show macroexpand(:( @\u263d(:\u2740 \u2261 :\u2663) ))\n",
      "\n",
      "@show macroexpand(:( @zzz \u2228 (:\u2740 \u2261 :\u2663) (:\u2740 \u2261 :\u2663) ))\n",
      "\n",
      "nothing"
     ],
     "language": "python",
     "metadata": {},
     "outputs": [
      {
       "output_type": "stream",
       "stream": "stdout",
       "text": [
        "macroexpand(:(@\u263d (:\u2740 \u2261 :\u2663))) => :(#221#sc->begin  # In[17], line 4:\n",
        "            ()->begin  # In[17], line 4:\n",
        "                    ((:\u2740 \u2261 :\u2663))(#221#sc)\n",
        "                end\n",
        "        end)\n",
        "macroexpand(:(@zzz \u2228 (:\u2740 \u2261 :\u2663) (:\u2740 \u2261 :\u2663))) => :(\u2228(#223#sc->begin  # In[17], line 4:\n",
        "                ()->begin  # In[17], line 4:\n",
        "                        ((:\u2740 \u2261 :\u2663))(#223#sc)\n",
        "                    end\n",
        "            end,#224#sc->begin  # In[17], line 4:\n",
        "                ()->begin  # In[17], line 4:\n",
        "                        ((:\u2740 \u2261 :\u2663))(#224#sc)\n",
        "                    end\n",
        "            end))\n"
       ]
      }
     ],
     "prompt_number": 18
    },
    {
     "cell_type": "code",
     "collapsed": false,
     "input": [
      "## Now that we have the power to put the dragon to sleep, we need a way to wake it up.\n",
      "\n",
      "## But not this way!\n",
      "allIn(x)=x                   ## as they say in Texas Holdem'\n",
      "allIn(x::Function)=allIn(x()) \n",
      "allIn(x::(Any,Any))= begin (h,t)=x; (h,allIn(t)) end \n",
      "\n",
      "## lilinjn is not Navajo; but if this notebook were a tapestry,\n",
      "## 'allIn' would be his \"ch\u2019ih\u00f3n\u00edt\u2019i\" -- use 'allIn' maybe never \n",
      "\n",
      "## For now we will content ourselves with the following hand tools:\n",
      "step(x,n=1)=x\n",
      "step(x::Function,n=1) = begin\n",
      "    ## In my heart, Julia is a fine Scheme; however, I don't think Jeff B.\n",
      "    ## and co. are going to be driving around with TCO vanity plates\n",
      "    ## anytime soon...\n",
      "    while(typeof(x) <: Function && n > 0)\n",
      "        x = x()\n",
      "        n -= 1\n",
      "    end\n",
      "    x\n",
      "end\n",
      "\n",
      "## Oishii onigiri for the long journey ahead\n",
      "stepInTime(x,nanos)=x  ## \u266a Chim Chimer-ee, Chim Chim Cher-ee \u266a\n",
      "stepInTime(x,nanos) = begin \n",
      "    start = Base.time_ns()\n",
      "    current = start\n",
      "    while(typeof(x) <: Function && current-start < nanos)\n",
      "        x = x()\n",
      "        current = Base.time_ns()\n",
      "    end\n",
      "    x\n",
      "end\n",
      "\n",
      "\u03b7s = 1\n",
      "s  = 1e9\n",
      "\n",
      "\n",
      "nothing"
     ],
     "language": "python",
     "metadata": {},
     "outputs": [],
     "prompt_number": 19
    },
    {
     "cell_type": "code",
     "collapsed": false,
     "input": [
      "@show step(:\u2661)\n",
      "\n",
      "myLovely\u2661Thunks = () -> () -> () -> () -> :\u2606\n",
      "@show step(myLovely\u2661Thunks,  2) ## \u266a gonna make you luv drunk \u266a\n",
      "@show step(myLovely\u2661Thunks, 10) ## \u266a off my thunks \u266a\n",
      "\n",
      "@show stepInTime(myLovely\u2661Thunks, 1\u03b7s)\n",
      "@show stepInTime(myLovely\u2661Thunks, 1s)\n",
      "\n",
      "nothing"
     ],
     "language": "python",
     "metadata": {},
     "outputs": [
      {
       "output_type": "stream",
       "stream": "stdout",
       "text": [
        "step(:\u2661) => "
       ]
      },
      {
       "output_type": "stream",
       "stream": "stdout",
       "text": [
        ":\u2661\n",
        "step(myLovely\u2661Thunks,2) => (anonymous function)\n",
        "step(myLovely\u2661Thunks,10) => :\u2606\n",
        "stepInTime(myLovely\u2661Thunks,1\u03b7s) => (anonymous function)\n",
        "stepInTime(myLovely\u2661Thunks,1s) => :\u2606\n"
       ]
      }
     ],
     "prompt_number": 20
    },
    {
     "cell_type": "code",
     "collapsed": false,
     "input": [
      "\n",
      "## rest your weary eyes, little dragon\n",
      "res = \u221e |> fresh(q->  (q \u2261 :\u2660) \u2228 @\u263d(:\u2661 \u2261 q) )\n",
      "\n",
      "# since we're so new to this, we'll break down the result manually\n",
      "@show res\n",
      "(res,cont) = res  # <-- it's very to have known you would have needed this in advance \n",
      "@show (res,cont)=step(cont)\n",
      "\n",
      "\n",
      "nothing"
     ],
     "language": "python",
     "metadata": {},
     "outputs": [
      {
       "output_type": "stream",
       "stream": "stdout",
       "text": [
        "res => ((((Var(1),:\u2660),()),2),(anonymous function))\n",
        "(res,cont) = step(cont) => ((((Var(1),:\u2661),()),2),())\n"
       ]
      }
     ],
     "prompt_number": 21
    },
    {
     "cell_type": "code",
     "collapsed": false,
     "input": [
      "## Variadic Sleep \n",
      "\n",
      "res = \u221e |> fresh(q-> @zzz  \u2af7 (q \u2261 :\u2660) (:\u2661 \u2261 q) (q \u2261 :\u272a) )\n",
      "\n",
      "## still practicing tearing down the result\n",
      "@show res\n",
      "@show res=step(res) # a pure thunk arrives this time\n",
      "@show (res,cont)=step(res) \n",
      "@show (res,cont)=step(cont)\n",
      "@show (res,cont)=step(cont)\n",
      "\n",
      "\n",
      "\n",
      "nothing\n",
      "\n",
      "## Something to ponder...  \n",
      "## Why does it go \"thunk,thunk,kebang\"\n",
      "## rather than \"thunk, dribble, dribble\"?\n",
      "## Ans:  Because it was broken, but hopefully now it is fixed \n",
      "## (p.s. orginally there were only two clauses)"
     ],
     "language": "python",
     "metadata": {},
     "outputs": [
      {
       "output_type": "stream",
       "stream": "stdout",
       "text": [
        "res => (anonymous function)\n",
        "res = step(res) => (anonymous function)\n",
        "(res,cont) = step(res) => ((((Var(1),:\u2660),()),2),(anonymous function))\n",
        "(res,cont) = step(cont) => ((((Var(1),:\u2661),()),2),((((Var(1),:\u272a),()),2),()))\n",
        "(res,cont) = step(cont) => ((((Var(1),:\u272a),()),2),())\n"
       ]
      }
     ],
     "prompt_number": 22
    },
    {
     "cell_type": "code",
     "collapsed": false,
     "input": [
      "forever(val,q) = begin\n",
      "        (q \u2261 val) \u2228 @\u263d(forever(val,q))\n",
      "end\n",
      "\n",
      "res = \u221e |> fresh() do q forever(:\u272a, q) end\n",
      "\n",
      "## Uncomment to hear the theme to M*A*S*H\n",
      "## @show res = allIn(res)\n",
      "\n",
      "## one last time\n",
      "@show res\n",
      "(res,cont) = res\n",
      "@show (res,cont) = step(cont)\n",
      "@show (res,cont) = step(cont)\n",
      "@show (res,cont) = step(cont)\n",
      "@show (res,cont) = step(cont)\n",
      "@show (res,cont) = step(cont)\n",
      "\n",
      "nothing"
     ],
     "language": "python",
     "metadata": {},
     "outputs": [
      {
       "output_type": "stream",
       "stream": "stdout",
       "text": [
        "res => ((((Var(1),:\u272a),()),2),(anonymous function))\n",
        "(res,cont) = step(cont) => ((((Var(1),:\u272a),()),2),(anonymous function))\n",
        "(res,cont) = step(cont) => ((((Var(1),:\u272a),()),2),(anonymous function))\n",
        "(res,cont) = step(cont) => ((((Var(1),:\u272a),()),2),(anonymous function))\n",
        "(res,cont) = step(cont) => ((((Var(1),:\u272a),()),2),(anonymous function))\n",
        "(res,cont) = step(cont) => "
       ]
      },
      {
       "output_type": "stream",
       "stream": "stdout",
       "text": [
        "((((Var(1),:\u272a),()),2),(anonymous function))\n"
       ]
      }
     ],
     "prompt_number": 23
    },
    {
     "cell_type": "code",
     "collapsed": false,
     "input": [
      "## Lead us not into Temptation...\n",
      "##\n",
      "## Reification is Lucifer's work. \n",
      "##\n",
      "## But at the same time, we are lunatics, not ascetics,\n",
      "## and so, on this day, we grant ourselves a few guilty pleasures.\n",
      "##\n",
      "## (Don't worry -- when time comes around to get down with the underground,\n",
      "##  we plan to get our swerve on)\n",
      "\n"
     ],
     "language": "python",
     "metadata": {},
     "outputs": [],
     "prompt_number": 24
    },
    {
     "cell_type": "code",
     "collapsed": false,
     "input": [
      "## Some infrastructure\n",
      "## Can't you just feel your muscles and joints getting stiff?\n",
      "\n",
      "if Pkg.installed(\"Patchwork\") == nothing\n",
      "    Pkg.add(\"Patchwork\") \n",
      "end\n",
      "\n",
      "using Patchwork\n",
      "using Patchwork.HTML5\n",
      "\n",
      "## hackety-hack\n",
      "## 'using Patchwork' embeds vital js into the output cell, \n",
      "## but 'using' is idempotent in Julia, which causes issues\n",
      "## when revaluating the entire sheet en masse \n",
      "## (the re-evaluated cell no longer has the js)\n",
      "## this hack forces the js embedding regardless\n",
      "\n",
      "## snarfed from Patchwork.jl\n",
      "load_js_runtime() =\n",
      "    display(MIME(\"text/html\"), \"<script>$(\n",
      "        readall(open(joinpath(Pkg.dir(\"Patchwork\"), \"runtime\", \"build.js\")))\n",
      "    )</script>\")\n",
      "\n",
      "try\n",
      "    load_js_runtime()\n",
      "catch\n",
      "end\n",
      "\n",
      "wrapper(e...) = begin \n",
      "    d = div(style=[:display => :flex, \n",
      "                   \"flex-wrap\"=>\"wrap\"]) \n",
      "    for i=1:length(e)\n",
      "        d = d << e[i]\n",
      "    end\n",
      "    d \n",
      "end\n",
      "\n",
      "nothing"
     ],
     "language": "python",
     "metadata": {},
     "outputs": [
      {
       "html": [
        "<script>!function e(t,n,r){function s(o,u){if(!n[o]){if(!t[o]){var a=\"function\"==typeof require&&require;if(!u&&a)return a(o,!0);if(i)return i(o,!0);var f=new Error(\"Cannot find module '\"+o+\"'\");throw f.code=\"MODULE_NOT_FOUND\",f}var l=n[o]={exports:{}};t[o][0].call(l.exports,function(e){var n=t[o][1][e];return s(n?n:e)},l,l.exports,e,t,n,r)}return n[o].exports}for(var i=\"function\"==typeof require&&require,o=0;o<r.length;o++)s(r[o]);return s}({1:[function(require){var VNode=require(\"vtree/vnode\"),svg=require(\"virtual-hyperscript/svg\"),VText=require(\"vtree/vtext\"),VPatch=require(\"vtree/vpatch\"),diff=require(\"virtual-dom/diff\"),patch=require(\"virtual-dom/patch\"),createElement=require(\"virtual-dom/create-element\"),nodeIndex=require(\"./node-index\"),patchVNode=require(\"./patch-vnode\"),isArray=require(\"x-is-array\"),isVPatch=require(\"./is-vpatch\"),P=Patchwork={nodes:{},debug:!1,Node:function(id,jlNode){if(el=document.getElementById(id),this.id=id,jlNode){var vnode=P.makeVNode(jlNode);P.log(\"makeVNode: \",jlNode,\"=>\",vnode),this.mount(vnode,el)}P.nodes[id]=this},NAMESPACES:{xhtml:null,svg:\"http://www.w3.org/2000/svg\",\"null\":null,undefined:null},refDiff:function(a,b,p){var a=P.makeVNode(a);b=P.makeVNode(b),p=P.makeVPatches(a,p),console.log(p,diff(a,b))},massageProps:function(props){if(\"attributes\"in props){console.log(\"attributes \",props.attributes);for(var attr in props.attributes)props.attributes.hasOwnProperty(attr)&&null===props.attributes[attr]&&(console.log(\"remove \",attr,props.attributes[attr]),props.attributes[attr]=void 0)}return props},makeVNode:function(jlNode){if(\"txt\"in jlNode)return new VText(jlNode.txt);var children=[],props=P.massageProps(jlNode.p||{});if(jlNode.c)for(var i=0,l=jlNode.c.length;l>i;i++)children[i]=P.makeVNode(jlNode.c[i]);if(\"svg\"===jlNode.n)return svg(jlNode.t,props,children);var key=null;return props&&props.key&&(key=props.key,delete props.key),new VNode(jlNode.t,props,children,key,P.NAMESPACES[jlNode.n])},makeVPatches:function(root,jlPatches){var indices=[],vpatches={a:root};for(var idx in jlPatches)indices.push(Number(idx));nodes=nodeIndex(root,indices);for(var idx in jlPatches)vpatches[idx]=P.makeVPatch(nodes[idx],jlPatches[idx]);return vpatches},makeVPatch:function(vnode,jlPatch){function vpatch(p){return new VPatch(type,vnode,p)}if(isArray(jlPatch)){for(var ps=[],i=0,l=jlPatch.length;l>i;i++)ps[i]=P.makeVPatch(vnode,jlPatch[i]);return ps}var type,patch;for(var k in jlPatch){type=k,patch=jlPatch[k];break}switch(Number(type)){case VPatch.VTEXT:return vpatch(new VText(patch));case VPatch.VNODE:return vpatch(P.makeVNode(patch));case VPatch.PROPS:return patch=P.massageProps(patch),vnode.namespace===P.NAMESPACES.svg&&(patch=svg(\"dummy\",patch,[]).properties),vpatch(patch);case VPatch.ORDER:return vpatch(patch);case VPatch.INSERT:return vpatch(P.makeVNode(patch));case VPatch.REMOVE:return vpatch(null);default:return null}},log:function(){console&&P.debug&&console.log.apply(console,arguments)}};Patchwork.Node.prototype={mount:function(vnode,outer){var el=createElement(vnode);return P.log(\"createElement: \",vnode,\"=>\",el),outer.appendChild(el),this.element=el,this.root=vnode,el},applyPatch:function(vpatches){isVPatch(vpatches)||(vpatches=P.makeVPatches(this.root,vpatches)),this.element=patch(this.element,vpatches),this.root=patchVNode(this.root,vpatches)}},IPython&&jQuery&&$(document).ready(function(){var commMgr=IPython.notebook.kernel.comm_manager;commMgr.register_target(\"PatchStream\",function(comm,msg){var nodeId=msg.content.data.pwid;comm.on_msg(function(msg){var node=P.nodes[nodeId],patches=msg.content.data;node.applyPatch(patches),P.log(\"received patches\",patches)})})}),window.Patchwork=Patchwork},{\"./is-vpatch\":2,\"./node-index\":3,\"./patch-vnode\":57,\"virtual-dom/create-element\":5,\"virtual-dom/diff\":6,\"virtual-dom/patch\":23,\"virtual-hyperscript/svg\":47,\"vtree/vnode\":52,\"vtree/vpatch\":53,\"vtree/vtext\":54,\"x-is-array\":55}],2:[function(require,module){function isVirtualPatch(x){return x&&\"VirtualPatch\"===x.type&&x.version===version}var version=require(\"vtree/version\");module.exports=isVirtualPatch},{\"vtree/version\":51}],3:[function(require,module){function nodeIndex(tree,indices,nodes){return indices&&0!==indices.length?(indices.sort(ascending),recurse(tree,indices,nodes,0)):{}}function recurse(tree,indices,nodes,rootIndex){if(nodes=nodes||{},tree){indexInRange(indices,rootIndex,rootIndex)&&(nodes[rootIndex]=tree);var vChildren=tree.children;if(vChildren)for(var i=0;i<vChildren.length;i++){rootIndex+=1;var vChild=vChildren[i],nextIndex=rootIndex+(vChild.count||0);indexInRange(indices,rootIndex,nextIndex)&&recurse(vChild,indices,nodes,rootIndex),rootIndex=nextIndex}}return nodes}function indexInRange(indices,left,right){if(0===indices.length)return!1;for(var currentIndex,currentItem,minIndex=0,maxIndex=indices.length-1;maxIndex>=minIndex;){if(currentIndex=(maxIndex+minIndex)/2>>0,currentItem=indices[currentIndex],minIndex===maxIndex)return currentItem>=left&&right>=currentItem;if(left>currentItem)minIndex=currentIndex+1;else{if(!(currentItem>right))return!0;maxIndex=currentIndex-1}}return!1}function ascending(a,b){return a>b?1:-1}module.exports=nodeIndex},{}],4:[function(require,module){function isObject(x){return\"object\"==typeof x&&null!==x}module.exports=isObject},{}],5:[function(require,module){var createElement=require(\"vdom/create-element\");module.exports=createElement},{\"vdom/create-element\":8}],6:[function(require,module){var diff=require(\"vtree/diff\");module.exports=diff},{\"vtree/diff\":14}],7:[function(require,module){function applyProperties(node,props,previous){for(var propName in props){var propValue=props[propName];void 0===propValue?removeProperty(node,props,previous,propName):isHook(propValue)?propValue.hook(node,propName,previous?previous[propName]:void 0):isObject(propValue)?patchObject(node,props,previous,propName,propValue):void 0!==propValue&&(node[propName]=propValue)}}function removeProperty(node,props,previous,propName){if(previous){var previousValue=previous[propName];if(!isHook(previousValue))if(\"attributes\"===propName)for(var attrName in previousValue)node.removeAttribute(attrName);else if(\"style\"===propName)for(var i in previousValue)node.style[i]=\"\";else node[propName]=\"string\"==typeof previousValue?\"\":null}}function patchObject(node,props,previous,propName,propValue){var previousValue=previous?previous[propName]:void 0;if(\"attributes\"!==propName){if(previousValue&&isObject(previousValue)&&getPrototype(previousValue)!==getPrototype(propValue))return void(node[propName]=propValue);isObject(node[propName])||(node[propName]={});var replacer=\"style\"===propName?\"\":void 0;for(var k in propValue){var value=propValue[k];node[propName][k]=void 0===value?replacer:value}}else for(var attrName in propValue){var attrValue=propValue[attrName];void 0===attrValue?node.removeAttribute(attrName):node.setAttribute(attrName,attrValue)}}function getPrototype(value){return Object.getPrototypeOf?Object.getPrototypeOf(value):value.__proto__?value.__proto__:value.constructor?value.constructor.prototype:void 0}var isObject=require(\"is-object\"),isHook=require(\"vtree/is-vhook\");module.exports=applyProperties},{\"is-object\":4,\"vtree/is-vhook\":17}],8:[function(require,module){function createElement(vnode,opts){var doc=opts?opts.document||document:document,warn=opts?opts.warn:null;if(vnode=handleThunk(vnode).a,isWidget(vnode))return vnode.init();if(isVText(vnode))return doc.createTextNode(vnode.text);if(!isVNode(vnode))return warn&&warn(\"Item is not a valid virtual dom node\",vnode),null;var node=null===vnode.namespace?doc.createElement(vnode.tagName):doc.createElementNS(vnode.namespace,vnode.tagName),props=vnode.properties;applyProperties(node,props);for(var children=vnode.children,i=0;i<children.length;i++){var childNode=createElement(children[i],opts);childNode&&node.appendChild(childNode)}return node}var document=require(\"global/document\"),applyProperties=require(\"./apply-properties\"),isVNode=require(\"vtree/is-vnode\"),isVText=require(\"vtree/is-vtext\"),isWidget=require(\"vtree/is-widget\"),handleThunk=require(\"vtree/handle-thunk\");module.exports=createElement},{\"./apply-properties\":7,\"global/document\":10,\"vtree/handle-thunk\":15,\"vtree/is-vnode\":18,\"vtree/is-vtext\":19,\"vtree/is-widget\":20}],9:[function(require,module){function domIndex(rootNode,tree,indices,nodes){return indices&&0!==indices.length?(indices.sort(ascending),recurse(rootNode,tree,indices,nodes,0)):{}}function recurse(rootNode,tree,indices,nodes,rootIndex){if(nodes=nodes||{},rootNode){indexInRange(indices,rootIndex,rootIndex)&&(nodes[rootIndex]=rootNode);var vChildren=tree.children;if(vChildren)for(var childNodes=rootNode.childNodes,i=0;i<tree.children.length;i++){rootIndex+=1;var vChild=vChildren[i]||noChild,nextIndex=rootIndex+(vChild.count||0);indexInRange(indices,rootIndex,nextIndex)&&recurse(childNodes[i],vChild,indices,nodes,rootIndex),rootIndex=nextIndex}}return nodes}function indexInRange(indices,left,right){if(0===indices.length)return!1;for(var currentIndex,currentItem,minIndex=0,maxIndex=indices.length-1;maxIndex>=minIndex;){if(currentIndex=(maxIndex+minIndex)/2>>0,currentItem=indices[currentIndex],minIndex===maxIndex)return currentItem>=left&&right>=currentItem;if(left>currentItem)minIndex=currentIndex+1;else{if(!(currentItem>right))return!0;maxIndex=currentIndex-1}}return!1}function ascending(a,b){return a>b?1:-1}var noChild={};module.exports=domIndex},{}],10:[function(require,module){(function(global){var topLevel=\"undefined\"!=typeof global?global:\"undefined\"!=typeof window?window:{},minDoc=require(\"min-document\");if(\"undefined\"!=typeof document)module.exports=document;else{var doccy=topLevel[\"__GLOBAL_DOCUMENT_CACHE@4\"];doccy||(doccy=topLevel[\"__GLOBAL_DOCUMENT_CACHE@4\"]=minDoc),module.exports=doccy}}).call(this,\"undefined\"!=typeof global?global:\"undefined\"!=typeof self?self:\"undefined\"!=typeof window?window:{})},{\"min-document\":59}],11:[function(require,module){function applyPatch(vpatch,domNode,renderOptions){var type=vpatch.type,vNode=vpatch.vNode,patch=vpatch.patch;switch(type){case VPatch.REMOVE:return removeNode(domNode,vNode);case VPatch.INSERT:return insertNode(domNode,patch,renderOptions);case VPatch.VTEXT:return stringPatch(domNode,vNode,patch,renderOptions);case VPatch.WIDGET:return widgetPatch(domNode,vNode,patch,renderOptions);case VPatch.VNODE:return vNodePatch(domNode,vNode,patch,renderOptions);case VPatch.ORDER:return reorderChildren(domNode,patch),domNode;case VPatch.PROPS:return applyProperties(domNode,patch,vNode.properties),domNode;case VPatch.THUNK:return replaceRoot(domNode,renderOptions.patch(domNode,patch,renderOptions));default:return domNode}}function removeNode(domNode,vNode){var parentNode=domNode.parentNode;return parentNode&&parentNode.removeChild(domNode),destroyWidget(domNode,vNode),null}function insertNode(parentNode,vNode,renderOptions){var newNode=render(vNode,renderOptions);return parentNode&&parentNode.appendChild(newNode),parentNode}function stringPatch(domNode,leftVNode,vText,renderOptions){var newNode;if(3===domNode.nodeType)domNode.replaceData(0,domNode.length,vText.text),newNode=domNode;else{var parentNode=domNode.parentNode;newNode=render(vText,renderOptions),parentNode&&parentNode.replaceChild(newNode,domNode)}return destroyWidget(domNode,leftVNode),newNode}function widgetPatch(domNode,leftVNode,widget,renderOptions){if(updateWidget(leftVNode,widget))return widget.update(leftVNode,domNode)||domNode;var parentNode=domNode.parentNode,newWidget=render(widget,renderOptions);return parentNode&&parentNode.replaceChild(newWidget,domNode),destroyWidget(domNode,leftVNode),newWidget}function vNodePatch(domNode,leftVNode,vNode,renderOptions){var parentNode=domNode.parentNode,newNode=render(vNode,renderOptions);return parentNode&&parentNode.replaceChild(newNode,domNode),destroyWidget(domNode,leftVNode),newNode}function destroyWidget(domNode,w){\"function\"==typeof w.destroy&&isWidget(w)&&w.destroy(domNode)}function reorderChildren(domNode,bIndex){var i,children=[],childNodes=domNode.childNodes,len=childNodes.length,reverseIndex=bIndex.reverse;for(i=0;len>i;i++)children.push(domNode.childNodes[i]);var move,node,insertNode,insertOffset=0;for(i=0;len>i;i++)move=bIndex[i],void 0!==move&&move!==i&&(reverseIndex[i]>i&&insertOffset++,node=children[move],insertNode=childNodes[i+insertOffset]||null,node!==insertNode&&domNode.insertBefore(node,insertNode),i>move&&insertOffset--),i in bIndex.removes&&insertOffset++}function replaceRoot(oldRoot,newRoot){return oldRoot&&newRoot&&oldRoot!==newRoot&&oldRoot.parentNode&&(console.log(oldRoot),oldRoot.parentNode.replaceChild(newRoot,oldRoot)),newRoot}var applyProperties=require(\"./apply-properties\"),isWidget=require(\"vtree/is-widget\"),VPatch=require(\"vtree/vpatch\"),render=require(\"./create-element\"),updateWidget=require(\"./update-widget\");module.exports=applyPatch},{\"./apply-properties\":7,\"./create-element\":8,\"./update-widget\":13,\"vtree/is-widget\":20,\"vtree/vpatch\":22}],12:[function(require,module){function patch(rootNode,patches){return patchRecursive(rootNode,patches)}function patchRecursive(rootNode,patches,renderOptions){var indices=patchIndices(patches);if(0===indices.length)return rootNode;var index=domIndex(rootNode,patches.a,indices),ownerDocument=rootNode.ownerDocument;renderOptions||(renderOptions={patch:patchRecursive},ownerDocument!==document&&(renderOptions.document=ownerDocument));for(var i=0;i<indices.length;i++){var nodeIndex=indices[i];rootNode=applyPatch(rootNode,index[nodeIndex],patches[nodeIndex],renderOptions)}return rootNode}function applyPatch(rootNode,domNode,patchList,renderOptions){if(!domNode)return rootNode;var newNode;if(isArray(patchList))for(var i=0;i<patchList.length;i++)newNode=patchOp(patchList[i],domNode,renderOptions),domNode===rootNode&&(rootNode=newNode);else newNode=patchOp(patchList,domNode,renderOptions),domNode===rootNode&&(rootNode=newNode);return rootNode}function patchIndices(patches){var indices=[];for(var key in patches)\"a\"!==key&&indices.push(Number(key));return indices}var document=require(\"global/document\"),isArray=require(\"x-is-array\"),domIndex=require(\"./dom-index\"),patchOp=require(\"./patch-op\");module.exports=patch},{\"./dom-index\":9,\"./patch-op\":11,\"global/document\":10,\"x-is-array\":55}],13:[function(require,module){function updateWidget(a,b){return isWidget(a)&&isWidget(b)?\"name\"in a&&\"name\"in b?a.id===b.id:a.init===b.init:!1}var isWidget=require(\"vtree/is-widget\");module.exports=updateWidget},{\"vtree/is-widget\":20}],14:[function(require,module){function diff(a,b){var patch={a:a};return walk(a,b,patch,0),patch}function walk(a,b,patch,index){if(a===b)return void(isThunk(a)||isThunk(b)?thunks(a,b,patch,index):hooks(b,patch,index));var apply=patch[index];if(null==b)apply=appendPatch(apply,new VPatch(VPatch.REMOVE,a,b)),destroyWidgets(a,patch,index);else if(isThunk(a)||isThunk(b))thunks(a,b,patch,index);else if(isVNode(b))if(isVNode(a))if(a.tagName===b.tagName&&a.namespace===b.namespace&&a.key===b.key){var propsPatch=diffProps(a.properties,b.properties,b.hooks);propsPatch&&(apply=appendPatch(apply,new VPatch(VPatch.PROPS,a,propsPatch))),apply=diffChildren(a,b,patch,apply,index)}else apply=appendPatch(apply,new VPatch(VPatch.VNODE,a,b)),destroyWidgets(a,patch,index);else apply=appendPatch(apply,new VPatch(VPatch.VNODE,a,b)),destroyWidgets(a,patch,index);else isVText(b)?isVText(a)?a.text!==b.text&&(apply=appendPatch(apply,new VPatch(VPatch.VTEXT,a,b))):(apply=appendPatch(apply,new VPatch(VPatch.VTEXT,a,b)),destroyWidgets(a,patch,index)):isWidget(b)&&(apply=appendPatch(apply,new VPatch(VPatch.WIDGET,a,b)),isWidget(a)||destroyWidgets(a,patch,index));apply&&(patch[index]=apply)}function diffProps(a,b,hooks){var diff;for(var aKey in a){aKey in b||(diff=diff||{},diff[aKey]=void 0);var aValue=a[aKey],bValue=b[aKey];if(hooks&&aKey in hooks)diff=diff||{},diff[aKey]=bValue;else if(isObject(aValue)&&isObject(bValue))if(getPrototype(bValue)!==getPrototype(aValue))diff=diff||{},diff[aKey]=bValue;else{var objectDiff=diffProps(aValue,bValue);objectDiff&&(diff=diff||{},diff[aKey]=objectDiff)}else aValue!==bValue&&(diff=diff||{},diff[aKey]=bValue)}for(var bKey in b)bKey in a||(diff=diff||{},diff[bKey]=b[bKey]);return diff}function getPrototype(value){return Object.getPrototypeOf?Object.getPrototypeOf(value):value.__proto__?value.__proto__:value.constructor?value.constructor.prototype:void 0}function diffChildren(a,b,patch,apply,index){for(var aChildren=a.children,bChildren=reorder(aChildren,b.children),aLen=aChildren.length,bLen=bChildren.length,len=aLen>bLen?aLen:bLen,i=0;len>i;i++){var leftNode=aChildren[i],rightNode=bChildren[i];index+=1,leftNode?rightNode?walk(leftNode,rightNode,patch,index):leftNode&&(patch[index]=new VPatch(VPatch.REMOVE,leftNode,null),destroyWidgets(leftNode,patch,index)):rightNode&&(apply=appendPatch(apply,new VPatch(VPatch.INSERT,null,rightNode))),isVNode(leftNode)&&leftNode.count&&(index+=leftNode.count)}return bChildren.moves&&(apply=appendPatch(apply,new VPatch(VPatch.ORDER,a,bChildren.moves))),apply}function destroyWidgets(vNode,patch,index){if(isWidget(vNode))\"function\"==typeof vNode.destroy&&(patch[index]=new VPatch(VPatch.REMOVE,vNode,null));else if(isVNode(vNode)&&vNode.hasWidgets)for(var children=vNode.children,len=children.length,i=0;len>i;i++){var child=children[i];index+=1,destroyWidgets(child,patch,index),isVNode(child)&&child.count&&(index+=child.count)}}function thunks(a,b,patch,index){var nodes=handleThunk(a,b),thunkPatch=diff(nodes.a,nodes.b);hasPatches(thunkPatch)&&(patch[index]=new VPatch(VPatch.THUNK,null,thunkPatch))}function hasPatches(patch){for(var index in patch)if(\"a\"!==index)return!0;return!1}function hooks(vNode,patch,index){if(isVNode(vNode)&&(vNode.hooks&&(patch[index]=new VPatch(VPatch.PROPS,vNode.hooks,vNode.hooks)),vNode.descendantHooks))for(var children=vNode.children,len=children.length,i=0;len>i;i++){var child=children[i];index+=1,hooks(child,patch,index),isVNode(child)&&child.count&&(index+=child.count)}}function reorder(aChildren,bChildren){var bKeys=keyIndex(bChildren);if(!bKeys)return bChildren;var aKeys=keyIndex(aChildren);if(!aKeys)return bChildren;var bMatch={},aMatch={};for(var key in bKeys)bMatch[bKeys[key]]=aKeys[key];for(var key in aKeys)aMatch[aKeys[key]]=bKeys[key];for(var aLen=aChildren.length,bLen=bChildren.length,len=aLen>bLen?aLen:bLen,shuffle=[],freeIndex=0,i=0,moveIndex=0,moves={},removes=moves.removes={},reverse=moves.reverse={},hasMoves=!1;len>freeIndex;){var move=aMatch[i];if(void 0!==move)shuffle[i]=bChildren[move],move!==moveIndex&&(moves[move]=moveIndex,reverse[moveIndex]=move,hasMoves=!0),moveIndex++;else if(i in aMatch)shuffle[i]=void 0,removes[i]=moveIndex++,hasMoves=!0;else{for(;void 0!==bMatch[freeIndex];)freeIndex++;if(len>freeIndex){var freeChild=bChildren[freeIndex];freeChild&&(shuffle[i]=freeChild,freeIndex!==moveIndex&&(hasMoves=!0,moves[freeIndex]=moveIndex,reverse[moveIndex]=freeIndex),moveIndex++),freeIndex++}}i++}return hasMoves&&(shuffle.moves=moves),shuffle}function keyIndex(children){var i,keys;for(i=0;i<children.length;i++){var child=children[i];void 0!==child.key&&(keys=keys||{},keys[child.key]=i)}return keys}function appendPatch(apply,patch){return apply?(isArray(apply)?apply.push(patch):apply=[apply,patch],apply):patch}var isArray=require(\"x-is-array\"),isObject=require(\"is-object\"),VPatch=require(\"./vpatch\"),isVNode=require(\"./is-vnode\"),isVText=require(\"./is-vtext\"),isWidget=require(\"./is-widget\"),isThunk=require(\"./is-thunk\"),handleThunk=require(\"./handle-thunk\");module.exports=diff},{\"./handle-thunk\":15,\"./is-thunk\":16,\"./is-vnode\":18,\"./is-vtext\":19,\"./is-widget\":20,\"./vpatch\":22,\"is-object\":4,\"x-is-array\":55}],15:[function(require,module){function handleThunk(a,b){var renderedA=a,renderedB=b;return isThunk(b)&&(renderedB=renderThunk(b,a)),isThunk(a)&&(renderedA=renderThunk(a,null)),{a:renderedA,b:renderedB}}function renderThunk(thunk,previous){var renderedThunk=thunk.vnode;if(renderedThunk||(renderedThunk=thunk.vnode=thunk.render(previous)),!(isVNode(renderedThunk)||isVText(renderedThunk)||isWidget(renderedThunk)))throw new Error(\"thunk did not return a valid node\");return renderedThunk}var isVNode=require(\"./is-vnode\"),isVText=require(\"./is-vtext\"),isWidget=require(\"./is-widget\"),isThunk=require(\"./is-thunk\");module.exports=handleThunk},{\"./is-thunk\":16,\"./is-vnode\":18,\"./is-vtext\":19,\"./is-widget\":20}],16:[function(require,module){function isThunk(t){return t&&\"Thunk\"===t.type}module.exports=isThunk},{}],17:[function(require,module){function isHook(hook){return hook&&\"function\"==typeof hook.hook&&!hook.hasOwnProperty(\"hook\")}module.exports=isHook},{}],18:[function(require,module){function isVirtualNode(x){return x&&\"VirtualNode\"===x.type&&x.version===version}var version=require(\"./version\");module.exports=isVirtualNode},{\"./version\":21}],19:[function(require,module){function isVirtualText(x){return x&&\"VirtualText\"===x.type&&x.version===version}var version=require(\"./version\");module.exports=isVirtualText},{\"./version\":21}],20:[function(require,module){function isWidget(w){return w&&\"Widget\"===w.type}module.exports=isWidget},{}],21:[function(require,module){module.exports=\"1\"},{}],22:[function(require,module){function VirtualPatch(type,vNode,patch){this.type=Number(type),this.vNode=vNode,this.patch=patch}var version=require(\"./version\");VirtualPatch.NONE=0,VirtualPatch.VTEXT=1,VirtualPatch.VNODE=2,VirtualPatch.WIDGET=3,VirtualPatch.PROPS=4,VirtualPatch.ORDER=5,VirtualPatch.INSERT=6,VirtualPatch.REMOVE=7,VirtualPatch.THUNK=8,module.exports=VirtualPatch,VirtualPatch.prototype.version=version,VirtualPatch.prototype.type=\"VirtualPatch\"},{\"./version\":21}],23:[function(require,module){var patch=require(\"vdom/patch\");module.exports=patch},{\"vdom/patch\":12}],24:[function(require,module){function AttributeHook(value){return this instanceof AttributeHook?void(this.value=value):new AttributeHook(value)}module.exports=AttributeHook,AttributeHook.prototype.hook=function(node,prop,prev){prev&&prev.value===this.value||node.setAttributeNS(null,prop,this.value)}},{}],25:[function(require,module){function DataSetHook(value){return this instanceof DataSetHook?void(this.value=value):new DataSetHook(value)}var DataSet=require(\"data-set\");module.exports=DataSetHook,DataSetHook.prototype.hook=function(node,propertyName){var ds=DataSet(node),propName=propertyName.substr(5);ds[propName]=this.value}},{\"data-set\":30}],26:[function(require,module){function DataSetHook(value){return this instanceof DataSetHook?void(this.value=value):new DataSetHook(value)}var DataSet=require(\"data-set\");module.exports=DataSetHook,DataSetHook.prototype.hook=function(node,propertyName){var ds=DataSet(node),propName=propertyName.substr(3);ds[propName]=this.value}},{\"data-set\":30}],27:[function(require,module){function SoftSetHook(value){return this instanceof SoftSetHook?void(this.value=value):new SoftSetHook(value)}module.exports=SoftSetHook,SoftSetHook.prototype.hook=function(node,propertyName){node[propertyName]!==this.value&&(node[propertyName]=this.value)}},{}],28:[function(require,module){function h(tagName,properties,children){var tag,props,key,namespace,childNodes=[];!children&&isChildren(properties)&&(children=properties,props={}),props=props||properties||{},tag=parseTag(tagName,props),\"key\"in props&&(key=props.key,props.key=void 0),\"namespace\"in props&&(namespace=props.namespace,props.namespace=void 0),\"input\"===tag&&\"value\"in props&&void 0!==props.value&&!isHook(props.value)&&(props.value=softSetHook(props.value));for(var propName,value,keys=Object.keys(props),j=0;j<keys.length;j++)propName=keys[j],value=props[propName],isHook(value)||(\"data-\"===propName.substr(0,5)&&(props[propName]=dataSetHook(value)),\"ev-\"===propName.substr(0,3)&&(props[propName]=evHook(value)));void 0!==children&&null!==children&&addChild(children,childNodes,tag,props);var node=new VNode(tag,props,childNodes,key,namespace);return node}function addChild(c,childNodes,tag,props){if(\"string\"==typeof c)childNodes.push(new VText(c));else if(isChild(c))childNodes.push(c);else{if(!Array.isArray(c)){if(null===c||void 0===c)return;throw UnexpectedVirtualElement({foreignObjectStr:JSON.stringify(c),foreignObject:c,parentVnodeStr:JSON.stringify({tagName:tag,properties:props}),parentVnode:{tagName:tag,properties:props}})}for(var i=0;i<c.length;i++)addChild(c[i],childNodes,tag,props)}}function isChild(x){return isVNode(x)||isVText(x)||isWidget(x)||isVThunk(x)}function isChildren(x){return\"string\"==typeof x||Array.isArray(x)||isChild(x)}var VNode=require(\"vtree/vnode.js\"),VText=require(\"vtree/vtext.js\"),isVNode=require(\"vtree/is-vnode\"),isVText=require(\"vtree/is-vtext\"),isWidget=require(\"vtree/is-widget\"),isHook=require(\"vtree/is-vhook\"),isVThunk=require(\"vtree/is-thunk\"),TypedError=require(\"error/typed\"),parseTag=require(\"./parse-tag.js\"),softSetHook=require(\"./hooks/soft-set-hook.js\"),dataSetHook=require(\"./hooks/data-set-hook.js\"),evHook=require(\"./hooks/ev-hook.js\"),UnexpectedVirtualElement=TypedError({type:\"virtual-hyperscript.unexpected.virtual-element\",message:\"Unexpected virtual child passed to h().\\nExpected a VNode / Vthunk / VWidget / string but:\\ngot a {foreignObjectStr}.\\nThe parent vnode is {parentVnodeStr}.\\nSuggested fix: change your `h(..., [ ... ])` callsite.\",foreignObjectStr:null,parentVnodeStr:null,foreignObject:null,parentVnode:null});module.exports=h},{\"./hooks/data-set-hook.js\":25,\"./hooks/ev-hook.js\":26,\"./hooks/soft-set-hook.js\":27,\"./parse-tag.js\":46,\"error/typed\":37,\"vtree/is-thunk\":38,\"vtree/is-vhook\":39,\"vtree/is-vnode\":40,\"vtree/is-vtext\":41,\"vtree/is-widget\":42,\"vtree/vnode.js\":44,\"vtree/vtext.js\":45}],29:[function(require,module){function createHash(elem){var attributes=elem.attributes,hash={};if(null===attributes||void 0===attributes)return hash;for(var i=0;i<attributes.length;i++){var attr=attributes[i];\"data-\"===attr.name.substr(0,5)&&(hash[attr.name.substr(5)]=attr.value)}return hash}module.exports=createHash},{}],30:[function(require,module){function DataSet(elem){var store=hashStore(elem);return store.hash||(store.hash=createHash(elem)),store.hash}var createStore=require(\"weakmap-shim/create-store\"),Individual=require(\"individual\"),createHash=require(\"./create-hash.js\"),hashStore=Individual(\"__DATA_SET_WEAKMAP@3\",createStore());module.exports=DataSet},{\"./create-hash.js\":29,individual:31,\"weakmap-shim/create-store\":32}],31:[function(require,module){(function(global){function Individual(key,value){return root[key]?root[key]:(Object.defineProperty(root,key,{value:value,configurable:!0}),value)}var root=\"undefined\"!=typeof window?window:\"undefined\"!=typeof global?global:{};module.exports=Individual}).call(this,\"undefined\"!=typeof global?global:\"undefined\"!=typeof self?self:\"undefined\"!=typeof window?window:{})},{}],32:[function(require,module){function createStore(){var key={};return function(obj){if(\"object\"!=typeof obj||null===obj)throw new Error(\"Weakmap-shim: Key must be object\");var store=obj.valueOf(key);return store&&store.identity===key?store:hiddenStore(obj,key)}}var hiddenStore=require(\"./hidden-store.js\");module.exports=createStore},{\"./hidden-store.js\":33}],33:[function(require,module){function hiddenStore(obj,key){var store={identity:key},valueOf=obj.valueOf;return Object.defineProperty(obj,\"valueOf\",{value:function(value){return value!==key?valueOf.apply(this,arguments):store},writable:!0}),store}module.exports=hiddenStore},{}],34:[function(require,module){function walk(obj){return obj&&\"object\"==typeof obj?isDate(obj)||isRegex(obj)?obj:isArray(obj)?map(obj,walk):reduce(objectKeys(obj),function(acc,key){var camel=camelCase(key);return acc[camel]=walk(obj[key]),acc},{}):obj}function camelCase(str){return str.replace(/[_.-](\\w|$)/g,function(_,x){return x.toUpperCase()})}function map(xs,f){if(xs.map)return xs.map(f);for(var res=[],i=0;i<xs.length;i++)res.push(f(xs[i],i));return res}function reduce(xs,f,acc){if(xs.reduce)return xs.reduce(f,acc);for(var i=0;i<xs.length;i++)acc=f(acc,xs[i],i);return acc}module.exports=function(obj){return\"string\"==typeof obj?camelCase(obj):walk(obj)};var isArray=Array.isArray||function(obj){return\"[object Array]\"===Object.prototype.toString.call(obj)},isDate=function(obj){return\"[object Date]\"===Object.prototype.toString.call(obj)},isRegex=function(obj){return\"[object RegExp]\"===Object.prototype.toString.call(obj)},has=Object.prototype.hasOwnProperty,objectKeys=Object.keys||function(obj){var keys=[];for(var key in obj)has.call(obj,key)&&keys.push(key);return keys}},{}],35:[function(require,module){function template(string){var args;return args=2===arguments.length&&\"object\"==typeof arguments[1]?arguments[1]:slice.call(arguments,1),args&&args.hasOwnProperty||(args={}),string.replace(nargs,function(match,i,index){var result;return\"{\"===string[index-1]&&\"}\"===string[index+match.length]?i:(result=args.hasOwnProperty(i)?args[i]:null,null===result||void 0===result?\"\":result)})}var nargs=/\\{([0-9a-zA-Z]+)\\}/g,slice=Array.prototype.slice;module.exports=template},{}],36:[function(require,module){function extend(target){for(var i=1;i<arguments.length;i++){var source=arguments[i];for(var key in source)source.hasOwnProperty(key)&&(target[key]=source[key])}return target}module.exports=extend},{}],37:[function(require,module){function TypedError(args){function createError(opts){var result=new Error;Object.defineProperty(result,\"type\",{value:result.type,enumerable:!0,writable:!0,configurable:!0});var options=extend({},args,opts);return extend(result,options),result.message=template(message,options),result}if(!args)throw new Error(\"args is required\");if(!args.type)throw new Error(\"args.type is required\");if(!args.message)throw new Error(\"args.message is required\");var message=args.message;if(args.type&&!args.name){var errorName=camelize(args.type)+\"Error\";args.name=errorName[0].toUpperCase()+errorName.substr(1)}return createError.type=args.type,createError._name=args.name,createError}var camelize=require(\"camelize\"),template=require(\"string-template\"),extend=require(\"xtend/mutable\");module.exports=TypedError},{camelize:34,\"string-template\":35,\"xtend/mutable\":36}],38:[function(require,module){module.exports=require(16)},{\"/home/shashi/.julia/v0.3/Patchwork/runtime/node_modules/virtual-dom/node_modules/vtree/is-thunk.js\":16}],39:[function(require,module){module.exports=require(17)},{\"/home/shashi/.julia/v0.3/Patchwork/runtime/node_modules/virtual-dom/node_modules/vtree/is-vhook.js\":17}],40:[function(require,module){module.exports=require(18)},{\"./version\":43,\"/home/shashi/.julia/v0.3/Patchwork/runtime/node_modules/virtual-dom/node_modules/vtree/is-vnode.js\":18}],41:[function(require,module){module.exports=require(19)},{\"./version\":43,\"/home/shashi/.julia/v0.3/Patchwork/runtime/node_modules/virtual-dom/node_modules/vtree/is-vtext.js\":19}],42:[function(require,module){module.exports=require(20)},{\"/home/shashi/.julia/v0.3/Patchwork/runtime/node_modules/virtual-dom/node_modules/vtree/is-widget.js\":20}],43:[function(require,module){module.exports=require(21)},{\"/home/shashi/.julia/v0.3/Patchwork/runtime/node_modules/virtual-dom/node_modules/vtree/version.js\":21}],44:[function(require,module){function VirtualNode(tagName,properties,children,key,namespace){this.tagName=tagName,this.properties=properties||noProperties,this.children=children||noChildren,this.key=null!=key?String(key):void 0,this.namespace=\"string\"==typeof namespace?namespace:null;var hooks,count=children&&children.length||0,descendants=0,hasWidgets=!1,descendantHooks=!1;for(var propName in properties)if(properties.hasOwnProperty(propName)){var property=properties[propName];isVHook(property)&&(hooks||(hooks={}),hooks[propName]=property)}for(var i=0;count>i;i++){var child=children[i];isVNode(child)?(descendants+=child.count||0,!hasWidgets&&child.hasWidgets&&(hasWidgets=!0),descendantHooks||!child.hooks&&!child.descendantHooks||(descendantHooks=!0)):!hasWidgets&&isWidget(child)&&\"function\"==typeof child.destroy&&(hasWidgets=!0)}this.count=count+descendants,this.hasWidgets=hasWidgets,this.hooks=hooks,this.descendantHooks=descendantHooks\n",
        "}var version=require(\"./version\"),isVNode=require(\"./is-vnode\"),isWidget=require(\"./is-widget\"),isVHook=require(\"./is-vhook\");module.exports=VirtualNode;var noProperties={},noChildren=[];VirtualNode.prototype.version=version,VirtualNode.prototype.type=\"VirtualNode\"},{\"./is-vhook\":39,\"./is-vnode\":40,\"./is-widget\":42,\"./version\":43}],45:[function(require,module){function VirtualText(text){this.text=String(text)}var version=require(\"./version\");module.exports=VirtualText,VirtualText.prototype.version=version,VirtualText.prototype.type=\"VirtualText\"},{\"./version\":43}],46:[function(require,module){function parseTag(tag,props){if(!tag)return\"div\";var noId=!(\"id\"in props),tagParts=tag.split(classIdSplit),tagName=null;notClassId.test(tagParts[1])&&(tagName=\"div\");var classes,part,type,i;for(i=0;i<tagParts.length;i++)part=tagParts[i],part&&(type=part.charAt(0),tagName?\".\"===type?(classes=classes||[],classes.push(part.substring(1,part.length))):\"#\"===type&&noId&&(props.id=part.substring(1,part.length)):tagName=part);return classes&&(props.className&&classes.push(props.className),props.className=classes.join(\" \")),tagName?tagName.toLowerCase():\"div\"}var classIdSplit=/([\\.#]?[a-zA-Z0-9_:-]+)/,notClassId=/^\\.|#/;module.exports=parseTag},{}],47:[function(require,module){function svg(tagName,properties,children){!children&&isChildren(properties)&&(children=properties,properties={}),properties=properties||{},properties.namespace=SVG_NAMESPACE;for(var key in properties)if(properties.hasOwnProperty(key)&&!BLACKLISTED_KEYS[key]){var value=properties[key];(\"string\"==typeof value||\"number\"==typeof value||\"boolean\"==typeof value)&&(properties[key]=attributeHook(value))}return h(tagName,properties,children)}function isChildren(x){return\"string\"==typeof x||Array.isArray(x)}var attributeHook=require(\"./hooks/attribute-hook.js\"),h=require(\"./index.js\"),BLACKLISTED_KEYS={style:!0,namespace:!0,key:!0},SVG_NAMESPACE=\"http://www.w3.org/2000/svg\";module.exports=svg},{\"./hooks/attribute-hook.js\":24,\"./index.js\":28}],48:[function(require,module){module.exports=require(17)},{\"/home/shashi/.julia/v0.3/Patchwork/runtime/node_modules/virtual-dom/node_modules/vtree/is-vhook.js\":17}],49:[function(require,module){module.exports=require(18)},{\"./version\":51,\"/home/shashi/.julia/v0.3/Patchwork/runtime/node_modules/virtual-dom/node_modules/vtree/is-vnode.js\":18}],50:[function(require,module){module.exports=require(20)},{\"/home/shashi/.julia/v0.3/Patchwork/runtime/node_modules/virtual-dom/node_modules/vtree/is-widget.js\":20}],51:[function(require,module){module.exports=require(21)},{\"/home/shashi/.julia/v0.3/Patchwork/runtime/node_modules/virtual-dom/node_modules/vtree/version.js\":21}],52:[function(require,module){module.exports=require(44)},{\"./is-vhook\":48,\"./is-vnode\":49,\"./is-widget\":50,\"./version\":51,\"/home/shashi/.julia/v0.3/Patchwork/runtime/node_modules/virtual-hyperscript/node_modules/vtree/vnode.js\":44}],53:[function(require,module){module.exports=require(22)},{\"./version\":51,\"/home/shashi/.julia/v0.3/Patchwork/runtime/node_modules/virtual-dom/node_modules/vtree/vpatch.js\":22}],54:[function(require,module){module.exports=require(45)},{\"./version\":51,\"/home/shashi/.julia/v0.3/Patchwork/runtime/node_modules/virtual-hyperscript/node_modules/vtree/vtext.js\":45}],55:[function(require,module){function isArray(obj){return\"[object Array]\"===toString.call(obj)}var nativeIsArray=Array.isArray,toString=Object.prototype.toString;module.exports=nativeIsArray||isArray},{}],56:[function(require,module){function reorder(array,moves){if(arr){for(var copy=array.slice(0),i=0,l=array.length;l>i;i++){var move=moves[i];void 0!==move&&(array[move]=copy[i])}return array}}function patchObject(obj,patch){for(var key in patch)obj[key]=isObject(patch[key])&&isObject(obj[key])?patchObject(obj[key],patch[key]):patch[key]}isObject=require(\"is-object\"),module.exports={reorder:reorder,patchObject:patchObject}},{\"is-object\":4}],57:[function(require,module){function patchVNode(root,patches){linkParents(root);for(var key in patches)if(\"a\"!==key)if(patch=patches[key],isArray(patch))for(var i=0,l=patch.length;l>i;i++)mutateNode(patch[i].type,patch[i].vNode,patch[i].patch);else mutateNode(patch.type,patch.vNode,patch.patch);return root}function linkParents(vNode){if(vNode&&vNode.children)for(var children=vNode.children,i=0,l=children.length;l>i;i++)children[i].up=vNode,linkParents(children[i])}var mutateNode=require(\"./vnode-patch-op\"),isArray=require(\"x-is-array\");module.exports=patchVNode},{\"./vnode-patch-op\":58,\"x-is-array\":55}],58:[function(require,module){function applyPatch(type,vNode,patch){switch(type){case VPatch.REMOVE:return removeNode(vNode);case VPatch.INSERT:return insertNode(vNode,patch);case VPatch.VTEXT:return stringPatch(vNode,patch);case VPatch.VNODE:return vNodePatch(vNode,patch);case VPatch.ORDER:return patchUtil.reorder(vNode.children,patch),vNode;case VPatch.PROPS:return patchUtil.patchObject(vNode.properties,patch),vNode;default:return vNode}}function offsetCount(node,count){node&&(void 0!==node.count?(node.count=node.count+count,offsetCount(node.up,count)):node.count=count)}function removeNode(node){if(node){var up=(node.count,node.up),idx=up.children.indexOf(node);return idx>-1&&(up.children.splice(idx,1),offsetCount(up,-node.count-1)),delete node,null}}function insertNode(node,child){return node.children.push(child),offsetCount(node,child.count+1),child.up=node,node}function stringPatch(node,patch){return node.text=patch.text,node}function vNodePatch(node,patch){var up=node.up,idx=up.children.indexOf(node),count=patch.count||0;return idx>-1&&(up.children[idx]=patch,node.count!=count&&offsetCount(up,count-node.count)),node}var VPatch=(require(\"vtree/is-widget\"),require(\"vtree/vpatch\")),patchUtil=require(\"./patch-util.js\");module.exports=applyPatch},{\"./patch-util.js\":56,\"vtree/is-widget\":50,\"vtree/vpatch\":53}],59:[function(){},{}]},{},[1]);</script>"
       ],
       "metadata": {},
       "output_type": "display_data"
      }
     ],
     "prompt_number": 31
    },
    {
     "cell_type": "code",
     "collapsed": false,
     "input": [
      "## I offer you a Table for your Store \n",
      "## (but no reification on which to rest)\n",
      "\n",
      "storeTable(s) = begin\n",
      "    function items(s::(),res=Elem[])\n",
      "        return res\n",
      "    end\n",
      "    function items(s::(Any,Any),res=Elem[])\n",
      "        (b, rest) = s\n",
      "        push!(res,binding(b, length(res)+1))\n",
      "        items(rest,res)\n",
      "    end\n",
      "    function binding(b, index) \n",
      "        r = tr(td(var(first(b))), td(value(second(b))))\n",
      "        if index % 2 == 0\n",
      "            r = r & [:className => \"alt\"]\n",
      "        end\n",
      "        r\n",
      "    end\n",
      "    function var(v)\n",
      "        s = @sprintf \"%s\" v\n",
      "        span(s)\n",
      "    end\n",
      "    function value(v)\n",
      "        s = @sprintf \"%s\" v\n",
      "        span(s)\n",
      "    end\n",
      "    \n",
      "    div(\n",
      "        table(\n",
      "          thead(tr(th(\"Var\"),th(\"Binding\"))), \n",
      "          tbody(items(s)...))) & [:className => :datagrid, :style => [:display=>\"inline-block\"]]\n",
      "end\n",
      "\n",
      "\n",
      "\n",
      "## create a scratch store for testing\n",
      "s = @>> empty_store begin\n",
      "    ext_s(vars[1], 2)\n",
      "    ext_s(vars[2], vars[1])\n",
      "    ext_s(vars[1], 3) #shadows prior binding\n",
      "    ext_s(vars[3], (:\u2746,vars[2]))\n",
      "end\n",
      "\n",
      "@>> s begin\n",
      "    storeTable \n",
      "    wrapper \n",
      "    display(\"text/html\")\n",
      "end\n",
      "\n",
      "\n"
     ],
     "language": "python",
     "metadata": {},
     "outputs": [
      {
       "html": [
        "<div id=\"pwid15878\"><script>new Patchwork.Node(\"pwid15878\", {\"t\":\"div\",\"p\":{\"style\":{\"flex-wrap\":\"wrap\",\"display\":\"flex\"}},\"c\":[{\"t\":\"div\",\"p\":{\"className\":\"datagrid\",\"style\":{\"display\":\"inline-block\"}},\"c\":[{\"t\":\"table\",\"c\":[{\"t\":\"thead\",\"c\":[{\"t\":\"tr\",\"c\":[{\"t\":\"th\",\"c\":[{\"txt\":\"Var\"}]},{\"t\":\"th\",\"c\":[{\"txt\":\"Binding\"}]}]}]},{\"t\":\"tbody\",\"c\":[{\"t\":\"tr\",\"c\":[{\"t\":\"td\",\"c\":[{\"t\":\"span\",\"c\":[{\"txt\":\"Var(3)\"}]}]},{\"t\":\"td\",\"c\":[{\"t\":\"span\",\"c\":[{\"txt\":\"(:\u2746,Var(2))\"}]}]}]},{\"t\":\"tr\",\"p\":{\"className\":\"alt\"},\"c\":[{\"t\":\"td\",\"c\":[{\"t\":\"span\",\"c\":[{\"txt\":\"Var(1)\"}]}]},{\"t\":\"td\",\"c\":[{\"t\":\"span\",\"c\":[{\"txt\":\"3\"}]}]}]},{\"t\":\"tr\",\"c\":[{\"t\":\"td\",\"c\":[{\"t\":\"span\",\"c\":[{\"txt\":\"Var(2)\"}]}]},{\"t\":\"td\",\"c\":[{\"t\":\"span\",\"c\":[{\"txt\":\"Var(1)\"}]}]}]},{\"t\":\"tr\",\"p\":{\"className\":\"alt\"},\"c\":[{\"t\":\"td\",\"c\":[{\"t\":\"span\",\"c\":[{\"txt\":\"Var(1)\"}]}]},{\"t\":\"td\",\"c\":[{\"t\":\"span\",\"c\":[{\"txt\":\"2\"}]}]}]}]}]}]}]});</script></div>"
       ],
       "metadata": {},
       "output_type": "display_data"
      }
     ],
     "prompt_number": 26
    },
    {
     "cell_type": "code",
     "collapsed": false,
     "input": [
      "## Forgetting our beeswax prior to entering the neighborhood big box superstore, \n",
      "## we are lulled into submission by the Sirens of Hock,\n",
      "## and impulsively purchase a flimsy power tool on the way out...\n",
      "\n",
      "function slurpInTime(res;maxResults = 10, maxSteps=1_000_000, maxTime=5s) # Mary Poppins does not approve\n",
      "  steps = 0\n",
      "  resultsCount = 0\n",
      "  start = Base.time_ns()\n",
      "  current = start\n",
      "  done = () -> (steps >= maxSteps || resultsCount >= maxResults || current - start >= maxTime || res == ())\n",
      "  \n",
      "  while(!done())\n",
      "        error(\"todo\")\n",
      "  end\n",
      "  res  ## return what's leftover, in case we want to slurp further\n",
      "end"
     ],
     "language": "python",
     "metadata": {},
     "outputs": [
      {
       "metadata": {},
       "output_type": "pyout",
       "prompt_number": 27,
       "text": [
        "slurpInTime (generic function with 1 method)"
       ]
      }
     ],
     "prompt_number": 27
    },
    {
     "cell_type": "code",
     "collapsed": false,
     "input": [
      "\n",
      "\n",
      "## TODO -- Share thoughts/benchmarks that investigate how Julia dispatches over types \n",
      "## with complicated internal structure (e.g. deep tuples)\n",
      "\n"
     ],
     "language": "python",
     "metadata": {},
     "outputs": [],
     "prompt_number": 28
    },
    {
     "cell_type": "code",
     "collapsed": false,
     "input": [
      "## Hackety-Hack\n",
      "## Some temporary work-arounds related to unresolved IJulia/juliabox warts\n",
      "\n",
      "## Most likely, this cell nevers needs to be evaluated again\n",
      "## It works by injecting mutant DNA (html) into the sheet which is then saved for posterity\n",
      "\n",
      "\n",
      "##nuke the red box around unicode chars\n",
      "display(\"text/html\", \n",
      "\"\"\"\n",
      "<script type=\"text/javascript\">\n",
      "\n",
      "\\$( document ).ready(function() {\n",
      "console.log( \"Fixing red boxes\" );\n",
      "\\$( \".err\" ).css( \"border\", \"0px solid red\" );\n",
      "\\$( \".err\" ).css( \"border-style\", \"none\" );\n",
      "});\n",
      "\n",
      "</script>\"\"\"\n",
      ")\n",
      "\n",
      "\n",
      "## table styling\n",
      "## generated with http://tablestyler.com/#\n",
      "css = \".datagrid table { border-collapse: collapse; text-align: left; width: 100%; margin:0px auto; } .datagrid {margin:0px auto; font: normal 12px/150% Georgia, Times New Roman, Times, serif; background: #fff; overflow: hidden; border: 1px solid #8C8C8C; }.datagrid table td, .datagrid table th { padding: 4px 10px; }.datagrid table thead th {background:-webkit-gradient( linear, left top, left bottom, color-stop(0.05, #8C8C8C), color-stop(1, #7D7D7D) );background:-moz-linear-gradient( center top, #8C8C8C 5%, #7D7D7D 100% );filter:progid:DXImageTransform.Microsoft.gradient(startColorstr='#8C8C8C', endColorstr='#7D7D7D');background-color:#8C8C8C; color:#FFFFFF; font-size: 13px; font-weight: bold; border-left: 1px solid #A3A3A3; } .datagrid table thead th:first-child { border: none; }.datagrid table tbody td { color: #1A1E21; border-left: 1px solid #DBDBDB;font-size: 12px;font-weight: normal; }.datagrid table tbody .alt td { background: #EBEBEB; color: #1A1E21; }.datagrid table tbody td:first-child { border-left: none; }.datagrid table tbody tr:last-child td { border-bottom: none; }.datagrid table tfoot td div { border-top: 1px solid #8C8C8C;background: #EBEBEB;} .datagrid table tfoot td { padding: 0; font-size: 12px } .datagrid table tfoot td div{ padding: 2px; }.datagrid table tfoot td ul { margin: 0; padding:0; list-style: none; text-align: right; }.datagrid table tfoot  li { display: inline; }.datagrid table tfoot li a { text-decoration: none; display: inline-block;  padding: 2px 8px; margin: 1px;color: #F5F5F5;border: 1px solid #8C8C8C;-webkit-border-radius: 3px; -moz-border-radius: 3px; border-radius: 3px; background:-webkit-gradient( linear, left top, left bottom, color-stop(0.05, #8C8C8C), color-stop(1, #7D7D7D) );background:-moz-linear-gradient( center top, #8C8C8C 5%, #7D7D7D 100% );filter:progid:DXImageTransform.Microsoft.gradient(startColorstr='#8C8C8C', endColorstr='#7D7D7D');background-color:#8C8C8C; }.datagrid table tfoot ul.active, .datagrid table tfoot ul a:hover { text-decoration: none;border-color: #7D7D7D; color: #F5F5F5; background: none; background-color:#8C8C8C;}div.dhtmlx_window_active, div.dhx_modal_cover_dv { position: fixed !important; }\"\n",
      "display(\"text/html\", \"<style>$css</style>\")\n",
      "\n",
      "\n"
     ],
     "language": "python",
     "metadata": {},
     "outputs": [
      {
       "html": [
        "<script type=\"text/javascript\">\n",
        "\n",
        "$( document ).ready(function() {\n",
        "console.log( \"Fixing red boxes\" );\n",
        "$( \".err\" ).css( \"border\", \"0px solid red\" );\n",
        "$( \".err\" ).css( \"border-style\", \"none\" );\n",
        "});\n",
        "\n",
        "</script>"
       ],
       "metadata": {},
       "output_type": "display_data"
      },
      {
       "html": [
        "<style>.datagrid table { border-collapse: collapse; text-align: left; width: 100%; margin:0px auto; } .datagrid {margin:0px auto; font: normal 12px/150% Georgia, Times New Roman, Times, serif; background: #fff; overflow: hidden; border: 1px solid #8C8C8C; }.datagrid table td, .datagrid table th { padding: 4px 10px; }.datagrid table thead th {background:-webkit-gradient( linear, left top, left bottom, color-stop(0.05, #8C8C8C), color-stop(1, #7D7D7D) );background:-moz-linear-gradient( center top, #8C8C8C 5%, #7D7D7D 100% );filter:progid:DXImageTransform.Microsoft.gradient(startColorstr='#8C8C8C', endColorstr='#7D7D7D');background-color:#8C8C8C; color:#FFFFFF; font-size: 13px; font-weight: bold; border-left: 1px solid #A3A3A3; } .datagrid table thead th:first-child { border: none; }.datagrid table tbody td { color: #1A1E21; border-left: 1px solid #DBDBDB;font-size: 12px;font-weight: normal; }.datagrid table tbody .alt td { background: #EBEBEB; color: #1A1E21; }.datagrid table tbody td:first-child { border-left: none; }.datagrid table tbody tr:last-child td { border-bottom: none; }.datagrid table tfoot td div { border-top: 1px solid #8C8C8C;background: #EBEBEB;} .datagrid table tfoot td { padding: 0; font-size: 12px } .datagrid table tfoot td div{ padding: 2px; }.datagrid table tfoot td ul { margin: 0; padding:0; list-style: none; text-align: right; }.datagrid table tfoot  li { display: inline; }.datagrid table tfoot li a { text-decoration: none; display: inline-block;  padding: 2px 8px; margin: 1px;color: #F5F5F5;border: 1px solid #8C8C8C;-webkit-border-radius: 3px; -moz-border-radius: 3px; border-radius: 3px; background:-webkit-gradient( linear, left top, left bottom, color-stop(0.05, #8C8C8C), color-stop(1, #7D7D7D) );background:-moz-linear-gradient( center top, #8C8C8C 5%, #7D7D7D 100% );filter:progid:DXImageTransform.Microsoft.gradient(startColorstr='#8C8C8C', endColorstr='#7D7D7D');background-color:#8C8C8C; }.datagrid table tfoot ul.active, .datagrid table tfoot ul a:hover { text-decoration: none;border-color: #7D7D7D; color: #F5F5F5; background: none; background-color:#8C8C8C;}div.dhtmlx_window_active, div.dhx_modal_cover_dv { position: fixed !important; }</style>"
       ],
       "metadata": {},
       "output_type": "display_data"
      }
     ],
     "prompt_number": 29
    },
    {
     "cell_type": "code",
     "collapsed": false,
     "input": [],
     "language": "python",
     "metadata": {},
     "outputs": [],
     "prompt_number": 30
    }
   ],
   "metadata": {}
  }
 ]
}