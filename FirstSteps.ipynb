{
 "metadata": {
  "language": "Julia",
  "name": "",
  "signature": "sha256:305a04f6826bb66ea0d7f9865c9fe88e748c6be5c3c1be27eda709f38a0bab24"
 },
 "nbformat": 3,
 "nbformat_minor": 0,
 "worksheets": [
  {
   "cells": [
    {
     "cell_type": "code",
     "collapsed": false,
     "input": [
      "## Desiderata\n",
      "## ================\n",
      "## It is the solemn wish of this kanren implementation to:\n",
      "## * Organize itself around a minimalitistic, functional core (like \u00b5Kanren)\n",
      "## * Perform a \"newbie's\" exploration of alternate search strategies (via lists, streams, tasks, ferns)\n",
      "## * Find out why occurs\u2713 is necessary\n",
      "## * Add a persistent data structure implementation of the constraint store (though this is a mere trifle)\n",
      "## * Explore a \"notion\" about threading macros and nice syntax; Other notions about syntax abound\n",
      "\n",
      "## Methodology\n",
      "## =================\n",
      "## The beginning will be rough and sloppy; any elegance will have to be accumulated later.  \n",
      "## This is a notebook, not a library --> Prior definitions will be redefined as we go along, so keep your eyes peeled! \n"
     ],
     "language": "python",
     "metadata": {},
     "outputs": [],
     "prompt_number": 1
    },
    {
     "cell_type": "code",
     "collapsed": false,
     "input": [
      "## First step: a translation to \u00b5Kanren\n",
      "\n",
      "## For now we would like to stick to core Julia datatypes, but, aesthetically, var? = vector? is a bitter pill.\n",
      "## So instead we'll use our own type.  \n",
      "\n",
      "module LilKanren ## it's best to wrap Julia types in a module, otherwise it is very difficult to change your mind\n",
      "    immutable type Var\n",
      "        id::Int\n",
      "    end\n",
      "end \n",
      "LK = LilKanren\n",
      "    "
     ],
     "language": "python",
     "metadata": {},
     "outputs": [
      {
       "metadata": {},
       "output_type": "pyout",
       "prompt_number": 2,
       "text": [
        "LilKanren"
       ]
      }
     ],
     "prompt_number": 2
    },
    {
     "cell_type": "code",
     "collapsed": false,
     "input": [
      "## Also, in case you are new to Julia, the following snippets may be helpful\n",
      "x = LK.Var(0)\n",
      "y = LK.Var(0)\n",
      "\n",
      "@show x==y \n",
      "\n",
      "## multiple dispatch\n",
      "foo(x,y) = \"nope\" ## base case\n",
      "foo(x::LK.Var,y::LK.Var) = \"yes\"\n",
      "foo(x::LK.Var,y) = \"kinda\"\n",
      "foo(x,y::LK.Var) = foo(y,x)\n",
      "\n",
      "@show foo(x,y)\n",
      "@show foo(1,y)\n",
      "@show foo(1,2)\n",
      "\n",
      "## julia allows convenient destructuring of tuples\n",
      "z = (1,2)\n",
      "(a,b) = z\n",
      "## n.b. dear schemer's,  (a,b) means (a . b)\n",
      "\n",
      "nothing  ## to suppress notebook output"
     ],
     "language": "python",
     "metadata": {},
     "outputs": [
      {
       "output_type": "stream",
       "stream": "stdout",
       "text": [
        "x == y => true"
       ]
      },
      {
       "output_type": "stream",
       "stream": "stdout",
       "text": [
        "\n",
        "foo(x,y) => \"yes\"\n",
        "foo(1,y) => \"kinda\"\n",
        "foo(1,2) => \"nope\"\n"
       ]
      }
     ],
     "prompt_number": 3
    },
    {
     "cell_type": "code",
     "collapsed": false,
     "input": [
      "## On with the show, being relatively faithful from now on... \n",
      "\n",
      "## Heaven\n",
      "## ======\n",
      "unify(u, v, s) =  begin\n",
      "    u = walk(u,s)\n",
      "    v = walk(v,s)\n",
      "    unifyTerms(u,v,s)\n",
      "end\n",
      "\n",
      "\n",
      "## Earth\n",
      "## =====\n",
      "## The Church\n",
      "## ----------\n",
      "unifyTerms(u,v,s)  = begin\n",
      "    sn = unifyLeft(u,v,s)\n",
      "    sn == nothing ? unifyLeft(v,u,s) : sn ## symmetrize\n",
      "end\n",
      "## s -- the substitution store\n",
      "const empty_store = ()\n",
      "ext_s(x,v,s) = ((x,v),s)\n",
      "\n",
      "## st -- a (bindings,count) based state \n",
      "const empty_state = ((),1) ## when in Rome (Julia is one's based...) \n",
      "const \u2205 = empty_state\n",
      "const \u221e = empty_state      ## it's a \"glass half full\" sort of thing...\n",
      "                           ## \u2205 constraints \u2261 \u221e possibilities\n",
      "\n",
      "## The State\n",
      "## --------------\n",
      "unifyLeft(u,v,s) = u==v ? s : nothing # base case\n",
      "unifyLeft(u::LK.Var,v,s) =  u==v ? s : ext_s(u,v,s)\n",
      "unifyLeft(u::(Any,Any),v::(Any,Any),s) = begin\n",
      "    (uhead,utail) = u\n",
      "    (vhead,vtail) = v\n",
      "    s = unify(uhead,vhead,s)\n",
      "    s == nothing ? s : unify(utail,vtail,s)\n",
      "end\n",
      "\n",
      "\n",
      "## The Bourgeoisie\n",
      "## ----------------\n",
      "walk(u,s) = u ## base case\n",
      "walk(u::LK.Var,s) = begin\n",
      "    (found,value) = lookup(u,s)\n",
      "    found == :\u2714\ufe0e ? walk(value,s) : u \n",
      "end\n",
      "\n",
      "\n",
      "## And finally, Joe The Plumber\n",
      "## ----------------------------\n",
      "## a pedantic man's assp <-- n.b. non-schemer's, this does not mean something dirty\n",
      "lookup(x,s::()) = (:\u2718,nothing) ## base case\n",
      "lookup(x,s) = begin\n",
      "    (head,rest) = s\n",
      "    (key,value) = head\n",
      "    x == key ? (:\u2714\ufe0e, value) : lookup(x,rest)\n",
      "end\n",
      "\n",
      "second(x) = x[2]\n",
      "\n",
      "\n",
      "## Purgatory -- aka Algebra \n",
      "## ========================\n",
      "equivalent(u,v) = begin\n",
      "    (st) -> begin\n",
      "        (s,count) = st\n",
      "        s = unify(u,v,s)\n",
      "        s == nothing ? mzero : unit((s,count))\n",
      "    end\n",
      "end\n",
      "const \u2261 = equivalent \n",
      "\n",
      "fresh(f::Function) = begin\n",
      "    (st) -> begin\n",
      "        (bindings,count) = st\n",
      "        var = LK.Var(count)\n",
      "        goal = f(var)\n",
      "        st = (bindings,count+1)\n",
      "        goal(st)   \n",
      "    end\n",
      "end\n",
      "\n",
      "disj(g1,g2) = (st) -> mplus(g1(st), g2(st))\n",
      "conj(g1,g2) = (st) -> bind(g1(st), g2)\n",
      "const \u2228 = disj\n",
      "const \u2af7 = disj #this is the picture in my head -- a weave \n",
      "const \u2227 = conj\n",
      "const \u2af8 = conj #this is the picture in my head -- a braid\n",
      "\n",
      "## The Bowels of Hell... \n",
      "## (or Heaven -- the whole thing is just a big snake eating its tail)\n",
      "## ==================================================================\n",
      "const mzero = ()\n",
      "unit(st) = (st,mzero)\n",
      "\n",
      "mplus(strand1::(),strand2) = strand2\n",
      "mplus(strand1::Function,strand2) = () -> mplus(strand2,strand1()) ## braid\n",
      "mplus(strand1::(Any,Any),strand2) = (first(strand1),mplus(second(strand1),strand2))\n",
      "\n",
      "bind(strand::(),g) = mzero\n",
      "bind(strand::Function,g) = () -> bind(strand(),g) \n",
      "bind(strand::(Any,Any),g) = mplus(g(first(strand)), bind(second(strand),g)) ##weave\n",
      "\n",
      "nothing"
     ],
     "language": "python",
     "metadata": {},
     "outputs": [],
     "prompt_number": 4
    },
    {
     "cell_type": "code",
     "collapsed": false,
     "input": [
      "\n",
      "## Ok -- Let's take this puppy out for a spin...\n",
      "\n",
      "## a temporary juliabox wart\n",
      "if Pkg.installed(\"Lazy\") == nothing\n",
      "  Pkg.add(\"Lazy\")\n",
      "end  \n",
      "using Lazy: @>>, @> \n",
      "\n",
      "vars = [LK.Var(i) for i=1:10] ## order up some vars\n",
      "\n",
      "## create a scratch store for testing\n",
      "s = @>> empty_store begin\n",
      "    ext_s(vars[1], 2)\n",
      "    ext_s(vars[2], vars[1])\n",
      "    ext_s(vars[1], 3) #shadows prior binding\n",
      "    ext_s(vars[3], (:\u2746,vars[2]))\n",
      "end\n",
      "@show s\n",
      "\n",
      "println()\n",
      "@show lookup(\"not even close\", s)\n",
      "@show lookup(vars[1], s)\n",
      "@show lookup(vars[2], s)\n",
      "@show lookup(vars[3], s)\n",
      "@show lookup(vars[4], s)\n",
      "\n",
      "nothing"
     ],
     "language": "python",
     "metadata": {},
     "outputs": [
      {
       "output_type": "stream",
       "stream": "stdout",
       "text": [
        "s => ((Var(3),(:\u2746,Var(2))),((Var(1),3),((Var(2),Var(1)),((Var(1),2),()))))"
       ]
      },
      {
       "output_type": "stream",
       "stream": "stdout",
       "text": [
        "\n",
        "\n",
        "lookup(\"not even close\",s) => (:\u2718,nothing)\n",
        "lookup(vars[1],s) => (:\u2714\ufe0e,3)\n",
        "lookup(vars[2],s) => (:\u2714\ufe0e,Var(1))\n",
        "lookup(vars[3],s) => (:\u2714\ufe0e,(:\u2746,Var(2)))\n",
        "lookup(vars[4],s) => (:\u2718,nothing)\n"
       ]
      }
     ],
     "prompt_number": 5
    },
    {
     "cell_type": "code",
     "collapsed": false,
     "input": [
      "@show walk(vars[1],s)\n",
      "@show walk(vars[2],s)\n",
      "@show walk(vars[3],s)\n",
      "@show walk(vars[4],s)\n",
      "@show walk(\"not even close\",s)\n",
      "@show walk((:\u272f,vars[4]),s)\n",
      "\n",
      "\n",
      "nothing"
     ],
     "language": "python",
     "metadata": {},
     "outputs": [
      {
       "output_type": "stream",
       "stream": "stdout",
       "text": [
        "walk(vars[1],s) => 3"
       ]
      },
      {
       "output_type": "stream",
       "stream": "stdout",
       "text": [
        "\n",
        "walk(vars[2],s) => 3\n",
        "walk(vars[3],s) => (:\u2746,Var(2))\n",
        "walk(vars[4],s) => Var(4)\n",
        "walk(\"not even close\",s) => \"not even close\"\n",
        "walk((:\u272f,vars[4]),s) => (:\u272f,Var(4))\n"
       ]
      }
     ],
     "prompt_number": 6
    },
    {
     "cell_type": "code",
     "collapsed": false,
     "input": [
      "## Look, Ma! I can fly!\n",
      "@show unify((:\u2746,vars[4]), vars[3],s)\n",
      "# for clarity\n",
      "println()\n",
      "@show first(unify((:\u2746,vars[4]), vars[3],s))\n",
      "\n",
      "nothing"
     ],
     "language": "python",
     "metadata": {},
     "outputs": [
      {
       "output_type": "stream",
       "stream": "stdout",
       "text": [
        "unify((:\u2746,vars[4]),vars[3],s) => ((Var(4),3),((Var(3),(:\u2746,Var(2))),((Var(1),3),((Var(2),Var(1)),((Var(1),2),())))))"
       ]
      },
      {
       "output_type": "stream",
       "stream": "stdout",
       "text": [
        "\n",
        "\n",
        "first(unify((:\u2746,vars[4]),vars[3],s)) => (Var(4),3)\n"
       ]
      }
     ],
     "prompt_number": 7
    },
    {
     "cell_type": "code",
     "collapsed": false,
     "input": [
      "## climbing higher...\n",
      "\n",
      "fresh() do q\n",
      "   q \u2261 :\u2663\n",
      "end (\u221e)\n",
      "    "
     ],
     "language": "python",
     "metadata": {},
     "outputs": [
      {
       "metadata": {},
       "output_type": "pyout",
       "prompt_number": 8,
       "text": [
        "((((Var(1),:\u2663),()),2),())"
       ]
      }
     ],
     "prompt_number": 8
    },
    {
     "cell_type": "code",
     "collapsed": false,
     "input": [
      "## and little higher...\n",
      "\n",
      "\u2af8(\n",
      "fresh() do a\n",
      "   a \u2261 :\u2663\n",
      "end,\n",
      "\n",
      "fresh() do b\n",
      "   \u2af7(\n",
      "     b \u2261 :\u2660,\n",
      "     :\u2661 \u2261 b \n",
      "    ) \n",
      "end\n",
      ")(\u221e)\n",
      "\n"
     ],
     "language": "python",
     "metadata": {},
     "outputs": [
      {
       "metadata": {},
       "output_type": "pyout",
       "prompt_number": 9,
       "text": [
        "((((Var(2),:\u2660),((Var(1),:\u2663),())),3),((((Var(2),:\u2661),((Var(1),:\u2663),())),3),()))"
       ]
      }
     ],
     "prompt_number": 9
    },
    {
     "cell_type": "code",
     "collapsed": false,
     "input": [
      "## (I think) I like the above notation, but you may prefer\n",
      "\n",
      "\u221e |> fresh(a-> a \u2261 :\u2663) \u2227 fresh(b-> (b \u2261 :\u2660) \u2228 (:\u2661 \u2261 b) )"
     ],
     "language": "python",
     "metadata": {},
     "outputs": [
      {
       "metadata": {},
       "output_type": "pyout",
       "prompt_number": 10,
       "text": [
        "((((Var(2),:\u2660),((Var(1),:\u2663),())),3),((((Var(2),:\u2661),((Var(1),:\u2663),())),3),()))"
       ]
      }
     ],
     "prompt_number": 10
    },
    {
     "cell_type": "code",
     "collapsed": false,
     "input": [
      "## \u266a Pump up the jam \u266a\n",
      "## let's make a few new toys\n",
      "\n",
      "fresh(f::Function,n) = begin\n",
      "    (sc) -> begin\n",
      "        (bindings,count) = sc\n",
      "        vars = [LK.Var(i) for i=count:count+(n-1)]\n",
      "        goal = f(vars...)\n",
      "        sc = (bindings,count+n)\n",
      "        goal(sc)   \n",
      "    end\n",
      "end\n",
      "\n",
      "fresh(3) do a,b,c\n",
      "   \u2af8(\n",
      "   (c,:\u2660) \u2261 (((a,b),:\u2663),:\u2660),\n",
      "   \u2af8(\n",
      "   (:\u2661,a) \u2261 b,\n",
      "   a \u2261 :\u2663\n",
      "   ))\n",
      "end (\u221e)\n"
     ],
     "language": "python",
     "metadata": {},
     "outputs": [
      {
       "metadata": {},
       "output_type": "pyout",
       "prompt_number": 11,
       "text": [
        "((((Var(1),:\u2663),((Var(2),(:\u2661,Var(1))),((Var(3),((Var(1),Var(2)),:\u2663)),()))),4),())"
       ]
      }
     ],
     "prompt_number": 11
    },
    {
     "cell_type": "code",
     "collapsed": false,
     "input": [
      "fresh(3) do a,b,c\n",
      "   \u2af8(\n",
      "    (c,:\u2660) \u2261 (((a,b), :\u2663), :\u2663), # <-- look here\n",
      "   \u2af8(\n",
      "   (:\u2661,a) \u2261 b,\n",
      "   a \u2261 :\u2663\n",
      "   ))\n",
      "end (\u221e)"
     ],
     "language": "python",
     "metadata": {},
     "outputs": [
      {
       "metadata": {},
       "output_type": "pyout",
       "prompt_number": 12,
       "text": [
        "()"
       ]
      }
     ],
     "prompt_number": 12
    },
    {
     "cell_type": "code",
     "collapsed": false,
     "input": [
      "fresh(3) do a,b,c\n",
      "   \u2af8(\n",
      "    (c, a) \u2261 (((a,b),:\u2663),:\u2663), # <-- still look here\n",
      "   \u2af8(\n",
      "   (:\u2661,a) \u2261 b,\n",
      "   a \u2261 :\u2663\n",
      "   ))\n",
      "end (\u221e)"
     ],
     "language": "python",
     "metadata": {},
     "outputs": [
      {
       "metadata": {},
       "output_type": "pyout",
       "prompt_number": 13,
       "text": [
        "((((Var(2),(:\u2661,Var(1))),((Var(1),:\u2663),((Var(3),((Var(1),Var(2)),:\u2663)),()))),4),())"
       ]
      }
     ],
     "prompt_number": 13
    },
    {
     "cell_type": "code",
     "collapsed": false,
     "input": [
      "## variadic paradise is one of our many goals\n",
      "## but for now this will suffice\n",
      "## n.b. This is not a nanny-state. You shall do your own \u03b7\u207b\u00b9  \n",
      "## but see below for some gov't approved options\n",
      "conj(goals...) = begin \n",
      "    conj(goals[1], conj(goals[2:end]...)) # relies on Julia's dispatch being smart re: splats\n",
      "end\n",
      "\n",
      "disj(goals...) = begin \n",
      "    disj(goals[1], disj(goals[2:end]...)) \n",
      "end\n",
      "\n",
      "\n",
      "\n",
      "fresh(3) do a,b,c\n",
      "   \u2af8(\n",
      "   (c,:\u2663) \u2261 (((a,b),:\u2663), a),\n",
      "   (:\u2661,a) \u2261 b,\n",
      "   a \u2261 :\u2663\n",
      "   )\n",
      "end (\u221e)"
     ],
     "language": "python",
     "metadata": {},
     "outputs": [
      {
       "metadata": {},
       "output_type": "pyout",
       "prompt_number": 14,
       "text": [
        "((((Var(2),(:\u2661,Var(1))),((Var(1),:\u2663),((Var(3),((Var(1),Var(2)),:\u2663)),()))),4),())"
       ]
      }
     ],
     "prompt_number": 14
    },
    {
     "cell_type": "code",
     "collapsed": false,
     "input": [
      "## Our first relation!\n",
      "## And one of our first serious transgressions: \n",
      "## the output will come first --> my cult is organized around prophecies of variadic paradise\n",
      "## But the cute \u1d52 at the end isn't going anywhere!  \n",
      "flip\u1d52(o,tuple) = begin\n",
      "    fresh(2) do a, b\n",
      "        \u2af8(\n",
      "            (a,b) \u2261 tuple,\n",
      "            o \u2261 (b,a)\n",
      "        )\n",
      "    end\n",
      "end\n",
      "\n",
      "fresh(2) do q,r\n",
      "   flip\u1d52((q,r), (:\u2661, :\u2663)) \n",
      "end (\u221e)"
     ],
     "language": "python",
     "metadata": {},
     "outputs": [
      {
       "metadata": {},
       "output_type": "pyout",
       "prompt_number": 15,
       "text": [
        "((((Var(2),:\u2661),((Var(1),:\u2663),((Var(4),:\u2663),((Var(3),:\u2661),())))),5),())"
       ]
      }
     ],
     "prompt_number": 15
    },
    {
     "cell_type": "code",
     "collapsed": false,
     "input": [
      "## on to divergence\n",
      "\n",
      "## a shocking revelation (we are definitely not in Kansas anymore)\n",
      "## In Julia, we require the following helper\n",
      "list() = ()\n",
      "list(x...) = (x[1], list(x[2:end]...))\n",
      "const \u2740 = list  # There should be more flowers in CS\n",
      "const \u22ef = list  # For when you are feeling serious \n",
      "\n",
      "@show \u2740(1,2,3,4) \n",
      "\n",
      "nothing"
     ],
     "language": "python",
     "metadata": {},
     "outputs": [
      {
       "output_type": "stream",
       "stream": "stdout",
       "text": [
        "\u2740(1,2,3,4) => (1,(2,(3,(4,()))))"
       ]
      },
      {
       "output_type": "stream",
       "stream": "stdout",
       "text": [
        "\n"
       ]
      }
     ],
     "prompt_number": 16
    },
    {
     "cell_type": "code",
     "collapsed": false,
     "input": [
      "## grant ourselves a magic power\n",
      "zzz(goal) = (sc) -> () -> goal(sc)\n",
      "zzz(goals...) = begin\n",
      "    \u03b7\u207b\u00b9(goal) = (sc) -> () -> goal(sc)\n",
      "    [\u03b7\u207b\u00b9(goal) for goal in goals]\n",
      "end\n",
      "const \u263d = zzz # it's a half moon\n",
      "\n",
      "nothing"
     ],
     "language": "python",
     "metadata": {},
     "outputs": [],
     "prompt_number": 17
    },
    {
     "cell_type": "code",
     "collapsed": false,
     "input": [
      "## Now that we have the power to put the dragon to sleep, we need a way to wake it up,\n",
      "## but not this way!\n",
      "allIn(x)=x                    ## As in Texas Holdem'\n",
      "allIn(x::Function)=allIn(x()) \n",
      "\n",
      "## lilinjn is not Navajo; but if this notebook were a tapestry,\n",
      "## 'allIn' would be his \"ch\u2019ih\u00f3n\u00edt\u2019i\" -- use 'allIn' maybe never ever\n",
      "\n",
      "## For now we will content ourselves with the following hand tools:\n",
      "step(x,n=1)=x\n",
      "step(x::Function,n=1) = begin\n",
      "    ## In my heart, Julia is a scheme; however, I don't think it TCO's\n",
      "    while(typeof(x) <: Function && n > 0)\n",
      "        x = x()\n",
      "        n -= 1\n",
      "    end\n",
      "    x\n",
      "end\n",
      "\n",
      "## Something sweet for the long journey ahead\n",
      "stepInTime(x,t)=x  ## Just like Bert\n",
      "stepInTime(x,t) = begin \n",
      "    start = Base.time_ns()\n",
      "    current = start\n",
      "    nanos = t*1_000_000_000\n",
      "    while(typeof(x) <: Function && current-start < nanos)\n",
      "        x = x()\n",
      "        current = Base.time_ns()\n",
      "    end\n",
      "    x\n",
      "end\n",
      "\n",
      "\n",
      "nothing"
     ],
     "language": "python",
     "metadata": {},
     "outputs": [],
     "prompt_number": 18
    },
    {
     "cell_type": "code",
     "collapsed": false,
     "input": [
      "@show step(:\u2661)\n",
      "\n",
      "myLovely\u2661Thunks = () -> () -> () -> () -> :\u2606\n",
      "@show step(myLovely\u2661Thunks,  2) ## \u266a make you luv drunk \u266a\n",
      "@show step(myLovely\u2661Thunks, 10) ## \u266a off my thunks \u266a\n",
      "\n",
      "\u03b7s = 1e-9\n",
      "s = 1\n",
      "@show stepInTime(myLovely\u2661Thunks, 1\u03b7s)\n",
      "@show stepInTime(myLovely\u2661Thunks, 1s)\n",
      "\n",
      "nothing"
     ],
     "language": "python",
     "metadata": {},
     "outputs": [
      {
       "output_type": "stream",
       "stream": "stdout",
       "text": [
        "step(:\u2661) => :\u2661"
       ]
      },
      {
       "output_type": "stream",
       "stream": "stdout",
       "text": [
        "\n",
        "step(myLovely\u2661Thunks,2) => (anonymous function)\n",
        "step(myLovely\u2661Thunks,10) => :\u2606\n",
        "stepInTime(myLovely\u2661Thunks,1\u03b7s) => (anonymous function)\n",
        "stepInTime(myLovely\u2661Thunks,1s) => :\u2606\n"
       ]
      }
     ],
     "prompt_number": 19
    },
    {
     "cell_type": "code",
     "collapsed": false,
     "input": [
      "## rest your weary eyes, little dragon\n",
      "res = \u221e |> fresh(q-> \u263d(q \u2261 :\u2660) \u2228 \u263d(:\u2661 \u2261 q) )\n",
      "@show res\n",
      "@show res=step(res)\n",
      "\n",
      "## wakeup!\n",
      "@show res=step(res)\n",
      "nothing"
     ],
     "language": "python",
     "metadata": {},
     "outputs": [
      {
       "output_type": "stream",
       "stream": "stdout",
       "text": [
        "res => (anonymous function)"
       ]
      },
      {
       "output_type": "stream",
       "stream": "stdout",
       "text": [
        "\n",
        "res = step(res) => (anonymous function)\n",
        "res = step(res) => ((((Var(1),:\u2660),()),2),((((Var(1),:\u2661),()),2),()))\n"
       ]
      }
     ],
     "prompt_number": 20
    },
    {
     "cell_type": "code",
     "collapsed": false,
     "input": [
      "res = \u221e |> fresh() do q\n",
      "    \u2af7(\u263d(q \u2261 :\u2660,\n",
      "         :\u2661 \u2261 q)...) ## this is how you do variadic zzz\n",
      "end\n",
      "@show res\n",
      "@show res=step(res)\n",
      "@show res=step(res)\n",
      "nothing"
     ],
     "language": "python",
     "metadata": {},
     "outputs": [
      {
       "output_type": "stream",
       "stream": "stdout",
       "text": [
        "res => (anonymous function)"
       ]
      },
      {
       "output_type": "stream",
       "stream": "stdout",
       "text": [
        "\n",
        "res = step(res) => (anonymous function)\n",
        "res = step(res) => ((((Var(1),:\u2660),()),2),((((Var(1),:\u2661),()),2),()))\n"
       ]
      }
     ],
     "prompt_number": 21
    },
    {
     "cell_type": "code",
     "collapsed": false,
     "input": [
      "\n",
      "\n",
      "\n",
      "\n",
      "\n",
      "\n",
      "\n",
      "\n",
      "\n",
      "\n",
      "\n"
     ],
     "language": "python",
     "metadata": {},
     "outputs": []
    },
    {
     "cell_type": "code",
     "collapsed": false,
     "input": [
      "## Hackety-Hack\n",
      "## Some temporary work-arounds related to unresolved IJulia/juliabox warts\n",
      "\n",
      "## Most likely, this cell nevers needs tobe evaluated again\n",
      "## It works by injecting mutant DNA (html) into the sheet which is then saved for posterity\n",
      "\n",
      "\n",
      "##nuke the red box around unicode chars\n",
      "display(\"text/html\", \n",
      "\"\"\"\n",
      "<script type=\"text/javascript\">\n",
      "\n",
      "\\$( document ).ready(function() {\n",
      "console.log( \"Fixing red boxes\" );\n",
      "\\$( \".err\" ).css( \"border\", \"0px solid red\" );\n",
      "\\$( \".err\" ).css( \"border-style\", \"none\" );\n",
      "});\n",
      "\n",
      "</script>\"\"\"\n",
      ")\n"
     ],
     "language": "python",
     "metadata": {},
     "outputs": [
      {
       "html": [
        "<script type=\"text/javascript\">\n",
        "\n",
        "$( document ).ready(function() {\n",
        "console.log( \"Fixing red boxes\" );\n",
        "$( \".err\" ).css( \"border\", \"0px solid red\" );\n",
        "$( \".err\" ).css( \"border-style\", \"none\" );\n",
        "});\n",
        "\n",
        "</script>"
       ],
       "metadata": {},
       "output_type": "display_data"
      }
     ],
     "prompt_number": 39
    }
   ],
   "metadata": {}
  }
 ]
}