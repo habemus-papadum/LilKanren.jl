{
 "metadata": {
  "language": "Julia",
  "name": "",
  "signature": "sha256:9566d41a0b6331d2cc00bbf9bb2468ead0d0a838a9b03f57bb2e2f1c1e48d2a4"
 },
 "nbformat": 3,
 "nbformat_minor": 0,
 "worksheets": [
  {
   "cells": [
    {
     "cell_type": "code",
     "collapsed": false,
     "input": [
      "## Desiderata\n",
      "## ================\n",
      "## It is the solemn wish of this kanren implementation to:\n",
      "## * Organize itself around a minimalitistic, functional core (like \u00b5Kanren)\n",
      "## * Perform a \"newbie's\" exploration of alternate search strategies (via lists, streams, tasks, ferns)\n",
      "## * Find out why occurs\u2713 is necessary\n",
      "## * Add a persistent data structure implementation of the constraint store (though this is a mere trifle)\n",
      "## * Explore a \"notion\" about threading macros and nice syntax; Other notions about syntax abound\n",
      "\n",
      "## Methodology\n",
      "## =================\n",
      "## The beginning will be rough and sloppy; any elegance will have to be accumulated later.  \n",
      "## This is a notebook, not a library --> Prior definitions will be redefined as we go along, so keep your eyes peeled! \n"
     ],
     "language": "python",
     "metadata": {},
     "outputs": [],
     "prompt_number": 2
    },
    {
     "cell_type": "code",
     "collapsed": false,
     "input": [
      "## First step: a translation to \u00b5Kanren\n",
      "\n",
      "## For now we would like to stick to core Julia datatypes, but, aesthetically, var? = vector? is a bitter pill.\n",
      "## So instead we'll use our own type just this once.  \n",
      "\n",
      "## it's best to wrap Julia types in a module, otherwise it is very difficult to change your mind\n",
      "module LilKanren \n",
      "    immutable type Var\n",
      "        id::Int\n",
      "    end\n",
      "end \n",
      "LK = LilKanren\n",
      "    "
     ],
     "language": "python",
     "metadata": {},
     "outputs": [
      {
       "metadata": {},
       "output_type": "pyout",
       "prompt_number": 3,
       "text": [
        "LilKanren"
       ]
      }
     ],
     "prompt_number": 3
    },
    {
     "cell_type": "code",
     "collapsed": false,
     "input": [
      "## Also, in case you are new to Julia, the following snippets may be helpful\n",
      "x = LK.Var(0)\n",
      "y = LK.Var(0)\n",
      "\n",
      "@show x==y\n",
      "@show x===y  #egal\n",
      "\n",
      "## multiple dispatch\n",
      "foo(x,y) = \"nope\" ## base case\n",
      "foo(x::LK.Var,y::LK.Var) = \"yes\"\n",
      "foo(x::LK.Var,y) = \"kinda\"\n",
      "foo(x,y::LK.Var) = foo(y,x)\n",
      "\n",
      "@show foo(x,y)\n",
      "@show foo(1,y)\n",
      "@show foo(1,2)\n",
      "\n",
      "## julia allows for convenient destructuring of tuples\n",
      "z = (1,(2,3))\n",
      "(\u03b1,(\u03b2,\u03b3)) = z\n",
      "## n.b. dear schemer's,  (a,b) means (a . b), and there is\n",
      "## no primacy of lists in Julia\n",
      "\n",
      "nothing  ## to suppress notebook output"
     ],
     "language": "python",
     "metadata": {},
     "outputs": [
      {
       "output_type": "stream",
       "stream": "stdout",
       "text": [
        "x == y => true"
       ]
      },
      {
       "output_type": "stream",
       "stream": "stdout",
       "text": [
        "\n",
        "x === y => true\n",
        "foo(x,y) => \"yes\"\n",
        "foo(1,y) => \"kinda\"\n",
        "foo(1,2) => \"nope\"\n"
       ]
      }
     ],
     "prompt_number": 4
    },
    {
     "cell_type": "code",
     "collapsed": false,
     "input": [
      "## On with the show, being relatively faithful from now on... \n",
      "\n",
      "## Heaven\n",
      "## ======\n",
      "unify(u, v, s) =  begin\n",
      "    u = walk(u,s)\n",
      "    v = walk(v,s)\n",
      "    unifyTerms(u,v,s)\n",
      "end\n",
      "\n",
      "\n",
      "## Earth\n",
      "## =====\n",
      "## The Church\n",
      "## ----------\n",
      "unifyTerms(u,v,s)  = begin\n",
      "    sn = unifyLeft(u,v,s)\n",
      "    sn == nothing ? unifyLeft(v,u,s) : sn ## symmetrize\n",
      "end\n",
      "## s -- the substitution store\n",
      "const empty_store = ()\n",
      "ext_s(x,v,s) = ((x,v),s)\n",
      "\n",
      "## st -- a (bindings,count) based state \n",
      "const empty_state = (empty_store,1) ## when in Rome (Julia is one's based...) \n",
      "const \u2205 = empty_state\n",
      "const \u221e = empty_state      ## it's a \"glass half full\" sort of thing...\n",
      "                           ## \u2205 constraints \u2261 \u221e possibilities\n",
      "\n",
      "## The State\n",
      "## --------------\n",
      "unifyLeft(u,v,s) = u===v ? s : nothing # base case\n",
      "unifyLeft(u::LK.Var,v,s) =  u==v ? s : ext_s(u,v,s)\n",
      "unifyLeft(u::(Any,Any),v::(Any,Any),s) = begin\n",
      "    (uhead,utail) = u\n",
      "    (vhead,vtail) = v\n",
      "    s = unify(uhead,vhead,s)\n",
      "    s == nothing ? s : unify(utail,vtail,s)\n",
      "end\n",
      "\n",
      "\n",
      "## The Bourgeoisie\n",
      "## ----------------\n",
      "walk(u,s) = u ## base case\n",
      "walk(u::LK.Var,s) = begin\n",
      "    (found,value) = lookup(u,s)\n",
      "    found == :\u2714\ufe0e ? walk(value,s) : u \n",
      "end\n",
      "\n",
      "\n",
      "## And finally, Joe The Plumber\n",
      "## ----------------------------\n",
      "## a pedantic man's assp <-- n.b. non-schemer's, this does not mean something dirty\n",
      "lookup(x,s::()) = (:\u2718,nothing) ## base case\n",
      "lookup(x,s) = begin\n",
      "    (head,rest) = s\n",
      "    (key,value) = head\n",
      "    x == key ? (:\u2714\ufe0e, value) : lookup(x,rest)\n",
      "end\n",
      "\n",
      "second(x) = x[2]\n",
      "\n",
      "\n",
      "## Purgatory -- aka Algebra \n",
      "## ========================\n",
      "equivalent(u,v) = begin\n",
      "    (st) -> begin\n",
      "        (s,count) = st\n",
      "        s = unify(u,v,s)\n",
      "        s == nothing ? mzero : unit((s,count))\n",
      "    end\n",
      "end\n",
      "const \u2261 = equivalent \n",
      "\n",
      "fresh(f::Function) = begin\n",
      "    (st) -> begin\n",
      "        (bindings,count) = st\n",
      "        var = LK.Var(count)\n",
      "        goal = f(var)\n",
      "        st = (bindings,count+1)\n",
      "        goal(st)   \n",
      "    end\n",
      "end\n",
      "\n",
      "disj(g1,g2) = (st) -> mplus(g1(st), g2(st))\n",
      "conj(g1,g2) = (st) -> bind(g1(st), g2)\n",
      "const \u2228 = disj\n",
      "const \u2af7 = disj #this is the picture in my head -- a weave \n",
      "const \u2227 = conj\n",
      "const \u2af8 = conj #this is the picture in my head -- a braid\n",
      "\n",
      "## The Bowels of Hell... \n",
      "## (or Heaven -- the whole thing is just a big snake eating its tail)\n",
      "## ==================================================================\n",
      "const mzero = ()\n",
      "unit(st) = (st,mzero)\n",
      "\n",
      "mplus(strand1::(),strand2) = strand2\n",
      "mplus(strand1::Function,strand2) = () -> mplus(strand2,strand1()) ## braid\n",
      "mplus(strand1::(Any,Any),strand2) = (first(strand1),mplus(second(strand1),strand2))\n",
      "\n",
      "bind(strand::(),g) = mzero\n",
      "bind(strand::Function,g) = () -> bind(strand(),g) \n",
      "bind(strand::(Any,Any),g) = mplus(g(first(strand)), bind(second(strand),g)) ##weave\n",
      "\n",
      "nothing"
     ],
     "language": "python",
     "metadata": {},
     "outputs": [],
     "prompt_number": 5
    },
    {
     "cell_type": "code",
     "collapsed": false,
     "input": [
      "\n",
      "## Ok -- Let's take this puppy out for a spin...\n",
      "\n",
      "## a temporary juliabox wart\n",
      "if Pkg.installed(\"Lazy\") == nothing\n",
      "  Pkg.add(\"Lazy\")\n",
      "end  \n",
      "using Lazy: @>>, @> \n",
      "\n",
      "vars = [LK.Var(i) for i=1:10] ## order up some vars\n",
      "\n",
      "## create a scratch store for testing\n",
      "s = @>> empty_store begin\n",
      "    ext_s(vars[1], 2)\n",
      "    ext_s(vars[2], vars[1])\n",
      "    ext_s(vars[1], 3) #shadows prior binding\n",
      "    ext_s(vars[3], (:\u2746,vars[2]))\n",
      "end\n",
      "@show s\n",
      "\n",
      "println()\n",
      "@show lookup(\"not even close\", s)\n",
      "@show lookup(vars[1], s)\n",
      "@show lookup(vars[2], s)\n",
      "@show lookup(vars[3], s)\n",
      "@show lookup(vars[4], s)\n",
      "\n",
      "nothing"
     ],
     "language": "python",
     "metadata": {},
     "outputs": [
      {
       "output_type": "stream",
       "stream": "stdout",
       "text": [
        "s => "
       ]
      },
      {
       "output_type": "stream",
       "stream": "stdout",
       "text": [
        "((Var(3),(:\u2746,Var(2))),((Var(1),3),((Var(2),Var(1)),((Var(1),2),()))))\n",
        "\n",
        "lookup(\"not even close\",s) => (:\u2718,nothing)\n",
        "lookup(vars[1],s) => (:\u2714\ufe0e,3)\n",
        "lookup(vars[2],s) => (:\u2714\ufe0e,Var(1))\n",
        "lookup(vars[3],s) => (:\u2714\ufe0e,(:\u2746,Var(2)))\n",
        "lookup(vars[4],s) => (:\u2718,nothing)\n"
       ]
      }
     ],
     "prompt_number": 6
    },
    {
     "cell_type": "code",
     "collapsed": false,
     "input": [
      "@show walk(vars[1],s)\n",
      "@show walk(vars[2],s)\n",
      "@show walk(vars[3],s)\n",
      "@show walk(vars[4],s)\n",
      "@show walk(\"not even close\",s)\n",
      "@show walk((:\u272f,vars[4]),s)\n",
      "\n",
      "\n",
      "nothing"
     ],
     "language": "python",
     "metadata": {},
     "outputs": [
      {
       "output_type": "stream",
       "stream": "stdout",
       "text": [
        "walk(vars[1],s) => 3\n",
        "walk(vars[2],s) => 3\n",
        "walk(vars[3],s) => (:\u2746,Var(2))\n",
        "walk(vars[4],s) => Var(4)\n",
        "walk(\"not even close\",s) => \"not even close\"\n",
        "walk((:\u272f,vars[4]),s) => (:\u272f,Var(4))\n"
       ]
      }
     ],
     "prompt_number": 7
    },
    {
     "cell_type": "code",
     "collapsed": false,
     "input": [
      "## Look, Ma! I can fly!\n",
      "@show unify((:\u2746,vars[4]), vars[3],s)\n",
      "# for clarity\n",
      "println()\n",
      "@show first(unify((:\u2746,vars[4]), vars[3],s))\n",
      "\n",
      "## That's nice, sweetie.  \n",
      "\n",
      "nothing"
     ],
     "language": "python",
     "metadata": {},
     "outputs": [
      {
       "output_type": "stream",
       "stream": "stdout",
       "text": [
        "unify((:\u2746,vars[4]),vars[3],s) => "
       ]
      },
      {
       "output_type": "stream",
       "stream": "stdout",
       "text": [
        "((Var(4),3),((Var(3),(:\u2746,Var(2))),((Var(1),3),((Var(2),Var(1)),((Var(1),2),())))))\n",
        "\n",
        "first(unify((:\u2746,vars[4]),vars[3],s)) => (Var(4),3)\n"
       ]
      }
     ],
     "prompt_number": 8
    },
    {
     "cell_type": "code",
     "collapsed": false,
     "input": [
      "## Reassured by Mother's kind encouragement, we try climbing higher...\n",
      "\n",
      "fresh() do q\n",
      "   q \u2261 :\u2663\n",
      "end (\u221e)\n",
      "    "
     ],
     "language": "python",
     "metadata": {},
     "outputs": [
      {
       "metadata": {},
       "output_type": "pyout",
       "prompt_number": 9,
       "text": [
        "((((Var(1),:\u2663),()),2),())"
       ]
      }
     ],
     "prompt_number": 9
    },
    {
     "cell_type": "code",
     "collapsed": false,
     "input": [
      "## and little higher...\n",
      "\n",
      "\u2af8(\n",
      "fresh() do a\n",
      "   a \u2261 :\u2663\n",
      "end,\n",
      "\n",
      "fresh() do b\n",
      "   \u2af7(\n",
      "     b \u2261 :\u2660,\n",
      "     :\u2661 \u2261 b \n",
      "    ) \n",
      "end\n",
      ")(\u221e)\n",
      "\n"
     ],
     "language": "python",
     "metadata": {},
     "outputs": [
      {
       "metadata": {},
       "output_type": "pyout",
       "prompt_number": 10,
       "text": [
        "((((Var(2),:\u2660),((Var(1),:\u2663),())),3),((((Var(2),:\u2661),((Var(1),:\u2663),())),3),()))"
       ]
      }
     ],
     "prompt_number": 10
    },
    {
     "cell_type": "code",
     "collapsed": false,
     "input": [
      "## (I think) I like the above notation, but you may prefer:\n",
      "\n",
      "\u221e |> fresh(a-> a \u2261 :\u2663) \u2227 fresh(b-> (b \u2261 :\u2660) \u2228 (:\u2661 \u2261 b) )"
     ],
     "language": "python",
     "metadata": {},
     "outputs": [
      {
       "metadata": {},
       "output_type": "pyout",
       "prompt_number": 11,
       "text": [
        "((((Var(2),:\u2660),((Var(1),:\u2663),())),3),((((Var(2),:\u2661),((Var(1),:\u2663),())),3),()))"
       ]
      }
     ],
     "prompt_number": 11
    },
    {
     "cell_type": "code",
     "collapsed": false,
     "input": [
      "## \u266a Pump up the jam \u266a\n",
      "## let's make a few new toys\n",
      "\n",
      "fresh(f::Function,n) = begin\n",
      "    (sc) -> begin\n",
      "        (bindings,count) = sc\n",
      "        vars = [LK.Var(i) for i=count:count+(n-1)]\n",
      "        goal = f(vars...)\n",
      "        sc = (bindings,count+n)\n",
      "        goal(sc)   \n",
      "    end\n",
      "end\n",
      "\n",
      "fresh(3) do a,b,c\n",
      "   \u2af8(\n",
      "   (c,:\u2660) \u2261 (((a,b),:\u2663),:\u2660),\n",
      "   \u2af8(\n",
      "   (:\u2661,a) \u2261 b,\n",
      "   a \u2261 :\u2663\n",
      "   ))\n",
      "end (\u221e)\n"
     ],
     "language": "python",
     "metadata": {},
     "outputs": [
      {
       "metadata": {},
       "output_type": "pyout",
       "prompt_number": 12,
       "text": [
        "((((Var(1),:\u2663),((Var(2),(:\u2661,Var(1))),((Var(3),((Var(1),Var(2)),:\u2663)),()))),4),())"
       ]
      }
     ],
     "prompt_number": 12
    },
    {
     "cell_type": "code",
     "collapsed": false,
     "input": [
      "fresh(3) do a,b,c\n",
      "   \u2af8(\n",
      "    (c,:\u2660) \u2261 (((a,b), :\u2663), :\u2663), # <-- look here\n",
      "   \u2af8(\n",
      "   (:\u2661,a) \u2261 b,\n",
      "   a \u2261 :\u2663\n",
      "   ))\n",
      "end (\u221e)"
     ],
     "language": "python",
     "metadata": {},
     "outputs": [
      {
       "metadata": {},
       "output_type": "pyout",
       "prompt_number": 13,
       "text": [
        "()"
       ]
      }
     ],
     "prompt_number": 13
    },
    {
     "cell_type": "code",
     "collapsed": false,
     "input": [
      "fresh(3) do a,b,c\n",
      "   \u2af8(\n",
      "    (c, a) \u2261 (((a,b),:\u2663),:\u2663), # <-- still look here\n",
      "   \u2af8(\n",
      "   (:\u2661,a) \u2261 b,\n",
      "   a \u2261 :\u2663\n",
      "   ))\n",
      "end (\u221e)"
     ],
     "language": "python",
     "metadata": {},
     "outputs": [
      {
       "metadata": {},
       "output_type": "pyout",
       "prompt_number": 14,
       "text": [
        "((((Var(2),(:\u2661,Var(1))),((Var(1),:\u2663),((Var(3),((Var(1),Var(2)),:\u2663)),()))),4),())"
       ]
      }
     ],
     "prompt_number": 14
    },
    {
     "cell_type": "code",
     "collapsed": false,
     "input": [
      "## variadic paradise is one of our many goals\n",
      "## but for now this will suffice\n",
      "## n.b. This is not a nanny-state. You shall do your own \u03b7\u207b\u00b9.  \n",
      "## but see below for some gov't approved options\n",
      "conj(goals...) = begin \n",
      "    conj(goals[1], conj(goals[2:end]...)) # relies on Julia's dispatch being smart re: splats\n",
      "end\n",
      "\n",
      "disj(goals...) = begin \n",
      "    disj(goals[1], disj(goals[2:end]...)) \n",
      "end\n",
      "\n",
      "\n",
      "\n",
      "fresh(3) do a,b,c\n",
      "   \u2af8(\n",
      "   (c,:\u2663) \u2261 (((a,b),:\u2663), a),\n",
      "   (:\u2661,a) \u2261 b,\n",
      "   a \u2261 :\u2663\n",
      "   )\n",
      "end (\u221e)\n",
      "\n"
     ],
     "language": "python",
     "metadata": {},
     "outputs": [
      {
       "metadata": {},
       "output_type": "pyout",
       "prompt_number": 15,
       "text": [
        "((((Var(2),(:\u2661,Var(1))),((Var(1),:\u2663),((Var(3),((Var(1),Var(2)),:\u2663)),()))),4),())"
       ]
      }
     ],
     "prompt_number": 15
    },
    {
     "cell_type": "code",
     "collapsed": false,
     "input": [
      "## Our first relation!\n",
      "## And one of our first serious transgressions: \n",
      "## the output will come first --> my cult is organized around prophecies of variadic paradise\n",
      "## But the cute \u1d52 at the end isn't going anywhere!  \n",
      "flip\u1d52(o,tuple) = begin\n",
      "    fresh(2) do a, b\n",
      "        \u2af8(\n",
      "            (a,b) \u2261 tuple,\n",
      "            o \u2261 (b,a)\n",
      "        )\n",
      "    end\n",
      "end\n",
      "\n",
      "fresh(2) do q,r\n",
      "   flip\u1d52((q,r), (:\u2661, :\u2663)) \n",
      "end (\u221e)"
     ],
     "language": "python",
     "metadata": {},
     "outputs": [
      {
       "metadata": {},
       "output_type": "pyout",
       "prompt_number": 16,
       "text": [
        "((((Var(2),:\u2661),((Var(1),:\u2663),((Var(4),:\u2663),((Var(3),:\u2661),())))),5),())"
       ]
      }
     ],
     "prompt_number": 16
    },
    {
     "cell_type": "code",
     "collapsed": false,
     "input": [
      "## On to divergence\n",
      "\n",
      "## But first, in Julia, we require the following helper\n",
      "list() = ()\n",
      "list(x...) = (x[1], list(x[2:end]...))\n",
      "const \u2740 = list  # There should be more flowers in CS\n",
      "\n",
      "@show \u2740(1,2,3,4) \n",
      "\n",
      "nothing"
     ],
     "language": "python",
     "metadata": {},
     "outputs": [
      {
       "output_type": "stream",
       "stream": "stdout",
       "text": [
        "\u2740(1,2,3,4) => (1,(2,(3,(4,()))))"
       ]
      },
      {
       "output_type": "stream",
       "stream": "stdout",
       "text": [
        "\n"
       ]
      }
     ],
     "prompt_number": 17
    },
    {
     "cell_type": "code",
     "collapsed": false,
     "input": [
      "## grant ourselves a magic power\n",
      "\n",
      "# DRAGON, SLEEP!\n",
      "\u03b7\u207b\u00b9(goal) = :((sc) -> () -> $goal(sc))\n",
      "\n",
      "macro \u263d(goal)  ## It's a half moon\n",
      "    \u03b7\u207b\u00b9(goal)\n",
      "end\n",
      "\n",
      "macro zzz(op, goals...)    \n",
      "    Expr(:call, op, [\u03b7\u207b\u00b9(goal) for goal in goals]...)\n",
      "end\n",
      "\n",
      "\n",
      "\n",
      "nothing\n",
      "\n",
      "\n",
      "## What's all this about a 'nanny-state'?\n",
      "##\n",
      "## (now is probably a good time for a reminder that you are very likely \n",
      "##  reading the blustery rantings of a lunatic....)\n",
      "#\n",
      "## First a little perspective is in order:\n",
      "## The first part of the \u03bcKanren paper introduces a functional kernel for search, \n",
      "## the second part demonstrates how to reintroduce features available\n",
      "## in miniKanren, a relational system designed to be syntactically similar to Scheme \n",
      "## (presumably for didactic and aesthetic reasons)\n",
      "## \n",
      "## conj+ and disj+ are implemented to partially recover miniKanren's semantics, wrapping\n",
      "## zzz's around the kit and kaboodle.\n",
      "##\n",
      "## We set out on a different path.  Neither shall we prophylactically 'zzz', \n",
      "## only to find that our fear of dragons makes us prisoners of our own design,\n",
      "## but neither shall we become misers, hoarding our power for a journey that \n",
      "## we never take.\n",
      "##\n",
      "## Rather, we shall look to travel the Silk Roads, where a clever knack for \n",
      "## apropos sprinkling of pixie dust may lead us to marvels beyond belief. \n",
      "## \n",
      "## So now we have two quests:  Variadic Paradise and the Pixie Dust Legerdemain  "
     ],
     "language": "python",
     "metadata": {},
     "outputs": [],
     "prompt_number": 18
    },
    {
     "cell_type": "code",
     "collapsed": false,
     "input": [
      "@show macroexpand(:( @\u263d(:\u2740 \u2261 :\u2663) ))\n",
      "\n",
      "@show macroexpand(:( @zzz \u2228 (:\u2740 \u2261 :\u2663) (:\u2740 \u2261 :\u2663) ))\n",
      "\n",
      "nothing"
     ],
     "language": "python",
     "metadata": {},
     "outputs": [
      {
       "output_type": "stream",
       "stream": "stdout",
       "text": [
        "macroexpand(:(@\u263d (:\u2740 \u2261 :\u2663))) => :(#4392#sc->begin  # In[18], line 4:\n",
        "            ()->begin  # In[18], line 4:\n",
        "                    ((:\u2740 \u2261 :\u2663))(#4392#sc)\n",
        "                end\n",
        "        end)\n",
        "macroexpand(:(@zzz \u2228 (:\u2740 \u2261 :\u2663) (:\u2740 \u2261 :\u2663))) => :(\u2228(#4394#sc->begin  # In[18], line 4:\n",
        "                ()->begin  # In[18], line 4:\n",
        "                        ((:\u2740 \u2261 :\u2663))(#4394#sc)\n",
        "                    end\n",
        "            end,#4395#sc->begin  # In[18], line 4:\n",
        "                ()->begin  # In[18], line 4:\n",
        "                        ((:\u2740 \u2261 :\u2663))(#4395#sc)\n",
        "                    end\n",
        "            end))\n"
       ]
      }
     ],
     "prompt_number": 19
    },
    {
     "cell_type": "code",
     "collapsed": false,
     "input": [
      "## Now that we have the power to put the dragon to sleep, we need a way to wake it up.\n",
      "\n",
      "## But not this way!\n",
      "allIn(x)=x                   ## as they say in Texas Holdem'\n",
      "allIn(x::Function)=allIn(x()) \n",
      "allIn(x::(Any,Any))= begin (h,t)=x; (h,allIn(t)) end \n",
      "\n",
      "## lilinjn is not Navajo; but if this notebook were a tapestry,\n",
      "## 'allIn' would be his \"ch\u2019ih\u00f3n\u00edt\u2019i\" -- use 'allIn' maybe never \n",
      "\n",
      "## For now we will content ourselves with the following hand tools:\n",
      "step(x,n=1)=x\n",
      "step(x::Function,n=1) = begin\n",
      "    ## In my heart, Julia is a fine Scheme; however, I don't think Jeff B.\n",
      "    ## and co. are going to be driving around with TCO vanity plates\n",
      "    ## anytime soon...\n",
      "    while(typeof(x) <: Function && n > 0)\n",
      "        x = x()\n",
      "        n -= 1\n",
      "    end\n",
      "    x\n",
      "end\n",
      "\n",
      "## Oishii onigiri for the long journey ahead\n",
      "stepInTime(x,nanos)=x  ## \u266a Chim Chimer-ee, Chim Chim Cher-ee \u266a\n",
      "stepInTime(x,nanos) = begin \n",
      "    start = Base.time_ns()\n",
      "    current = start\n",
      "    while(typeof(x) <: Function && current-start < nanos)\n",
      "        x = x()\n",
      "        current = Base.time_ns()\n",
      "    end\n",
      "    x\n",
      "end\n",
      "\n",
      "\u03b7s = 1\n",
      "s  = 1e9\n",
      "\n",
      "\n",
      "nothing"
     ],
     "language": "python",
     "metadata": {},
     "outputs": [],
     "prompt_number": 20
    },
    {
     "cell_type": "code",
     "collapsed": false,
     "input": [
      "@show step(:\u2661)\n",
      "\n",
      "myLovely\u2661Thunks = () -> () -> () -> () -> :\u2606\n",
      "@show step(myLovely\u2661Thunks,  2) ## \u266a gonna make you luv drunk \u266a\n",
      "@show step(myLovely\u2661Thunks, 10) ## \u266a off my thunks \u266a\n",
      "\n",
      "@show stepInTime(myLovely\u2661Thunks, 1\u03b7s)\n",
      "@show stepInTime(myLovely\u2661Thunks, 1s)\n",
      "\n",
      "nothing"
     ],
     "language": "python",
     "metadata": {},
     "outputs": [
      {
       "output_type": "stream",
       "stream": "stdout",
       "text": [
        "step(:\u2661) => "
       ]
      },
      {
       "output_type": "stream",
       "stream": "stdout",
       "text": [
        ":\u2661\n",
        "step(myLovely\u2661Thunks,2) => (anonymous function)\n",
        "step(myLovely\u2661Thunks,10) => :\u2606\n",
        "stepInTime(myLovely\u2661Thunks,1\u03b7s) => (anonymous function)\n",
        "stepInTime(myLovely\u2661Thunks,1s) => :\u2606\n"
       ]
      }
     ],
     "prompt_number": 21
    },
    {
     "cell_type": "code",
     "collapsed": false,
     "input": [
      "\n",
      "## rest your weary eyes, little dragon\n",
      "res = \u221e |> fresh(q->  (q \u2261 :\u2660) \u2228 @\u263d(:\u2661 \u2261 q) )\n",
      "\n",
      "# since we're so new to this, we'll break down the result manually\n",
      "@show res\n",
      "(res,cont) = res  # <-- it's very to have known you would have needed this in advance \n",
      "@show (res,cont)=step(cont)\n",
      "\n",
      "\n",
      "nothing"
     ],
     "language": "python",
     "metadata": {},
     "outputs": [
      {
       "output_type": "stream",
       "stream": "stdout",
       "text": [
        "res => ((((Var(1),:\u2660),()),2),(anonymous function))\n",
        "(res,cont) = step(cont) => ((((Var(1),:\u2661),()),2),())\n"
       ]
      }
     ],
     "prompt_number": 22
    },
    {
     "cell_type": "code",
     "collapsed": false,
     "input": [
      "## Variadic Sleep \n",
      "\n",
      "res = \u221e |> fresh(q-> @zzz  \u2af7 (q \u2261 :\u2660) (:\u2661 \u2261 q) (q \u2261 :\u272a) )\n",
      "\n",
      "## still practicing tearing down the result\n",
      "@show res\n",
      "@show res=step(res) # a pure thunk arrives this time\n",
      "@show (res,cont)=step(res) \n",
      "@show (res,cont)=step(cont)\n",
      "@show (res,cont)=step(cont)\n",
      "\n",
      "\n",
      "\n",
      "nothing\n",
      "\n",
      "## Something to ponder...  \n",
      "## Why does it go \"thunk,thunk,kebang\"\n",
      "## rather than \"thunk, dribble, dribble\"?\n",
      "## Ans:  Because it was broken, but hopefully now it is fixed \n",
      "## (p.s. orginally there were only two clauses)"
     ],
     "language": "python",
     "metadata": {},
     "outputs": [
      {
       "output_type": "stream",
       "stream": "stdout",
       "text": [
        "res => (anonymous function)\n",
        "res = step(res) => (anonymous function)\n",
        "(res,cont) = step(res) => ((((Var(1),:\u2660),()),2),(anonymous function))\n",
        "(res,cont) = step(cont) => ((((Var(1),:\u2661),()),2),((((Var(1),:\u272a),()),2),()))\n",
        "(res,cont) = step(cont) => ((((Var(1),:\u272a),()),2),())\n"
       ]
      }
     ],
     "prompt_number": 23
    },
    {
     "cell_type": "code",
     "collapsed": false,
     "input": [
      "forever(val,q) = begin\n",
      "        (q \u2261 val) \u2228 @\u263d(forever(val,q))\n",
      "end\n",
      "\n",
      "res = \u221e |> fresh() do q forever(:\u272a, q) end\n",
      "\n",
      "## Uncomment to hear the theme to M*A*S*H\n",
      "## @show res = allIn(res)\n",
      "\n",
      "## one last time\n",
      "@show res\n",
      "(res,cont) = res\n",
      "@show (res,cont) = step(cont)\n",
      "@show (res,cont) = step(cont)\n",
      "@show (res,cont) = step(cont)\n",
      "@show (res,cont) = step(cont)\n",
      "@show (res,cont) = step(cont)\n",
      "\n",
      "nothing"
     ],
     "language": "python",
     "metadata": {},
     "outputs": [
      {
       "output_type": "stream",
       "stream": "stdout",
       "text": [
        "res => ((((Var(1),:\u272a),()),2),(anonymous function))\n",
        "(res,cont) = step(cont) => ((((Var(1),:\u272a),()),2),(anonymous function))\n",
        "(res,cont) = step(cont) => ((((Var(1),:\u272a),()),2),(anonymous function))\n",
        "(res,cont) = step(cont) => ((((Var(1),:\u272a),()),2),(anonymous function))\n",
        "(res,cont) = step(cont) => ((((Var(1),:\u272a),()),2),(anonymous function))\n",
        "(res,cont) = step(cont) => "
       ]
      },
      {
       "output_type": "stream",
       "stream": "stdout",
       "text": [
        "((((Var(1),:\u272a),()),2),(anonymous function))\n"
       ]
      }
     ],
     "prompt_number": 24
    },
    {
     "cell_type": "code",
     "collapsed": false,
     "input": [
      "## Lead us not into Temptation...\n",
      "##\n",
      "## Reification is Lucifer's work. \n",
      "##\n",
      "## But at the same time, we are lunatics, not ascetics,\n",
      "## and so, on this day, we grant ourselves a few guilty pleasures.\n",
      "##\n",
      "## (Don't worry -- when time comes around to get down with the underground,\n",
      "##  we plan to get our swerve on)\n",
      "\n"
     ],
     "language": "python",
     "metadata": {},
     "outputs": [],
     "prompt_number": 25
    },
    {
     "cell_type": "code",
     "collapsed": false,
     "input": [
      "## Some infrastructure\n",
      "## Can't you just feel your muscles and joints getting stiff?\n",
      "\n",
      "if Pkg.installed(\"Patchwork\") == nothing\n",
      "    Pkg.add(\"Patchwork\") \n",
      "end\n",
      "\n",
      "using Patchwork\n",
      "using Patchwork.HTML5\n",
      "\n",
      "wrapper(e...) = begin \n",
      "    d = div(style=[:display => :flex, \n",
      "                   \"flex-wrap\"=>\"wrap\"]) \n",
      "    for i=1:length(e)\n",
      "        d = d << e[i]\n",
      "    end\n",
      "    d \n",
      "end\n",
      "\n",
      "nothing"
     ],
     "language": "python",
     "metadata": {},
     "outputs": [],
     "prompt_number": 26
    },
    {
     "cell_type": "code",
     "collapsed": false,
     "input": [
      "## I offer you a Table for your Store \n",
      "## (but no reification on which to rest)\n",
      "\n",
      "storeTable(s) = begin\n",
      "    function items(s::(),res=Elem[])\n",
      "        return res\n",
      "    end\n",
      "    function items(s::(Any,Any),res=Elem[])\n",
      "        (b, rest) = s\n",
      "        push!(res,binding(b, length(res)+1))\n",
      "        items(rest,res)\n",
      "    end\n",
      "    function binding(b, index) \n",
      "        r = tr(td(var(first(b))), td(value(second(b))))\n",
      "        if index % 2 == 0\n",
      "            r = r & [:className => \"alt\"]\n",
      "        end\n",
      "        r\n",
      "    end\n",
      "    function var(v)\n",
      "        s = @sprintf \"%s\" v\n",
      "        span(s)\n",
      "    end\n",
      "    function value(v)\n",
      "        s = @sprintf \"%s\" v\n",
      "        span(s)\n",
      "    end\n",
      "    \n",
      "    div(\n",
      "        table(\n",
      "          thead(tr(th(\"Var\"),th(\"Binding\"))), \n",
      "          tbody(items(s)...))) & [:className => :datagrid, :style => [:display=>\"inline-block\"]]\n",
      "end\n",
      "\n",
      "\n",
      "\n",
      "## create a scratch store for testing\n",
      "s = @>> empty_store begin\n",
      "    ext_s(vars[1], 2)\n",
      "    ext_s(vars[2], vars[1])\n",
      "    ext_s(vars[1], 3) #shadows prior binding\n",
      "    ext_s(vars[3], (:\u2746,vars[2]))\n",
      "end\n",
      "\n",
      "@>> s begin\n",
      "    storeTable \n",
      "    wrapper \n",
      "    display(\"text/html\")\n",
      "end\n",
      "\n",
      "\n"
     ],
     "language": "python",
     "metadata": {},
     "outputs": [
      {
       "html": [
        "<div id=\"pwid15878\"><script>new Patchwork.Node(\"pwid15878\", {\"t\":\"div\",\"p\":{\"style\":{\"flex-wrap\":\"wrap\",\"display\":\"flex\"}},\"c\":[{\"t\":\"div\",\"p\":{\"className\":\"datagrid\",\"style\":{\"display\":\"inline-block\"}},\"c\":[{\"t\":\"table\",\"c\":[{\"t\":\"thead\",\"c\":[{\"t\":\"tr\",\"c\":[{\"t\":\"th\",\"c\":[{\"txt\":\"Var\"}]},{\"t\":\"th\",\"c\":[{\"txt\":\"Binding\"}]}]}]},{\"t\":\"tbody\",\"c\":[{\"t\":\"tr\",\"c\":[{\"t\":\"td\",\"c\":[{\"t\":\"span\",\"c\":[{\"txt\":\"Var(3)\"}]}]},{\"t\":\"td\",\"c\":[{\"t\":\"span\",\"c\":[{\"txt\":\"(:\u2746,Var(2))\"}]}]}]},{\"t\":\"tr\",\"p\":{\"className\":\"alt\"},\"c\":[{\"t\":\"td\",\"c\":[{\"t\":\"span\",\"c\":[{\"txt\":\"Var(1)\"}]}]},{\"t\":\"td\",\"c\":[{\"t\":\"span\",\"c\":[{\"txt\":\"3\"}]}]}]},{\"t\":\"tr\",\"c\":[{\"t\":\"td\",\"c\":[{\"t\":\"span\",\"c\":[{\"txt\":\"Var(2)\"}]}]},{\"t\":\"td\",\"c\":[{\"t\":\"span\",\"c\":[{\"txt\":\"Var(1)\"}]}]}]},{\"t\":\"tr\",\"p\":{\"className\":\"alt\"},\"c\":[{\"t\":\"td\",\"c\":[{\"t\":\"span\",\"c\":[{\"txt\":\"Var(1)\"}]}]},{\"t\":\"td\",\"c\":[{\"t\":\"span\",\"c\":[{\"txt\":\"2\"}]}]}]}]}]}]}]});</script></div>"
       ],
       "metadata": {},
       "output_type": "display_data"
      }
     ],
     "prompt_number": 27
    },
    {
     "cell_type": "code",
     "collapsed": false,
     "input": [
      "## Forgetting our beeswax prior to entering the neighborhood big box superstore, \n",
      "## we are lulled into submission by the Sirens of Hock,\n",
      "## and impulsively purchase a flimsy power tool on the way out...\n",
      "\n",
      "function slurpInTime(res;maxResults = 10, maxSteps=1_000_000, maxTime=5s) # Mary Poppins does not approve\n",
      "  steps = 0\n",
      "  resultsCount = 0\n",
      "  start = Base.time_ns()\n",
      "  current = start\n",
      "  done = () -> (steps >= maxSteps || resultsCount >= maxResults || current - start >= maxTime || res == ())\n",
      "  \n",
      "  while(!done())\n",
      "        error(\"todo\")\n",
      "  end\n",
      "  res  ## return what's leftover, in case we want to slurp further\n",
      "end"
     ],
     "language": "python",
     "metadata": {},
     "outputs": [
      {
       "metadata": {},
       "output_type": "pyout",
       "prompt_number": 28,
       "text": [
        "slurpInTime (generic function with 1 method)"
       ]
      }
     ],
     "prompt_number": 28
    },
    {
     "cell_type": "code",
     "collapsed": false,
     "input": [
      "\n",
      "\n",
      "## TODO -- Share thoughts/benchmarks that investigate how Julia dispatches over types \n",
      "## with complicated internal structure (e.g. deep tuples)\n",
      "\n"
     ],
     "language": "python",
     "metadata": {},
     "outputs": [],
     "prompt_number": 29
    },
    {
     "cell_type": "code",
     "collapsed": false,
     "input": [
      "## Hackety-Hack\n",
      "## Some temporary work-arounds related to unresolved IJulia/juliabox warts\n",
      "\n",
      "## Most likely, this cell nevers needs to be evaluated again\n",
      "## It works by injecting mutant DNA (html) into the sheet which is then saved for posterity\n",
      "\n",
      "\n",
      "##nuke the red box around unicode chars\n",
      "display(\"text/html\", \n",
      "\"\"\"\n",
      "<script type=\"text/javascript\">\n",
      "\n",
      "\\$( document ).ready(function() {\n",
      "console.log( \"Fixing red boxes\" );\n",
      "\\$( \".err\" ).css( \"border\", \"0px solid red\" );\n",
      "\\$( \".err\" ).css( \"border-style\", \"none\" );\n",
      "});\n",
      "\n",
      "</script>\"\"\"\n",
      ")\n",
      "\n",
      "\n",
      "## table styling\n",
      "## generated with http://tablestyler.com/#\n",
      "css = \".datagrid table { border-collapse: collapse; text-align: left; width: 100%; margin:0px auto; } .datagrid {margin:0px auto; font: normal 12px/150% Georgia, Times New Roman, Times, serif; background: #fff; overflow: hidden; border: 1px solid #8C8C8C; }.datagrid table td, .datagrid table th { padding: 4px 10px; }.datagrid table thead th {background:-webkit-gradient( linear, left top, left bottom, color-stop(0.05, #8C8C8C), color-stop(1, #7D7D7D) );background:-moz-linear-gradient( center top, #8C8C8C 5%, #7D7D7D 100% );filter:progid:DXImageTransform.Microsoft.gradient(startColorstr='#8C8C8C', endColorstr='#7D7D7D');background-color:#8C8C8C; color:#FFFFFF; font-size: 13px; font-weight: bold; border-left: 1px solid #A3A3A3; } .datagrid table thead th:first-child { border: none; }.datagrid table tbody td { color: #1A1E21; border-left: 1px solid #DBDBDB;font-size: 12px;font-weight: normal; }.datagrid table tbody .alt td { background: #EBEBEB; color: #1A1E21; }.datagrid table tbody td:first-child { border-left: none; }.datagrid table tbody tr:last-child td { border-bottom: none; }.datagrid table tfoot td div { border-top: 1px solid #8C8C8C;background: #EBEBEB;} .datagrid table tfoot td { padding: 0; font-size: 12px } .datagrid table tfoot td div{ padding: 2px; }.datagrid table tfoot td ul { margin: 0; padding:0; list-style: none; text-align: right; }.datagrid table tfoot  li { display: inline; }.datagrid table tfoot li a { text-decoration: none; display: inline-block;  padding: 2px 8px; margin: 1px;color: #F5F5F5;border: 1px solid #8C8C8C;-webkit-border-radius: 3px; -moz-border-radius: 3px; border-radius: 3px; background:-webkit-gradient( linear, left top, left bottom, color-stop(0.05, #8C8C8C), color-stop(1, #7D7D7D) );background:-moz-linear-gradient( center top, #8C8C8C 5%, #7D7D7D 100% );filter:progid:DXImageTransform.Microsoft.gradient(startColorstr='#8C8C8C', endColorstr='#7D7D7D');background-color:#8C8C8C; }.datagrid table tfoot ul.active, .datagrid table tfoot ul a:hover { text-decoration: none;border-color: #7D7D7D; color: #F5F5F5; background: none; background-color:#8C8C8C;}div.dhtmlx_window_active, div.dhx_modal_cover_dv { position: fixed !important; }\"\n",
      "display(\"text/html\", \"<style>$css</style>\")\n",
      "\n",
      "\n"
     ],
     "language": "python",
     "metadata": {},
     "outputs": [
      {
       "html": [
        "<script type=\"text/javascript\">\n",
        "\n",
        "$( document ).ready(function() {\n",
        "console.log( \"Fixing red boxes\" );\n",
        "$( \".err\" ).css( \"border\", \"0px solid red\" );\n",
        "$( \".err\" ).css( \"border-style\", \"none\" );\n",
        "});\n",
        "\n",
        "</script>"
       ],
       "metadata": {},
       "output_type": "display_data"
      },
      {
       "html": [
        "<style>.datagrid table { border-collapse: collapse; text-align: left; width: 100%; margin:0px auto; } .datagrid {margin:0px auto; font: normal 12px/150% Georgia, Times New Roman, Times, serif; background: #fff; overflow: hidden; border: 1px solid #8C8C8C; }.datagrid table td, .datagrid table th { padding: 4px 10px; }.datagrid table thead th {background:-webkit-gradient( linear, left top, left bottom, color-stop(0.05, #8C8C8C), color-stop(1, #7D7D7D) );background:-moz-linear-gradient( center top, #8C8C8C 5%, #7D7D7D 100% );filter:progid:DXImageTransform.Microsoft.gradient(startColorstr='#8C8C8C', endColorstr='#7D7D7D');background-color:#8C8C8C; color:#FFFFFF; font-size: 13px; font-weight: bold; border-left: 1px solid #A3A3A3; } .datagrid table thead th:first-child { border: none; }.datagrid table tbody td { color: #1A1E21; border-left: 1px solid #DBDBDB;font-size: 12px;font-weight: normal; }.datagrid table tbody .alt td { background: #EBEBEB; color: #1A1E21; }.datagrid table tbody td:first-child { border-left: none; }.datagrid table tbody tr:last-child td { border-bottom: none; }.datagrid table tfoot td div { border-top: 1px solid #8C8C8C;background: #EBEBEB;} .datagrid table tfoot td { padding: 0; font-size: 12px } .datagrid table tfoot td div{ padding: 2px; }.datagrid table tfoot td ul { margin: 0; padding:0; list-style: none; text-align: right; }.datagrid table tfoot  li { display: inline; }.datagrid table tfoot li a { text-decoration: none; display: inline-block;  padding: 2px 8px; margin: 1px;color: #F5F5F5;border: 1px solid #8C8C8C;-webkit-border-radius: 3px; -moz-border-radius: 3px; border-radius: 3px; background:-webkit-gradient( linear, left top, left bottom, color-stop(0.05, #8C8C8C), color-stop(1, #7D7D7D) );background:-moz-linear-gradient( center top, #8C8C8C 5%, #7D7D7D 100% );filter:progid:DXImageTransform.Microsoft.gradient(startColorstr='#8C8C8C', endColorstr='#7D7D7D');background-color:#8C8C8C; }.datagrid table tfoot ul.active, .datagrid table tfoot ul a:hover { text-decoration: none;border-color: #7D7D7D; color: #F5F5F5; background: none; background-color:#8C8C8C;}div.dhtmlx_window_active, div.dhx_modal_cover_dv { position: fixed !important; }</style>"
       ],
       "metadata": {},
       "output_type": "display_data"
      }
     ],
     "prompt_number": 30
    },
    {
     "cell_type": "code",
     "collapsed": false,
     "input": [],
     "language": "python",
     "metadata": {},
     "outputs": [],
     "prompt_number": 31
    }
   ],
   "metadata": {}
  }
 ]
}