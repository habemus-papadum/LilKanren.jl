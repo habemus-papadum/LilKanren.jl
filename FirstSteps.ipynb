{
 "metadata": {
  "language": "Julia",
  "name": "",
  "signature": "sha256:05ff6589162a07e0525c343f90c5f746ff26d72515a39f59c5686710e97f63e7"
 },
 "nbformat": 3,
 "nbformat_minor": 0,
 "worksheets": [
  {
   "cells": [
    {
     "cell_type": "code",
     "collapsed": false,
     "input": [
      "## Desiderata\n",
      "## ================\n",
      "## It is the solemn wish of this kanren implementation to:\n",
      "## * Organize itself around a minimalitisc, functional core (like \u00b5Kanren)\n",
      "## * Perform a \"newbie's\" exploration of alternate search strategies (via lists, streams, tasks, ferns)\n",
      "## * Find out why occurs\u2713 is necessary\n",
      "## * Add a persistent data structure implementation of the constraint store (though this is a mere trifle)\n",
      "## * Explore a \"notion\" about threading macros and nice syntax; Other notions about syntax abound\n",
      "\n",
      "## Methodology\n",
      "## =================\n",
      "## The beginning will be rough and sloppy; any elegance will have to be accumulated later.  \n",
      "## This is a notebook, not a library --> Prior definitions will be redefined as we go along, so keep your eyes peeled! \n"
     ],
     "language": "python",
     "metadata": {},
     "outputs": []
    },
    {
     "cell_type": "code",
     "collapsed": false,
     "input": [
      "## First step: a translation to \u00b5Kanren\n",
      "\n",
      "## For now we would like to stick to core Julia datatypes, but, aesthetically, var? = vector? is a bitter pill.\n",
      "## So instead we'll use our own type.  \n",
      "\n",
      "module LilKanren ## it's best to wrap Julia types in a module, otherwise it is very difficult to change your mind\n",
      "    immutable type Var\n",
      "        id::Int\n",
      "    end\n",
      "end \n",
      "LK = LilKanren\n",
      "    "
     ],
     "language": "python",
     "metadata": {},
     "outputs": [
      {
       "metadata": {},
       "output_type": "pyout",
       "prompt_number": 1,
       "text": [
        "LilKanren"
       ]
      }
     ],
     "prompt_number": 1
    },
    {
     "cell_type": "code",
     "collapsed": false,
     "input": [
      "## Also, in case you are new to Julia, the following snippets may be helpful\n",
      "x = LK.Var(0)\n",
      "y = LK.Var(0)\n",
      "\n",
      "@show x==y \n",
      "\n",
      "## multiple dispatch\n",
      "foo(x,y) = \"nope\" ## base case\n",
      "foo(x::LK.Var,y::LK.Var) = \"yes\"\n",
      "foo(x::LK.Var,y) = \"kinda\"\n",
      "foo(x,y::LK.Var) = foo(y,x)\n",
      "\n",
      "@show foo(x,y)\n",
      "@show foo(1,y)\n",
      "@show foo(1,2)\n",
      "\n",
      "nothing  ## to suppress notebook output"
     ],
     "language": "python",
     "metadata": {},
     "outputs": [
      {
       "output_type": "stream",
       "stream": "stdout",
       "text": [
        "x == y => true"
       ]
      },
      {
       "output_type": "stream",
       "stream": "stdout",
       "text": [
        "\n",
        "foo(x,y) => \"yes\"\n",
        "foo(1,y) => \"kinda\"\n",
        "foo(1,2) => \"nope\"\n"
       ]
      }
     ],
     "prompt_number": 2
    },
    {
     "cell_type": "code",
     "collapsed": false,
     "input": [
      "## On with the show, being relatively faithful from now on... \n",
      "\n",
      "## Heaven\n",
      "unify(u, v, s) =  begin\n",
      "    u = walk(u,s)\n",
      "    v = walk(v,s)\n",
      "    unifyTerms(u,v,s)\n",
      "end\n",
      "\n",
      "\n",
      "## Earth\n",
      "unifyTerms(u,v,s) = u==v ? s : nothing # base case\n",
      "unifyTerms(u::LK.Var,v::LK.Var,s) =  u==v ? s : ext_s(u,v,s)\n",
      "unifyTerms(u::LK.Var,v,s) =  ext_s(u,v,s)\n",
      "unifyTerms(u,v::LK.Var,s) =  unifyTerms(v,u,s)\n",
      "unifyTerms(u::(Any,Any),v::(Any,Any),s) = begin\n",
      "    (uhead,utail) = u\n",
      "    (vhead,vtail) = v\n",
      "    s = unify(uhead,vhead,s)\n",
      "    s == nothing ? s : unify(utail,vtail,s)\n",
      "end\n",
      "\n",
      "walk(u,s) = u ## base case\n",
      "walk(u::LK.Var,s) = begin\n",
      "    (found,value) = lookup(u,s)\n",
      "    found ? walk(value,s) : u \n",
      "end\n",
      "\n",
      "## sc -- state/count\n",
      "const empty_sc = ((),1) ## when in Rome (Julia is one's based...) \n",
      "\n",
      "## s -- state\n",
      "ext_s(x,v,s) = ((x,v),s)\n",
      "\n",
      "## a pedantic man's assq \n",
      "lookup(x,s::()) = (false,nothing) ## base case\n",
      "lookup(x,s) = begin\n",
      "    (head,rest) = s\n",
      "    (key,value) = head\n",
      "    x == key ? (true, value) : lookup(x,rest)\n",
      "end\n",
      "\n",
      "\n",
      "## Purgatory\n",
      "equivalent(u,v) = begin\n",
      "    (sc) -> begin\n",
      "        (s,count) = sc\n",
      "        s = unify(u,v,s)\n",
      "        s == nothing ? mzero : unit((s,count))\n",
      "    end\n",
      "end\n",
      "const \u2261 = equivalent \n",
      "\n",
      "fresh(f) = begin\n",
      "    (sc) -> begin\n",
      "        (bindings,count) = sc\n",
      "        var = LK.Var(count)\n",
      "        goal = f(var)\n",
      "        sc = (bindings,count+1)\n",
      "        goal(sc)   \n",
      "    end\n",
      "end\n",
      "\n",
      "disj(g1,g2) = (sc) -> mplus(g1(sc), g2(sc))\n",
      "conj(g1,g2) = (sc) -> bind(g1(sc), g2)\n",
      "const \u2228 = disj\n",
      "const \u2227 = conj\n",
      "\n",
      "## The Bowels of Hell... \n",
      "## (or Heaven -- the whole thing is just a big snake eating its tail)\n",
      "const mzero = ()\n",
      "unit(sc) = (sc,mzero)\n",
      "\n",
      "mplus(s1::(),s2) = s2\n",
      "mplus(s1::Function,s2) = () -> mplus(s2,s1())\n",
      "mplus(s1::(Any,Any),s2) = (first(s1),mplus(rest(s1),s2))\n",
      "\n",
      "bind(s::(),g) = mzero\n",
      "bind(s::Function,g) = () -> bind(s(),g)\n",
      "bind(s::(Any,Any),g) = mplus(g(first(s)), bind(rest(s),g))\n",
      "\n",
      "nothing"
     ],
     "language": "python",
     "metadata": {},
     "outputs": [],
     "prompt_number": 4
    },
    {
     "cell_type": "code",
     "collapsed": false,
     "input": [
      "\n",
      "## Ok -- Let's take this puppy out for a spin...\n",
      "\n",
      "using Lazy: @>>, @> # Pkg.add(\"Lazy\") will likely help if you encounter errors\n",
      "\n",
      "vars = [LK.Var(i) for i=1:10] ## order up some vars\n",
      "\n",
      "## create a scratch state\n",
      "s = @>> () begin\n",
      "    ext_s(vars[1], 2)\n",
      "    ext_s(vars[2], vars[1])\n",
      "    ext_s(vars[1], 3) #shadows prior binding\n",
      "    ext_s(vars[3], (1,vars[2]))\n",
      "end\n",
      "@show s\n",
      "\n",
      "println()\n",
      "@show lookup(\"not even close\", s)\n",
      "@show lookup(vars[1], s)\n",
      "@show lookup(vars[2], s)\n",
      "@show lookup(vars[3], s)\n",
      "@show lookup(vars[4], s)\n",
      "\n",
      "nothing"
     ],
     "language": "python",
     "metadata": {},
     "outputs": [
      {
       "output_type": "stream",
       "stream": "stdout",
       "text": [
        "s => ((Var(3),(1,Var(2))),((Var(1),3),((Var(2),Var(1)),((Var(1),2),()))))"
       ]
      },
      {
       "output_type": "stream",
       "stream": "stdout",
       "text": [
        "\n",
        "\n",
        "lookup(\"not even close\",s) => (false,nothing)\n",
        "lookup(vars[1],s) => (true,3)\n",
        "lookup(vars[2],s) => (true,Var(1))\n",
        "lookup(vars[3],s) => (true,(1,Var(2)))\n",
        "lookup(vars[4],s) => (false,nothing)\n"
       ]
      }
     ],
     "prompt_number": 5
    },
    {
     "cell_type": "code",
     "collapsed": false,
     "input": [
      "@show walk(vars[1],s)\n",
      "@show walk(vars[2],s)\n",
      "@show walk(vars[3],s)\n",
      "@show walk(vars[4],s)\n",
      "@show walk(\"not even close\",s)\n",
      "@show walk((1,vars[4]),s)\n",
      "\n",
      "\n",
      "nothing"
     ],
     "language": "python",
     "metadata": {},
     "outputs": [
      {
       "output_type": "stream",
       "stream": "stdout",
       "text": [
        "walk(vars[1],s) => 3"
       ]
      },
      {
       "output_type": "stream",
       "stream": "stdout",
       "text": [
        "\n",
        "walk(vars[2],s) => 3\n",
        "walk(vars[3],s) => (1,Var(2))\n",
        "walk(vars[4],s) => Var(4)\n",
        "walk(\"not even close\",s) => \"not even close\"\n",
        "walk((1,vars[4]),s) => (1,Var(4))\n"
       ]
      }
     ],
     "prompt_number": 6
    },
    {
     "cell_type": "code",
     "collapsed": false,
     "input": [
      "## Look, Ma! I can fly!\n",
      "@show unify((1,vars[4]), vars[3],s)\n",
      "# for clarity\n",
      "println()\n",
      "@show first(unify((1,vars[4]), vars[3],s))\n",
      "\n",
      "nothing"
     ],
     "language": "python",
     "metadata": {},
     "outputs": [
      {
       "output_type": "stream",
       "stream": "stdout",
       "text": [
        "unify((1,vars[4]),vars[3],s) => ((Var(4),3),((Var(3),(1,Var(2))),((Var(1),3),((Var(2),Var(1)),((Var(1),2),())))))"
       ]
      },
      {
       "output_type": "stream",
       "stream": "stdout",
       "text": [
        "\n",
        "\n",
        "first(unify((1,vars[4]),vars[3],s)) => (Var(4),3)\n"
       ]
      }
     ],
     "prompt_number": 7
    },
    {
     "cell_type": "code",
     "collapsed": false,
     "input": [],
     "language": "python",
     "metadata": {},
     "outputs": []
    }
   ],
   "metadata": {}
  }
 ]
}