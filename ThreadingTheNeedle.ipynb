{
 "metadata": {
  "language": "Julia",
  "name": "",
  "signature": "sha256:51583733963f162fb4ea3b5c8bcad653f1dfc7970af3a9c62ebd338ade005d66"
 },
 "nbformat": 3,
 "nbformat_minor": 0,
 "worksheets": [
  {
   "cells": [
    {
     "cell_type": "code",
     "collapsed": false,
     "input": [
      "## Further experiments in syntax\n",
      "## -----------------------------\n",
      "\n",
      "## So far, we have only two macros: @\u263d and @zzz\n",
      "## Of the two, one them, @zzz, is mostly vestigial,\n",
      "## offered in tribute to prior art.\n",
      "\n",
      "## Macros seem wrong -- Chinese brain traps,   \n",
      "## mental straight jackets  -- they share \n",
      "## in common all the pitfalls of other forms of \n",
      "## instant gratification.\n",
      "\n",
      "## So we proceed with caution.\n",
      "\n",
      "## First we catalog some of the brittleness involved \n",
      "## with julia's approach to parsing macro application.\n",
      "\n",
      "## Then we focus in on this notebook's main objective:\n",
      "## a macro that can unnest expressions involving \n",
      "## \"procedural relations,\" introducing Vars as needed\n",
      "\n",
      "## And finally, we capitulate and provide a simple \n",
      "## fresh macro, @\u2203.\n",
      "\n",
      "## (And maybe --> grammars and reify)\n",
      "\n"
     ],
     "language": "python",
     "metadata": {},
     "outputs": []
    },
    {
     "cell_type": "code",
     "collapsed": false,
     "input": [
      "## First we catalog some of the brittleness involved \n",
      "## with julia's approach to parsing macro application...\n",
      "\n",
      "## The error messages Julia prints when errors occur when using macros are incredibly difficult to understand\n",
      "## (and often just plain wrong).\n",
      "\n",
      "## See http://nbviewer.ipython.org/github/lilinjn/LilKanren.jl/blob/master/crumpled-paper/julialang/JLangMacroErrorMessages.ipynb\n",
      "## for a summary of issues\n",
      "\n",
      "## With that said, let's move on, undeterred...\n"
     ],
     "language": "python",
     "metadata": {},
     "outputs": []
    },
    {
     "cell_type": "code",
     "collapsed": false,
     "input": [
      "## Unnesting\n",
      "## After thinking things through a bit, I think most everything we want can be provided by one unnesting macro:\n",
      "##  \n",
      "## @\u2227\u1d52\n",
      "## ----------\n",
      "## Expressions using this macro are meant to represent \"And\" clauses: \n",
      "## @\u2227\u1d52( (h,t)    \u2261 front,\n",
      "##      (h,@\u263e(append\u1d52(t,back)) \u2261 o,\n",
      "##    )\n",
      "\n",
      "## The macro rewrites the arguments passed to it using the following rules:\n",
      "##\n",
      "## 1.)\n",
      "## foo\u1d52(x,bar\u1d52(a,b),y) \u21d2\n",
      "## fresh(1) z do \n",
      "##   bar\u1d52(z,a,b)\n",
      "##   foo\u1d52(x,z,y)\n",
      "## end\n",
      "\n",
      "## Also try to support:\n",
      "## foo\u1d52(x,bar\u1d52(a,b),y...)  (Variadics)\n",
      "## foo\u1d52(x,@\u263e(bar\u1d52(a,b),y))  (Sleeping)\n",
      "## @\u263e(foo\u1d52(x,@\u263e(bar\u1d52(a,b),y)))  (Lot's of Sleeping)\n",
      "\n",
      "\n",
      "## 2.)\n",
      "## append\u1d52(x,y) \u2261 append\u1d52(t,back) \u21d2\n",
      "## fresh(2) a,b\n",
      "##   append\u1d52(a,x,y)\n",
      "##   append\u1d52(b,t,back)\n",
      "##   a \u2261 b\n",
      "## end\n",
      "\n",
      "## There are many variations to this, but the basic requirement is discussed during the implementation.  \n",
      "## The following more complicated examples demonstrates most of the issues:\n",
      "\n",
      "## ((a,foo\u1d52(a,b)), append\u1d52(x,y)) \u2261 ((append\u1d52(t,back),bar\u1d52(a,b)),c) \u21d2\n",
      "## fresh(4) x1,x2,x3,x4\n",
      "##    foo\u1d52(x1,a,b)\n",
      "##    append\u1d52(x2,x,y)\n",
      "##    append\u1d52(x3,t,back)\n",
      "##    bar\u1d52(x4,a,b)\n",
      "## ((a,x1),x2) \u2261 ((x3,x4),c)\n",
      "## end\n",
      "\n",
      "## Notes:\n",
      "## Supporting @\u263e could be brittle... but maybe not\n",
      "## The current game plan relies on using the \u1d52 convention to identify terms that need to be rewritten\n",
      "## This is far from beatiful, but for now, it's the best I can come up with, and the benefits\n",
      "## of all of this (including higher order relations) seems quite substantial\n",
      "\n",
      "## 3.) x \u2261 y \u2261 z    \u21d2\n",
      "##     x \u2261 y\n",
      "##     y \u2261 z\n",
      "\n",
      "## This one is fairly simple but as long as we are peddling sugar, we might as well add it to the list\n",
      "## It should support other transitive relations e.g. '<' and '\u2282'\n",
      "\n",
      "\n",
      "\n"
     ],
     "language": "python",
     "metadata": {},
     "outputs": []
    },
    {
     "cell_type": "code",
     "collapsed": false,
     "input": [
      "## other sweets:\n",
      "##\n",
      "## @\u2203 x,y,z begin\n",
      "##   \u2227(bar\u1d52(x,y),\n",
      "##     foo\u1d52(x,y))\n",
      "## end   \u21d2\n",
      "##\n",
      "## fresh(3) x,y,z begin\n",
      "##   \u2227(bar\u1d52(x,y),\n",
      "##     foo\u1d52(x,y))\n",
      "## end \n",
      "\n",
      "## Reify (In the sense that gecode might use the word; Not to be confused with the typical minikanren usage)\n",
      "## The final syntax can't be this, but is gives the basic idea:\n",
      "## x \u2261 (y \u2261 z)  ## wildly confusing but just ignore the confusion\n",
      "## In english:\n",
      "##   Either (y \u2261 z) and x \u2261 true, or y =/= z and x \u2261 false\n",
      "##\n",
      "## The actual syntax might be\n",
      "## @reify(x \u2261 (y \u2261 z))\n",
      "##\n",
      "##  Thinking things through, one could see how the following might also work\n",
      "##  @reify(x \u2261 foo\u1d52(x,y,z)) ## where foo is a true 3-way relation\n",
      "##  Basically you would get the AST of foo, and its upstream dependencies, and then apply \n",
      "##  demorgan's laws to generate notfoo\u1d52, and then do something similar to the thing above\n",
      "\n",
      "\n",
      "## Grammars:\n",
      "## Stuff from the hangout demo.\n",
      "\n"
     ],
     "language": "python",
     "metadata": {},
     "outputs": []
    },
    {
     "cell_type": "code",
     "collapsed": false,
     "input": [
      "## Unnesting\n",
      "\n",
      "## First, make sure our unnesting macro is a proper identifier\n",
      "macro \u2227\u1d52(x...)\n",
      "    error(\"Not yet implemented\")\n",
      "end\n",
      "\n",
      "@\u2227\u1d52(a,b,c)\n"
     ],
     "language": "python",
     "metadata": {},
     "outputs": [
      {
       "ename": "LoadError",
       "evalue": "syntax: expected \"(\" in \"macro\" definition\nwhile loading In[4], in expression starting on line 4",
       "output_type": "pyerr",
       "traceback": [
        "syntax: expected \"(\" in \"macro\" definition\nwhile loading In[4], in expression starting on line 4",
        ""
       ]
      }
     ],
     "prompt_number": 4
    },
    {
     "cell_type": "code",
     "collapsed": false,
     "input": [
      "## Alas it is not --> \u2227 cannot be used because it is an operator\n",
      "\n",
      "##for now, until I find a clever unicode gthat is not an operator:\n",
      "\n",
      "macro and(x...)\n",
      "    error(\"Not yet implemented\")\n",
      "end\n",
      "\n",
      "@and(a,b,c)"
     ],
     "language": "python",
     "metadata": {},
     "outputs": [
      {
       "ename": "LoadError",
       "evalue": "Not yet implemented\nwhile loading In[6], in expression starting on line 9",
       "output_type": "pyerr",
       "traceback": [
        "Not yet implemented\nwhile loading In[6], in expression starting on line 9",
        ""
       ]
      }
     ],
     "prompt_number": 6
    },
    {
     "cell_type": "code",
     "collapsed": false,
     "input": [
      "## (Similar issues will thwart @\u2203 from working...)"
     ],
     "language": "python",
     "metadata": {},
     "outputs": []
    }
   ],
   "metadata": {}
  }
 ]
}