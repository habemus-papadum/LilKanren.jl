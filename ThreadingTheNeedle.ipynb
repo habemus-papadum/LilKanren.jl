{
 "metadata": {
  "language": "Julia",
  "name": "",
  "signature": "sha256:65abb60d044ba36eb8a95b16a9599cc67636dc0cccc63b2fa94deca4cffa0eaa"
 },
 "nbformat": 3,
 "nbformat_minor": 0,
 "worksheets": [
  {
   "cells": [
    {
     "cell_type": "code",
     "collapsed": false,
     "input": [
      "## Further experiments in syntax\n",
      "## -----------------------------\n",
      "\n",
      "## So far, we use have only two macros: @\u263d and @zzz\n",
      "## Of the two, one them, @zzz, is mostly vestigial,\n",
      "## offered in tribute to prior art.\n",
      "\n",
      "## Macros seem wrong -- Chinese brain traps,   \n",
      "## mental straight jackets  -- they share \n",
      "## in common all the pitfalls of other forms of \n",
      "## instant gratification.\n",
      "\n",
      "## So we proceed with caution.\n",
      "\n",
      "## First we catalog some of the brittleness involved \n",
      "## with julia's approach to parsing macro application.\n",
      "\n",
      "## Then we step back, and think about modelling in\n",
      "## general terms.\n",
      "\n",
      "## Then we focus in on this notebook's main objective:\n",
      "## a macro that can unnest expressions involving \n",
      "## \"procedural relations,\" introducing Vars as needed\n",
      "\n",
      "## And finally, we capitulate and provide a simple \n",
      "## fresh macro, @\u2203.\n",
      "\n",
      "\n"
     ],
     "language": "python",
     "metadata": {},
     "outputs": []
    },
    {
     "cell_type": "code",
     "collapsed": false,
     "input": [
      "## First we catalog some of the brittleness involved \n",
      "## with julia's approach to parsing macro application...\n",
      "\n",
      "## The error messages Julia prints when errors occur when using macros are incredibly difficult (and often just plain wrong).\n",
      "\n",
      "## See "
     ],
     "language": "python",
     "metadata": {},
     "outputs": []
    }
   ],
   "metadata": {}
  }
 ]
}