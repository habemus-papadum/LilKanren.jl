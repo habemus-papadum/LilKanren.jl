{
 "metadata": {
  "language": "Julia",
  "name": "",
  "signature": "sha256:b63bafe59c68dae5ef0f08f662b5f6daefd0b60fcad811a683bafea0cb4a3b0b"
 },
 "nbformat": 3,
 "nbformat_minor": 0,
 "worksheets": [
  {
   "cells": [
    {
     "cell_type": "code",
     "collapsed": false,
     "input": [
      "## Further experiments in syntax\n",
      "## -----------------------------\n",
      "\n",
      "## So far, we use have only two macros: @\u263d and @zzz\n",
      "## Of the two, one them, @zzz, is mostly vestigial,\n",
      "## offered in tribute to prior art.\n",
      "\n",
      "## Macros seem wrong -- Chinese brain traps,   \n",
      "## mental straight jackets  -- they share \n",
      "## in common all the pitfalls of other forms of \n",
      "## instant gratification.\n",
      "\n",
      "## So we proceed with caution.\n",
      "\n",
      "## First we catalog some of the brittleness involved \n",
      "## with julia's approach to parsing macro application.\n",
      "\n",
      "## Then we step back, and think about modelling in\n",
      "## general terms.\n",
      "\n",
      "## Then we focus in on this notebook's main objective:\n",
      "## a macro that can unnest expressions involving \n",
      "## \"procedural relations,\" introducing Vars as needed\n",
      "\n",
      "## And finally, we capitualate and provide a simple \n",
      "## fressh macro, @\u2203.\n",
      "\n",
      "## TODO -- think about interaction of various syntax --> \n",
      "## tuple destucturing and unnesting  \n",
      "\n"
     ],
     "language": "python",
     "metadata": {},
     "outputs": []
    }
   ],
   "metadata": {}
  }
 ]
}